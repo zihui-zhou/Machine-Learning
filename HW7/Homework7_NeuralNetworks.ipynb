{
 "cells": [
  {
   "cell_type": "markdown",
   "metadata": {},
   "source": [
    "# Homework 7: Keras and Neural Networks"
   ]
  },
  {
   "cell_type": "markdown",
   "metadata": {},
   "source": [
    "Using the MNIST dataset, optimize number of hidden layers  and  nodes on a dense neural network and use cross validation to select the optiomal number of layers and the size of each layer. "
   ]
  },
  {
   "cell_type": "markdown",
   "metadata": {},
   "source": [
    "## Preliminaries"
   ]
  },
  {
   "cell_type": "markdown",
   "metadata": {},
   "source": [
    "### Imports"
   ]
  },
  {
   "cell_type": "code",
   "execution_count": null,
   "metadata": {
    "ExecuteTime": {
     "end_time": "2019-04-17T13:04:54.684926Z",
     "start_time": "2019-04-17T13:04:53.436825Z"
    }
   },
   "outputs": [],
   "source": [
    "import pickle\n",
    "import shutil\n",
    "\n",
    "import numpy as np\n",
    "import pandas as pd\n",
    "import tensorflow as tf\n",
    "import tensorflow.keras as keras\n",
    "\n",
    "import matplotlib.pyplot as plt\n",
    "\n",
    "from sklearn.model_selection import train_test_split\n",
    "\n",
    "%matplotlib inline\n",
    "\n",
    "import sys\n",
    "sys.path.append(\"../..\")\n",
    "import E4525_ML.mnist as mnist\n",
    "from E4525_ML.notebook_utils import get_logger,LoggingCallback"
   ]
  },
  {
   "cell_type": "code",
   "execution_count": null,
   "metadata": {},
   "outputs": [],
   "source": []
  },
  {
   "cell_type": "code",
   "execution_count": null,
   "metadata": {
    "ExecuteTime": {
     "end_time": "2019-04-17T13:04:54.688053Z",
     "start_time": "2019-04-17T13:04:54.685982Z"
    }
   },
   "outputs": [],
   "source": [
    "logger=get_logger(\"Homework7\")"
   ]
  },
  {
   "cell_type": "markdown",
   "metadata": {},
   "source": [
    "<div class=\"alert alert-block alert-info\"> Problem 0.0 </div>\n",
    "Download the MNIST fashion data set from the following repository\n",
    "\n",
    "https://github.com/zalandoresearch/fashion-mnist/tree/master/data/fashion\n",
    "\n",
    "into a a **\"../../raw/fashion\"** directory.\n",
    "\n",
    "It should look exactly like the  \"../../raw/MNIST\" directory we have used before.\n",
    "\n",
    "You should be able to read the image and test data from the two cells below\n"
   ]
  },
  {
   "cell_type": "code",
   "execution_count": null,
   "metadata": {
    "ExecuteTime": {
     "end_time": "2019-04-17T13:04:54.701964Z",
     "start_time": "2019-04-17T13:04:54.690528Z"
    }
   },
   "outputs": [],
   "source": [
    "raw_data_dir=\"../../raw/fashion\""
   ]
  },
  {
   "cell_type": "code",
   "execution_count": null,
   "metadata": {
    "ExecuteTime": {
     "end_time": "2019-04-17T13:04:55.164334Z",
     "start_time": "2019-04-17T13:04:54.703650Z"
    }
   },
   "outputs": [],
   "source": [
    "images_filename=raw_data_dir+\"/train-images-idx3-ubyte.gz\"\n",
    "labels_filename=raw_data_dir+\"/train-labels-idx1-ubyte.gz\"\n",
    "\n",
    "test_images_filename=raw_data_dir+\"/t10k-images-idx3-ubyte.gz\"\n",
    "test_labels_filename=raw_data_dir+\"/t10k-labels-idx1-ubyte.gz\"\n",
    "\n",
    "images=mnist.read_images(images_filename)\n",
    "labels=mnist.read_labels(labels_filename)\n",
    "\n",
    "test_images=mnist.read_images(test_images_filename)\n",
    "test_labels=mnist.read_labels(test_labels_filename)\n",
    "    \n",
    "print(images.shape,labels.shape,test_images.shape,test_labels.shape)"
   ]
  },
  {
   "cell_type": "markdown",
   "metadata": {},
   "source": [
    "<div class=\"alert alert-block alert-info\"> Problem 0.1 </div>\n",
    "Split the MNIST fashion data set into a training set with 80% of the original trading data, and valuation set with the remaining 20%"
   ]
  },
  {
   "cell_type": "code",
   "execution_count": null,
   "metadata": {
    "ExecuteTime": {
     "end_time": "2019-04-17T13:04:55.301894Z",
     "start_time": "2019-04-17T13:04:55.165817Z"
    }
   },
   "outputs": [],
   "source": []
  },
  {
   "cell_type": "markdown",
   "metadata": {
    "ExecuteTime": {
     "end_time": "2018-04-10T21:58:30.004503Z",
     "start_time": "2018-04-10T21:58:29.998487Z"
    }
   },
   "source": [
    "<div class=\"alert alert-block alert-info\"> Problem 1.0 </div>\n",
    "Create a function that builds a  `keras` model of a  dense neural network with an arbitrary number of layers each using a  `ReLU` activation.\n",
    "The class constructor should  take two parameters\n",
    "1. Number of hidden layers.\n",
    "2. Number of nodes on each layer (assume all hidden layers are the same width)\n",
    "\n",
    "and it should return the $\\hat{y}(X)$, the neural network prediction for the digit.\n",
    "\n",
    "\n"
   ]
  },
  {
   "cell_type": "code",
   "execution_count": null,
   "metadata": {
    "ExecuteTime": {
     "end_time": "2019-04-17T13:04:55.310718Z",
     "start_time": "2019-04-17T13:04:55.303490Z"
    }
   },
   "outputs": [],
   "source": []
  },
  {
   "cell_type": "markdown",
   "metadata": {},
   "source": [
    "<div class=\"alert alert-block alert-info\"> Problem 1.1 </div> \n",
    "\n",
    "Set up a model 2 hidden layers with 32 nodes each.\n",
    "Compile the model  so that it uses   the `Adam` optimizer\n"
   ]
  },
  {
   "cell_type": "code",
   "execution_count": null,
   "metadata": {
    "ExecuteTime": {
     "end_time": "2019-04-17T13:04:55.483954Z",
     "start_time": "2019-04-17T13:04:55.311922Z"
    }
   },
   "outputs": [],
   "source": []
  },
  {
   "cell_type": "markdown",
   "metadata": {},
   "source": [
    "<div class=\"alert alert-block alert-info\"> Problem 1.2 </div> \n",
    "\n",
    "How many trainable parameters are in each layer, and in total?\n"
   ]
  },
  {
   "cell_type": "code",
   "execution_count": null,
   "metadata": {
    "ExecuteTime": {
     "end_time": "2019-04-17T13:04:55.489957Z",
     "start_time": "2019-04-17T13:04:55.485249Z"
    }
   },
   "outputs": [],
   "source": []
  },
  {
   "cell_type": "markdown",
   "metadata": {
    "ExecuteTime": {
     "end_time": "2019-04-17T09:56:44.367734Z",
     "start_time": "2019-04-17T09:56:44.363747Z"
    }
   },
   "source": [
    "<div class=\"alert alert-block alert-info\"> Problem 1.3 </div> \n",
    "\n",
    "Train model for 150 epochs using a batch size of 128\n"
   ]
  },
  {
   "cell_type": "code",
   "execution_count": null,
   "metadata": {
    "ExecuteTime": {
     "end_time": "2019-04-17T13:04:55.496768Z",
     "start_time": "2019-04-17T13:04:55.491613Z"
    }
   },
   "outputs": [],
   "source": []
  },
  {
   "cell_type": "markdown",
   "metadata": {},
   "source": [
    "<div class=\"alert alert-block alert-info\"> Problem 1.4 </div>\n",
    "\n",
    "What is the accuracy of the model on the valuation set?\n"
   ]
  },
  {
   "cell_type": "code",
   "execution_count": null,
   "metadata": {
    "ExecuteTime": {
     "end_time": "2019-04-17T13:07:39.425733Z",
     "start_time": "2019-04-17T13:07:39.246322Z"
    }
   },
   "outputs": [],
   "source": []
  },
  {
   "cell_type": "markdown",
   "metadata": {},
   "source": [
    "<div class=\"alert alert-block alert-info\"> Problem 2.0 </div>\n",
    "Using  cross-validation with the validation set you generated  find the optimal number of layers and nodes for your model.\n",
    "\n",
    "To search use the `layer_array` and `node_array` given and keep all other parameters the same.\n",
    "\n",
    "Report clearly the optimal value of the number of layers and optimal width (number of nodes) of the layers."
   ]
  },
  {
   "cell_type": "code",
   "execution_count": null,
   "metadata": {
    "ExecuteTime": {
     "end_time": "2019-04-17T13:07:39.429949Z",
     "start_time": "2019-04-17T13:07:39.426980Z"
    }
   },
   "outputs": [],
   "source": [
    "layers_array =[0,1,2,3,4,5]\n",
    "nodes_array = [16,32,64,128]"
   ]
  },
  {
   "cell_type": "code",
   "execution_count": null,
   "metadata": {
    "ExecuteTime": {
     "end_time": "2019-04-17T14:01:04.855504Z",
     "start_time": "2019-04-17T13:07:39.431156Z"
    }
   },
   "outputs": [],
   "source": []
  },
  {
   "cell_type": "markdown",
   "metadata": {},
   "source": [
    "<div class=\"alert alert-block alert-info\"> Problem 2.1 </div>\n",
    "Which parameters seems to impact more the accuracy of the model, the number of layers, or the width of each layer"
   ]
  },
  {
   "cell_type": "code",
   "execution_count": null,
   "metadata": {
    "ExecuteTime": {
     "end_time": "2019-04-17T19:54:55.845656Z",
     "start_time": "2019-04-17T19:54:55.800254Z"
    }
   },
   "outputs": [],
   "source": []
  },
  {
   "cell_type": "markdown",
   "metadata": {},
   "source": [
    "<div class=\"alert alert-block alert-info\"> Problem 3 </div>\n",
    "Test the performance of the optimal network you found using the MNIST fashion test data."
   ]
  },
  {
   "cell_type": "code",
   "execution_count": null,
   "metadata": {
    "ExecuteTime": {
     "end_time": "2019-04-17T14:01:05.056127Z",
     "start_time": "2019-04-17T14:01:04.883389Z"
    }
   },
   "outputs": [],
   "source": []
  },
  {
   "cell_type": "markdown",
   "metadata": {
    "ExecuteTime": {
     "end_time": "2018-11-29T11:48:16.401998Z",
     "start_time": "2018-11-29T11:48:16.397011Z"
    },
    "collapsed": true
   },
   "source": [
    "<div class=\"alert alert-block alert-info\"> Problem 4 </div>\n",
    "What is the number of parameters on the optimal network?"
   ]
  },
  {
   "cell_type": "code",
   "execution_count": null,
   "metadata": {
    "ExecuteTime": {
     "end_time": "2019-04-17T14:10:57.992596Z",
     "start_time": "2019-04-17T14:10:57.979696Z"
    }
   },
   "outputs": [],
   "source": []
  }
 ],
 "metadata": {
  "kernelspec": {
   "display_name": "Python 3",
   "language": "python",
   "name": "python3"
  },
  "language_info": {
   "codemirror_mode": {
    "name": "ipython",
    "version": 3
   },
   "file_extension": ".py",
   "mimetype": "text/x-python",
   "name": "python",
   "nbconvert_exporter": "python",
   "pygments_lexer": "ipython3",
   "version": "3.6.4"
  },
  "toc": {
   "base_numbering": 1,
   "nav_menu": {},
   "number_sections": true,
   "sideBar": true,
   "skip_h1_title": true,
   "title_cell": "Table of Contents",
   "title_sidebar": "Contents",
   "toc_cell": false,
   "toc_position": {},
   "toc_section_display": "block",
   "toc_window_display": false
  }
 },
 "nbformat": 4,
 "nbformat_minor": 1
}

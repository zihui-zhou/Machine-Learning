{
 "cells": [
  {
   "cell_type": "markdown",
   "metadata": {},
   "source": [
    "# Homework Lecture4"
   ]
  },
  {
   "cell_type": "markdown",
   "metadata": {},
   "source": [
    "## Preliminaries"
   ]
  },
  {
   "cell_type": "markdown",
   "metadata": {},
   "source": [
    "### Imports"
   ]
  },
  {
   "cell_type": "code",
   "execution_count": 1,
   "metadata": {
    "ExecuteTime": {
     "end_time": "2018-10-01T16:38:56.902435Z",
     "start_time": "2018-10-01T16:38:49.986235Z"
    }
   },
   "outputs": [],
   "source": [
    "import pickle\n",
    "\n",
    "import numpy as np\n",
    "import pandas as pd\n",
    "import matplotlib.pyplot as plt\n",
    "\n",
    "from sklearn.feature_extraction.text import CountVectorizer,TfidfVectorizer\n",
    "from sklearn.preprocessing import normalize\n",
    "from sklearn.neighbors import KNeighborsClassifier\n",
    "from sklearn.naive_bayes import MultinomialNB\n",
    "from sklearn import metrics\n",
    "from sklearn.model_selection import train_test_split, KFold,GridSearchCV\n",
    "\n",
    "%matplotlib inline"
   ]
  },
  {
   "cell_type": "markdown",
   "metadata": {
    "ExecuteTime": {
     "end_time": "2018-02-15T11:06:16.497625Z",
     "start_time": "2018-02-15T11:06:16.466372Z"
    }
   },
   "source": [
    "### Random Seed"
   ]
  },
  {
   "cell_type": "code",
   "execution_count": 2,
   "metadata": {
    "ExecuteTime": {
     "end_time": "2018-10-01T16:38:56.907435Z",
     "start_time": "2018-10-01T16:38:56.904435Z"
    }
   },
   "outputs": [],
   "source": [
    "seed=136\n",
    "np.random.seed(seed)"
   ]
  },
  {
   "cell_type": "markdown",
   "metadata": {},
   "source": [
    "### Data Directories"
   ]
  },
  {
   "cell_type": "code",
   "execution_count": 3,
   "metadata": {
    "ExecuteTime": {
     "end_time": "2018-10-01T16:38:56.934035Z",
     "start_time": "2018-10-01T16:38:56.908435Z"
    }
   },
   "outputs": [],
   "source": [
    "raw_data_dir=r\"../../raw/C50/C50train\"\n",
    "test_dir    =r\"../../raw/C50/C50test\"\n",
    "data_dir=r\"../../data/C50\"\n"
   ]
  },
  {
   "cell_type": "markdown",
   "metadata": {},
   "source": [
    "## Document Data"
   ]
  },
  {
   "cell_type": "markdown",
   "metadata": {},
   "source": [
    "### Corpus (List of documents)"
   ]
  },
  {
   "cell_type": "code",
   "execution_count": 4,
   "metadata": {
    "ExecuteTime": {
     "end_time": "2018-10-01T16:38:57.139435Z",
     "start_time": "2018-10-01T16:38:56.935035Z"
    }
   },
   "outputs": [
    {
     "data": {
      "text/html": [
       "<div>\n",
       "<style scoped>\n",
       "    .dataframe tbody tr th:only-of-type {\n",
       "        vertical-align: middle;\n",
       "    }\n",
       "\n",
       "    .dataframe tbody tr th {\n",
       "        vertical-align: top;\n",
       "    }\n",
       "\n",
       "    .dataframe thead th {\n",
       "        text-align: right;\n",
       "    }\n",
       "</style>\n",
       "<table border=\"1\" class=\"dataframe\">\n",
       "  <thead>\n",
       "    <tr style=\"text-align: right;\">\n",
       "      <th></th>\n",
       "      <th>filename</th>\n",
       "      <th>label</th>\n",
       "    </tr>\n",
       "    <tr>\n",
       "      <th>document_id</th>\n",
       "      <th></th>\n",
       "      <th></th>\n",
       "    </tr>\n",
       "  </thead>\n",
       "  <tbody>\n",
       "    <tr>\n",
       "      <th>0</th>\n",
       "      <td>../../raw/C50/C50train/ScottHillis/253868newsM...</td>\n",
       "      <td>ScottHillis</td>\n",
       "    </tr>\n",
       "    <tr>\n",
       "      <th>1</th>\n",
       "      <td>../../raw/C50/C50train/ScottHillis/305692newsM...</td>\n",
       "      <td>ScottHillis</td>\n",
       "    </tr>\n",
       "    <tr>\n",
       "      <th>2</th>\n",
       "      <td>../../raw/C50/C50train/ScottHillis/340736newsM...</td>\n",
       "      <td>ScottHillis</td>\n",
       "    </tr>\n",
       "    <tr>\n",
       "      <th>3</th>\n",
       "      <td>../../raw/C50/C50train/ScottHillis/140340newsM...</td>\n",
       "      <td>ScottHillis</td>\n",
       "    </tr>\n",
       "    <tr>\n",
       "      <th>4</th>\n",
       "      <td>../../raw/C50/C50train/ScottHillis/126593newsM...</td>\n",
       "      <td>ScottHillis</td>\n",
       "    </tr>\n",
       "  </tbody>\n",
       "</table>\n",
       "</div>"
      ],
      "text/plain": [
       "                                                      filename        label\n",
       "document_id                                                                \n",
       "0            ../../raw/C50/C50train/ScottHillis/253868newsM...  ScottHillis\n",
       "1            ../../raw/C50/C50train/ScottHillis/305692newsM...  ScottHillis\n",
       "2            ../../raw/C50/C50train/ScottHillis/340736newsM...  ScottHillis\n",
       "3            ../../raw/C50/C50train/ScottHillis/140340newsM...  ScottHillis\n",
       "4            ../../raw/C50/C50train/ScottHillis/126593newsM...  ScottHillis"
      ]
     },
     "execution_count": 4,
     "metadata": {},
     "output_type": "execute_result"
    }
   ],
   "source": [
    "documents_filename=data_dir+\"/C50_documents.csv\"\n",
    "documents=pd.read_csv(documents_filename,index_col=\"document_id\")\n",
    "documents.head()"
   ]
  },
  {
   "cell_type": "code",
   "execution_count": 5,
   "metadata": {
    "ExecuteTime": {
     "end_time": "2018-10-01T16:38:57.156435Z",
     "start_time": "2018-10-01T16:38:57.141435Z"
    }
   },
   "outputs": [
    {
     "data": {
      "text/html": [
       "<div>\n",
       "<style scoped>\n",
       "    .dataframe tbody tr th:only-of-type {\n",
       "        vertical-align: middle;\n",
       "    }\n",
       "\n",
       "    .dataframe tbody tr th {\n",
       "        vertical-align: top;\n",
       "    }\n",
       "\n",
       "    .dataframe thead th {\n",
       "        text-align: right;\n",
       "    }\n",
       "</style>\n",
       "<table border=\"1\" class=\"dataframe\">\n",
       "  <thead>\n",
       "    <tr style=\"text-align: right;\">\n",
       "      <th></th>\n",
       "      <th>filename</th>\n",
       "      <th>label</th>\n",
       "    </tr>\n",
       "    <tr>\n",
       "      <th>document_id</th>\n",
       "      <th></th>\n",
       "      <th></th>\n",
       "    </tr>\n",
       "  </thead>\n",
       "  <tbody>\n",
       "    <tr>\n",
       "      <th>0</th>\n",
       "      <td>../../raw/C50/C50test/ScottHillis/373999newsML...</td>\n",
       "      <td>ScottHillis</td>\n",
       "    </tr>\n",
       "    <tr>\n",
       "      <th>1</th>\n",
       "      <td>../../raw/C50/C50test/ScottHillis/348602newsML...</td>\n",
       "      <td>ScottHillis</td>\n",
       "    </tr>\n",
       "    <tr>\n",
       "      <th>2</th>\n",
       "      <td>../../raw/C50/C50test/ScottHillis/387913newsML...</td>\n",
       "      <td>ScottHillis</td>\n",
       "    </tr>\n",
       "    <tr>\n",
       "      <th>3</th>\n",
       "      <td>../../raw/C50/C50test/ScottHillis/392527newsML...</td>\n",
       "      <td>ScottHillis</td>\n",
       "    </tr>\n",
       "    <tr>\n",
       "      <th>4</th>\n",
       "      <td>../../raw/C50/C50test/ScottHillis/417664newsML...</td>\n",
       "      <td>ScottHillis</td>\n",
       "    </tr>\n",
       "  </tbody>\n",
       "</table>\n",
       "</div>"
      ],
      "text/plain": [
       "                                                      filename        label\n",
       "document_id                                                                \n",
       "0            ../../raw/C50/C50test/ScottHillis/373999newsML...  ScottHillis\n",
       "1            ../../raw/C50/C50test/ScottHillis/348602newsML...  ScottHillis\n",
       "2            ../../raw/C50/C50test/ScottHillis/387913newsML...  ScottHillis\n",
       "3            ../../raw/C50/C50test/ScottHillis/392527newsML...  ScottHillis\n",
       "4            ../../raw/C50/C50test/ScottHillis/417664newsML...  ScottHillis"
      ]
     },
     "execution_count": 5,
     "metadata": {},
     "output_type": "execute_result"
    }
   ],
   "source": [
    "test_documents_filename=data_dir+\"/C50_test_documents.csv\"\n",
    "test_documents=pd.read_csv(test_documents_filename,index_col=\"document_id\")\n",
    "test_documents.head()"
   ]
  },
  {
   "cell_type": "markdown",
   "metadata": {},
   "source": [
    "### Load Pre-Trained Features"
   ]
  },
  {
   "cell_type": "markdown",
   "metadata": {},
   "source": [
    "#### Load Features"
   ]
  },
  {
   "cell_type": "markdown",
   "metadata": {},
   "source": [
    "<div class=\"alert alert-block alert-info\"> Problem 1.0 </div>\n",
    "Load the diagram features from files `digram_features.p` and digram_test_features.p` in the data directory"
   ]
  },
  {
   "cell_type": "code",
   "execution_count": 6,
   "metadata": {
    "ExecuteTime": {
     "end_time": "2018-10-01T16:38:57.181035Z",
     "start_time": "2018-10-01T16:38:57.158435Z"
    }
   },
   "outputs": [],
   "source": [
    "features_filename=data_dir+\"/\"+\"digram_features.p\"\n",
    "features=pickle.load(open(features_filename,\"rb\"))"
   ]
  },
  {
   "cell_type": "code",
   "execution_count": 7,
   "metadata": {
    "ExecuteTime": {
     "end_time": "2018-10-01T16:38:57.196035Z",
     "start_time": "2018-10-01T16:38:57.183035Z"
    }
   },
   "outputs": [],
   "source": [
    "test_features_filename=data_dir+\"/\"+\"digram_test_features.p\"\n",
    "test_features=pickle.load(open(test_features_filename,\"rb\"))"
   ]
  },
  {
   "cell_type": "markdown",
   "metadata": {
    "ExecuteTime": {
     "end_time": "2018-01-21T22:03:06.235419Z",
     "start_time": "2018-01-21T22:03:06.219795Z"
    }
   },
   "source": [
    "<div class=\"alert alert-block alert-info\"> Problem 1.2 </div>\n",
    "How many documents are collected in `features`, how can you tell just from the features you loaded"
   ]
  },
  {
   "cell_type": "code",
   "execution_count": 8,
   "metadata": {
    "ExecuteTime": {
     "end_time": "2018-10-01T16:38:57.222635Z",
     "start_time": "2018-10-01T16:38:57.198035Z"
    }
   },
   "outputs": [
    {
     "data": {
      "text/plain": [
       "2500"
      ]
     },
     "execution_count": 8,
     "metadata": {},
     "output_type": "execute_result"
    }
   ],
   "source": [
    "features.shape[0]"
   ]
  },
  {
   "cell_type": "markdown",
   "metadata": {},
   "source": [
    "<div class=\"alert alert-block alert-info\"> Problem 1.3 </div>\n",
    "What is the size of the digram vocabulary? How can you tell from the features you loaded?"
   ]
  },
  {
   "cell_type": "code",
   "execution_count": 9,
   "metadata": {
    "ExecuteTime": {
     "end_time": "2018-10-01T16:38:57.235635Z",
     "start_time": "2018-10-01T16:38:57.224635Z"
    }
   },
   "outputs": [
    {
     "data": {
      "text/plain": [
       "388209"
      ]
     },
     "execution_count": 9,
     "metadata": {},
     "output_type": "execute_result"
    }
   ],
   "source": [
    "features.shape[1]"
   ]
  },
  {
   "cell_type": "markdown",
   "metadata": {
    "ExecuteTime": {
     "end_time": "2018-01-21T22:09:15.766264Z",
     "start_time": "2018-01-21T22:09:15.750639Z"
    }
   },
   "source": [
    "<div class=\"alert alert-block alert-info\"> Problem 1.4 </div>\n",
    "save the features of the  first document into a vector named `v`.\n",
    "What its is shape"
   ]
  },
  {
   "cell_type": "code",
   "execution_count": 10,
   "metadata": {
    "ExecuteTime": {
     "end_time": "2018-10-01T16:38:57.259635Z",
     "start_time": "2018-10-01T16:38:57.236635Z"
    }
   },
   "outputs": [
    {
     "data": {
      "text/plain": [
       "(1, 388209)"
      ]
     },
     "execution_count": 10,
     "metadata": {},
     "output_type": "execute_result"
    }
   ],
   "source": [
    "v=features[0]\n",
    "v.shape"
   ]
  },
  {
   "cell_type": "markdown",
   "metadata": {},
   "source": [
    "<div class=\"alert alert-block alert-info\"> Problem 1.5 </div>\n",
    "\n",
    "Do we need to normalize the vector features? how can you tell?"
   ]
  },
  {
   "cell_type": "markdown",
   "metadata": {
    "ExecuteTime": {
     "end_time": "2018-01-21T22:13:23.426989Z",
     "start_time": "2018-01-21T22:13:23.411411Z"
    }
   },
   "source": [
    "<div class=\"alert alert-block alert-success\"> Two possible solutions (there may be others) </div>"
   ]
  },
  {
   "cell_type": "code",
   "execution_count": 11,
   "metadata": {
    "ExecuteTime": {
     "end_time": "2018-10-01T16:38:57.285635Z",
     "start_time": "2018-10-01T16:38:57.260635Z"
    }
   },
   "outputs": [
    {
     "data": {
      "text/plain": [
       "364"
      ]
     },
     "execution_count": 11,
     "metadata": {},
     "output_type": "execute_result"
    }
   ],
   "source": [
    "# Solution 1:\n",
    "#The vectors are not normalized because their dot product is not 1\n",
    "np.dot(v,v.T)[0,0]"
   ]
  },
  {
   "cell_type": "code",
   "execution_count": 12,
   "metadata": {
    "ExecuteTime": {
     "end_time": "2018-10-01T16:38:57.308635Z",
     "start_time": "2018-10-01T16:38:57.287635Z"
    }
   },
   "outputs": [
    {
     "data": {
      "text/plain": [
       "dtype('int64')"
      ]
     },
     "execution_count": 12,
     "metadata": {},
     "output_type": "execute_result"
    }
   ],
   "source": [
    "# Solution 2:\n",
    "# v is a vector of integer type.\n",
    "# For the  features to be normalized their componets would need to be floating point.\n",
    "v.dtype"
   ]
  },
  {
   "cell_type": "markdown",
   "metadata": {},
   "source": [
    "<div class=\"alert alert-block alert-info\"> Problem 1.6 </div>\n",
    "If necesary: use `sklearn.preprocessing.normalize` to normalize features and test features."
   ]
  },
  {
   "cell_type": "code",
   "execution_count": 13,
   "metadata": {
    "ExecuteTime": {
     "end_time": "2018-10-01T16:38:57.378635Z",
     "start_time": "2018-10-01T16:38:57.309635Z"
    }
   },
   "outputs": [],
   "source": [
    "features=normalize(features)\n",
    "test_features=normalize(test_features)"
   ]
  },
  {
   "cell_type": "markdown",
   "metadata": {},
   "source": [
    "## K-Neighbors Text Classification"
   ]
  },
  {
   "cell_type": "markdown",
   "metadata": {
    "ExecuteTime": {
     "end_time": "2018-02-15T09:41:08.088459Z",
     "start_time": "2018-02-15T09:41:08.072455Z"
    }
   },
   "source": [
    "<div class=\"alert alert-block alert-info\"> Problem 2.0 </div>\n",
    "using `sklearn.model_selection.train_test_split` to separate data into a 90% training set an a 10% validation set"
   ]
  },
  {
   "cell_type": "code",
   "execution_count": 14,
   "metadata": {
    "ExecuteTime": {
     "end_time": "2018-10-01T16:38:57.406635Z",
     "start_time": "2018-10-01T16:38:57.379635Z"
    }
   },
   "outputs": [],
   "source": [
    "features_train,features_val,labels_train,labels_val=train_test_split(features,documents[\"label\"],test_size=0.1)"
   ]
  },
  {
   "cell_type": "markdown",
   "metadata": {},
   "source": [
    "<div class=\"alert alert-block alert-info\"> Problem 2.1 </div>\n",
    "Show the sizes of train and validation sets"
   ]
  },
  {
   "cell_type": "code",
   "execution_count": 15,
   "metadata": {
    "ExecuteTime": {
     "end_time": "2018-10-01T16:38:57.413635Z",
     "start_time": "2018-10-01T16:38:57.408635Z"
    }
   },
   "outputs": [
    {
     "data": {
      "text/plain": [
       "((2250, 388209), (250, 388209))"
      ]
     },
     "execution_count": 15,
     "metadata": {},
     "output_type": "execute_result"
    }
   ],
   "source": [
    "features_train.shape,features_val.shape"
   ]
  },
  {
   "cell_type": "markdown",
   "metadata": {},
   "source": [
    "<div class=\"alert alert-block alert-info\"> Problem 2.2 </div>\n",
    "using `sklearn.neighbors.KNeighborsClassifier` fit a nearest neighbor classifier to the training data"
   ]
  },
  {
   "cell_type": "code",
   "execution_count": 16,
   "metadata": {
    "ExecuteTime": {
     "end_time": "2018-10-01T16:38:57.436635Z",
     "start_time": "2018-10-01T16:38:57.415635Z"
    }
   },
   "outputs": [],
   "source": [
    "X=features_train\n",
    "Y=labels_train"
   ]
  },
  {
   "cell_type": "code",
   "execution_count": 17,
   "metadata": {
    "ExecuteTime": {
     "end_time": "2018-10-01T16:38:57.468635Z",
     "start_time": "2018-10-01T16:38:57.438635Z"
    }
   },
   "outputs": [
    {
     "data": {
      "text/plain": [
       "KNeighborsClassifier(algorithm='auto', leaf_size=30, metric='minkowski',\n",
       "           metric_params=None, n_jobs=1, n_neighbors=1, p=2,\n",
       "           weights='uniform')"
      ]
     },
     "execution_count": 17,
     "metadata": {},
     "output_type": "execute_result"
    }
   ],
   "source": [
    "model=KNeighborsClassifier(1)\n",
    "model.fit(X,Y)"
   ]
  },
  {
   "cell_type": "markdown",
   "metadata": {},
   "source": [
    "<div class=\"alert alert-block alert-info\"> Problem 2.3 </div>\n",
    "What is the predicted label for the first test document?\n",
    "Does it agree with the true label?"
   ]
  },
  {
   "cell_type": "code",
   "execution_count": 18,
   "metadata": {
    "ExecuteTime": {
     "end_time": "2018-10-01T16:38:57.477635Z",
     "start_time": "2018-10-01T16:38:57.470635Z"
    }
   },
   "outputs": [],
   "source": [
    "X_test=test_features\n",
    "Y_test=test_documents[\"label\"]"
   ]
  },
  {
   "cell_type": "code",
   "execution_count": 19,
   "metadata": {
    "ExecuteTime": {
     "end_time": "2018-10-01T16:38:57.559635Z",
     "start_time": "2018-10-01T16:38:57.479635Z"
    }
   },
   "outputs": [
    {
     "name": "stdout",
     "output_type": "stream",
     "text": [
      "predicted: BenjaminKangLim\n",
      "actual: ScottHillis\n"
     ]
    }
   ],
   "source": [
    "print(\"predicted:\",model.predict(X_test[0])[0])\n",
    "print(\"actual:\",Y_test[0])"
   ]
  },
  {
   "cell_type": "code",
   "execution_count": 20,
   "metadata": {
    "ExecuteTime": {
     "end_time": "2018-10-01T16:38:57.563635Z",
     "start_time": "2018-10-01T16:38:57.561635Z"
    }
   },
   "outputs": [],
   "source": [
    "# Labels do not agree"
   ]
  },
  {
   "cell_type": "markdown",
   "metadata": {},
   "source": [
    "<div class=\"alert alert-block alert-info\"> Problem 2.4 </div>\n",
    "Use the train/valuation split to select the optimal number of neighbors K in K-neighbors classifier, using accuracy as \n",
    "your selection metric."
   ]
  },
  {
   "cell_type": "code",
   "execution_count": 21,
   "metadata": {
    "ExecuteTime": {
     "end_time": "2018-10-01T16:38:57.586635Z",
     "start_time": "2018-10-01T16:38:57.565635Z"
    }
   },
   "outputs": [],
   "source": [
    "X=features_train\n",
    "Y=labels_train\n",
    "X_val=features_val\n",
    "Y_val=labels_val"
   ]
  },
  {
   "cell_type": "code",
   "execution_count": 22,
   "metadata": {
    "ExecuteTime": {
     "end_time": "2018-10-01T16:38:57.642635Z",
     "start_time": "2018-10-01T16:38:57.588635Z"
    }
   },
   "outputs": [
    {
     "data": {
      "text/plain": [
       "((250, 388209), (2250, 388209), (2250,), (250,))"
      ]
     },
     "execution_count": 22,
     "metadata": {},
     "output_type": "execute_result"
    }
   ],
   "source": [
    "X_val.shape,X.shape,Y.shape,Y_val.shape"
   ]
  },
  {
   "cell_type": "code",
   "execution_count": 23,
   "metadata": {
    "ExecuteTime": {
     "end_time": "2018-10-01T16:38:58.343635Z",
     "start_time": "2018-10-01T16:38:57.644635Z"
    }
   },
   "outputs": [
    {
     "name": "stdout",
     "output_type": "stream",
     "text": [
      "1 0.74\n",
      "2 0.676\n",
      "3 0.628\n",
      "4 0.624\n",
      "5 0.612\n",
      "6 0.616\n",
      "7 0.588\n",
      "8 0.592\n",
      "9 0.588\n",
      "10 0.592\n",
      "Best K 1\n",
      "Best Accuracy 0.74\n"
     ]
    }
   ],
   "source": [
    "Ks=np.arange(1,11)\n",
    "accuracies=np.zeros(len(Ks))\n",
    "for idx,K in enumerate(Ks):\n",
    "    model=KNeighborsClassifier(K)\n",
    "    model.fit(X,Y)\n",
    "    Y_pred=model.predict(X_val)\n",
    "    acc=np.mean(Y_pred==Y_val)\n",
    "    accuracies[idx]=acc\n",
    "    print(K,acc)\n",
    "best_idx=accuracies.argmax()\n",
    "best_K=Ks[best_idx]\n",
    "best_accuracy=accuracies[best_idx]\n",
    "print(\"Best K\", best_K)\n",
    "print(\"Best Accuracy\",best_accuracy)"
   ]
  },
  {
   "cell_type": "markdown",
   "metadata": {},
   "source": [
    "<div class=\"alert alert-block alert-info\"> Problem 2.5 </div>\n",
    "Retrain the best model will all non-test documents and evaluate performance on the test data set."
   ]
  },
  {
   "cell_type": "code",
   "execution_count": 24,
   "metadata": {
    "ExecuteTime": {
     "end_time": "2018-10-01T16:38:58.598635Z",
     "start_time": "2018-10-01T16:38:58.344635Z"
    }
   },
   "outputs": [
    {
     "data": {
      "text/plain": [
       "0.5348"
      ]
     },
     "execution_count": 24,
     "metadata": {},
     "output_type": "execute_result"
    }
   ],
   "source": [
    "X=features\n",
    "Y=documents[\"label\"]\n",
    "model=KNeighborsClassifier(best_K)\n",
    "model.fit(X,Y)\n",
    "Y_pred=model.predict(X_test)\n",
    "np.mean(Y_pred==Y_test)"
   ]
  },
  {
   "cell_type": "markdown",
   "metadata": {},
   "source": [
    "<div class=\"alert alert-block alert-info\"> Problem 2.6 </div>\n",
    "Is there a significant difference between the performance in the training and test set? can you speculate on why?"
   ]
  },
  {
   "cell_type": "code",
   "execution_count": 25,
   "metadata": {
    "ExecuteTime": {
     "end_time": "2018-10-01T16:38:58.602635Z",
     "start_time": "2018-10-01T16:38:58.599635Z"
    }
   },
   "outputs": [],
   "source": [
    "# Performance is significantly lower on the test set, probably because the test documents are drawn from a different distribution."
   ]
  },
  {
   "cell_type": "markdown",
   "metadata": {
    "ExecuteTime": {
     "end_time": "2018-01-21T23:09:05.500552Z",
     "start_time": "2018-01-21T23:09:05.484891Z"
    }
   },
   "source": [
    "### Naive Bayes Clasifier for Text"
   ]
  },
  {
   "cell_type": "code",
   "execution_count": 26,
   "metadata": {
    "ExecuteTime": {
     "end_time": "2018-10-01T16:38:58.622635Z",
     "start_time": "2018-10-01T16:38:58.604635Z"
    }
   },
   "outputs": [],
   "source": [
    "data_dir=r\"../../raw/amazon-reviews\""
   ]
  },
  {
   "cell_type": "code",
   "execution_count": 29,
   "metadata": {
    "ExecuteTime": {
     "end_time": "2018-10-01T16:38:58.643635Z",
     "start_time": "2018-10-01T16:38:58.624635Z"
    }
   },
   "outputs": [],
   "source": [
    "reviews_filename=  data_dir+\"/Reviews.csv\""
   ]
  },
  {
   "cell_type": "markdown",
   "metadata": {
    "ExecuteTime": {
     "end_time": "2018-02-15T10:29:22.080243Z",
     "start_time": "2018-02-15T10:29:22.064587Z"
    }
   },
   "source": [
    "<div class=\"alert alert-block alert-info\"> Problem 3.0 </div>\n",
    "Save file `reviews.csv` from canvas into the `data_dir` above"
   ]
  },
  {
   "cell_type": "markdown",
   "metadata": {},
   "source": [
    "<div class=\"alert alert-block alert-info\"> Problem 3.1 </div>\n",
    "Read reviews into a data frame"
   ]
  },
  {
   "cell_type": "code",
   "execution_count": 30,
   "metadata": {
    "ExecuteTime": {
     "end_time": "2018-10-01T16:52:21.243435Z",
     "start_time": "2018-10-01T16:52:17.451835Z"
    }
   },
   "outputs": [],
   "source": [
    "data=pd.read_csv(reviews_filename)"
   ]
  },
  {
   "cell_type": "markdown",
   "metadata": {
    "ExecuteTime": {
     "end_time": "2018-10-01T16:51:07.343635Z",
     "start_time": "2018-10-01T16:51:07.320635Z"
    }
   },
   "source": [
    "<div class=\"alert alert-block alert-info\"> Problem 3.2 </div>\n",
    "Use panda's function isna() to count how many rows have a missing \"Summary\" column"
   ]
  },
  {
   "cell_type": "code",
   "execution_count": 31,
   "metadata": {
    "ExecuteTime": {
     "end_time": "2018-10-01T16:52:21.383635Z",
     "start_time": "2018-10-01T16:52:21.367635Z"
    }
   },
   "outputs": [
    {
     "data": {
      "text/plain": [
       "27"
      ]
     },
     "execution_count": 31,
     "metadata": {},
     "output_type": "execute_result"
    }
   ],
   "source": [
    "data[\"Summary\"].isna().sum()"
   ]
  },
  {
   "cell_type": "markdown",
   "metadata": {
    "ExecuteTime": {
     "end_time": "2018-10-01T16:52:47.682435Z",
     "start_time": "2018-10-01T16:52:47.653835Z"
    }
   },
   "source": [
    "<div class=\"alert alert-block alert-info\"> Problem 3.3 </div>\n",
    "Use panda's function fillna() to turn missing summaries into empty (\"\") summaries"
   ]
  },
  {
   "cell_type": "code",
   "execution_count": 32,
   "metadata": {
    "ExecuteTime": {
     "end_time": "2018-10-01T16:52:57.526835Z",
     "start_time": "2018-10-01T16:52:57.484235Z"
    }
   },
   "outputs": [
    {
     "data": {
      "text/plain": [
       "0"
      ]
     },
     "execution_count": 32,
     "metadata": {},
     "output_type": "execute_result"
    }
   ],
   "source": [
    "data[\"Summary\"].fillna(\"\",inplace=True)\n",
    "data[\"Summary\"].isna().sum()"
   ]
  },
  {
   "cell_type": "markdown",
   "metadata": {},
   "source": [
    "<div class=\"alert alert-block alert-info\"> Problem 3.4 </div>\n",
    "Create two `numpy` arrays\n",
    "1. `documents_all` containing the contents of the \"Summary\" column\n",
    "2. `labels_all` containing the \"Score\" column"
   ]
  },
  {
   "cell_type": "code",
   "execution_count": 33,
   "metadata": {
    "ExecuteTime": {
     "end_time": "2018-10-01T16:53:53.991835Z",
     "start_time": "2018-10-01T16:53:53.965235Z"
    }
   },
   "outputs": [
    {
     "name": "stdout",
     "output_type": "stream",
     "text": [
      "(568454,)\n"
     ]
    }
   ],
   "source": [
    "documents_all=data[\"Summary\"].values\n",
    "labels_all=data[\"Score\"].values\n",
    "print(documents_all.shape)"
   ]
  },
  {
   "cell_type": "markdown",
   "metadata": {},
   "source": [
    "<div class=\"alert alert-block alert-info\"> Problem 3.5 </div>\n",
    "Split `all_documents` into a training  and test document set using a 10% test split"
   ]
  },
  {
   "cell_type": "code",
   "execution_count": 34,
   "metadata": {
    "ExecuteTime": {
     "end_time": "2018-10-01T16:39:02.895635Z",
     "start_time": "2018-10-01T16:39:02.785635Z"
    }
   },
   "outputs": [
    {
     "name": "stdout",
     "output_type": "stream",
     "text": [
      "(511608,) (56846,)\n"
     ]
    }
   ],
   "source": [
    "docs,docs_test,labels,labels_test=train_test_split(documents_all,labels_all,test_size=0.1)\n",
    "print(docs.shape,docs_test.shape)"
   ]
  },
  {
   "cell_type": "code",
   "execution_count": 35,
   "metadata": {
    "ExecuteTime": {
     "end_time": "2018-10-01T16:39:02.900635Z",
     "start_time": "2018-10-01T16:39:02.897635Z"
    }
   },
   "outputs": [],
   "source": [
    "#doc_data=pd.DataFrame(np.c_[docs,labels],columns=[\"Summary\",\"Score\"])\n",
    "#doc_data.to_csv(data_dir+\"/documents.csv\",index=False)"
   ]
  },
  {
   "cell_type": "code",
   "execution_count": 36,
   "metadata": {
    "ExecuteTime": {
     "end_time": "2018-10-01T16:39:02.926635Z",
     "start_time": "2018-10-01T16:39:02.903635Z"
    }
   },
   "outputs": [],
   "source": [
    "#doc_test_data=pd.DataFrame(np.c_[docs_test,labels_test],columns=[\"Summary\",\"Score\"])\n",
    "#doc_test_data.to_csv(data_dir+\"/documents_test.csv\",index=False)"
   ]
  },
  {
   "cell_type": "markdown",
   "metadata": {
    "ExecuteTime": {
     "end_time": "2018-02-15T10:37:19.293779Z",
     "start_time": "2018-02-15T10:37:19.278157Z"
    }
   },
   "source": [
    "<div class=\"alert alert-block alert-info\"> Problem 3.6</div>\n",
    "Create `count`, `set` and `Tfidf` features both for your training and test sets.\n",
    "1. Set the `input` variable to \"content\", as the document array contains the text of the document not  filenames as in the `C50` example.\n",
    "2. ** Do not ** set the `tokenizer` and `stopword` variables, they slow down the processing significantly, and, for this example do not really improve performance."
   ]
  },
  {
   "cell_type": "code",
   "execution_count": 37,
   "metadata": {
    "ExecuteTime": {
     "end_time": "2018-10-01T16:39:02.951635Z",
     "start_time": "2018-10-01T16:39:02.928635Z"
    }
   },
   "outputs": [],
   "source": [
    "countVectorizer=CountVectorizer(input=\"content\")"
   ]
  },
  {
   "cell_type": "code",
   "execution_count": 38,
   "metadata": {
    "ExecuteTime": {
     "end_time": "2018-10-01T16:39:02.973635Z",
     "start_time": "2018-10-01T16:39:02.952635Z"
    }
   },
   "outputs": [],
   "source": [
    "setVectorizer=CountVectorizer(input=\"content\",\n",
    "                              binary=True\n",
    "                             )"
   ]
  },
  {
   "cell_type": "code",
   "execution_count": 39,
   "metadata": {
    "ExecuteTime": {
     "end_time": "2018-10-01T16:39:02.995635Z",
     "start_time": "2018-10-01T16:39:02.977635Z"
    }
   },
   "outputs": [],
   "source": [
    "tfIdfVectorizer=TfidfVectorizer(input=\"content\")"
   ]
  },
  {
   "cell_type": "code",
   "execution_count": 40,
   "metadata": {
    "ExecuteTime": {
     "end_time": "2018-10-01T16:39:05.829435Z",
     "start_time": "2018-10-01T16:39:02.997635Z"
    }
   },
   "outputs": [],
   "source": [
    "count_features=countVectorizer.fit_transform(docs)"
   ]
  },
  {
   "cell_type": "code",
   "execution_count": 41,
   "metadata": {
    "ExecuteTime": {
     "end_time": "2018-10-01T16:39:08.662035Z",
     "start_time": "2018-10-01T16:39:05.831435Z"
    }
   },
   "outputs": [],
   "source": [
    "set_features=setVectorizer.fit_transform(docs)"
   ]
  },
  {
   "cell_type": "code",
   "execution_count": 42,
   "metadata": {
    "ExecuteTime": {
     "end_time": "2018-10-01T16:39:12.050835Z",
     "start_time": "2018-10-01T16:39:08.664035Z"
    }
   },
   "outputs": [],
   "source": [
    "tfidf_features=tfIdfVectorizer.fit_transform(docs)"
   ]
  },
  {
   "cell_type": "code",
   "execution_count": 43,
   "metadata": {
    "ExecuteTime": {
     "end_time": "2018-10-01T16:39:12.900235Z",
     "start_time": "2018-10-01T16:39:12.052835Z"
    }
   },
   "outputs": [],
   "source": [
    "count_test_features=countVectorizer.transform(docs_test)\n",
    "set_test_features=setVectorizer.transform(docs_test)\n",
    "tfidf_test_features=tfIdfVectorizer.transform(docs_test)"
   ]
  },
  {
   "cell_type": "markdown",
   "metadata": {
    "ExecuteTime": {
     "end_time": "2018-02-15T10:39:07.828239Z",
     "start_time": "2018-02-15T10:39:07.812618Z"
    }
   },
   "source": [
    "<div class=\"alert alert-block alert-info\"> Problem 3.7 </div>\n",
    "Show the number of documents on the training set, and the size of the vocabulary."
   ]
  },
  {
   "cell_type": "code",
   "execution_count": 44,
   "metadata": {
    "ExecuteTime": {
     "end_time": "2018-10-01T16:39:12.920835Z",
     "start_time": "2018-10-01T16:39:12.902235Z"
    }
   },
   "outputs": [
    {
     "name": "stdout",
     "output_type": "stream",
     "text": [
      "N     =  511608\n",
      "V     =  32010\n"
     ]
    }
   ],
   "source": [
    "N=count_features.shape[0]\n",
    "V=count_features.shape[1] # Vocabulary size\n",
    "print(\"N     = \",N)\n",
    "print(\"V     = \",V)"
   ]
  },
  {
   "cell_type": "markdown",
   "metadata": {},
   "source": [
    "<div class=\"alert alert-block alert-info\"> Problem 3.8 </div>\n",
    "We will perform binary classification, create `Y` and `Y_test` variables that are true if the review score is larger than 3\n",
    "and false otherwise"
   ]
  },
  {
   "cell_type": "code",
   "execution_count": 45,
   "metadata": {
    "ExecuteTime": {
     "end_time": "2018-10-01T16:39:12.931835Z",
     "start_time": "2018-10-01T16:39:12.920835Z"
    }
   },
   "outputs": [],
   "source": [
    "Y=labels>3\n",
    "Y_test=labels_test>3"
   ]
  },
  {
   "cell_type": "markdown",
   "metadata": {},
   "source": [
    "<div class=\"alert alert-block alert-info\"> Problem 3.9 </div>\n",
    "What proportion of reviews are positive on the training set?"
   ]
  },
  {
   "cell_type": "code",
   "execution_count": 46,
   "metadata": {
    "ExecuteTime": {
     "end_time": "2018-10-01T16:39:12.956835Z",
     "start_time": "2018-10-01T16:39:12.933835Z"
    }
   },
   "outputs": [
    {
     "data": {
      "text/plain": [
       "0.7806367375021501"
      ]
     },
     "execution_count": 46,
     "metadata": {},
     "output_type": "execute_result"
    }
   ],
   "source": [
    "np.mean(Y)"
   ]
  },
  {
   "cell_type": "markdown",
   "metadata": {
    "ExecuteTime": {
     "end_time": "2018-02-15T10:50:49.844753Z",
     "start_time": "2018-02-15T10:50:49.829126Z"
    }
   },
   "source": [
    "<div class=\"alert alert-block alert-info\"> Problem 3.10 </div>\n",
    "To check that you have all your inputs set up correctly check that you\n",
    "can fit a `MultinomialNB` with smoothing $\\alpha=1$ to the count features.\n",
    "What prediction accuracy do you obtain *in sample* in the training set?"
   ]
  },
  {
   "cell_type": "code",
   "execution_count": 47,
   "metadata": {
    "ExecuteTime": {
     "end_time": "2018-10-01T16:39:12.976835Z",
     "start_time": "2018-10-01T16:39:12.962835Z"
    }
   },
   "outputs": [],
   "source": [
    "alpha=1"
   ]
  },
  {
   "cell_type": "code",
   "execution_count": 48,
   "metadata": {
    "ExecuteTime": {
     "end_time": "2018-10-01T16:39:13.156835Z",
     "start_time": "2018-10-01T16:39:12.980835Z"
    }
   },
   "outputs": [
    {
     "data": {
      "text/plain": [
       "0.8856605056996764"
      ]
     },
     "execution_count": 48,
     "metadata": {},
     "output_type": "execute_result"
    }
   ],
   "source": [
    "model=MultinomialNB(alpha)\n",
    "model.fit(count_features,Y)\n",
    "np.mean(model.predict(count_features)==Y)"
   ]
  },
  {
   "cell_type": "markdown",
   "metadata": {
    "ExecuteTime": {
     "end_time": "2018-02-15T10:53:10.490848Z",
     "start_time": "2018-02-15T10:53:10.475228Z"
    }
   },
   "source": [
    "<div class=\"alert alert-block alert-info\"> Problem 3.11 </div>\n",
    "Use K-Fold validation with K=10 to selected the best model between `set`, `count` and `tfidf` features using accuracy as the selection metric.\n",
    "\n",
    "State clearly what model has the best accuracy.\n",
    "\n",
    "[HINT] \n",
    "1. Look and how this is done on the `Validate_Text` notebook.\n",
    "2. You can resue any code you find useful on the `Validate_Text` notebook."
   ]
  },
  {
   "cell_type": "code",
   "execution_count": 49,
   "metadata": {
    "ExecuteTime": {
     "end_time": "2018-10-01T16:39:13.165835Z",
     "start_time": "2018-10-01T16:39:13.158835Z"
    }
   },
   "outputs": [],
   "source": [
    "K=10"
   ]
  },
  {
   "cell_type": "code",
   "execution_count": 50,
   "metadata": {
    "ExecuteTime": {
     "end_time": "2018-10-01T16:39:13.184835Z",
     "start_time": "2018-10-01T16:39:13.170835Z"
    }
   },
   "outputs": [],
   "source": [
    "  def model_cross_validation(model,X,y,folds):\n",
    "    kfolds=len(folds)\n",
    "    train_performance=np.empty(kfolds)\n",
    "    validation_performance=np.empty(kfolds)\n",
    "    for idx in range(kfolds):\n",
    "        train,validation=folds[idx]\n",
    "        X_train=X[train]\n",
    "        y_train=y[train]\n",
    "        model.fit(X_train,y_train)\n",
    "        train_accuracy=np.average(model.predict(X_train)==y_train)\n",
    "        X_validation=X[validation]\n",
    "        y_validation=y[validation]\n",
    "        validation_accuracy=np.average(model.predict(X_validation)==y_validation)\n",
    "        train_performance[idx]=train_accuracy\n",
    "        validation_performance[idx]=validation_accuracy\n",
    "    return np.array(train_performance),np.array(validation_performance)"
   ]
  },
  {
   "cell_type": "code",
   "execution_count": 51,
   "metadata": {
    "ExecuteTime": {
     "end_time": "2018-10-01T16:39:13.261835Z",
     "start_time": "2018-10-01T16:39:13.186835Z"
    }
   },
   "outputs": [],
   "source": [
    "kf=KFold(10,shuffle=True)\n",
    "folds=list(kf.split(set_features))"
   ]
  },
  {
   "cell_type": "code",
   "execution_count": 52,
   "metadata": {
    "ExecuteTime": {
     "end_time": "2018-10-01T16:39:15.074635Z",
     "start_time": "2018-10-01T16:39:13.263835Z"
    }
   },
   "outputs": [
    {
     "name": "stdout",
     "output_type": "stream",
     "text": [
      "0.8859732451489319 0.8772810421374558\n"
     ]
    }
   ],
   "source": [
    "t,v_count=model_cross_validation(model,count_features,Y,folds)\n",
    "print(t.mean(),v_count.mean())"
   ]
  },
  {
   "cell_type": "code",
   "execution_count": 53,
   "metadata": {
    "ExecuteTime": {
     "end_time": "2018-10-01T16:39:16.764235Z",
     "start_time": "2018-10-01T16:39:15.076635Z"
    }
   },
   "outputs": [
    {
     "name": "stdout",
     "output_type": "stream",
     "text": [
      "0.8779084767890643 0.8698261219288742\n"
     ]
    }
   ],
   "source": [
    "t,v_tfidf=model_cross_validation(model,tfidf_features,Y,folds)\n",
    "print(t.mean(),v_tfidf.mean())"
   ]
  },
  {
   "cell_type": "code",
   "execution_count": 54,
   "metadata": {
    "ExecuteTime": {
     "end_time": "2018-10-01T16:39:18.452835Z",
     "start_time": "2018-10-01T16:39:16.766235Z"
    }
   },
   "outputs": [
    {
     "name": "stdout",
     "output_type": "stream",
     "text": [
      "0.8860505613197704 0.8773005876266156\n"
     ]
    }
   ],
   "source": [
    "t,v_set=model_cross_validation(model,set_features,Y,folds)\n",
    "print(t.mean(),v_set.mean())"
   ]
  },
  {
   "cell_type": "code",
   "execution_count": 55,
   "metadata": {
    "ExecuteTime": {
     "end_time": "2018-10-01T16:39:18.456835Z",
     "start_time": "2018-10-01T16:39:18.453835Z"
    }
   },
   "outputs": [],
   "source": [
    "# Set and Count features are essentially tied  (87.71% vs 87.70%), tifdif does a bit worse (87.0%)"
   ]
  },
  {
   "cell_type": "markdown",
   "metadata": {},
   "source": [
    "<div class=\"alert alert-block alert-info\"> Problem 3.12 </div>\n",
    "Fit the best model to all the training data and compute its accuray on the test set"
   ]
  },
  {
   "cell_type": "code",
   "execution_count": 56,
   "metadata": {
    "ExecuteTime": {
     "end_time": "2018-10-01T16:39:18.588835Z",
     "start_time": "2018-10-01T16:39:18.458835Z"
    }
   },
   "outputs": [
    {
     "data": {
      "text/plain": [
       "0.8791647609330472"
      ]
     },
     "execution_count": 56,
     "metadata": {},
     "output_type": "execute_result"
    }
   ],
   "source": [
    "model.fit(set_features,Y)\n",
    "Y_pred=model.predict(set_test_features)\n",
    "set_accuracy=np.mean(Y_pred==Y_test)\n",
    "set_accuracy"
   ]
  },
  {
   "cell_type": "markdown",
   "metadata": {
    "ExecuteTime": {
     "end_time": "2018-02-15T11:15:19.054261Z",
     "start_time": "2018-02-15T11:15:19.038637Z"
    }
   },
   "source": [
    "<div class=\"alert alert-block alert-info\"> Problem 3.13</div>\n",
    "Make a box plot showing the distribution of `set`, `count` and `tfidf` accuracies on the K fold cross-validations.\n",
    "\n",
    "Display clearly in the graph the performance of the best model on the test set.\n"
   ]
  },
  {
   "cell_type": "code",
   "execution_count": 57,
   "metadata": {
    "ExecuteTime": {
     "end_time": "2018-10-01T16:39:18.611435Z",
     "start_time": "2018-10-01T16:39:18.590835Z"
    }
   },
   "outputs": [],
   "source": [
    "# we save in a panda's data frame to make a pretty graph later\n",
    "datav=np.vstack((v_count,v_tfidf,v_set)).T\n",
    "data=pd.DataFrame(datav,columns=[\"Count\",\"TfIdf\",\"Set\"])"
   ]
  },
  {
   "cell_type": "code",
   "execution_count": 58,
   "metadata": {
    "ExecuteTime": {
     "end_time": "2018-10-01T16:39:18.792035Z",
     "start_time": "2018-10-01T16:39:18.612435Z"
    }
   },
   "outputs": [
    {
     "data": {
      "text/plain": [
       "<matplotlib.lines.Line2D at 0x7fba6dd7b198>"
      ]
     },
     "execution_count": 58,
     "metadata": {},
     "output_type": "execute_result"
    },
    {
     "data": {
      "image/png": "[encoded data removed]",
      "text/plain": [
       "<matplotlib.figure.Figure at 0x7fba6dd7b2e8>"
      ]
     },
     "metadata": {},
     "output_type": "display_data"
    }
   ],
   "source": [
    "ax=data.boxplot()\n",
    "ax.axhline(y=set_accuracy,linestyle=\"dashed\",color=\"k\")"
   ]
  },
  {
   "cell_type": "markdown",
   "metadata": {},
   "source": [
    "<div class=\"alert alert-block alert-info\"> Problem 3.14</div>\n",
    "Comment\n",
    "1. Why do the `test` and `count` results look so similar in this case>\n",
    "2. Comment on the difference between cross-validation average performace and test performance"
   ]
  },
  {
   "cell_type": "code",
   "execution_count": 59,
   "metadata": {
    "ExecuteTime": {
     "end_time": "2018-10-01T16:39:18.798035Z",
     "start_time": "2018-10-01T16:39:18.794035Z"
    }
   },
   "outputs": [],
   "source": [
    "#1.  We are training a model on very short summary texts, so that chances that a word repeats itself are very low.\n",
    "#    Therefore, `set` and `count` feature vectors are nearly identical.\n",
    "\n",
    "#2. Test performance is a bit better than cross-validation performance because we train the model on 10% more data.\n",
    "#   This indicates the model has enough parameters and could still benefit from still more training data."
   ]
  },
  {
   "cell_type": "markdown",
   "metadata": {},
   "source": [
    "<div class=\"alert alert-block alert-info\"> Problem 4.0 </div>\n",
    "use the `set` features fit to the full training set.\n",
    "\n",
    "use `sklearn` `model.predict_prob` function to compute the probabilities of the possitive class.\n",
    "\n",
    "[HINT] `model.predict_prob` return probabilities for both the negative and positive class, we only want to get the posive class"
   ]
  },
  {
   "cell_type": "code",
   "execution_count": 60,
   "metadata": {
    "ExecuteTime": {
     "end_time": "2018-10-01T16:39:18.911235Z",
     "start_time": "2018-10-01T16:39:18.801035Z"
    }
   },
   "outputs": [],
   "source": [
    "model.fit(set_features,Y)\n",
    "set_prob=model.predict_proba(set_test_features)[:,1]"
   ]
  },
  {
   "cell_type": "markdown",
   "metadata": {},
   "source": [
    "<div class=\"alert alert-block alert-info\"> Problem 4.1 </div>\n",
    "use `sklearn` `metrics.roc_curve` to create a roc_curve for the `set` features classifier\n",
    "\n",
    "Create a graph with the ROC curve."
   ]
  },
  {
   "cell_type": "code",
   "execution_count": 61,
   "metadata": {
    "ExecuteTime": {
     "end_time": "2018-10-01T16:39:18.927235Z",
     "start_time": "2018-10-01T16:39:18.913235Z"
    }
   },
   "outputs": [],
   "source": [
    "set_fpr,set_tpr,set_threshold=metrics.roc_curve(Y_test,set_prob)"
   ]
  },
  {
   "cell_type": "code",
   "execution_count": 62,
   "metadata": {
    "ExecuteTime": {
     "end_time": "2018-10-01T16:39:19.081435Z",
     "start_time": "2018-10-01T16:39:18.929235Z"
    }
   },
   "outputs": [
    {
     "data": {
      "text/plain": [
       "Text(0,0.5,'True Positive Rate')"
      ]
     },
     "execution_count": 62,
     "metadata": {},
     "output_type": "execute_result"
    },
    {
     "data": {
      "image/png": "[encoded data removed]",
      "text/plain": [
       "<matplotlib.figure.Figure at 0x7fba6dbb7a20>"
      ]
     },
     "metadata": {},
     "output_type": "display_data"
    }
   ],
   "source": [
    "plt.plot(set_fpr,set_tpr)\n",
    "plt.xlabel(\"False Positive Rate\")\n",
    "plt.ylabel(\"True Positive Rate\")"
   ]
  },
  {
   "cell_type": "markdown",
   "metadata": {
    "ExecuteTime": {
     "end_time": "2018-02-15T11:35:23.183871Z",
     "start_time": "2018-02-15T11:35:23.152590Z"
    }
   },
   "source": [
    "<div class=\"alert alert-block alert-info\"> Problem 4.2 </div>\n",
    "1. Find the point on the ROC curve with a threshold probability closest to 0.5.\n",
    "2. Show its rate of false positives and false negatives.\n",
    "3. Show its accuracy and compare to the `set` classifier accuracy that you computed before"
   ]
  },
  {
   "cell_type": "code",
   "execution_count": 63,
   "metadata": {
    "ExecuteTime": {
     "end_time": "2018-10-01T16:39:19.090435Z",
     "start_time": "2018-10-01T16:39:19.084435Z"
    }
   },
   "outputs": [
    {
     "name": "stdout",
     "output_type": "stream",
     "text": [
      "11414 0.4999348767199922\n",
      "0.33095027713069325 0.9380588778521072\n",
      "Accuracy 0.8791471695457904\n",
      "set classifier accuracy 0.8791647609330472\n"
     ]
    }
   ],
   "source": [
    "set_ht=np.argmin((set_threshold-0.5)**2)\n",
    "print(set_ht,set_threshold[set_ht])\n",
    "print(set_fpr[set_ht],set_tpr[set_ht])\n",
    "print(\"Accuracy\",(1-set_fpr[set_ht])*np.mean(Y_test==0)+set_tpr[set_ht]*np.mean(Y_test==1))\n",
    "print(\"set classifier accuracy\",set_accuracy)"
   ]
  },
  {
   "cell_type": "code",
   "execution_count": 64,
   "metadata": {
    "ExecuteTime": {
     "end_time": "2018-10-01T16:39:19.115435Z",
     "start_time": "2018-10-01T16:39:19.092435Z"
    }
   },
   "outputs": [],
   "source": [
    "# Accuracies are very close (the threshold on the ROC curve is not exactly 0.5)"
   ]
  },
  {
   "cell_type": "markdown",
   "metadata": {
    "ExecuteTime": {
     "end_time": "2018-02-15T11:39:45.896421Z",
     "start_time": "2018-02-15T11:39:45.865167Z"
    }
   },
   "source": [
    "<div class=\"alert alert-block alert-info\"> Problem 4.3 </div>\n",
    "Redraw the ROC curve, highlighting the point of the curve that correspont to optimal accuracy."
   ]
  },
  {
   "cell_type": "code",
   "execution_count": 65,
   "metadata": {
    "ExecuteTime": {
     "end_time": "2018-10-01T16:39:19.259535Z",
     "start_time": "2018-10-01T16:39:19.115435Z"
    }
   },
   "outputs": [
    {
     "data": {
      "text/plain": [
       "Text(0,0.5,'True Positive Rate')"
      ]
     },
     "execution_count": 65,
     "metadata": {},
     "output_type": "execute_result"
    },
    {
     "data": {
      "image/png": "[encoded data removed]",
      "text/plain": [
       "<matplotlib.figure.Figure at 0x7fba6dd7b048>"
      ]
     },
     "metadata": {},
     "output_type": "display_data"
    }
   ],
   "source": [
    "color=\"RED\"\n",
    "plt.plot(set_fpr,set_tpr,label=\"set\",color=color)\n",
    "plt.plot([set_fpr[set_ht]], [set_tpr[set_ht]], marker='D', markersize=10, color=color)\n",
    "plt.xlabel(\"False Positive Rate\")\n",
    "plt.ylabel(\"True Positive Rate\")"
   ]
  },
  {
   "cell_type": "code",
   "execution_count": null,
   "metadata": {},
   "outputs": [],
   "source": []
  }
 ],
 "metadata": {
  "kernelspec": {
   "display_name": "Python 3",
   "language": "python",
   "name": "python3"
  },
  "language_info": {
   "codemirror_mode": {
    "name": "ipython",
    "version": 3
   },
   "file_extension": ".py",
   "mimetype": "text/x-python",
   "name": "python",
   "nbconvert_exporter": "python",
   "pygments_lexer": "ipython3",
   "version": "3.6.4"
  },
  "toc": {
   "base_numbering": 1,
   "nav_menu": {},
   "number_sections": true,
   "sideBar": true,
   "skip_h1_title": true,
   "title_cell": "Table of Contents",
   "title_sidebar": "Contents",
   "toc_cell": false,
   "toc_position": {},
   "toc_section_display": "block",
   "toc_window_display": false
  }
 },
 "nbformat": 4,
 "nbformat_minor": 2
}

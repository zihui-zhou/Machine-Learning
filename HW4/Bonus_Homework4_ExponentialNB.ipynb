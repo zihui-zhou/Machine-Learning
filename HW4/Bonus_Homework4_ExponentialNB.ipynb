{
 "cells": [
  {
   "cell_type": "markdown",
   "metadata": {},
   "source": [
    "# Bonus Homework 4"
   ]
  },
  {
   "cell_type": "markdown",
   "metadata": {},
   "source": [
    "In this homework we will write a Naive Bayes classifier under the assumption that features  are Exponential distributed doubles. \n",
    "\n",
    "You will need to use the results that you derived on problem 2 of the written homework"
   ]
  },
  {
   "cell_type": "markdown",
   "metadata": {
    "ExecuteTime": {
     "end_time": "2018-02-13T10:45:10.755945Z",
     "start_time": "2018-02-13T10:45:10.740693Z"
    }
   },
   "source": [
    "### Imports"
   ]
  },
  {
   "cell_type": "code",
   "execution_count": 1,
   "metadata": {
    "ExecuteTime": {
     "end_time": "2018-02-18T15:28:31.235200Z",
     "start_time": "2018-02-18T15:28:30.594857Z"
    }
   },
   "outputs": [],
   "source": [
    "import numpy as np"
   ]
  },
  {
   "cell_type": "markdown",
   "metadata": {},
   "source": [
    "### Random Seed"
   ]
  },
  {
   "cell_type": "code",
   "execution_count": 2,
   "metadata": {
    "ExecuteTime": {
     "end_time": "2018-02-18T15:28:31.944605Z",
     "start_time": "2018-02-18T15:28:31.939591Z"
    }
   },
   "outputs": [],
   "source": [
    "seed=48593\n",
    "np.random.seed(seed)"
   ]
  },
  {
   "cell_type": "markdown",
   "metadata": {},
   "source": [
    "### Helper functions"
   ]
  },
  {
   "cell_type": "code",
   "execution_count": 3,
   "metadata": {
    "ExecuteTime": {
     "end_time": "2018-02-18T15:28:33.301372Z",
     "start_time": "2018-02-18T15:28:33.270124Z"
    }
   },
   "outputs": [],
   "source": [
    "def exponential_mixture(N,pi,intensities):\n",
    "        D,K=intensities.shape\n",
    "        Z=np.random.multinomial(1,pi,N)\n",
    "        obs=np.random.exponential(1/intensities.ravel(),(N,D*K))\n",
    "        obs=obs.reshape(N,D,K)\n",
    "        X=np.sum(Z[:,np.newaxis,:]*obs,axis=2)\n",
    "        X.shape\n",
    "        Y=Z.argmax(axis=1)\n",
    "        return X,Y"
   ]
  },
  {
   "cell_type": "code",
   "execution_count": 4,
   "metadata": {
    "ExecuteTime": {
     "end_time": "2018-02-18T15:28:34.060487Z",
     "start_time": "2018-02-18T15:28:34.045160Z"
    }
   },
   "outputs": [],
   "source": [
    "def one_hot_encode(Y):\n",
    "    K=np.max(Y)+1\n",
    "    N=len(Y)\n",
    "    Z=np.zeros((N,K))\n",
    "    Z[np.arange(N),Y]=1\n",
    "    return Z"
   ]
  },
  {
   "cell_type": "markdown",
   "metadata": {
    "ExecuteTime": {
     "end_time": "2018-02-13T10:45:36.097590Z",
     "start_time": "2018-02-13T10:45:36.081972Z"
    }
   },
   "source": [
    "## Problem"
   ]
  },
  {
   "cell_type": "markdown",
   "metadata": {},
   "source": [
    "<div class=\"alert alert-block alert-success\"> Problem 0.0 </div>\n",
    "We generate samples for  Exponential Mixture Model"
   ]
  },
  {
   "cell_type": "code",
   "execution_count": 5,
   "metadata": {
    "ExecuteTime": {
     "end_time": "2018-02-18T15:28:36.034931Z",
     "start_time": "2018-02-18T15:28:36.004261Z"
    }
   },
   "outputs": [],
   "source": [
    "N=20"
   ]
  },
  {
   "cell_type": "code",
   "execution_count": 6,
   "metadata": {
    "ExecuteTime": {
     "end_time": "2018-02-18T15:28:36.730303Z",
     "start_time": "2018-02-18T15:28:36.699205Z"
    }
   },
   "outputs": [],
   "source": [
    "pi0=np.array([0.25,0.5,0.25])\n"
   ]
  },
  {
   "cell_type": "code",
   "execution_count": 7,
   "metadata": {
    "ExecuteTime": {
     "end_time": "2018-02-18T15:30:01.253180Z",
     "start_time": "2018-02-18T15:30:01.221929Z"
    }
   },
   "outputs": [
    {
     "data": {
      "text/plain": [
       "((5, 3), dtype('float64'))"
      ]
     },
     "execution_count": 7,
     "metadata": {},
     "output_type": "execute_result"
    }
   ],
   "source": [
    "# lambda is a reserved word in python\n",
    "intensities0=np.array([\n",
    "                        [0.25,1,4],\n",
    "                        [0.5,1,2],\n",
    "                        [1,1,1],\n",
    "                        [2,1,0.5],\n",
    "                        [4,1,0.25]\n",
    "    ])\n",
    "intensities0.shape,intensities0.dtype"
   ]
  },
  {
   "cell_type": "code",
   "execution_count": 8,
   "metadata": {
    "ExecuteTime": {
     "end_time": "2018-02-18T15:30:01.949841Z",
     "start_time": "2018-02-18T15:30:01.942823Z"
    }
   },
   "outputs": [
    {
     "data": {
      "text/plain": [
       "array([[0.25, 1.  , 4.  ],\n",
       "       [0.5 , 1.  , 2.  ],\n",
       "       [1.  , 1.  , 1.  ],\n",
       "       [2.  , 1.  , 0.5 ],\n",
       "       [4.  , 1.  , 0.25]])"
      ]
     },
     "execution_count": 8,
     "metadata": {},
     "output_type": "execute_result"
    }
   ],
   "source": [
    "intensities0"
   ]
  },
  {
   "cell_type": "code",
   "execution_count": 9,
   "metadata": {
    "ExecuteTime": {
     "end_time": "2018-02-18T15:30:06.409797Z",
     "start_time": "2018-02-18T15:30:06.378662Z"
    }
   },
   "outputs": [
    {
     "data": {
      "text/plain": [
       "((20, 5), (20,))"
      ]
     },
     "execution_count": 9,
     "metadata": {},
     "output_type": "execute_result"
    }
   ],
   "source": [
    "X,Y=exponential_mixture(N,pi0,intensities0)\n",
    "X_test,Y_test=exponential_mixture(N,pi0,intensities0)\n",
    "X.shape,Y.shape"
   ]
  },
  {
   "cell_type": "markdown",
   "metadata": {
    "ExecuteTime": {
     "end_time": "2018-02-13T10:47:24.478383Z",
     "start_time": "2018-02-13T10:47:24.463183Z"
    }
   },
   "source": [
    "## Problems"
   ]
  },
  {
   "cell_type": "markdown",
   "metadata": {
    "ExecuteTime": {
     "end_time": "2018-02-13T10:52:30.820639Z",
     "start_time": "2018-02-13T10:52:30.805010Z"
    }
   },
   "source": [
    "<div class=\"alert alert-block alert-info\"> Problem 1.0 </div>\n",
    "How may classes $K$ can the labels $Y$ take?\n",
    "How may dimension $D$ has the feature vector X?"
   ]
  },
  {
   "cell_type": "code",
   "execution_count": null,
   "metadata": {
    "ExecuteTime": {
     "end_time": "2018-02-13T11:35:20.203222Z",
     "start_time": "2018-02-13T11:35:20.180354Z"
    }
   },
   "outputs": [],
   "source": []
  },
  {
   "cell_type": "markdown",
   "metadata": {
    "ExecuteTime": {
     "end_time": "2018-02-13T10:46:52.720020Z",
     "start_time": "2018-02-13T10:46:52.694810Z"
    }
   },
   "source": [
    "<div class=\"alert alert-block alert-info\"> Problem 1.1 </div>\n",
    "Estimate, based on the sample data, the marginal probabilites of the possible Y values $p(y=k)$"
   ]
  },
  {
   "cell_type": "code",
   "execution_count": null,
   "metadata": {
    "ExecuteTime": {
     "end_time": "2018-02-13T11:35:20.223222Z",
     "start_time": "2018-02-13T11:35:20.207223Z"
    }
   },
   "outputs": [],
   "source": []
  },
  {
   "cell_type": "markdown",
   "metadata": {
    "ExecuteTime": {
     "end_time": "2018-02-13T10:54:50.932422Z",
     "start_time": "2018-02-13T10:54:50.916802Z"
    }
   },
   "source": [
    "<div class=\"alert alert-block alert-info\"> Problem 1.2 </div>\n",
    "Estimate the Exponential parameters  $\\hat{\\lambda}_{d,k}$ for the distribution of $x_d$ conditional on $y=k$"
   ]
  },
  {
   "cell_type": "code",
   "execution_count": null,
   "metadata": {
    "ExecuteTime": {
     "end_time": "2018-02-16T10:48:34.097493Z",
     "start_time": "2018-02-16T10:48:34.087466Z"
    }
   },
   "outputs": [],
   "source": []
  },
  {
   "cell_type": "markdown",
   "metadata": {
    "ExecuteTime": {
     "end_time": "2018-02-13T11:04:04.767348Z",
     "start_time": "2018-02-13T11:04:04.751763Z"
    }
   },
   "source": [
    "<div class=\"alert alert-block alert-info\"> Problem 1.3 </div>\n",
    "As you showed on the written homework\n",
    "$$\n",
    "    p(y=k|X)=\\frac{ e^{\\sum_d X_{i,d} W_{d,k} + b_k}}{\\sum_{k'} e^{\\sum_d X_{i,d}W_{d,k'}+b_{k'}}}\n",
    "$$\n",
    "Compute $W$ and $b$"
   ]
  },
  {
   "cell_type": "code",
   "execution_count": null,
   "metadata": {
    "ExecuteTime": {
     "end_time": "2018-02-16T10:48:46.312937Z",
     "start_time": "2018-02-16T10:48:46.306924Z"
    }
   },
   "outputs": [],
   "source": []
  },
  {
   "cell_type": "code",
   "execution_count": null,
   "metadata": {
    "ExecuteTime": {
     "end_time": "2018-02-16T10:48:51.023399Z",
     "start_time": "2018-02-16T10:48:51.016382Z"
    }
   },
   "outputs": [],
   "source": []
  },
  {
   "cell_type": "markdown",
   "metadata": {
    "ExecuteTime": {
     "end_time": "2018-02-13T11:06:49.039766Z",
     "start_time": "2018-02-13T11:06:49.024147Z"
    }
   },
   "source": [
    "<div class=\"alert alert-block alert-info\"> Problem 1.4 </div>\n",
    "Find the predicted class  $\\hat{Y}$ given the parameters $W$ and $b$ for the training data $X$\n"
   ]
  },
  {
   "cell_type": "code",
   "execution_count": null,
   "metadata": {
    "ExecuteTime": {
     "end_time": "2018-02-16T10:48:56.567149Z",
     "start_time": "2018-02-16T10:48:56.564139Z"
    }
   },
   "outputs": [],
   "source": []
  },
  {
   "cell_type": "markdown",
   "metadata": {
    "ExecuteTime": {
     "end_time": "2018-02-13T11:09:08.051969Z",
     "start_time": "2018-02-13T11:09:08.020972Z"
    }
   },
   "source": [
    "<div class=\"alert alert-block alert-info\"> Problem 1.5 </div>\n",
    "Compute the average in sample accuracy"
   ]
  },
  {
   "cell_type": "code",
   "execution_count": null,
   "metadata": {
    "ExecuteTime": {
     "end_time": "2018-02-16T10:49:22.850507Z",
     "start_time": "2018-02-16T10:49:22.842486Z"
    }
   },
   "outputs": [],
   "source": []
  },
  {
   "cell_type": "markdown",
   "metadata": {
    "ExecuteTime": {
     "end_time": "2018-02-13T11:10:12.862213Z",
     "start_time": "2018-02-13T11:10:12.846587Z"
    }
   },
   "source": [
    "<div class=\"alert alert-block alert-info\"> Problem 1.6 </div>\n",
    "Compute the accuracy of the fitted model on the test data `X_test`, `Y_test`"
   ]
  },
  {
   "cell_type": "code",
   "execution_count": null,
   "metadata": {
    "ExecuteTime": {
     "end_time": "2018-02-16T10:49:29.196606Z",
     "start_time": "2018-02-16T10:49:29.192595Z"
    }
   },
   "outputs": [],
   "source": []
  },
  {
   "cell_type": "markdown",
   "metadata": {},
   "source": [
    "<div class=\"alert alert-block alert-info\"> Problem 2.1 </div>\n",
    "Create a classifier class by filling in the `fit` and `predict` methods on the class below"
   ]
  },
  {
   "cell_type": "code",
   "execution_count": 10,
   "metadata": {
    "ExecuteTime": {
     "end_time": "2018-02-16T10:53:24.611815Z",
     "start_time": "2018-02-16T10:53:24.597778Z"
    }
   },
   "outputs": [],
   "source": [
    "class ExponentialNB:\n",
    "    def __init__(self):\n",
    "        pass\n",
    "    def fit(self,X,Y):\n",
    "        pass\n",
    "    def predict(self,X):\n",
    "        pass"
   ]
  },
  {
   "cell_type": "markdown",
   "metadata": {
    "ExecuteTime": {
     "end_time": "2018-02-13T11:28:27.270292Z",
     "start_time": "2018-02-13T11:28:27.254665Z"
    }
   },
   "source": [
    "<div class=\"alert alert-block alert-info\"> Problem 2.2 </div>\n",
    "Fit model to the training data `X1`, `Y1` below, \n",
    "compute the model accuracy on the training set"
   ]
  },
  {
   "cell_type": "code",
   "execution_count": 11,
   "metadata": {},
   "outputs": [],
   "source": [
    "# lambda is a reserved word in python\n",
    "pi1=[0.4,0.1,0.1,0.4]\n",
    "intensities1=np.array([\n",
    "                        [1000., 0.001,   1 ,0.001],\n",
    "                        [0.001 ,0.001,    1,1000],             \n",
    "    ])"
   ]
  },
  {
   "cell_type": "code",
   "execution_count": 12,
   "metadata": {},
   "outputs": [
    {
     "data": {
      "text/plain": [
       "((100000, 2), (100000,))"
      ]
     },
     "execution_count": 12,
     "metadata": {},
     "output_type": "execute_result"
    }
   ],
   "source": [
    "X1,Y1=exponential_mixture(100000,pi1,intensities1)\n",
    "X1_test,Y1_test=exponential_mixture(100000,pi1,intensities1)\n",
    "X1.shape,Y1.shape"
   ]
  },
  {
   "cell_type": "code",
   "execution_count": null,
   "metadata": {
    "ExecuteTime": {
     "end_time": "2018-02-13T11:35:20.391789Z",
     "start_time": "2018-02-13T11:35:20.375790Z"
    }
   },
   "outputs": [],
   "source": []
  },
  {
   "cell_type": "markdown",
   "metadata": {
    "ExecuteTime": {
     "end_time": "2018-02-13T11:29:40.248734Z",
     "start_time": "2018-02-13T11:29:40.233109Z"
    }
   },
   "source": [
    "<div class=\"alert alert-block alert-info\"> Problem 2.3 </div>\n",
    "Compute the model accuracy of the model  on the test data `X1_test`,`Y1_test`"
   ]
  },
  {
   "cell_type": "code",
   "execution_count": null,
   "metadata": {
    "ExecuteTime": {
     "end_time": "2018-02-16T10:50:44.605548Z",
     "start_time": "2018-02-16T10:50:44.598529Z"
    }
   },
   "outputs": [],
   "source": []
  }
 ],
 "metadata": {
  "kernelspec": {
   "display_name": "Python 3",
   "language": "python",
   "name": "python3"
  },
  "language_info": {
   "codemirror_mode": {
    "name": "ipython",
    "version": 3
   },
   "file_extension": ".py",
   "mimetype": "text/x-python",
   "name": "python",
   "nbconvert_exporter": "python",
   "pygments_lexer": "ipython3",
   "version": "3.6.5"
  },
  "toc": {
   "nav_menu": {},
   "number_sections": true,
   "sideBar": true,
   "skip_h1_title": true,
   "toc_cell": false,
   "toc_position": {},
   "toc_section_display": "block",
   "toc_window_display": false
  }
 },
 "nbformat": 4,
 "nbformat_minor": 2
}

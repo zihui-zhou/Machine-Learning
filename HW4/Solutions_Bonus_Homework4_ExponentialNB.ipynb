{
 "cells": [
  {
   "cell_type": "markdown",
   "metadata": {},
   "source": [
    "# Bonus Homework 4"
   ]
  },
  {
   "cell_type": "markdown",
   "metadata": {},
   "source": [
    "In this homework we will write a Naive Bayes classifier under the assumption that features  are Exponentially distributed real numbers. \n",
    "\n",
    "You will need to use the results that you derived on problem 2 of the written homework"
   ]
  },
  {
   "cell_type": "markdown",
   "metadata": {
    "ExecuteTime": {
     "end_time": "2018-02-13T10:45:10.755945Z",
     "start_time": "2018-02-13T10:45:10.740693Z"
    }
   },
   "source": [
    "### Imports"
   ]
  },
  {
   "cell_type": "code",
   "execution_count": 1,
   "metadata": {
    "ExecuteTime": {
     "end_time": "2018-02-18T16:29:38.063310Z",
     "start_time": "2018-02-18T16:29:37.969506Z"
    }
   },
   "outputs": [],
   "source": [
    "import numpy as np"
   ]
  },
  {
   "cell_type": "markdown",
   "metadata": {},
   "source": [
    "### Random Seed"
   ]
  },
  {
   "cell_type": "code",
   "execution_count": 2,
   "metadata": {
    "ExecuteTime": {
     "end_time": "2018-02-18T16:29:38.078933Z",
     "start_time": "2018-02-18T16:29:38.063310Z"
    }
   },
   "outputs": [],
   "source": [
    "seed=48593\n",
    "np.random.seed(seed)"
   ]
  },
  {
   "cell_type": "markdown",
   "metadata": {},
   "source": [
    "### Helper functions"
   ]
  },
  {
   "cell_type": "code",
   "execution_count": 3,
   "metadata": {
    "ExecuteTime": {
     "end_time": "2018-02-18T16:29:38.094520Z",
     "start_time": "2018-02-18T16:29:38.078933Z"
    }
   },
   "outputs": [],
   "source": [
    "def exponential_mixture(N,pi,intensities):\n",
    "        D,K=intensities.shape\n",
    "        Z=np.random.multinomial(1,pi,N)\n",
    "        obs=np.random.exponential(1/intensities.ravel(),(N,D*K))\n",
    "        obs=obs.reshape(N,D,K)\n",
    "        X=np.sum(Z[:,np.newaxis,:]*obs,axis=2)\n",
    "        X.shape\n",
    "        Y=Z.argmax(axis=1)\n",
    "        return X,Y"
   ]
  },
  {
   "cell_type": "code",
   "execution_count": 4,
   "metadata": {
    "ExecuteTime": {
     "end_time": "2018-02-18T16:29:38.110147Z",
     "start_time": "2018-02-18T16:29:38.094520Z"
    }
   },
   "outputs": [],
   "source": [
    "def one_hot_encode(Y):\n",
    "    K=np.max(Y)+1\n",
    "    N=len(Y)\n",
    "    Z=np.zeros((N,K))\n",
    "    Z[np.arange(N),Y]=1\n",
    "    return Z"
   ]
  },
  {
   "cell_type": "markdown",
   "metadata": {
    "ExecuteTime": {
     "end_time": "2018-02-13T10:45:36.097590Z",
     "start_time": "2018-02-13T10:45:36.081972Z"
    }
   },
   "source": [
    "## Problem"
   ]
  },
  {
   "cell_type": "markdown",
   "metadata": {},
   "source": [
    "<div class=\"alert alert-block alert-success\"> Problem 0.0 </div>\n",
    "We generate samples for  Exponential Mixture Model"
   ]
  },
  {
   "cell_type": "code",
   "execution_count": 5,
   "metadata": {
    "ExecuteTime": {
     "end_time": "2018-02-18T16:29:38.125810Z",
     "start_time": "2018-02-18T16:29:38.110147Z"
    }
   },
   "outputs": [],
   "source": [
    "N=2000"
   ]
  },
  {
   "cell_type": "code",
   "execution_count": 6,
   "metadata": {
    "ExecuteTime": {
     "end_time": "2018-02-18T16:29:38.141459Z",
     "start_time": "2018-02-18T16:29:38.125810Z"
    }
   },
   "outputs": [],
   "source": [
    "pi0=np.array([0.25,0.5,0.25])\n"
   ]
  },
  {
   "cell_type": "code",
   "execution_count": 7,
   "metadata": {
    "ExecuteTime": {
     "end_time": "2018-02-18T16:29:38.172653Z",
     "start_time": "2018-02-18T16:29:38.141459Z"
    }
   },
   "outputs": [
    {
     "data": {
      "text/plain": [
       "((5, 3), dtype('float64'))"
      ]
     },
     "execution_count": 7,
     "metadata": {},
     "output_type": "execute_result"
    }
   ],
   "source": [
    "# lambda is a reserved word in python\n",
    "intensities0=np.array([\n",
    "                        [0.05,1,40],\n",
    "                        [0.5,1,2],\n",
    "                        [1,1,1],\n",
    "                        [2,1,0.5],\n",
    "                        [40,1,0.05]\n",
    "    ])\n",
    "intensities0.shape,intensities0.dtype"
   ]
  },
  {
   "cell_type": "code",
   "execution_count": 8,
   "metadata": {
    "ExecuteTime": {
     "end_time": "2018-02-18T16:29:38.203909Z",
     "start_time": "2018-02-18T16:29:38.172653Z"
    }
   },
   "outputs": [
    {
     "data": {
      "text/plain": [
       "((2000, 5), (2000,))"
      ]
     },
     "execution_count": 8,
     "metadata": {},
     "output_type": "execute_result"
    }
   ],
   "source": [
    "X,Y=exponential_mixture(N,pi0,intensities0)\n",
    "X_test,Y_test=exponential_mixture(N,pi0,intensities0)\n",
    "X.shape,Y.shape"
   ]
  },
  {
   "cell_type": "markdown",
   "metadata": {
    "ExecuteTime": {
     "end_time": "2018-02-13T10:47:24.478383Z",
     "start_time": "2018-02-13T10:47:24.463183Z"
    }
   },
   "source": [
    "## Problems"
   ]
  },
  {
   "cell_type": "markdown",
   "metadata": {
    "ExecuteTime": {
     "end_time": "2018-02-13T10:52:30.820639Z",
     "start_time": "2018-02-13T10:52:30.805010Z"
    }
   },
   "source": [
    "<div class=\"alert alert-block alert-info\"> Problem 1.0 </div>\n",
    "How may classes $K$ can the labels $Y$ take?\n",
    "How may dimension $D$ has the feature vector X?"
   ]
  },
  {
   "cell_type": "code",
   "execution_count": 9,
   "metadata": {
    "ExecuteTime": {
     "end_time": "2018-02-18T16:29:38.235159Z",
     "start_time": "2018-02-18T16:29:38.203909Z"
    }
   },
   "outputs": [
    {
     "name": "stdout",
     "output_type": "stream",
     "text": [
      "K = 3\n",
      "D = 5\n"
     ]
    }
   ],
   "source": [
    "K=len(np.unique(Y))\n",
    "D=X.shape[1]\n",
    "print(\"K =\",K)\n",
    "print(\"D =\",D)"
   ]
  },
  {
   "cell_type": "markdown",
   "metadata": {
    "ExecuteTime": {
     "end_time": "2018-02-13T10:46:52.720020Z",
     "start_time": "2018-02-13T10:46:52.694810Z"
    }
   },
   "source": [
    "<div class=\"alert alert-block alert-info\"> Problem 1.1 </div>\n",
    "Estimate, based on the sample data, the marginal probabilites of the possible Y values $p(y=k)$"
   ]
  },
  {
   "cell_type": "code",
   "execution_count": 10,
   "metadata": {
    "ExecuteTime": {
     "end_time": "2018-02-18T16:29:38.250787Z",
     "start_time": "2018-02-18T16:29:38.235159Z"
    }
   },
   "outputs": [
    {
     "data": {
      "text/plain": [
       "array([0.2475, 0.4865, 0.266 ])"
      ]
     },
     "execution_count": 10,
     "metadata": {},
     "output_type": "execute_result"
    }
   ],
   "source": [
    "Z=one_hot_encode(Y)\n",
    "N_hat=Z.sum(axis=0)\n",
    "pi_hat=N_hat/N\n",
    "pi_hat"
   ]
  },
  {
   "cell_type": "markdown",
   "metadata": {
    "ExecuteTime": {
     "end_time": "2018-02-13T10:54:50.932422Z",
     "start_time": "2018-02-13T10:54:50.916802Z"
    }
   },
   "source": [
    "<div class=\"alert alert-block alert-info\"> Problem 1.2 </div>\n",
    "Estimate the Poisson parameters  $\\hat{\\lambda}_{d,k}$ for the distribution of $x_d$ conditional on $y=k$"
   ]
  },
  {
   "cell_type": "code",
   "execution_count": 11,
   "metadata": {
    "ExecuteTime": {
     "end_time": "2018-02-18T16:29:38.267469Z",
     "start_time": "2018-02-18T16:29:38.251473Z"
    }
   },
   "outputs": [
    {
     "data": {
      "text/plain": [
       "array([[ 0.05373118,  0.93518722, 39.57929162],\n",
       "       [ 0.51139355,  0.98002395,  1.99960325],\n",
       "       [ 1.01456651,  0.99439333,  0.94768629],\n",
       "       [ 1.86820894,  0.95230844,  0.51080887],\n",
       "       [41.45809243,  1.03320135,  0.05110256]])"
      ]
     },
     "execution_count": 11,
     "metadata": {},
     "output_type": "execute_result"
    }
   ],
   "source": [
    "lambda_hat=N_hat/ np.sum(X[:,:,np.newaxis]*Z[:,np.newaxis,:],axis=0)\n",
    "lambda_hat"
   ]
  },
  {
   "cell_type": "markdown",
   "metadata": {
    "ExecuteTime": {
     "end_time": "2018-02-13T11:04:04.767348Z",
     "start_time": "2018-02-13T11:04:04.751763Z"
    }
   },
   "source": [
    "<div class=\"alert alert-block alert-info\"> Problem 1.3 </div>\n",
    "As you showed on the written homework\n",
    "$$\n",
    "    p(y=k|X)=\\frac{ e^{\\sum_d X_{i,d} W_{d,k} + b_k}}{\\sum_{k'} e^{\\sum_d X_{i,d}W_{d,k'}+b_{k'}}}\n",
    "$$\n",
    "Compute $W$ and $b$"
   ]
  },
  {
   "cell_type": "code",
   "execution_count": 12,
   "metadata": {
    "ExecuteTime": {
     "end_time": "2018-02-18T16:29:38.283472Z",
     "start_time": "2018-02-18T16:29:38.267469Z"
    }
   },
   "outputs": [
    {
     "data": {
      "text/plain": [
       "array([[ -0.05373118,  -0.93518722, -39.57929162],\n",
       "       [ -0.51139355,  -0.98002395,  -1.99960325],\n",
       "       [ -1.01456651,  -0.99439333,  -0.94768629],\n",
       "       [ -1.86820894,  -0.95230844,  -0.51080887],\n",
       "       [-41.45809243,  -1.03320135,  -0.05110256]])"
      ]
     },
     "execution_count": 12,
     "metadata": {},
     "output_type": "execute_result"
    }
   ],
   "source": [
    "W=-lambda_hat\n",
    "W"
   ]
  },
  {
   "cell_type": "code",
   "execution_count": 13,
   "metadata": {
    "ExecuteTime": {
     "end_time": "2018-02-18T16:29:38.303464Z",
     "start_time": "2018-02-18T16:29:38.283472Z"
    }
   },
   "outputs": [
    {
     "data": {
      "text/plain": [
       "array([-0.62659752, -0.82953184, -0.65241642])"
      ]
     },
     "execution_count": 13,
     "metadata": {},
     "output_type": "execute_result"
    }
   ],
   "source": [
    "b=np.log(pi_hat)+np.log(lambda_hat).sum(axis=0)\n",
    "b"
   ]
  },
  {
   "cell_type": "markdown",
   "metadata": {
    "ExecuteTime": {
     "end_time": "2018-02-13T11:06:49.039766Z",
     "start_time": "2018-02-13T11:06:49.024147Z"
    }
   },
   "source": [
    "<div class=\"alert alert-block alert-info\"> Problem 1.4 </div>\n",
    "Find the predicted class  $\\hat{Y}$ given the parameters $W$ and $b$ for the training data $X$\n"
   ]
  },
  {
   "cell_type": "code",
   "execution_count": 14,
   "metadata": {
    "ExecuteTime": {
     "end_time": "2018-02-18T16:29:38.350343Z",
     "start_time": "2018-02-18T16:29:38.303464Z"
    }
   },
   "outputs": [],
   "source": [
    "eta=np.dot(X,W)+b\n",
    "Y_pred=eta.argmax(axis=1) # the normalization term is the same for all classes, so it can be ignored"
   ]
  },
  {
   "cell_type": "markdown",
   "metadata": {
    "ExecuteTime": {
     "end_time": "2018-02-13T11:09:08.051969Z",
     "start_time": "2018-02-13T11:09:08.020972Z"
    }
   },
   "source": [
    "<div class=\"alert alert-block alert-info\"> Problem 1.5 </div>\n",
    "Compute the average in sample accuracy"
   ]
  },
  {
   "cell_type": "code",
   "execution_count": 15,
   "metadata": {
    "ExecuteTime": {
     "end_time": "2018-02-18T16:29:38.365970Z",
     "start_time": "2018-02-18T16:29:38.350343Z"
    }
   },
   "outputs": [
    {
     "data": {
      "text/plain": [
       "0.957"
      ]
     },
     "execution_count": 15,
     "metadata": {},
     "output_type": "execute_result"
    }
   ],
   "source": [
    "np.mean(Y_pred==Y)"
   ]
  },
  {
   "cell_type": "markdown",
   "metadata": {
    "ExecuteTime": {
     "end_time": "2018-02-13T11:10:12.862213Z",
     "start_time": "2018-02-13T11:10:12.846587Z"
    }
   },
   "source": [
    "<div class=\"alert alert-block alert-info\"> Problem 1.6 </div>\n",
    "Compute the accuracy of the fitted model on the test data `X_test`, `Y_test`"
   ]
  },
  {
   "cell_type": "code",
   "execution_count": 16,
   "metadata": {
    "ExecuteTime": {
     "end_time": "2018-02-18T16:29:38.381598Z",
     "start_time": "2018-02-18T16:29:38.365970Z"
    }
   },
   "outputs": [
    {
     "data": {
      "text/plain": [
       "0.9575"
      ]
     },
     "execution_count": 16,
     "metadata": {},
     "output_type": "execute_result"
    }
   ],
   "source": [
    "eta=np.dot(X_test,W)+b\n",
    "Y_pred=eta.argmax(axis=1)\n",
    "np.mean(Y_pred==Y_test)"
   ]
  },
  {
   "cell_type": "markdown",
   "metadata": {},
   "source": [
    "<div class=\"alert alert-block alert-info\"> Problem 2.1 </div>\n",
    "Create a classifier class by filling in the `fit` and `predict` methods on the class below"
   ]
  },
  {
   "cell_type": "code",
   "execution_count": 17,
   "metadata": {
    "ExecuteTime": {
     "end_time": "2018-02-18T16:29:38.412850Z",
     "start_time": "2018-02-18T16:29:38.381598Z"
    }
   },
   "outputs": [],
   "source": [
    "class ExponentialNB:\n",
    "    def __init__(self):\n",
    "        pass\n",
    "    def fit(self,X,Y):\n",
    "        pass\n",
    "    def predict(self,X):\n",
    "        pass"
   ]
  },
  {
   "cell_type": "code",
   "execution_count": 18,
   "metadata": {
    "ExecuteTime": {
     "end_time": "2018-02-18T16:29:38.428477Z",
     "start_time": "2018-02-18T16:29:38.412850Z"
    }
   },
   "outputs": [],
   "source": [
    "class ExponentialNB:\n",
    "    def __init__(self):\n",
    "        pass\n",
    "    def fit(self,X,Y):\n",
    "        N=len(X)\n",
    "        Z=one_hot_encode(Y)\n",
    "        N_hat=Z.sum(axis=0)\n",
    "        pi_hat=N_hat/N\n",
    "        lambda_hat= N_hat/np.sum(X[:,:,np.newaxis]*Z[:,np.newaxis,:],axis=0)\n",
    "        print(lambda_hat)\n",
    "        self.W=-lambda_hat\n",
    "        self.b=np.log(pi_hat)+np.log(lambda_hat).sum(axis=0)\n",
    "    def predict(self,X):\n",
    "        eta=np.dot(X,self.W)+self.b\n",
    "        return eta.argmax(axis=1)"
   ]
  },
  {
   "cell_type": "markdown",
   "metadata": {
    "ExecuteTime": {
     "end_time": "2018-02-13T11:28:27.270292Z",
     "start_time": "2018-02-13T11:28:27.254665Z"
    }
   },
   "source": [
    "<div class=\"alert alert-block alert-info\"> Problem 2.2 </div>\n",
    "Fit model to the training data `X1`, `Y1` below, \n",
    "compute the model accuracy on the training set"
   ]
  },
  {
   "cell_type": "code",
   "execution_count": 19,
   "metadata": {
    "ExecuteTime": {
     "end_time": "2018-02-18T16:31:38.616350Z",
     "start_time": "2018-02-18T16:31:38.582177Z"
    }
   },
   "outputs": [],
   "source": [
    "# lambda is a reserved word in python\n",
    "pi1=[0.4,0.1,0.1,0.4]\n",
    "intensities1=np.array([\n",
    "                        [1000., 0.001,   1 ,0.001],\n",
    "                        [0.001 ,0.001,    1,1000],             \n",
    "    ])"
   ]
  },
  {
   "cell_type": "code",
   "execution_count": 20,
   "metadata": {
    "ExecuteTime": {
     "end_time": "2018-02-18T16:31:39.392328Z",
     "start_time": "2018-02-18T16:31:39.254077Z"
    }
   },
   "outputs": [
    {
     "data": {
      "text/plain": [
       "((100000, 2), (100000,))"
      ]
     },
     "execution_count": 20,
     "metadata": {},
     "output_type": "execute_result"
    }
   ],
   "source": [
    "X1,Y1=exponential_mixture(100000,pi1,intensities1)\n",
    "X1_test,Y1_test=exponential_mixture(100000,pi1,intensities1)\n",
    "X1.shape,Y1.shape"
   ]
  },
  {
   "cell_type": "code",
   "execution_count": 21,
   "metadata": {
    "ExecuteTime": {
     "end_time": "2018-02-18T16:31:40.075738Z",
     "start_time": "2018-02-18T16:31:40.030411Z"
    }
   },
   "outputs": [
    {
     "name": "stdout",
     "output_type": "stream",
     "text": [
      "[[1.01990200e+03 9.98947933e-04 9.96273502e-01 1.00463137e-03]\n",
      " [9.98187632e-04 1.01462341e-03 9.88704857e-01 1.00965339e+03]]\n",
      "[0 0 3 ... 2 1 0]\n"
     ]
    },
    {
     "data": {
      "text/plain": [
       "0.99936"
      ]
     },
     "execution_count": 21,
     "metadata": {},
     "output_type": "execute_result"
    }
   ],
   "source": [
    "model=ExponentialNB()\n",
    "model.fit(X1,Y1)\n",
    "Y1_pred=model.predict(X1)\n",
    "print(Y1_pred)\n",
    "np.mean(Y1_pred==Y1)"
   ]
  },
  {
   "cell_type": "markdown",
   "metadata": {
    "ExecuteTime": {
     "end_time": "2018-02-13T11:29:40.248734Z",
     "start_time": "2018-02-13T11:29:40.233109Z"
    }
   },
   "source": [
    "<div class=\"alert alert-block alert-info\"> Problem 2.3 </div>\n",
    "Compute the model accuracy of the model  on the test data `X1_test`,`Y1_test`"
   ]
  },
  {
   "cell_type": "code",
   "execution_count": 22,
   "metadata": {
    "ExecuteTime": {
     "end_time": "2018-02-18T16:31:42.853976Z",
     "start_time": "2018-02-18T16:31:42.823427Z"
    }
   },
   "outputs": [
    {
     "data": {
      "text/plain": [
       "0.99928"
      ]
     },
     "execution_count": 22,
     "metadata": {},
     "output_type": "execute_result"
    }
   ],
   "source": [
    "Y1_pred=model.predict(X1_test)\n",
    "np.mean(Y1_pred==Y1_test)"
   ]
  },
  {
   "cell_type": "code",
   "execution_count": 23,
   "metadata": {
    "ExecuteTime": {
     "end_time": "2018-02-18T16:32:11.613880Z",
     "start_time": "2018-02-18T16:32:11.570757Z"
    }
   },
   "outputs": [
    {
     "data": {
      "text/plain": [
       "array([[2.07762634e-02, 2.38064235e+00, 4.97791098e-01, 4.20192185e-01,\n",
       "        1.21056240e+00],\n",
       "       [9.86773709e-02, 1.76334112e-01, 1.98248963e+00, 2.56168477e+00,\n",
       "        8.39929325e-01],\n",
       "       [5.65187628e+00, 8.19640324e+00, 4.38275591e-01, 9.03611927e-01,\n",
       "        2.75551048e-02],\n",
       "       [6.85432340e+00, 5.81195064e-01, 2.72571222e+00, 1.76332537e+00,\n",
       "        2.11279675e+00],\n",
       "       [1.20930031e-02, 1.62125802e-02, 2.36661005e+00, 3.42185915e-01,\n",
       "        2.47821346e+01],\n",
       "       [5.35356941e-03, 1.24623223e-01, 7.51514481e-01, 1.25588521e+00,\n",
       "        1.67330184e+01],\n",
       "       [3.82135703e-03, 8.00777037e-01, 3.01361382e-01, 1.64748208e-01,\n",
       "        7.95740876e+00],\n",
       "       [1.27153986e-02, 1.78447686e-01, 9.65621416e-01, 1.07590945e+00,\n",
       "        2.07962505e+01],\n",
       "       [6.68721884e-01, 1.09776348e-01, 2.54486187e+00, 7.31463475e-01,\n",
       "        5.66301176e-01],\n",
       "       [9.93190696e-02, 1.06745530e+00, 1.42114784e+00, 7.59135429e-01,\n",
       "        8.28521153e-01]])"
      ]
     },
     "execution_count": 23,
     "metadata": {},
     "output_type": "execute_result"
    }
   ],
   "source": [
    "X[:10]"
   ]
  },
  {
   "cell_type": "code",
   "execution_count": null,
   "metadata": {},
   "outputs": [],
   "source": []
  },
  {
   "cell_type": "code",
   "execution_count": null,
   "metadata": {},
   "outputs": [],
   "source": []
  }
 ],
 "metadata": {
  "kernelspec": {
   "display_name": "Python 3",
   "language": "python",
   "name": "python3"
  },
  "language_info": {
   "codemirror_mode": {
    "name": "ipython",
    "version": 3
   },
   "file_extension": ".py",
   "mimetype": "text/x-python",
   "name": "python",
   "nbconvert_exporter": "python",
   "pygments_lexer": "ipython3",
   "version": "3.7.3"
  },
  "toc": {
   "base_numbering": 1,
   "nav_menu": {},
   "number_sections": true,
   "sideBar": true,
   "skip_h1_title": true,
   "title_cell": "Table of Contents",
   "title_sidebar": "Contents",
   "toc_cell": false,
   "toc_position": {},
   "toc_section_display": "block",
   "toc_window_display": false
  }
 },
 "nbformat": 4,
 "nbformat_minor": 2
}

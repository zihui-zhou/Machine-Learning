{
 "cells": [
  {
   "cell_type": "markdown",
   "metadata": {},
   "source": [
    "# Text Feature Extraction Homework"
   ]
  },
  {
   "cell_type": "markdown",
   "metadata": {},
   "source": [
    "In this exercise, we will implement another slight variation of the `tfidf`  document distance definition using **sublinear** document counts.\n",
    "\n",
    "We will then compare it to the `sklearn` implementation."
   ]
  },
  {
   "cell_type": "markdown",
   "metadata": {},
   "source": [
    "## Preliminaries"
   ]
  },
  {
   "cell_type": "markdown",
   "metadata": {},
   "source": [
    "#### Imports"
   ]
  },
  {
   "cell_type": "code",
   "execution_count": 1,
   "metadata": {
    "ExecuteTime": {
     "end_time": "2018-02-02T10:07:13.605374Z",
     "start_time": "2018-02-02T10:07:08.599075Z"
    },
    "collapsed": true
   },
   "outputs": [],
   "source": [
    "import string\n",
    "import os\n",
    "import pickle\n",
    "from collections import Counter \n",
    "\n",
    "import numpy as np\n",
    "import pandas as pd\n",
    "\n",
    "from nltk.tokenize import word_tokenize\n",
    "from nltk.stem.porter import PorterStemmer\n",
    "from nltk.corpus import stopwords\n",
    "\n",
    "from sklearn.feature_extraction.text import TfidfVectorizer\n",
    "\n",
    "import sys \n",
    "sys.path.append(\"../..\")\n",
    "from E4525_ML import text # you must have saved the file text.py into the E4525_ML directory"
   ]
  },
  {
   "cell_type": "markdown",
   "metadata": {},
   "source": [
    "#### Data Directories"
   ]
  },
  {
   "cell_type": "code",
   "execution_count": 2,
   "metadata": {
    "ExecuteTime": {
     "end_time": "2018-02-02T10:07:13.610388Z",
     "start_time": "2018-02-02T10:07:13.606375Z"
    },
    "collapsed": true
   },
   "outputs": [],
   "source": [
    "raw_data_dir=r\"../../raw/C50/C50train\" # original data set used for training\n",
    "data_dir    =r\"../../data/C50/\"  # directory to save intermediate results"
   ]
  },
  {
   "cell_type": "markdown",
   "metadata": {
    "ExecuteTime": {
     "end_time": "2018-01-10T15:56:22.749141Z",
     "start_time": "2018-01-10T15:56:22.744141Z"
    }
   },
   "source": [
    "#### Convenience Function Definitions"
   ]
  },
  {
   "cell_type": "markdown",
   "metadata": {},
   "source": [
    "A few functions carried over from the Text_Features notebook that we will need during this exercise."
   ]
  },
  {
   "cell_type": "code",
   "execution_count": 3,
   "metadata": {
    "ExecuteTime": {
     "end_time": "2018-02-02T10:07:13.639464Z",
     "start_time": "2018-02-02T10:07:13.613395Z"
    },
    "collapsed": true
   },
   "outputs": [],
   "source": [
    "def process_text(filename,stop): \n",
    "    porter_stemmer = PorterStemmer()\n",
    "    file=open(filename)\n",
    "    lines=file.readlines()\n",
    "    text_str=\" \".join(lines).replace(\"\\n\",\" \").lower()\n",
    "    stem_list=text.stem_tokenizer(text_str)\n",
    "    used_list=[token for token in stem_list if token not in stop]\n",
    "    return used_list"
   ]
  },
  {
   "cell_type": "code",
   "execution_count": 4,
   "metadata": {
    "ExecuteTime": {
     "end_time": "2018-02-02T10:07:13.655547Z",
     "start_time": "2018-02-02T10:07:13.641470Z"
    },
    "collapsed": true
   },
   "outputs": [],
   "source": [
    "def text_2_set(filename,stop_words):\n",
    "    stems=process_text(filename,stop_words)\n",
    "    return set(stems)"
   ]
  },
  {
   "cell_type": "code",
   "execution_count": 5,
   "metadata": {
    "ExecuteTime": {
     "end_time": "2018-02-02T10:07:13.671550Z",
     "start_time": "2018-02-02T10:07:13.657512Z"
    },
    "collapsed": true
   },
   "outputs": [],
   "source": [
    "def text_2_counts(filename,stop_words):\n",
    "    stems=process_text(filename,stop_words)\n",
    "    return Counter(stems)"
   ]
  },
  {
   "cell_type": "code",
   "execution_count": 6,
   "metadata": {
    "ExecuteTime": {
     "end_time": "2018-02-02T10:07:13.689597Z",
     "start_time": "2018-02-02T10:07:13.673560Z"
    },
    "collapsed": true
   },
   "outputs": [],
   "source": [
    "def corpus_word_counts(documents,stop):\n",
    "    counts=Counter()\n",
    "    for filename in documents[\"filename\"]:   \n",
    "        print(\"processing...\",filename)\n",
    "        bag=text_2_set(filename,stop)\n",
    "        for word in bag:\n",
    "            counts[word]+=1\n",
    "    return pd.DataFrame.from_dict(counts,orient=\"index\")"
   ]
  },
  {
   "cell_type": "markdown",
   "metadata": {},
   "source": [
    "## Environment Preparation"
   ]
  },
  {
   "cell_type": "markdown",
   "metadata": {},
   "source": [
    "<div class=\"alert alert-block alert-info\"> Problem 0 </div>\n",
    "\n",
    "1. Download the  [Reuters 50](https://archive.ics.uci.edu/ml/datasets/Reuter_50_50) collection of texts. Save it on the `raw` data directory.\n",
    "\n",
    "    You should end up with this directory structure structure:\n",
    "    \n",
    "    raw/\n",
    "        C50/\n",
    "            C50train/\n",
    "            C50test/\n",
    "            \n",
    "1. Run to completion the [Text Feature Extraction](./Text_Features.ipynb) notebook. This will generate the document lists, and word count statistics. Make sure to run any of the sections are are meant to be run only once.\n",
    "1. Save the text.py python module into the `E4525_ML` directory."
   ]
  },
  {
   "cell_type": "code",
   "execution_count": null,
   "metadata": {
    "collapsed": true
   },
   "outputs": [],
   "source": []
  },
  {
   "cell_type": "markdown",
   "metadata": {
    "ExecuteTime": {
     "end_time": "2018-01-10T16:01:13.535141Z",
     "start_time": "2018-01-10T16:01:13.525141Z"
    }
   },
   "source": [
    "## Implement TF-IDF document Distance with Sublinear Growth "
   ]
  },
  {
   "cell_type": "markdown",
   "metadata": {
    "ExecuteTime": {
     "end_time": "2018-01-10T15:54:33.146141Z",
     "start_time": "2018-01-10T15:54:33.138141Z"
    }
   },
   "source": [
    "<div class=\"alert alert-block alert-info\"> Problem 1.1 </div>\n",
    "\n",
    "Read the list of documents in the file `C50_documents.csv`  from the data directory `data_dir` into a `documents` variable"
   ]
  },
  {
   "cell_type": "code",
   "execution_count": null,
   "metadata": {
    "collapsed": true
   },
   "outputs": [],
   "source": []
  },
  {
   "cell_type": "markdown",
   "metadata": {},
   "source": [
    "<div class=\"alert alert-block alert-info\"> Problem 1.2 </div>\n",
    "\n",
    "Create a list of stop works by calling the function `text.stop_words` from the `E4525.text` python module."
   ]
  },
  {
   "cell_type": "code",
   "execution_count": null,
   "metadata": {
    "collapsed": true
   },
   "outputs": [],
   "source": []
  },
  {
   "cell_type": "markdown",
   "metadata": {},
   "source": [
    "<div class=\"alert alert-block alert-info\"> Problem 1.3 </div>\n",
    "\n",
    "Using pandas, read  the word count (term frequencies) file generated by the Text_Features notebook\n",
    "The file is called \"corpus_word_counts.csv\""
   ]
  },
  {
   "cell_type": "code",
   "execution_count": null,
   "metadata": {
    "collapsed": true
   },
   "outputs": [],
   "source": []
  },
  {
   "cell_type": "markdown",
   "metadata": {},
   "source": [
    "<div class=\"alert alert-block alert-info\"> Problem 1.4 </div>\n",
    "Create a variable $V$ with the vocabulary size  and a variable named $C$ with the total number of documents"
   ]
  },
  {
   "cell_type": "code",
   "execution_count": null,
   "metadata": {
    "collapsed": true
   },
   "outputs": [],
   "source": []
  },
  {
   "cell_type": "markdown",
   "metadata": {
    "ExecuteTime": {
     "end_time": "2018-01-10T17:28:58.416141Z",
     "start_time": "2018-01-10T17:28:58.407141Z"
    }
   },
   "source": [
    "<div class=\"alert alert-block alert-info\"> Problem 1.5 </div>\n",
    "Compute the smoothed inverse document counts, defined as\n",
    "$$\n",
    "    \\textrm{idf}_i =  \\log\\left( \\frac{1+C}{1+\\textrm{n}_i}\\right) + 1\n",
    "$$\n",
    "\n",
    "where $n_i$ is the number of documents in corpus where word $i$ appears."
   ]
  },
  {
   "cell_type": "code",
   "execution_count": null,
   "metadata": {
    "collapsed": true
   },
   "outputs": [],
   "source": []
  },
  {
   "cell_type": "markdown",
   "metadata": {},
   "source": [
    "<div class=\"alert alert-block alert-success\"> We set up a few documents for comparison</div>\n",
    "\n",
    "[HINT] Code below assumes that the variable `documents`  is the list of documents you read in problem 1.1"
   ]
  },
  {
   "cell_type": "code",
   "execution_count": null,
   "metadata": {
    "ExecuteTime": {
     "end_time": "2018-02-02T10:07:13.823955Z",
     "start_time": "2018-02-02T10:07:13.691604Z"
    }
   },
   "outputs": [],
   "source": [
    "# document indexes we will use for comparison\n",
    "document1=0 \n",
    "document2=1\n",
    "document3=105\n",
    "\n",
    "# document filenames\n",
    "filename1=documents[\"filename\"][document1]\n",
    "filename2=documents[\"filename\"][document2]\n",
    "filename3=documents[\"filename\"][document3] # this will be from a different author"
   ]
  },
  {
   "cell_type": "markdown",
   "metadata": {},
   "source": [
    "<div class=\"alert alert-block alert-info\"> Problem 1.6 </div>\n",
    "    Compute the word counts for `documents1`,`document2` and `document3`, using the `text_2_count` function defined at the beginning of the notebook."
   ]
  },
  {
   "cell_type": "code",
   "execution_count": null,
   "metadata": {
    "collapsed": true
   },
   "outputs": [],
   "source": []
  },
  {
   "cell_type": "markdown",
   "metadata": {},
   "source": [
    "### Classical Tf-Idf"
   ]
  },
  {
   "cell_type": "markdown",
   "metadata": {
    "ExecuteTime": {
     "end_time": "2018-01-10T18:30:16.684141Z",
     "start_time": "2018-01-10T18:30:16.677141Z"
    }
   },
   "source": [
    "The function below computes the normalized product of  `tfidf`  vectors.\n",
    "Where the `tfidf` vector is defined as follows\n",
    "$$\n",
    "    w_{k} = \\textrm{idf_k} * c_{k}\n",
    "$$\n",
    "where  $c_{k}$ is the number of times that word $k$ appears in document."
   ]
  },
  {
   "cell_type": "code",
   "execution_count": null,
   "metadata": {
    "ExecuteTime": {
     "end_time": "2018-02-02T10:07:13.824959Z",
     "start_time": "2018-02-02T10:07:08.665Z"
    },
    "collapsed": true
   },
   "outputs": [],
   "source": [
    "def product_tfidf(count1,count2,idfs):\n",
    "    sum1=0.0\n",
    "    sum_cross=0.0\n",
    "    for key in count1:\n",
    "        if key not in idfs.index:\n",
    "            idf=0\n",
    "            print(f\"key {key} not found\")\n",
    "        else:\n",
    "            idf=idfs.loc[key][\"count\"]\n",
    "        w1=idf*count1[key]\n",
    "        w2=idf*count2[key]\n",
    "        sum1+=(w1)**2\n",
    "        sum_cross+=w1*w2\n",
    "    sum2=0.0\n",
    "    for key in count2:\n",
    "        if key not in idfs.index:\n",
    "            idf=0\n",
    "            print(f\"key {key} not found\")\n",
    "        else:\n",
    "            idf=idfs.loc[key][\"count\"]\n",
    "        w2=idf*count2[key]\n",
    "        sum2+=w2**2\n",
    "    return sum_cross/np.sqrt(sum1*sum2)"
   ]
  },
  {
   "cell_type": "markdown",
   "metadata": {},
   "source": [
    "### Sub-Linear Tf-Idf"
   ]
  },
  {
   "cell_type": "markdown",
   "metadata": {},
   "source": [
    "It seems unlikely that 20 occurrences of a term in a document truly carry $20\\times$ the significance of a single occurrence. And alternative (see the [Information Retrieval book](https://nlp.stanford.edu/IR-book/html/htmledition/sublinear-tf-scaling-1.html)) is to use a function\n",
    "to *tamper* the growth of the word counts."
   ]
  },
  {
   "cell_type": "markdown",
   "metadata": {
    "ExecuteTime": {
     "end_time": "2018-01-10T18:45:53.854141Z",
     "start_time": "2018-01-10T18:45:53.846141Z"
    }
   },
   "source": [
    "<div class=\"alert alert-block alert-info\"> Problem 1.6 </div>\n",
    "Create a function named `sublinear_product_tfidf`.\n",
    "It should compute the normalized product of `tfidf` vectors as above but using a **`sublinear`** measure of  the word counts, defined as:\n",
    "\\begin{align}\n",
    "    w_k  &= idf_k * (1+\\log c_k)  &\\textrm{if}\\,\\, c_k &>0 \\\\\n",
    "    w_k  &= 0                    &\\textrm{if}\\,\\, c_k &=0 \\\\\n",
    "\\end{align}\n",
    "where $c_k$ is the raw word count for word $k$.\n",
    "\n",
    "[HINT] Probably easiest to copy and modify slightly the function  `product_idf` above"
   ]
  },
  {
   "cell_type": "code",
   "execution_count": null,
   "metadata": {
    "ExecuteTime": {
     "end_time": "2018-02-02T10:01:28.445698Z",
     "start_time": "2018-02-02T10:01:28.420633Z"
    },
    "collapsed": true
   },
   "outputs": [],
   "source": []
  },
  {
   "cell_type": "markdown",
   "metadata": {},
   "source": [
    "<div class=\"alert alert-block alert-info\"> Problem 1.7 </div>\n",
    "Compute the sublinear normalized product (similarity) for `document1` with itself, verify that the product is 1"
   ]
  },
  {
   "cell_type": "code",
   "execution_count": null,
   "metadata": {
    "ExecuteTime": {
     "end_time": "2018-02-02T10:01:28.522903Z",
     "start_time": "2018-02-02T10:01:28.451715Z"
    }
   },
   "outputs": [],
   "source": []
  },
  {
   "cell_type": "markdown",
   "metadata": {
    "ExecuteTime": {
     "end_time": "2018-01-10T18:55:57.862141Z",
     "start_time": "2018-01-10T18:55:57.854141Z"
    }
   },
   "source": [
    "<div class=\"alert alert-block alert-info\"> Problem 1.8 </div>\n",
    "Compute the sublinear normalized products between \n",
    "1. `document1` and `document2`\n",
    "2. `document1` and `document3`\n",
    "3. `document2` and `document3`"
   ]
  },
  {
   "cell_type": "code",
   "execution_count": null,
   "metadata": {
    "ExecuteTime": {
     "end_time": "2018-02-02T10:01:28.685336Z",
     "start_time": "2018-02-02T10:01:28.524908Z"
    }
   },
   "outputs": [],
   "source": []
  },
  {
   "cell_type": "markdown",
   "metadata": {},
   "source": [
    "## Comparison to  `sklearn`"
   ]
  },
  {
   "cell_type": "markdown",
   "metadata": {
    "ExecuteTime": {
     "end_time": "2018-01-23T23:27:17.319716Z",
     "start_time": "2018-01-23T23:27:17.285700Z"
    }
   },
   "source": [
    "<div class=\"alert alert-block alert-info\"> Problem 2.1 </div>\n",
    "store the value of the function `text.stem_tokenizer` from the module `text.py` into variable named `tokenizer`."
   ]
  },
  {
   "cell_type": "code",
   "execution_count": null,
   "metadata": {
    "ExecuteTime": {
     "end_time": "2018-02-02T10:01:28.690348Z",
     "start_time": "2018-02-02T10:01:28.687339Z"
    },
    "collapsed": true
   },
   "outputs": [],
   "source": []
  },
  {
   "cell_type": "markdown",
   "metadata": {},
   "source": [
    "<div class=\"alert alert-block alert-info\"> Problem 2.2 </div>\n",
    "\n",
    "set up  an instance of [`sklearn.TfidfVectorizer`](http://scikit-learn.org/stable/modules/generated/sklearn.feature_extraction.text.TfidfVectorizer.html)  so that it generates `tfidf` vectors using sublinear growth.\n",
    "\n",
    "[Hint] \n",
    "1. Read carefully the  long list of options on the constructor of `TfidfVectorizer`\n",
    "2. Do not forget to set the `input`, `tokenizer` and `stop_word` arguments.\n",
    "    "
   ]
  },
  {
   "cell_type": "code",
   "execution_count": null,
   "metadata": {
    "ExecuteTime": {
     "end_time": "2018-02-02T10:01:28.710401Z",
     "start_time": "2018-02-02T10:01:28.693356Z"
    },
    "collapsed": true
   },
   "outputs": [],
   "source": []
  },
  {
   "cell_type": "markdown",
   "metadata": {},
   "source": [
    "<div class=\"alert alert-block alert-info\"> Problem 2.3 </div>\n",
    "Generate the matrix $X$ of `tfidf` representations for each document in our corpus (this may take a bit of time)"
   ]
  },
  {
   "cell_type": "code",
   "execution_count": null,
   "metadata": {
    "ExecuteTime": {
     "end_time": "2018-02-02T10:02:12.525262Z",
     "start_time": "2018-02-02T10:01:28.713410Z"
    },
    "collapsed": true
   },
   "outputs": [],
   "source": []
  },
  {
   "cell_type": "markdown",
   "metadata": {
    "ExecuteTime": {
     "end_time": "2018-01-10T19:03:06.301141Z",
     "start_time": "2018-01-10T19:03:06.295141Z"
    }
   },
   "source": [
    "<div class=\"alert alert-block alert-info\"> Problem 2.4 </div>\n",
    "Compute the dot product between `document1` and `document2` using their vector (`X`) representation. \n",
    "\n",
    "Compare to the result produced by the `sublinear_product_tfidf`\n",
    "function you just wrote. They should be nearly identical."
   ]
  },
  {
   "cell_type": "code",
   "execution_count": null,
   "metadata": {
    "ExecuteTime": {
     "end_time": "2018-02-02T10:02:12.572389Z",
     "start_time": "2018-02-02T10:02:12.527268Z"
    }
   },
   "outputs": [],
   "source": []
  },
  {
   "cell_type": "markdown",
   "metadata": {},
   "source": [
    "### Saving Trained models for Reuse"
   ]
  },
  {
   "cell_type": "markdown",
   "metadata": {},
   "source": [
    "<div class=\"alert alert-block alert-info\"> Problem 3.1 </div>\n",
    "In the data directory `data_dir`:\n",
    "1. Save vectorizer to a `pickle` called \"tfidf_sublinear_vectorizer.p\"\n",
    "2. Save sublinear `tfidf1` features to a file called \"tfidf_sublinear_features.p\""
   ]
  },
  {
   "cell_type": "code",
   "execution_count": null,
   "metadata": {
    "ExecuteTime": {
     "end_time": "2018-02-02T10:02:12.703738Z",
     "start_time": "2018-02-02T10:02:12.574395Z"
    },
    "collapsed": true
   },
   "outputs": [],
   "source": []
  },
  {
   "cell_type": "markdown",
   "metadata": {
    "collapsed": true
   },
   "source": [
    "<div class=\"alert alert-block alert-info\"> Problem 3.2 </div>\n",
    "Make sure you can read those files again"
   ]
  },
  {
   "cell_type": "code",
   "execution_count": null,
   "metadata": {
    "ExecuteTime": {
     "end_time": "2018-02-02T10:02:12.747855Z",
     "start_time": "2018-02-02T10:02:12.707748Z"
    }
   },
   "outputs": [],
   "source": []
  },
  {
   "cell_type": "code",
   "execution_count": null,
   "metadata": {
    "collapsed": true
   },
   "outputs": [],
   "source": []
  }
 ],
 "metadata": {
  "kernelspec": {
   "display_name": "Python 3",
   "language": "python",
   "name": "python3"
  },
  "language_info": {
   "codemirror_mode": {
    "name": "ipython",
    "version": 3
   },
   "file_extension": ".py",
   "mimetype": "text/x-python",
   "name": "python",
   "nbconvert_exporter": "python",
   "pygments_lexer": "ipython3",
   "version": "3.6.4"
  },
  "toc": {
   "base_numbering": 1,
   "nav_menu": {},
   "number_sections": true,
   "sideBar": true,
   "skip_h1_title": false,
   "title_cell": "Table of Contents",
   "title_sidebar": "Contents",
   "toc_cell": false,
   "toc_position": {
    "height": "497px",
    "left": "0px",
    "right": "auto",
    "top": "107px",
    "width": "314px"
   },
   "toc_section_display": "block",
   "toc_window_display": true
  }
 },
 "nbformat": 4,
 "nbformat_minor": 2
}

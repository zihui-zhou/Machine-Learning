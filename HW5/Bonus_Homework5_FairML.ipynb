{
 "cells": [
  {
   "cell_type": "markdown",
   "metadata": {
    "ExecuteTime": {
     "end_time": "2019-03-06T15:57:47.241128Z",
     "start_time": "2019-03-06T15:57:47.225528Z"
    }
   },
   "source": [
    "# Bonus Homework 5:  Fair Machine Learning\n",
    "\n",
    "The purpose of the data set is to compare classification of a mixed population (with a mixture of Gaussians distribution) with access and without access to the group attribute as worked out analytically on homework 5.\n",
    "\n",
    "The data was generated using the same assumptions used in written  homework 5 (problems 2 and 3). Completing  this notebook should help you verify your analytic calculations.\n",
    "\n",
    "When comparing results, take into account that this example here uses  only use a finite data sample (5,000 samples).  The empirically estimated rates should be close to the theoretical ones, but not identical."
   ]
  },
  {
   "cell_type": "markdown",
   "metadata": {},
   "source": [
    "## Preliminaries"
   ]
  },
  {
   "cell_type": "code",
   "execution_count": null,
   "metadata": {
    "ExecuteTime": {
     "end_time": "2019-03-06T20:18:01.573228Z",
     "start_time": "2019-03-06T20:17:54.511328Z"
    }
   },
   "outputs": [],
   "source": [
    "import numpy as np\n",
    "import pandas as pd\n",
    "\n",
    "import matplotlib.pyplot  as plt \n",
    "\n",
    "from sklearn.discriminant_analysis import LinearDiscriminantAnalysis as LDA\n",
    "from sklearn.model_selection import train_test_split\n",
    "import sklearn.metrics as metrics\n",
    "\n",
    "%matplotlib inline"
   ]
  },
  {
   "cell_type": "markdown",
   "metadata": {},
   "source": [
    "## Prepare Data"
   ]
  },
  {
   "cell_type": "markdown",
   "metadata": {},
   "source": [
    "<div class=\"alert alert-block alert-info\"> Problem 0.1 </div>\n",
    "Read the file 'fair_ml_data.csv' provided with this homework set into a panda's data frame"
   ]
  },
  {
   "cell_type": "code",
   "execution_count": null,
   "metadata": {
    "ExecuteTime": {
     "end_time": "2019-03-06T20:18:01.575728Z",
     "start_time": "2019-03-06T20:18:01.573228Z"
    }
   },
   "outputs": [],
   "source": [
    "data_dir=\"../data/fair_ml\"\n"
   ]
  },
  {
   "cell_type": "code",
   "execution_count": null,
   "metadata": {
    "ExecuteTime": {
     "end_time": "2019-03-06T20:18:01.595728Z",
     "start_time": "2019-03-06T20:18:01.575728Z"
    }
   },
   "outputs": [],
   "source": [
    "filename=data_dir+\"/fair_ml_data.csv\""
   ]
  },
  {
   "cell_type": "code",
   "execution_count": null,
   "metadata": {
    "ExecuteTime": {
     "end_time": "2019-03-06T20:18:01.841228Z",
     "start_time": "2019-03-06T20:18:01.598228Z"
    }
   },
   "outputs": [],
   "source": []
  },
  {
   "cell_type": "markdown",
   "metadata": {
    "ExecuteTime": {
     "end_time": "2019-03-06T18:07:48.360628Z",
     "start_time": "2019-03-06T18:07:48.339628Z"
    }
   },
   "source": [
    "<div class=\"alert alert-block alert-info\"> Problem 0.2 </div>\n",
    "Split data in a 50% training  and 50% valuation sets"
   ]
  },
  {
   "cell_type": "code",
   "execution_count": null,
   "metadata": {
    "ExecuteTime": {
     "end_time": "2019-03-06T20:18:01.856828Z",
     "start_time": "2019-03-06T20:18:01.841228Z"
    }
   },
   "outputs": [],
   "source": []
  },
  {
   "cell_type": "markdown",
   "metadata": {},
   "source": [
    "<div class=\"alert alert-block alert-info\"> Problem 0.3 </div>\n",
    "\n",
    "In this problem set you will need to fit LDA models to \n",
    "1. the majority group $a=0$ \n",
    "2. minority group $a=1$\n",
    "3. to the whole data set irrespective of group affiliation. \n",
    "\n",
    "Prepare `numpy` arrays for training and validation so  that you can fit those three models:\n",
    "1. Arrays `X0_train`,`X0_val`,`Y0_train`,`Y0_val` for members of the majority group `a=0`.\n",
    "2. Arrays `X1_train`,`X1_val`,`Y1_train`,`Y1_val` for members of the minority group `a=1`.\n",
    "3. Arrays `X_train`,`X_val`,`Y_train`,`Y_val` for all members irrespective of group affiliation.\n"
   ]
  },
  {
   "cell_type": "code",
   "execution_count": null,
   "metadata": {
    "ExecuteTime": {
     "end_time": "2019-03-06T20:18:02.054828Z",
     "start_time": "2019-03-06T20:18:01.983028Z"
    }
   },
   "outputs": [],
   "source": []
  },
  {
   "cell_type": "markdown",
   "metadata": {},
   "source": [
    "##  Per Group Classifiers"
   ]
  },
  {
   "cell_type": "markdown",
   "metadata": {},
   "source": [
    "### Majority Group model"
   ]
  },
  {
   "cell_type": "markdown",
   "metadata": {
    "ExecuteTime": {
     "end_time": "2019-03-06T18:21:36.350628Z",
     "start_time": "2019-03-06T18:21:36.330628Z"
    }
   },
   "source": [
    "<div class=\"alert alert-block alert-info\"> Problem 1.0 </div>\n",
    "Fit an LDA model to the training examples where $a=1$"
   ]
  },
  {
   "cell_type": "code",
   "execution_count": null,
   "metadata": {
    "ExecuteTime": {
     "end_time": "2019-03-06T20:18:02.210228Z",
     "start_time": "2019-03-06T20:18:02.135328Z"
    }
   },
   "outputs": [],
   "source": []
  },
  {
   "cell_type": "markdown",
   "metadata": {},
   "source": [
    "<div class=\"alert alert-block alert-info\"> Problem 1.1 </div>\n",
    "Compute the model accuracy on the majority population $a=0$.\n",
    "\n",
    "Because of finite sample (we only have N=2,000 samples) you should get results close, but not identical to what you derived on the written homework."
   ]
  },
  {
   "cell_type": "code",
   "execution_count": null,
   "metadata": {
    "ExecuteTime": {
     "end_time": "2019-03-06T20:18:02.220228Z",
     "start_time": "2019-03-06T20:18:02.210228Z"
    }
   },
   "outputs": [],
   "source": []
  },
  {
   "cell_type": "markdown",
   "metadata": {},
   "source": [
    "<div class=\"alert alert-block alert-info\"> Problem 1.2 </div>\n",
    "Estimate  the rate of true positives and false negatives on the majority population $a=0$ using the validation data\n",
    "you set aside before.\n",
    "\n",
    "[HINT: The function `sklear.metrix.confusion_matrix may be useful]"
   ]
  },
  {
   "cell_type": "code",
   "execution_count": null,
   "metadata": {
    "ExecuteTime": {
     "end_time": "2019-03-06T20:18:02.239228Z",
     "start_time": "2019-03-06T20:18:02.220228Z"
    }
   },
   "outputs": [],
   "source": []
  },
  {
   "cell_type": "markdown",
   "metadata": {},
   "source": [
    "### Minority Group Model"
   ]
  },
  {
   "cell_type": "markdown",
   "metadata": {
    "ExecuteTime": {
     "end_time": "2019-03-06T18:26:36.504628Z",
     "start_time": "2019-03-06T18:26:36.482628Z"
    }
   },
   "source": [
    "<div class=\"alert alert-block alert-info\"> Problem 2.0 </div>\n",
    "Fit an LDA model to the training examples where $a=0$"
   ]
  },
  {
   "cell_type": "code",
   "execution_count": null,
   "metadata": {
    "ExecuteTime": {
     "end_time": "2019-03-06T20:18:02.358228Z",
     "start_time": "2019-03-06T20:18:02.328228Z"
    }
   },
   "outputs": [],
   "source": []
  },
  {
   "cell_type": "markdown",
   "metadata": {
    "ExecuteTime": {
     "end_time": "2019-03-06T18:28:41.697628Z",
     "start_time": "2019-03-06T18:28:41.675628Z"
    }
   },
   "source": [
    "<div class=\"alert alert-block alert-info\"> Problem 2.1 </div>\n",
    "Compute the model accuracy on the minority population $a=1$."
   ]
  },
  {
   "cell_type": "code",
   "execution_count": null,
   "metadata": {
    "ExecuteTime": {
     "end_time": "2019-03-06T20:18:02.396928Z",
     "start_time": "2019-03-06T20:18:02.358228Z"
    }
   },
   "outputs": [],
   "source": []
  },
  {
   "cell_type": "markdown",
   "metadata": {
    "ExecuteTime": {
     "end_time": "2019-03-06T18:29:39.436628Z",
     "start_time": "2019-03-06T18:29:39.417628Z"
    }
   },
   "source": [
    "<div class=\"alert alert-block alert-info\"> Problem 2.2 </div>\n",
    "Estimate  the rate of true positives and false negatives on the minority population $a=1$ using the validation data\n",
    "you set aside before."
   ]
  },
  {
   "cell_type": "code",
   "execution_count": null,
   "metadata": {
    "ExecuteTime": {
     "end_time": "2019-03-06T20:18:02.409428Z",
     "start_time": "2019-03-06T20:18:02.396928Z"
    }
   },
   "outputs": [],
   "source": []
  },
  {
   "cell_type": "markdown",
   "metadata": {
    "ExecuteTime": {
     "end_time": "2019-03-06T18:50:20.418628Z",
     "start_time": "2019-03-06T18:50:20.366628Z"
    }
   },
   "source": [
    "<div class=\"alert alert-block alert-info\"> Problem 2.3 </div>\n",
    "Calculate the accuracy on the overall population (including $a=0,1$) if we use different classifiers for $a=0$ and $a=1$"
   ]
  },
  {
   "cell_type": "code",
   "execution_count": null,
   "metadata": {
    "ExecuteTime": {
     "end_time": "2019-03-06T20:18:02.515628Z",
     "start_time": "2019-03-06T20:18:02.503128Z"
    }
   },
   "outputs": [],
   "source": []
  },
  {
   "cell_type": "markdown",
   "metadata": {},
   "source": [
    "## Fair (Anti-Classification) Model\n",
    "\n",
    "<div class=\"alert alert-block alert-info\"> Problem 3.1 </div>\n",
    "Train an LDA model using the whole dataset to predict $y$ based on $x$ without making use of the $a$ attribute."
   ]
  },
  {
   "cell_type": "code",
   "execution_count": null,
   "metadata": {
    "ExecuteTime": {
     "end_time": "2019-03-06T20:18:02.543128Z",
     "start_time": "2019-03-06T20:18:02.515628Z"
    }
   },
   "outputs": [],
   "source": []
  },
  {
   "cell_type": "markdown",
   "metadata": {},
   "source": [
    "<div class=\"alert alert-block alert-info\"> Problem 3.1 </div>\n",
    "Estimate the accuracy of the fair model"
   ]
  },
  {
   "cell_type": "code",
   "execution_count": null,
   "metadata": {
    "ExecuteTime": {
     "end_time": "2019-03-06T20:18:02.600628Z",
     "start_time": "2019-03-06T20:18:02.573128Z"
    }
   },
   "outputs": [],
   "source": []
  },
  {
   "cell_type": "markdown",
   "metadata": {},
   "source": [
    "<div class=\"alert alert-block alert-info\"> Problem 3.2 </div>\n",
    "Compute the accuracy the fair model when applied only to the majority population\n",
    "where $a=0$"
   ]
  },
  {
   "cell_type": "code",
   "execution_count": null,
   "metadata": {
    "ExecuteTime": {
     "end_time": "2019-03-06T20:18:02.628128Z",
     "start_time": "2019-03-06T20:18:02.600628Z"
    }
   },
   "outputs": [],
   "source": []
  },
  {
   "cell_type": "markdown",
   "metadata": {
    "ExecuteTime": {
     "end_time": "2019-03-06T20:20:12.936828Z",
     "start_time": "2019-03-06T20:20:12.890028Z"
    }
   },
   "source": [
    "<div class=\"alert alert-block alert-info\"> Problem 3.3 </div>\n",
    "Compute true positive and false positive rates for the majority population  ($a=0$)."
   ]
  },
  {
   "cell_type": "code",
   "execution_count": null,
   "metadata": {
    "ExecuteTime": {
     "end_time": "2019-03-06T20:18:02.676828Z",
     "start_time": "2019-03-06T20:18:02.674328Z"
    }
   },
   "outputs": [],
   "source": []
  },
  {
   "cell_type": "markdown",
   "metadata": {
    "ExecuteTime": {
     "end_time": "2019-03-06T18:48:15.064628Z",
     "start_time": "2019-03-06T18:48:15.040628Z"
    }
   },
   "source": [
    "<div class=\"alert alert-block alert-info\"> Problem 3.3 </div>\n",
    "Compute the accuracy the fair model when applied only to the majority population\n",
    "where $a=1$"
   ]
  },
  {
   "cell_type": "code",
   "execution_count": null,
   "metadata": {
    "ExecuteTime": {
     "end_time": "2019-03-06T20:18:02.756828Z",
     "start_time": "2019-03-06T20:18:02.731828Z"
    }
   },
   "outputs": [],
   "source": []
  },
  {
   "cell_type": "markdown",
   "metadata": {
    "ExecuteTime": {
     "end_time": "2019-03-06T20:21:13.306928Z",
     "start_time": "2019-03-06T20:21:13.260128Z"
    }
   },
   "source": [
    "<div class=\"alert alert-block alert-info\"> Problem 3.4 </div>\n",
    "Compute true positive and false positive rates for the minority population  ($a=1$)."
   ]
  },
  {
   "cell_type": "code",
   "execution_count": null,
   "metadata": {
    "ExecuteTime": {
     "end_time": "2019-03-06T20:18:02.795528Z",
     "start_time": "2019-03-06T20:18:02.756828Z"
    }
   },
   "outputs": [],
   "source": []
  }
 ],
 "metadata": {
  "kernelspec": {
   "display_name": "Python 3",
   "language": "python",
   "name": "python3"
  },
  "language_info": {
   "codemirror_mode": {
    "name": "ipython",
    "version": 3
   },
   "file_extension": ".py",
   "mimetype": "text/x-python",
   "name": "python",
   "nbconvert_exporter": "python",
   "pygments_lexer": "ipython3",
   "version": "3.7.3"
  },
  "toc": {
   "base_numbering": 1,
   "nav_menu": {},
   "number_sections": true,
   "sideBar": true,
   "skip_h1_title": true,
   "title_cell": "Table of Contents",
   "title_sidebar": "Contents",
   "toc_cell": false,
   "toc_position": {},
   "toc_section_display": true,
   "toc_window_display": true
  }
 },
 "nbformat": 4,
 "nbformat_minor": 2
}

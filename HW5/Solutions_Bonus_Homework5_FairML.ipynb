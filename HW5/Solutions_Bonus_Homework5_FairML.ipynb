{
 "cells": [
  {
   "cell_type": "markdown",
   "metadata": {
    "ExecuteTime": {
     "end_time": "2019-03-06T15:57:47.241128Z",
     "start_time": "2019-03-06T15:57:47.225528Z"
    }
   },
   "source": [
    "# Bonus Homework 5:  Fair Machine Learning\n",
    "\n",
    "The purpose of the data set is to compare classification of a mixed population (with a mixture of Gaussians distribution) with access and without access to the group attribute as worked out analytically on homework 5.\n",
    "\n",
    "The data was generated using the same assumptions used in written  homework 5 (problems 2 and 3). Completing  this notebook should help you verify your analytic calculations.\n",
    "\n",
    "When comparing results, take into account that this example here uses  only use a finite data sample (5,000 samples).  The empirically estimated rates should be close to the theoretical ones, but not identical."
   ]
  },
  {
   "cell_type": "markdown",
   "metadata": {},
   "source": [
    "## Preliminaries"
   ]
  },
  {
   "cell_type": "code",
   "execution_count": 1,
   "metadata": {
    "ExecuteTime": {
     "end_time": "2019-03-06T20:18:01.573228Z",
     "start_time": "2019-03-06T20:17:54.511328Z"
    }
   },
   "outputs": [],
   "source": [
    "import numpy as np\n",
    "import pandas as pd\n",
    "\n",
    "import matplotlib.pyplot  as plt \n",
    "\n",
    "from sklearn.discriminant_analysis import LinearDiscriminantAnalysis as LDA\n",
    "from sklearn.model_selection import train_test_split\n",
    "import sklearn.metrics as metrics\n",
    "\n",
    "%matplotlib inline"
   ]
  },
  {
   "cell_type": "markdown",
   "metadata": {},
   "source": [
    "## Prepare Data"
   ]
  },
  {
   "cell_type": "markdown",
   "metadata": {},
   "source": [
    "<div class=\"alert alert-block alert-info\"> Problem 0.1 </div>\n",
    "Read the file 'fair_ml_data.csv' provided with this homework set into a panda's data frame"
   ]
  },
  {
   "cell_type": "code",
   "execution_count": 2,
   "metadata": {
    "ExecuteTime": {
     "end_time": "2019-03-06T20:18:01.575728Z",
     "start_time": "2019-03-06T20:18:01.573228Z"
    }
   },
   "outputs": [],
   "source": [
    "data_dir=\"../data/fair_ml\"\n"
   ]
  },
  {
   "cell_type": "code",
   "execution_count": 3,
   "metadata": {
    "ExecuteTime": {
     "end_time": "2019-03-06T20:18:01.595728Z",
     "start_time": "2019-03-06T20:18:01.575728Z"
    }
   },
   "outputs": [],
   "source": [
    "filename=data_dir+\"/fair_ml_data.csv\""
   ]
  },
  {
   "cell_type": "code",
   "execution_count": 4,
   "metadata": {
    "ExecuteTime": {
     "end_time": "2019-03-06T20:18:01.841228Z",
     "start_time": "2019-03-06T20:18:01.598228Z"
    }
   },
   "outputs": [
    {
     "data": {
      "text/html": [
       "<div>\n",
       "<style scoped>\n",
       "    .dataframe tbody tr th:only-of-type {\n",
       "        vertical-align: middle;\n",
       "    }\n",
       "\n",
       "    .dataframe tbody tr th {\n",
       "        vertical-align: top;\n",
       "    }\n",
       "\n",
       "    .dataframe thead th {\n",
       "        text-align: right;\n",
       "    }\n",
       "</style>\n",
       "<table border=\"1\" class=\"dataframe\">\n",
       "  <thead>\n",
       "    <tr style=\"text-align: right;\">\n",
       "      <th></th>\n",
       "      <th>A</th>\n",
       "      <th>Y</th>\n",
       "      <th>X</th>\n",
       "    </tr>\n",
       "  </thead>\n",
       "  <tbody>\n",
       "    <tr>\n",
       "      <th>0</th>\n",
       "      <td>0</td>\n",
       "      <td>0</td>\n",
       "      <td>0.146392</td>\n",
       "    </tr>\n",
       "    <tr>\n",
       "      <th>1</th>\n",
       "      <td>0</td>\n",
       "      <td>0</td>\n",
       "      <td>-0.477548</td>\n",
       "    </tr>\n",
       "    <tr>\n",
       "      <th>2</th>\n",
       "      <td>0</td>\n",
       "      <td>0</td>\n",
       "      <td>-0.061700</td>\n",
       "    </tr>\n",
       "    <tr>\n",
       "      <th>3</th>\n",
       "      <td>0</td>\n",
       "      <td>1</td>\n",
       "      <td>-0.060675</td>\n",
       "    </tr>\n",
       "    <tr>\n",
       "      <th>4</th>\n",
       "      <td>0</td>\n",
       "      <td>1</td>\n",
       "      <td>0.029771</td>\n",
       "    </tr>\n",
       "    <tr>\n",
       "      <th>5</th>\n",
       "      <td>1</td>\n",
       "      <td>1</td>\n",
       "      <td>-0.769145</td>\n",
       "    </tr>\n",
       "    <tr>\n",
       "      <th>6</th>\n",
       "      <td>0</td>\n",
       "      <td>1</td>\n",
       "      <td>-0.198145</td>\n",
       "    </tr>\n",
       "    <tr>\n",
       "      <th>7</th>\n",
       "      <td>0</td>\n",
       "      <td>0</td>\n",
       "      <td>-0.961251</td>\n",
       "    </tr>\n",
       "    <tr>\n",
       "      <th>8</th>\n",
       "      <td>0</td>\n",
       "      <td>1</td>\n",
       "      <td>0.209669</td>\n",
       "    </tr>\n",
       "    <tr>\n",
       "      <th>9</th>\n",
       "      <td>0</td>\n",
       "      <td>1</td>\n",
       "      <td>0.374967</td>\n",
       "    </tr>\n",
       "  </tbody>\n",
       "</table>\n",
       "</div>"
      ],
      "text/plain": [
       "   A  Y         X\n",
       "0  0  0  0.146392\n",
       "1  0  0 -0.477548\n",
       "2  0  0 -0.061700\n",
       "3  0  1 -0.060675\n",
       "4  0  1  0.029771\n",
       "5  1  1 -0.769145\n",
       "6  0  1 -0.198145\n",
       "7  0  0 -0.961251\n",
       "8  0  1  0.209669\n",
       "9  0  1  0.374967"
      ]
     },
     "execution_count": 4,
     "metadata": {},
     "output_type": "execute_result"
    }
   ],
   "source": [
    "data_all=pd.read_csv(filename)\n",
    "data_all.head(10)"
   ]
  },
  {
   "cell_type": "markdown",
   "metadata": {
    "ExecuteTime": {
     "end_time": "2019-03-06T18:07:48.360628Z",
     "start_time": "2019-03-06T18:07:48.339628Z"
    }
   },
   "source": [
    "<div class=\"alert alert-block alert-info\"> Problem 0.2 </div>\n",
    "Split data in a 50% training  and 50% valuation sets"
   ]
  },
  {
   "cell_type": "code",
   "execution_count": 5,
   "metadata": {
    "ExecuteTime": {
     "end_time": "2019-03-06T20:18:01.856828Z",
     "start_time": "2019-03-06T20:18:01.841228Z"
    }
   },
   "outputs": [
    {
     "data": {
      "text/plain": [
       "((2500, 3), (2500, 3))"
      ]
     },
     "execution_count": 5,
     "metadata": {},
     "output_type": "execute_result"
    }
   ],
   "source": [
    "data_train,data_val=train_test_split(data_all,test_size=0.5)\n",
    "data_train.shape,data_val.shape"
   ]
  },
  {
   "cell_type": "markdown",
   "metadata": {},
   "source": [
    "<div class=\"alert alert-block alert-info\"> Problem 0.3 </div>\n",
    "\n",
    "In this problem set you will need to fit LDA models to \n",
    "1. the majority group $a=0$ \n",
    "2. minority group $a=1$\n",
    "3. to the whole data set irrespective of group affiliation. \n",
    "\n",
    "Prepare `numpy` arrays for training and validation so  that you can fit those three models:\n",
    "1. Arrays `X0_train`,`X0_val`,`Y0_train`,`Y0_val` for members of the majority group `a=0`.\n",
    "2. Arrays `X1_train`,`X1_val`,`Y1_train`,`Y1_val` for members of the minority group `a=1`.\n",
    "3. Arrays `X_train`,`X_val`,`Y_train`,`Y_val` for all members irrespective of group affiliation.\n"
   ]
  },
  {
   "cell_type": "markdown",
   "metadata": {},
   "source": [
    "<div class=\"alert alert-block alert-success\">  Majority Group Data $a=1$</div>"
   ]
  },
  {
   "cell_type": "code",
   "execution_count": 8,
   "metadata": {
    "ExecuteTime": {
     "end_time": "2019-03-06T20:18:01.909328Z",
     "start_time": "2019-03-06T20:18:01.876828Z"
    }
   },
   "outputs": [
    {
     "data": {
      "text/html": [
       "<div>\n",
       "<style scoped>\n",
       "    .dataframe tbody tr th:only-of-type {\n",
       "        vertical-align: middle;\n",
       "    }\n",
       "\n",
       "    .dataframe tbody tr th {\n",
       "        vertical-align: top;\n",
       "    }\n",
       "\n",
       "    .dataframe thead th {\n",
       "        text-align: right;\n",
       "    }\n",
       "</style>\n",
       "<table border=\"1\" class=\"dataframe\">\n",
       "  <thead>\n",
       "    <tr style=\"text-align: right;\">\n",
       "      <th></th>\n",
       "      <th>A</th>\n",
       "      <th>Y</th>\n",
       "      <th>X</th>\n",
       "    </tr>\n",
       "  </thead>\n",
       "  <tbody>\n",
       "    <tr>\n",
       "      <th>3023</th>\n",
       "      <td>0</td>\n",
       "      <td>0</td>\n",
       "      <td>-1.461510</td>\n",
       "    </tr>\n",
       "    <tr>\n",
       "      <th>1326</th>\n",
       "      <td>0</td>\n",
       "      <td>1</td>\n",
       "      <td>0.986742</td>\n",
       "    </tr>\n",
       "    <tr>\n",
       "      <th>368</th>\n",
       "      <td>0</td>\n",
       "      <td>0</td>\n",
       "      <td>-1.040235</td>\n",
       "    </tr>\n",
       "    <tr>\n",
       "      <th>4810</th>\n",
       "      <td>0</td>\n",
       "      <td>0</td>\n",
       "      <td>-0.183249</td>\n",
       "    </tr>\n",
       "    <tr>\n",
       "      <th>2444</th>\n",
       "      <td>0</td>\n",
       "      <td>1</td>\n",
       "      <td>1.140546</td>\n",
       "    </tr>\n",
       "    <tr>\n",
       "      <th>543</th>\n",
       "      <td>0</td>\n",
       "      <td>1</td>\n",
       "      <td>0.057791</td>\n",
       "    </tr>\n",
       "    <tr>\n",
       "      <th>4492</th>\n",
       "      <td>0</td>\n",
       "      <td>0</td>\n",
       "      <td>-0.550809</td>\n",
       "    </tr>\n",
       "    <tr>\n",
       "      <th>3521</th>\n",
       "      <td>0</td>\n",
       "      <td>0</td>\n",
       "      <td>-1.142724</td>\n",
       "    </tr>\n",
       "    <tr>\n",
       "      <th>1863</th>\n",
       "      <td>0</td>\n",
       "      <td>1</td>\n",
       "      <td>0.221725</td>\n",
       "    </tr>\n",
       "    <tr>\n",
       "      <th>1289</th>\n",
       "      <td>0</td>\n",
       "      <td>0</td>\n",
       "      <td>0.086744</td>\n",
       "    </tr>\n",
       "  </tbody>\n",
       "</table>\n",
       "</div>"
      ],
      "text/plain": [
       "      A  Y         X\n",
       "3023  0  0 -1.461510\n",
       "1326  0  1  0.986742\n",
       "368   0  0 -1.040235\n",
       "4810  0  0 -0.183249\n",
       "2444  0  1  1.140546\n",
       "543   0  1  0.057791\n",
       "4492  0  0 -0.550809\n",
       "3521  0  0 -1.142724\n",
       "1863  0  1  0.221725\n",
       "1289  0  0  0.086744"
      ]
     },
     "execution_count": 8,
     "metadata": {},
     "output_type": "execute_result"
    }
   ],
   "source": [
    "data0_train=data_train[data_train[\"A\"]==0]\n",
    "data0_train.head(10)"
   ]
  },
  {
   "cell_type": "code",
   "execution_count": 9,
   "metadata": {
    "ExecuteTime": {
     "end_time": "2019-03-06T20:18:01.948028Z",
     "start_time": "2019-03-06T20:18:01.909328Z"
    }
   },
   "outputs": [
    {
     "data": {
      "text/plain": [
       "((2005, 1), (2005,))"
      ]
     },
     "execution_count": 9,
     "metadata": {},
     "output_type": "execute_result"
    }
   ],
   "source": [
    "X0_train=data0_train[[\"X\"]].values\n",
    "Y0_train=data0_train[[\"Y\"]].values.ravel()\n",
    "X0_train.shape,Y0_train.shape"
   ]
  },
  {
   "cell_type": "code",
   "execution_count": 10,
   "metadata": {
    "ExecuteTime": {
     "end_time": "2019-03-06T20:18:01.963028Z",
     "start_time": "2019-03-06T20:18:01.948028Z"
    }
   },
   "outputs": [
    {
     "data": {
      "text/html": [
       "<div>\n",
       "<style scoped>\n",
       "    .dataframe tbody tr th:only-of-type {\n",
       "        vertical-align: middle;\n",
       "    }\n",
       "\n",
       "    .dataframe tbody tr th {\n",
       "        vertical-align: top;\n",
       "    }\n",
       "\n",
       "    .dataframe thead th {\n",
       "        text-align: right;\n",
       "    }\n",
       "</style>\n",
       "<table border=\"1\" class=\"dataframe\">\n",
       "  <thead>\n",
       "    <tr style=\"text-align: right;\">\n",
       "      <th></th>\n",
       "      <th>A</th>\n",
       "      <th>Y</th>\n",
       "      <th>X</th>\n",
       "    </tr>\n",
       "  </thead>\n",
       "  <tbody>\n",
       "    <tr>\n",
       "      <th>3553</th>\n",
       "      <td>0</td>\n",
       "      <td>0</td>\n",
       "      <td>-0.349195</td>\n",
       "    </tr>\n",
       "    <tr>\n",
       "      <th>3357</th>\n",
       "      <td>0</td>\n",
       "      <td>1</td>\n",
       "      <td>0.693833</td>\n",
       "    </tr>\n",
       "    <tr>\n",
       "      <th>4709</th>\n",
       "      <td>0</td>\n",
       "      <td>0</td>\n",
       "      <td>0.379126</td>\n",
       "    </tr>\n",
       "    <tr>\n",
       "      <th>2302</th>\n",
       "      <td>0</td>\n",
       "      <td>0</td>\n",
       "      <td>-0.987815</td>\n",
       "    </tr>\n",
       "    <tr>\n",
       "      <th>1637</th>\n",
       "      <td>0</td>\n",
       "      <td>0</td>\n",
       "      <td>-1.313846</td>\n",
       "    </tr>\n",
       "    <tr>\n",
       "      <th>2213</th>\n",
       "      <td>0</td>\n",
       "      <td>1</td>\n",
       "      <td>0.363108</td>\n",
       "    </tr>\n",
       "    <tr>\n",
       "      <th>3291</th>\n",
       "      <td>0</td>\n",
       "      <td>0</td>\n",
       "      <td>-0.246370</td>\n",
       "    </tr>\n",
       "    <tr>\n",
       "      <th>269</th>\n",
       "      <td>0</td>\n",
       "      <td>0</td>\n",
       "      <td>-0.476348</td>\n",
       "    </tr>\n",
       "    <tr>\n",
       "      <th>1094</th>\n",
       "      <td>0</td>\n",
       "      <td>1</td>\n",
       "      <td>0.228456</td>\n",
       "    </tr>\n",
       "    <tr>\n",
       "      <th>1729</th>\n",
       "      <td>0</td>\n",
       "      <td>1</td>\n",
       "      <td>1.027536</td>\n",
       "    </tr>\n",
       "  </tbody>\n",
       "</table>\n",
       "</div>"
      ],
      "text/plain": [
       "      A  Y         X\n",
       "3553  0  0 -0.349195\n",
       "3357  0  1  0.693833\n",
       "4709  0  0  0.379126\n",
       "2302  0  0 -0.987815\n",
       "1637  0  0 -1.313846\n",
       "2213  0  1  0.363108\n",
       "3291  0  0 -0.246370\n",
       "269   0  0 -0.476348\n",
       "1094  0  1  0.228456\n",
       "1729  0  1  1.027536"
      ]
     },
     "execution_count": 10,
     "metadata": {},
     "output_type": "execute_result"
    }
   ],
   "source": [
    "\n",
    "data0_val=data_val[data_val[\"A\"]==0]\n",
    "data0_val.head(10)"
   ]
  },
  {
   "cell_type": "code",
   "execution_count": 11,
   "metadata": {
    "ExecuteTime": {
     "end_time": "2019-03-06T20:18:01.983028Z",
     "start_time": "2019-03-06T20:18:01.963028Z"
    }
   },
   "outputs": [
    {
     "data": {
      "text/plain": [
       "((2010, 1), (2010,))"
      ]
     },
     "execution_count": 11,
     "metadata": {},
     "output_type": "execute_result"
    }
   ],
   "source": [
    "X0_val=data0_val[[\"X\"]].values\n",
    "Y0_val=data0_val[[\"Y\"]].values.ravel()\n",
    "X0_val.shape,Y0_val.shape"
   ]
  },
  {
   "cell_type": "markdown",
   "metadata": {},
   "source": [
    "<div class=\"alert alert-block alert-success\">  Minority Group Data $a=0$</div>"
   ]
  },
  {
   "cell_type": "code",
   "execution_count": 12,
   "metadata": {
    "ExecuteTime": {
     "end_time": "2019-03-06T20:18:02.054828Z",
     "start_time": "2019-03-06T20:18:01.983028Z"
    }
   },
   "outputs": [
    {
     "data": {
      "text/html": [
       "<div>\n",
       "<style scoped>\n",
       "    .dataframe tbody tr th:only-of-type {\n",
       "        vertical-align: middle;\n",
       "    }\n",
       "\n",
       "    .dataframe tbody tr th {\n",
       "        vertical-align: top;\n",
       "    }\n",
       "\n",
       "    .dataframe thead th {\n",
       "        text-align: right;\n",
       "    }\n",
       "</style>\n",
       "<table border=\"1\" class=\"dataframe\">\n",
       "  <thead>\n",
       "    <tr style=\"text-align: right;\">\n",
       "      <th></th>\n",
       "      <th>A</th>\n",
       "      <th>Y</th>\n",
       "      <th>X</th>\n",
       "    </tr>\n",
       "  </thead>\n",
       "  <tbody>\n",
       "    <tr>\n",
       "      <th>2797</th>\n",
       "      <td>1</td>\n",
       "      <td>1</td>\n",
       "      <td>-1.714137</td>\n",
       "    </tr>\n",
       "    <tr>\n",
       "      <th>1875</th>\n",
       "      <td>1</td>\n",
       "      <td>1</td>\n",
       "      <td>-0.637611</td>\n",
       "    </tr>\n",
       "    <tr>\n",
       "      <th>3194</th>\n",
       "      <td>1</td>\n",
       "      <td>1</td>\n",
       "      <td>-1.583844</td>\n",
       "    </tr>\n",
       "    <tr>\n",
       "      <th>4960</th>\n",
       "      <td>1</td>\n",
       "      <td>1</td>\n",
       "      <td>-1.750449</td>\n",
       "    </tr>\n",
       "    <tr>\n",
       "      <th>736</th>\n",
       "      <td>1</td>\n",
       "      <td>1</td>\n",
       "      <td>-0.678825</td>\n",
       "    </tr>\n",
       "    <tr>\n",
       "      <th>2335</th>\n",
       "      <td>1</td>\n",
       "      <td>0</td>\n",
       "      <td>1.680634</td>\n",
       "    </tr>\n",
       "    <tr>\n",
       "      <th>261</th>\n",
       "      <td>1</td>\n",
       "      <td>1</td>\n",
       "      <td>-0.959513</td>\n",
       "    </tr>\n",
       "    <tr>\n",
       "      <th>4939</th>\n",
       "      <td>1</td>\n",
       "      <td>0</td>\n",
       "      <td>1.432571</td>\n",
       "    </tr>\n",
       "    <tr>\n",
       "      <th>2637</th>\n",
       "      <td>1</td>\n",
       "      <td>1</td>\n",
       "      <td>-0.939767</td>\n",
       "    </tr>\n",
       "    <tr>\n",
       "      <th>2058</th>\n",
       "      <td>1</td>\n",
       "      <td>1</td>\n",
       "      <td>-0.669967</td>\n",
       "    </tr>\n",
       "  </tbody>\n",
       "</table>\n",
       "</div>"
      ],
      "text/plain": [
       "      A  Y         X\n",
       "2797  1  1 -1.714137\n",
       "1875  1  1 -0.637611\n",
       "3194  1  1 -1.583844\n",
       "4960  1  1 -1.750449\n",
       "736   1  1 -0.678825\n",
       "2335  1  0  1.680634\n",
       "261   1  1 -0.959513\n",
       "4939  1  0  1.432571\n",
       "2637  1  1 -0.939767\n",
       "2058  1  1 -0.669967"
      ]
     },
     "execution_count": 12,
     "metadata": {},
     "output_type": "execute_result"
    }
   ],
   "source": [
    "data1_train=data_train[data_train[\"A\"]==1]\n",
    "data1_train.head(10)"
   ]
  },
  {
   "cell_type": "code",
   "execution_count": 13,
   "metadata": {
    "ExecuteTime": {
     "end_time": "2019-03-06T20:18:02.070428Z",
     "start_time": "2019-03-06T20:18:02.054828Z"
    }
   },
   "outputs": [
    {
     "data": {
      "text/plain": [
       "((495, 1), (495,))"
      ]
     },
     "execution_count": 13,
     "metadata": {},
     "output_type": "execute_result"
    }
   ],
   "source": [
    "X1_train=data1_train[[\"X\"]].values\n",
    "Y1_train=data1_train[[\"Y\"]].values.ravel()\n",
    "X1_train.shape,Y1_train.shape"
   ]
  },
  {
   "cell_type": "code",
   "execution_count": 14,
   "metadata": {
    "ExecuteTime": {
     "end_time": "2019-03-06T20:18:02.101628Z",
     "start_time": "2019-03-06T20:18:02.070428Z"
    }
   },
   "outputs": [
    {
     "data": {
      "text/html": [
       "<div>\n",
       "<style scoped>\n",
       "    .dataframe tbody tr th:only-of-type {\n",
       "        vertical-align: middle;\n",
       "    }\n",
       "\n",
       "    .dataframe tbody tr th {\n",
       "        vertical-align: top;\n",
       "    }\n",
       "\n",
       "    .dataframe thead th {\n",
       "        text-align: right;\n",
       "    }\n",
       "</style>\n",
       "<table border=\"1\" class=\"dataframe\">\n",
       "  <thead>\n",
       "    <tr style=\"text-align: right;\">\n",
       "      <th></th>\n",
       "      <th>A</th>\n",
       "      <th>Y</th>\n",
       "      <th>X</th>\n",
       "    </tr>\n",
       "  </thead>\n",
       "  <tbody>\n",
       "    <tr>\n",
       "      <th>3898</th>\n",
       "      <td>1</td>\n",
       "      <td>0</td>\n",
       "      <td>-0.638472</td>\n",
       "    </tr>\n",
       "    <tr>\n",
       "      <th>4759</th>\n",
       "      <td>1</td>\n",
       "      <td>1</td>\n",
       "      <td>-1.948657</td>\n",
       "    </tr>\n",
       "    <tr>\n",
       "      <th>2435</th>\n",
       "      <td>1</td>\n",
       "      <td>0</td>\n",
       "      <td>0.711707</td>\n",
       "    </tr>\n",
       "    <tr>\n",
       "      <th>1890</th>\n",
       "      <td>1</td>\n",
       "      <td>1</td>\n",
       "      <td>-1.616460</td>\n",
       "    </tr>\n",
       "    <tr>\n",
       "      <th>3174</th>\n",
       "      <td>1</td>\n",
       "      <td>1</td>\n",
       "      <td>-0.709210</td>\n",
       "    </tr>\n",
       "    <tr>\n",
       "      <th>4898</th>\n",
       "      <td>1</td>\n",
       "      <td>1</td>\n",
       "      <td>-1.655591</td>\n",
       "    </tr>\n",
       "    <tr>\n",
       "      <th>4145</th>\n",
       "      <td>1</td>\n",
       "      <td>1</td>\n",
       "      <td>-1.335096</td>\n",
       "    </tr>\n",
       "    <tr>\n",
       "      <th>1520</th>\n",
       "      <td>1</td>\n",
       "      <td>0</td>\n",
       "      <td>1.033209</td>\n",
       "    </tr>\n",
       "    <tr>\n",
       "      <th>3301</th>\n",
       "      <td>1</td>\n",
       "      <td>1</td>\n",
       "      <td>-0.604999</td>\n",
       "    </tr>\n",
       "    <tr>\n",
       "      <th>2884</th>\n",
       "      <td>1</td>\n",
       "      <td>1</td>\n",
       "      <td>-1.420092</td>\n",
       "    </tr>\n",
       "  </tbody>\n",
       "</table>\n",
       "</div>"
      ],
      "text/plain": [
       "      A  Y         X\n",
       "3898  1  0 -0.638472\n",
       "4759  1  1 -1.948657\n",
       "2435  1  0  0.711707\n",
       "1890  1  1 -1.616460\n",
       "3174  1  1 -0.709210\n",
       "4898  1  1 -1.655591\n",
       "4145  1  1 -1.335096\n",
       "1520  1  0  1.033209\n",
       "3301  1  1 -0.604999\n",
       "2884  1  1 -1.420092"
      ]
     },
     "execution_count": 14,
     "metadata": {},
     "output_type": "execute_result"
    }
   ],
   "source": [
    "data1_val=data_val[data_val[\"A\"]==1]\n",
    "data1_val.head(10)"
   ]
  },
  {
   "cell_type": "code",
   "execution_count": 15,
   "metadata": {
    "ExecuteTime": {
     "end_time": "2019-03-06T20:18:02.119728Z",
     "start_time": "2019-03-06T20:18:02.101628Z"
    }
   },
   "outputs": [
    {
     "data": {
      "text/plain": [
       "((490, 1), (490,))"
      ]
     },
     "execution_count": 15,
     "metadata": {},
     "output_type": "execute_result"
    }
   ],
   "source": [
    "X1_val=data1_val[[\"X\"]].values\n",
    "Y1_val=data1_val[[\"Y\"]].values.ravel()\n",
    "X1_val.shape,Y1_val.shape"
   ]
  },
  {
   "cell_type": "markdown",
   "metadata": {
    "ExecuteTime": {
     "end_time": "2019-10-25T09:03:41.388570Z",
     "start_time": "2019-10-25T09:03:41.383811Z"
    }
   },
   "source": [
    "<div class=\"alert alert-block alert-success\">  All members  Data</div>"
   ]
  },
  {
   "cell_type": "code",
   "execution_count": 6,
   "metadata": {
    "ExecuteTime": {
     "end_time": "2019-03-06T20:18:01.861828Z",
     "start_time": "2019-03-06T20:18:01.856828Z"
    }
   },
   "outputs": [],
   "source": [
    "X_train=data_train[[\"X\"]].values\n",
    "Y_train=data_train[[\"Y\"]].values.ravel()"
   ]
  },
  {
   "cell_type": "code",
   "execution_count": 7,
   "metadata": {
    "ExecuteTime": {
     "end_time": "2019-03-06T20:18:01.876828Z",
     "start_time": "2019-03-06T20:18:01.864328Z"
    }
   },
   "outputs": [],
   "source": [
    "X_val=data_val[[\"X\"]].values\n",
    "Y_val=data_val[[\"Y\"]].values.ravel()"
   ]
  },
  {
   "cell_type": "markdown",
   "metadata": {},
   "source": [
    "##  Per Group Classifiers"
   ]
  },
  {
   "cell_type": "markdown",
   "metadata": {},
   "source": [
    "### Majority Group model"
   ]
  },
  {
   "cell_type": "markdown",
   "metadata": {
    "ExecuteTime": {
     "end_time": "2019-03-06T18:21:36.350628Z",
     "start_time": "2019-03-06T18:21:36.330628Z"
    }
   },
   "source": [
    "<div class=\"alert alert-block alert-info\"> Problem 1.0 </div>\n",
    "Fit an LDA model to the training examples where $a=1$"
   ]
  },
  {
   "cell_type": "code",
   "execution_count": 16,
   "metadata": {
    "ExecuteTime": {
     "end_time": "2019-03-06T20:18:02.210228Z",
     "start_time": "2019-03-06T20:18:02.135328Z"
    }
   },
   "outputs": [
    {
     "data": {
      "text/plain": [
       "LinearDiscriminantAnalysis(n_components=None, priors=None, shrinkage=None,\n",
       "              solver='svd', store_covariance=False, tol=0.0001)"
      ]
     },
     "execution_count": 16,
     "metadata": {},
     "output_type": "execute_result"
    }
   ],
   "source": [
    "model0=LDA()\n",
    "model0.fit(X0_train,Y0_train)"
   ]
  },
  {
   "cell_type": "markdown",
   "metadata": {},
   "source": [
    "<div class=\"alert alert-block alert-info\"> Problem 1.1 </div>\n",
    "Compute the model accuracy on the majority population $a=0$.\n",
    "\n",
    "Because of finite sample (we only have N=2,000 samples) you should get results close, but not identical to what you derived on the written homework."
   ]
  },
  {
   "cell_type": "code",
   "execution_count": 17,
   "metadata": {
    "ExecuteTime": {
     "end_time": "2019-03-06T20:18:02.220228Z",
     "start_time": "2019-03-06T20:18:02.210228Z"
    }
   },
   "outputs": [
    {
     "data": {
      "text/plain": [
       "0.8378109452736319"
      ]
     },
     "execution_count": 17,
     "metadata": {},
     "output_type": "execute_result"
    }
   ],
   "source": [
    "Y0_pred=model0.predict(X0_val)\n",
    "np.mean(Y0_pred==Y0_val)"
   ]
  },
  {
   "cell_type": "markdown",
   "metadata": {},
   "source": [
    "<div class=\"alert alert-block alert-info\"> Problem 1.2 </div>\n",
    "Estimate  the rate of true positives and false negatives on the majority population $a=0$ using the validation data\n",
    "you set aside before.\n",
    "\n",
    "[HINT: The function `sklear.metrix.confusion_matrix may be useful]"
   ]
  },
  {
   "cell_type": "code",
   "execution_count": 18,
   "metadata": {
    "ExecuteTime": {
     "end_time": "2019-03-06T20:18:02.239228Z",
     "start_time": "2019-03-06T20:18:02.220228Z"
    }
   },
   "outputs": [
    {
     "data": {
      "text/plain": [
       "array([[982, 162],\n",
       "       [164, 702]], dtype=int64)"
      ]
     },
     "execution_count": 18,
     "metadata": {},
     "output_type": "execute_result"
    }
   ],
   "source": [
    "cm0=metrics.confusion_matrix(Y0_val,Y0_pred)\n",
    "cm0"
   ]
  },
  {
   "cell_type": "code",
   "execution_count": 19,
   "metadata": {
    "ExecuteTime": {
     "end_time": "2019-03-06T20:18:02.268228Z",
     "start_time": "2019-03-06T20:18:02.241228Z"
    }
   },
   "outputs": [],
   "source": [
    "TN0=cm0[0,0]\n",
    "TP0=cm0[1,1]\n",
    "FP0=cm0[0,1]\n",
    "FN0=cm0[1,0]"
   ]
  },
  {
   "cell_type": "code",
   "execution_count": 20,
   "metadata": {
    "ExecuteTime": {
     "end_time": "2019-03-06T20:18:02.298228Z",
     "start_time": "2019-03-06T20:18:02.273228Z"
    }
   },
   "outputs": [
    {
     "data": {
      "text/plain": [
       "0.8106235565819861"
      ]
     },
     "execution_count": 20,
     "metadata": {},
     "output_type": "execute_result"
    }
   ],
   "source": [
    "tpr0= TP0/(TP0+FN0)\n",
    "tpr0"
   ]
  },
  {
   "cell_type": "code",
   "execution_count": 21,
   "metadata": {
    "ExecuteTime": {
     "end_time": "2019-03-06T20:18:02.328228Z",
     "start_time": "2019-03-06T20:18:02.298228Z"
    }
   },
   "outputs": [
    {
     "data": {
      "text/plain": [
       "0.14160839160839161"
      ]
     },
     "execution_count": 21,
     "metadata": {},
     "output_type": "execute_result"
    }
   ],
   "source": [
    "fpr0= FP0/(FP0+TN0)\n",
    "fpr0"
   ]
  },
  {
   "cell_type": "markdown",
   "metadata": {},
   "source": [
    "### Minority Group Model"
   ]
  },
  {
   "cell_type": "markdown",
   "metadata": {
    "ExecuteTime": {
     "end_time": "2019-03-06T18:26:36.504628Z",
     "start_time": "2019-03-06T18:26:36.482628Z"
    }
   },
   "source": [
    "<div class=\"alert alert-block alert-info\"> Problem 2.0 </div>\n",
    "Fit an LDA model to the training examples where $a=0$"
   ]
  },
  {
   "cell_type": "code",
   "execution_count": 22,
   "metadata": {
    "ExecuteTime": {
     "end_time": "2019-03-06T20:18:02.358228Z",
     "start_time": "2019-03-06T20:18:02.328228Z"
    }
   },
   "outputs": [
    {
     "data": {
      "text/plain": [
       "LinearDiscriminantAnalysis(n_components=None, priors=None, shrinkage=None,\n",
       "              solver='svd', store_covariance=False, tol=0.0001)"
      ]
     },
     "execution_count": 22,
     "metadata": {},
     "output_type": "execute_result"
    }
   ],
   "source": [
    "model1=LDA()\n",
    "model1.fit(X1_train,Y1_train)"
   ]
  },
  {
   "cell_type": "markdown",
   "metadata": {
    "ExecuteTime": {
     "end_time": "2019-03-06T18:28:41.697628Z",
     "start_time": "2019-03-06T18:28:41.675628Z"
    }
   },
   "source": [
    "<div class=\"alert alert-block alert-info\"> Problem 2.1 </div>\n",
    "Compute the model accuracy on the majority population $a=1$."
   ]
  },
  {
   "cell_type": "code",
   "execution_count": 23,
   "metadata": {
    "ExecuteTime": {
     "end_time": "2019-03-06T20:18:02.396928Z",
     "start_time": "2019-03-06T20:18:02.358228Z"
    }
   },
   "outputs": [
    {
     "data": {
      "text/plain": [
       "0.9877551020408163"
      ]
     },
     "execution_count": 23,
     "metadata": {},
     "output_type": "execute_result"
    }
   ],
   "source": [
    "Y1_pred=model1.predict(X1_val)\n",
    "np.mean(Y1_pred==Y1_val)"
   ]
  },
  {
   "cell_type": "markdown",
   "metadata": {
    "ExecuteTime": {
     "end_time": "2019-03-06T18:29:39.436628Z",
     "start_time": "2019-03-06T18:29:39.417628Z"
    }
   },
   "source": [
    "<div class=\"alert alert-block alert-info\"> Problem 2.2 </div>\n",
    "Estimate  the rate of true positives and false negatives on the minority population $a=1$ using the validation data\n",
    "you set aside before."
   ]
  },
  {
   "cell_type": "code",
   "execution_count": 24,
   "metadata": {
    "ExecuteTime": {
     "end_time": "2019-03-06T20:18:02.409428Z",
     "start_time": "2019-03-06T20:18:02.396928Z"
    }
   },
   "outputs": [
    {
     "data": {
      "text/plain": [
       "array([[121,   3],\n",
       "       [  3, 363]], dtype=int64)"
      ]
     },
     "execution_count": 24,
     "metadata": {},
     "output_type": "execute_result"
    }
   ],
   "source": [
    "cm1=metrics.confusion_matrix(Y1_val,Y1_pred)\n",
    "cm1"
   ]
  },
  {
   "cell_type": "code",
   "execution_count": 25,
   "metadata": {
    "ExecuteTime": {
     "end_time": "2019-03-06T20:18:02.434428Z",
     "start_time": "2019-03-06T20:18:02.409428Z"
    }
   },
   "outputs": [],
   "source": [
    "TN1=cm1[0,0]\n",
    "TP1=cm1[1,1]\n",
    "FP1=cm1[0,1]\n",
    "FN1=cm1[1,0]"
   ]
  },
  {
   "cell_type": "code",
   "execution_count": 26,
   "metadata": {
    "ExecuteTime": {
     "end_time": "2019-03-06T20:18:02.459428Z",
     "start_time": "2019-03-06T20:18:02.434428Z"
    }
   },
   "outputs": [
    {
     "data": {
      "text/plain": [
       "0.9918032786885246"
      ]
     },
     "execution_count": 26,
     "metadata": {},
     "output_type": "execute_result"
    }
   ],
   "source": [
    "tpr1= TP1/(TP1+FN1)\n",
    "tpr1"
   ]
  },
  {
   "cell_type": "code",
   "execution_count": 27,
   "metadata": {
    "ExecuteTime": {
     "end_time": "2019-03-06T20:18:02.503128Z",
     "start_time": "2019-03-06T20:18:02.459428Z"
    }
   },
   "outputs": [
    {
     "data": {
      "text/plain": [
       "0.024193548387096774"
      ]
     },
     "execution_count": 27,
     "metadata": {},
     "output_type": "execute_result"
    }
   ],
   "source": [
    "fpr1= FP1/(FP1+TN1)\n",
    "fpr1"
   ]
  },
  {
   "cell_type": "markdown",
   "metadata": {
    "ExecuteTime": {
     "end_time": "2019-03-06T18:50:20.418628Z",
     "start_time": "2019-03-06T18:50:20.366628Z"
    }
   },
   "source": [
    "<div class=\"alert alert-block alert-info\"> Problem 2.3 </div>\n",
    "Calculate the accuracy on the overall population (including $a=0,1$) if we use different classifiers for $a=0$ and $a=1$"
   ]
  },
  {
   "cell_type": "code",
   "execution_count": 28,
   "metadata": {
    "ExecuteTime": {
     "end_time": "2019-03-06T20:18:02.515628Z",
     "start_time": "2019-03-06T20:18:02.503128Z"
    }
   },
   "outputs": [
    {
     "data": {
      "text/plain": [
       "0.8672"
      ]
     },
     "execution_count": 28,
     "metadata": {},
     "output_type": "execute_result"
    }
   ],
   "source": [
    "(np.sum(Y0_pred==Y0_val)+np.sum(Y1_pred==Y1_val))/len(Y_val)"
   ]
  },
  {
   "cell_type": "markdown",
   "metadata": {},
   "source": [
    "## Fair (Anti-Classification) Model\n",
    "\n",
    "<div class=\"alert alert-block alert-info\"> Problem 3.1 </div>\n",
    "Train an LDA model using the whole dataset to predict $y$ based on $x$ without making use of the $a$ attribute."
   ]
  },
  {
   "cell_type": "code",
   "execution_count": 29,
   "metadata": {
    "ExecuteTime": {
     "end_time": "2019-03-06T20:18:02.543128Z",
     "start_time": "2019-03-06T20:18:02.515628Z"
    }
   },
   "outputs": [],
   "source": [
    "base_model=LDA()"
   ]
  },
  {
   "cell_type": "code",
   "execution_count": 30,
   "metadata": {
    "ExecuteTime": {
     "end_time": "2019-03-06T20:18:02.573128Z",
     "start_time": "2019-03-06T20:18:02.543128Z"
    }
   },
   "outputs": [
    {
     "data": {
      "text/plain": [
       "LinearDiscriminantAnalysis(n_components=None, priors=None, shrinkage=None,\n",
       "              solver='svd', store_covariance=False, tol=0.0001)"
      ]
     },
     "execution_count": 30,
     "metadata": {},
     "output_type": "execute_result"
    }
   ],
   "source": [
    "base_model.fit(X_train,Y_train)"
   ]
  },
  {
   "cell_type": "markdown",
   "metadata": {},
   "source": [
    "<div class=\"alert alert-block alert-info\"> Problem 3.1 </div>\n",
    "Estimate the accuracy of the fair model"
   ]
  },
  {
   "cell_type": "markdown",
   "metadata": {},
   "source": [
    "Accuracy of base model"
   ]
  },
  {
   "cell_type": "code",
   "execution_count": 31,
   "metadata": {
    "ExecuteTime": {
     "end_time": "2019-03-06T20:18:02.600628Z",
     "start_time": "2019-03-06T20:18:02.573128Z"
    }
   },
   "outputs": [
    {
     "data": {
      "text/plain": [
       "0.6536"
      ]
     },
     "execution_count": 31,
     "metadata": {},
     "output_type": "execute_result"
    }
   ],
   "source": [
    "Y_pred=base_model.predict(X_val)\n",
    "np.mean(Y_pred==Y_val)"
   ]
  },
  {
   "cell_type": "markdown",
   "metadata": {},
   "source": [
    "<div class=\"alert alert-block alert-info\"> Problem 3.2 </div>\n",
    "Compute the accuracy the fair model when applied only to the majority population\n",
    "where $a=0$"
   ]
  },
  {
   "cell_type": "code",
   "execution_count": 32,
   "metadata": {
    "ExecuteTime": {
     "end_time": "2019-03-06T20:18:02.628128Z",
     "start_time": "2019-03-06T20:18:02.600628Z"
    }
   },
   "outputs": [
    {
     "data": {
      "text/plain": [
       "0.800497512437811"
      ]
     },
     "execution_count": 32,
     "metadata": {},
     "output_type": "execute_result"
    }
   ],
   "source": [
    "Y0_pred=base_model.predict(X0_val)\n",
    "np.mean(Y0_pred==Y0_val)"
   ]
  },
  {
   "cell_type": "code",
   "execution_count": 33,
   "metadata": {
    "ExecuteTime": {
     "end_time": "2019-03-06T20:18:02.674328Z",
     "start_time": "2019-03-06T20:18:02.628128Z"
    }
   },
   "outputs": [
    {
     "data": {
      "text/plain": [
       "array([[820, 324],\n",
       "       [ 77, 789]], dtype=int64)"
      ]
     },
     "execution_count": 33,
     "metadata": {},
     "output_type": "execute_result"
    }
   ],
   "source": [
    "cm0=metrics.confusion_matrix(Y0_val,Y0_pred)\n",
    "cm0"
   ]
  },
  {
   "cell_type": "markdown",
   "metadata": {
    "ExecuteTime": {
     "end_time": "2019-03-06T20:20:12.936828Z",
     "start_time": "2019-03-06T20:20:12.890028Z"
    }
   },
   "source": [
    "<div class=\"alert alert-block alert-info\"> Problem 3.3 </div>\n",
    "Compute true positive and false positive rates for the majority population  ($a=0$)."
   ]
  },
  {
   "cell_type": "code",
   "execution_count": 34,
   "metadata": {
    "ExecuteTime": {
     "end_time": "2019-03-06T20:18:02.676828Z",
     "start_time": "2019-03-06T20:18:02.674328Z"
    }
   },
   "outputs": [],
   "source": [
    "TN0=cm0[0,0]\n",
    "TP0=cm0[1,1]\n",
    "FP0=cm0[0,1]\n",
    "FN0=cm0[1,0]"
   ]
  },
  {
   "cell_type": "code",
   "execution_count": 35,
   "metadata": {
    "ExecuteTime": {
     "end_time": "2019-03-06T20:18:02.704328Z",
     "start_time": "2019-03-06T20:18:02.676828Z"
    }
   },
   "outputs": [
    {
     "data": {
      "text/plain": [
       "0.9110854503464203"
      ]
     },
     "execution_count": 35,
     "metadata": {},
     "output_type": "execute_result"
    }
   ],
   "source": [
    "tpr0= TP0/(TP0+FN0)\n",
    "tpr0"
   ]
  },
  {
   "cell_type": "code",
   "execution_count": 36,
   "metadata": {
    "ExecuteTime": {
     "end_time": "2019-03-06T20:18:02.731828Z",
     "start_time": "2019-03-06T20:18:02.706828Z"
    }
   },
   "outputs": [
    {
     "data": {
      "text/plain": [
       "0.28321678321678323"
      ]
     },
     "execution_count": 36,
     "metadata": {},
     "output_type": "execute_result"
    }
   ],
   "source": [
    "fpr0= FP0/(FP0+TN0)\n",
    "fpr0"
   ]
  },
  {
   "cell_type": "markdown",
   "metadata": {
    "ExecuteTime": {
     "end_time": "2019-03-06T18:48:15.064628Z",
     "start_time": "2019-03-06T18:48:15.040628Z"
    }
   },
   "source": [
    "<div class=\"alert alert-block alert-info\"> Problem 3.3 </div>\n",
    "Compute the accuracy the fair model when applied only to the majority population\n",
    "where $a=1$"
   ]
  },
  {
   "cell_type": "code",
   "execution_count": 37,
   "metadata": {
    "ExecuteTime": {
     "end_time": "2019-03-06T20:18:02.756828Z",
     "start_time": "2019-03-06T20:18:02.731828Z"
    }
   },
   "outputs": [
    {
     "data": {
      "text/plain": [
       "0.05102040816326531"
      ]
     },
     "execution_count": 37,
     "metadata": {},
     "output_type": "execute_result"
    }
   ],
   "source": [
    "Y1_pred=base_model.predict(X1_val)\n",
    "np.mean(Y1_pred==Y1_val)"
   ]
  },
  {
   "cell_type": "markdown",
   "metadata": {
    "ExecuteTime": {
     "end_time": "2019-03-06T20:21:13.306928Z",
     "start_time": "2019-03-06T20:21:13.260128Z"
    }
   },
   "source": [
    "<div class=\"alert alert-block alert-info\"> Problem 3.4 </div>\n",
    "Compute true positive and false positive rates for the minority population  ($a=1$)."
   ]
  },
  {
   "cell_type": "code",
   "execution_count": 38,
   "metadata": {
    "ExecuteTime": {
     "end_time": "2019-03-06T20:18:02.795528Z",
     "start_time": "2019-03-06T20:18:02.756828Z"
    }
   },
   "outputs": [
    {
     "data": {
      "text/plain": [
       "array([[  2, 122],\n",
       "       [343,  23]], dtype=int64)"
      ]
     },
     "execution_count": 38,
     "metadata": {},
     "output_type": "execute_result"
    }
   ],
   "source": [
    "cm1=metrics.confusion_matrix(Y1_val,Y1_pred)\n",
    "cm1"
   ]
  },
  {
   "cell_type": "code",
   "execution_count": 39,
   "metadata": {
    "ExecuteTime": {
     "end_time": "2019-03-06T20:18:02.803028Z",
     "start_time": "2019-03-06T20:18:02.795528Z"
    }
   },
   "outputs": [],
   "source": [
    "TN1=cm1[0,0]\n",
    "TP1=cm1[1,1]\n",
    "FP1=cm1[0,1]\n",
    "FN1=cm1[1,0]"
   ]
  },
  {
   "cell_type": "code",
   "execution_count": 40,
   "metadata": {
    "ExecuteTime": {
     "end_time": "2019-03-06T20:18:02.830528Z",
     "start_time": "2019-03-06T20:18:02.803028Z"
    }
   },
   "outputs": [
    {
     "data": {
      "text/plain": [
       "0.06284153005464481"
      ]
     },
     "execution_count": 40,
     "metadata": {},
     "output_type": "execute_result"
    }
   ],
   "source": [
    "tpr1= TP1/(TP1+FN1)\n",
    "tpr1"
   ]
  },
  {
   "cell_type": "code",
   "execution_count": 41,
   "metadata": {
    "ExecuteTime": {
     "end_time": "2019-03-06T20:18:02.860528Z",
     "start_time": "2019-03-06T20:18:02.833028Z"
    }
   },
   "outputs": [
    {
     "data": {
      "text/plain": [
       "0.9838709677419355"
      ]
     },
     "execution_count": 41,
     "metadata": {},
     "output_type": "execute_result"
    }
   ],
   "source": [
    "fpr1= FP1/(FP1+TN1)\n",
    "fpr1"
   ]
  }
 ],
 "metadata": {
  "kernelspec": {
   "display_name": "Python 3",
   "language": "python",
   "name": "python3"
  },
  "language_info": {
   "codemirror_mode": {
    "name": "ipython",
    "version": 3
   },
   "file_extension": ".py",
   "mimetype": "text/x-python",
   "name": "python",
   "nbconvert_exporter": "python",
   "pygments_lexer": "ipython3",
   "version": "3.7.3"
  },
  "toc": {
   "base_numbering": 1,
   "nav_menu": {},
   "number_sections": true,
   "sideBar": true,
   "skip_h1_title": true,
   "title_cell": "Table of Contents",
   "title_sidebar": "Contents",
   "toc_cell": false,
   "toc_position": {
    "height": "calc(100% - 180px)",
    "left": "10px",
    "top": "150px",
    "width": "294.075px"
   },
   "toc_section_display": true,
   "toc_window_display": true
  }
 },
 "nbformat": 4,
 "nbformat_minor": 2
}

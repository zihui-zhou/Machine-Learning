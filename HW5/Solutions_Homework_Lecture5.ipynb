{
 "cells": [
  {
   "cell_type": "markdown",
   "metadata": {},
   "source": [
    "# Homework Lecture5"
   ]
  },
  {
   "cell_type": "markdown",
   "metadata": {},
   "source": [
    "LDA and Logistic Classification and Feature Development for MNIST Image sample"
   ]
  },
  {
   "cell_type": "markdown",
   "metadata": {},
   "source": [
    "## Preliminaries"
   ]
  },
  {
   "cell_type": "markdown",
   "metadata": {},
   "source": [
    "### Imports"
   ]
  },
  {
   "cell_type": "code",
   "execution_count": 1,
   "metadata": {
    "ExecuteTime": {
     "end_time": "2018-03-02T02:53:48.522285Z",
     "start_time": "2018-03-02T02:53:43.783853Z"
    },
    "collapsed": true
   },
   "outputs": [],
   "source": [
    "import pickle\n",
    "\n",
    "import numpy as np\n",
    "import pandas as pd\n",
    "import matplotlib.pyplot as plt\n",
    "\n",
    "from sklearn.discriminant_analysis import LinearDiscriminantAnalysis\n",
    "from sklearn.linear_model import LogisticRegression\n",
    "\n",
    "\n",
    "from sklearn.model_selection import train_test_split, KFold\n",
    "\n",
    "import sys\n",
    "sys.path.append(\"../..\")\n",
    "from E4525_ML import mnist\n",
    "from E4525_ML.multiclass_logistic import LogisticGDClassifier\n",
    "%matplotlib inline"
   ]
  },
  {
   "cell_type": "markdown",
   "metadata": {
    "ExecuteTime": {
     "end_time": "2018-02-15T11:06:16.497625Z",
     "start_time": "2018-02-15T11:06:16.466372Z"
    }
   },
   "source": [
    "### Random Seed"
   ]
  },
  {
   "cell_type": "code",
   "execution_count": 2,
   "metadata": {
    "ExecuteTime": {
     "end_time": "2018-03-02T02:53:48.537898Z",
     "start_time": "2018-03-02T02:53:48.522285Z"
    },
    "collapsed": true
   },
   "outputs": [],
   "source": [
    "seed=458\n",
    "np.random.seed(seed)"
   ]
  },
  {
   "cell_type": "markdown",
   "metadata": {},
   "source": [
    "### Data Directories"
   ]
  },
  {
   "cell_type": "code",
   "execution_count": 3,
   "metadata": {
    "ExecuteTime": {
     "end_time": "2018-03-02T02:53:48.561796Z",
     "start_time": "2018-03-02T02:53:48.537898Z"
    },
    "collapsed": true
   },
   "outputs": [],
   "source": [
    "data_dir=r\"../../raw/mnist/\""
   ]
  },
  {
   "cell_type": "markdown",
   "metadata": {},
   "source": [
    "## Read Data"
   ]
  },
  {
   "cell_type": "markdown",
   "metadata": {},
   "source": [
    "<div class=\"alert alert-block alert-info\"> Problem 1.0 </div>\n",
    "Read MNIST data set and labels,  also read the MNMIST test data set and test labels"
   ]
  },
  {
   "cell_type": "code",
   "execution_count": 4,
   "metadata": {
    "ExecuteTime": {
     "end_time": "2018-03-02T02:53:49.201245Z",
     "start_time": "2018-03-02T02:53:48.563202Z"
    }
   },
   "outputs": [
    {
     "name": "stdout",
     "output_type": "stream",
     "text": [
      "(60000, 28, 28) (60000,)\n"
     ]
    }
   ],
   "source": [
    "    images_filename=data_dir+\"train-images-idx3-ubyte.gz\"\n",
    "    labels_filename=data_dir+\"train-labels-idx1-ubyte.gz\"\n",
    "\n",
    "    test_images_filename=data_dir+\"t10k-images-idx3-ubyte.gz\"\n",
    "    test_labels_filename=data_dir+\"t10k-labels-idx1-ubyte.gz\"\n",
    "\n",
    "    images=mnist.read_images(images_filename)\n",
    "    labels=mnist.read_labels(labels_filename)\n",
    "    \n",
    "    test_images=mnist.read_images(test_images_filename)\n",
    "    test_labels=mnist.read_labels(test_labels_filename)\n",
    "    \n",
    "    print(images.shape,labels.shape)"
   ]
  },
  {
   "cell_type": "markdown",
   "metadata": {
    "ExecuteTime": {
     "end_time": "2018-01-21T22:03:06.235419Z",
     "start_time": "2018-01-21T22:03:06.219795Z"
    }
   },
   "source": [
    "<div class=\"alert alert-block alert-info\"> Problem 1.2 </div>\n",
    "Use `skelearn`'s `train_test_split` function to separate the MNIST samples into  a 15% validation set and a  training sample.\n"
   ]
  },
  {
   "cell_type": "code",
   "execution_count": 5,
   "metadata": {
    "ExecuteTime": {
     "end_time": "2018-03-02T02:53:49.370644Z",
     "start_time": "2018-03-02T02:53:49.201245Z"
    }
   },
   "outputs": [
    {
     "data": {
      "text/plain": [
       "((51000, 28, 28), (9000, 28, 28))"
      ]
     },
     "execution_count": 5,
     "metadata": {},
     "output_type": "execute_result"
    }
   ],
   "source": [
    "images_train,images_val,labels_train,labels_val=train_test_split(images,labels,test_size=0.15)\n",
    "images_train.shape,images_val.shape"
   ]
  },
  {
   "cell_type": "markdown",
   "metadata": {},
   "source": [
    "## LDA"
   ]
  },
  {
   "cell_type": "markdown",
   "metadata": {
    "ExecuteTime": {
     "end_time": "2018-01-21T22:09:15.766264Z",
     "start_time": "2018-01-21T22:09:15.750639Z"
    }
   },
   "source": [
    "<div class=\"alert alert-block alert-info\"> Problem 2.1 </div>\n",
    "fit an LDA model on the training data set"
   ]
  },
  {
   "cell_type": "code",
   "execution_count": 6,
   "metadata": {
    "ExecuteTime": {
     "end_time": "2018-03-02T02:53:56.122416Z",
     "start_time": "2018-03-02T02:53:49.370644Z"
    }
   },
   "outputs": [
    {
     "name": "stderr",
     "output_type": "stream",
     "text": [
      "C:\\ProgramData\\Anaconda3\\lib\\site-packages\\sklearn\\discriminant_analysis.py:387: UserWarning: Variables are collinear.\n",
      "  warnings.warn(\"Variables are collinear.\")\n"
     ]
    },
    {
     "data": {
      "text/plain": [
       "LinearDiscriminantAnalysis(n_components=None, priors=None, shrinkage=None,\n",
       "              solver='svd', store_covariance=False, tol=0.0001)"
      ]
     },
     "execution_count": 6,
     "metadata": {},
     "output_type": "execute_result"
    }
   ],
   "source": [
    "model=LinearDiscriminantAnalysis()\n",
    "model.fit(images_train.reshape(len(images_train),-1),labels_train)"
   ]
  },
  {
   "cell_type": "markdown",
   "metadata": {
    "ExecuteTime": {
     "end_time": "2018-02-27T23:22:08.665966Z",
     "start_time": "2018-02-27T23:22:08.656899Z"
    }
   },
   "source": [
    "<div class=\"alert alert-block alert-info\"> Problem 2.2 </div>\n",
    "Compute model accuracy on the training set"
   ]
  },
  {
   "cell_type": "code",
   "execution_count": 7,
   "metadata": {
    "ExecuteTime": {
     "end_time": "2018-03-02T02:53:56.250935Z",
     "start_time": "2018-03-02T02:53:56.124604Z"
    }
   },
   "outputs": [
    {
     "data": {
      "text/plain": [
       "('Training accuracy', 0.87211764705882355)"
      ]
     },
     "execution_count": 7,
     "metadata": {},
     "output_type": "execute_result"
    }
   ],
   "source": [
    "Y_pred=model.predict(images_train.reshape(len(images_train),-1))\n",
    "\"Training accuracy\",np.mean(Y_pred==labels_train)"
   ]
  },
  {
   "cell_type": "markdown",
   "metadata": {
    "ExecuteTime": {
     "end_time": "2018-02-27T23:22:33.457547Z",
     "start_time": "2018-02-27T23:22:33.449526Z"
    }
   },
   "source": [
    "<div class=\"alert alert-block alert-info\"> Problem 2.3 </div>\n",
    "Compute accuracy of the model on the validation set"
   ]
  },
  {
   "cell_type": "code",
   "execution_count": 8,
   "metadata": {
    "ExecuteTime": {
     "end_time": "2018-03-02T02:53:56.284022Z",
     "start_time": "2018-03-02T02:53:56.253442Z"
    }
   },
   "outputs": [
    {
     "data": {
      "text/plain": [
       "('Validation accuracy', 0.86477777777777776)"
      ]
     },
     "execution_count": 8,
     "metadata": {},
     "output_type": "execute_result"
    }
   ],
   "source": [
    "Y_pred=model.predict(images_val.reshape(len(images_val),-1))\n",
    "\"Validation accuracy\",np.mean(Y_pred==labels_val)"
   ]
  },
  {
   "cell_type": "markdown",
   "metadata": {},
   "source": [
    "## Logistic Regression"
   ]
  },
  {
   "cell_type": "markdown",
   "metadata": {},
   "source": [
    "<div class=\"alert alert-block alert-info\"> Problem 3.1 </div>\n",
    "\n",
    "Use the `LogisticGDClassifier` class from `E4525_ML.multiclass_logistic` module to fit a logistic model"
   ]
  },
  {
   "cell_type": "code",
   "execution_count": 9,
   "metadata": {
    "ExecuteTime": {
     "end_time": "2018-03-02T02:54:18.808353Z",
     "start_time": "2018-03-02T02:53:56.286028Z"
    }
   },
   "outputs": [
    {
     "name": "stdout",
     "output_type": "stream",
     "text": [
      "\t 0 Loss = 2371.93402487 Train_Accuracy 0.07 Evaluation Loss = 2361.71508727 Accuracy = 0.074\n",
      "\t 10 Loss = 241.973233903 Train_Accuracy 0.923 Evaluation Loss = 286.917511869 Accuracy = 0.917\n",
      "\t 20 Loss = 246.977401865 Train_Accuracy 0.927 Evaluation Loss = 270.820700789 Accuracy = 0.929\n",
      "\t 30 Loss = 211.514657894 Train_Accuracy 0.936 Evaluation Loss = 280.82263712 Accuracy = 0.921\n",
      "\t 40 Loss = 297.338538704 Train_Accuracy 0.922 Evaluation Loss = 291.958969499 Accuracy = 0.927\n",
      "\t 50 Loss = 215.526658685 Train_Accuracy 0.933 Evaluation Loss = 322.493619841 Accuracy = 0.919\n",
      "\t 60 Loss = 230.03199764 Train_Accuracy 0.93 Evaluation Loss = 241.338675769 Accuracy = 0.936\n",
      "\t 70 Loss = 224.457288023 Train_Accuracy 0.935 Evaluation Loss = 319.988976253 Accuracy = 0.913\n",
      "\t 80 Loss = 216.871540811 Train_Accuracy 0.939 Evaluation Loss = 249.979327898 Accuracy = 0.931\n",
      "\t 90 Loss = 251.477731453 Train_Accuracy 0.93 Evaluation Loss = 322.836290933 Accuracy = 0.904\n",
      "\t 99 Loss = 248.914335198 Train_Accuracy 0.93 Evaluation Loss = 297.1138059 Accuracy = 0.917\n"
     ]
    }
   ],
   "source": [
    "model=LogisticGDClassifier()\n",
    "model.fit(images_train.reshape(len(images_train),-1),labels_train,\n",
    "          # for display only\n",
    "         images_val.reshape(len(images_val),-1),labels_val)"
   ]
  },
  {
   "cell_type": "markdown",
   "metadata": {},
   "source": [
    "<div class=\"alert alert-block alert-info\"> Problem 3.2 </div>\n",
    "Compute model accuracy in the training data set"
   ]
  },
  {
   "cell_type": "code",
   "execution_count": 10,
   "metadata": {
    "ExecuteTime": {
     "end_time": "2018-03-02T02:54:18.909580Z",
     "start_time": "2018-03-02T02:54:18.808353Z"
    }
   },
   "outputs": [
    {
     "data": {
      "text/plain": [
       "0.93462745098039213"
      ]
     },
     "execution_count": 10,
     "metadata": {},
     "output_type": "execute_result"
    }
   ],
   "source": [
    "Y_pred=model.predict(images_train.reshape(len(images_train),-1))\n",
    "np.mean(Y_pred==labels_train)"
   ]
  },
  {
   "cell_type": "markdown",
   "metadata": {
    "ExecuteTime": {
     "end_time": "2018-02-28T11:10:43.634394Z",
     "start_time": "2018-02-28T11:10:43.627379Z"
    }
   },
   "source": [
    "<div class=\"alert alert-block alert-info\"> Problem 3.3 </div>\n",
    "Compute model accuracy in the valuation data set"
   ]
  },
  {
   "cell_type": "code",
   "execution_count": 11,
   "metadata": {
    "ExecuteTime": {
     "end_time": "2018-03-02T02:54:18.941595Z",
     "start_time": "2018-03-02T02:54:18.909580Z"
    }
   },
   "outputs": [
    {
     "data": {
      "text/plain": [
       "0.92100000000000004"
      ]
     },
     "execution_count": 11,
     "metadata": {},
     "output_type": "execute_result"
    }
   ],
   "source": [
    "Y_pred=model.predict(images_val.reshape(len(images_val),-1))\n",
    "np.mean(Y_pred==labels_val)"
   ]
  },
  {
   "cell_type": "markdown",
   "metadata": {},
   "source": [
    "## Feature Engineering in one Dimension"
   ]
  },
  {
   "cell_type": "code",
   "execution_count": 12,
   "metadata": {
    "ExecuteTime": {
     "end_time": "2018-03-02T02:54:18.953092Z",
     "start_time": "2018-03-02T02:54:18.945578Z"
    },
    "collapsed": true
   },
   "outputs": [],
   "source": [
    "N=50\n",
    "N_val=1000"
   ]
  },
  {
   "cell_type": "code",
   "execution_count": 13,
   "metadata": {
    "ExecuteTime": {
     "end_time": "2018-03-02T02:54:18.968123Z",
     "start_time": "2018-03-02T02:54:18.957105Z"
    },
    "collapsed": true
   },
   "outputs": [],
   "source": [
    "def f(x):\n",
    "    return 10*(1-4*(np.abs(np.abs(x)-1)))"
   ]
  },
  {
   "cell_type": "code",
   "execution_count": 14,
   "metadata": {
    "ExecuteTime": {
     "end_time": "2018-03-02T02:54:18.988127Z",
     "start_time": "2018-03-02T02:54:18.972126Z"
    },
    "collapsed": true
   },
   "outputs": [],
   "source": [
    "def generate_sample(N):\n",
    "    X=np.random.uniform(-2,2,N)\n",
    "    eta=f(X)\n",
    "    eta.shape\n",
    "    theta=1/(1+np.exp(-eta))\n",
    "    Y= np.random.uniform(0,1,N)>theta\n",
    "    return X,Y"
   ]
  },
  {
   "cell_type": "markdown",
   "metadata": {},
   "source": [
    "<div class=\"alert alert-block alert-info\"> Problem 4.0 </div>\n",
    "Generate a training sample of variables $X$ and $Y$ with $N$ data points, and separate valuation and test samples\n",
    "with $N_val$ datap points."
   ]
  },
  {
   "cell_type": "code",
   "execution_count": 15,
   "metadata": {
    "ExecuteTime": {
     "end_time": "2018-03-02T02:54:19.004123Z",
     "start_time": "2018-03-02T02:54:18.988127Z"
    },
    "collapsed": true
   },
   "outputs": [],
   "source": [
    "X_train,Y_train=generate_sample(N)\n",
    "X_val,Y_val=generate_sample(N_val)\n",
    "X_test,Y_test=generate_sample(N_val)"
   ]
  },
  {
   "cell_type": "markdown",
   "metadata": {
    "ExecuteTime": {
     "end_time": "2018-02-28T17:55:32.365942Z",
     "start_time": "2018-02-28T17:55:32.347942Z"
    }
   },
   "source": [
    "<div class=\"alert alert-block alert-info\"> Problem 4.1 </div>\n",
    "What is the proportion of positive class ($Y=1$) samples on the training data?"
   ]
  },
  {
   "cell_type": "code",
   "execution_count": 16,
   "metadata": {
    "ExecuteTime": {
     "end_time": "2018-03-02T02:54:19.032124Z",
     "start_time": "2018-03-02T02:54:19.008125Z"
    }
   },
   "outputs": [
    {
     "data": {
      "text/plain": [
       "0.71999999999999997"
      ]
     },
     "execution_count": 16,
     "metadata": {},
     "output_type": "execute_result"
    }
   ],
   "source": [
    "np.mean(Y_train)"
   ]
  },
  {
   "cell_type": "markdown",
   "metadata": {
    "ExecuteTime": {
     "end_time": "2018-02-28T17:39:04.058942Z",
     "start_time": "2018-02-28T17:39:04.050942Z"
    }
   },
   "source": [
    "<div class=\"alert alert-block alert-info\"> Problem 4.2 </div>\n",
    "Write a function able to generate the feature matrix\n",
    "$$\n",
    "    H_{i,d}= h_d(x_i)\n",
    "$$\n",
    "for $i=1,\\dots N$ and $d=1,\\dots D$\n",
    "\n",
    "where the functions $h_d(x)$ are defined as \n",
    "$$\n",
    "    h_d(x) = x^d\n",
    "$$"
   ]
  },
  {
   "cell_type": "code",
   "execution_count": 17,
   "metadata": {
    "ExecuteTime": {
     "end_time": "2018-03-02T02:54:19.051637Z",
     "start_time": "2018-03-02T02:54:19.036124Z"
    },
    "collapsed": true
   },
   "outputs": [],
   "source": [
    "def polynomial_features(X,D):\n",
    "    features=[]\n",
    "    for d in range(1,D+1):\n",
    "        hd=X**d\n",
    "        features.append(hd)\n",
    "    return np.vstack(features).T"
   ]
  },
  {
   "cell_type": "markdown",
   "metadata": {
    "ExecuteTime": {
     "end_time": "2018-02-28T17:42:00.116942Z",
     "start_time": "2018-02-28T17:42:00.110942Z"
    }
   },
   "source": [
    "<div class=\"alert alert-block alert-info\"> Problem 4.3 </div>\n",
    "We will train  logistic regression models (use sklearn `LogisticRegression` class) over the training data you already generated. \n",
    "\n",
    "\n",
    "Use the valuation set you already generated to select the best value of $D$, also plot accuracy on the  training and valuation sets as a function of $D$.\n",
    "\n",
    "[HINT]\n",
    "1. You only need to consider the range $D=1,\\dots D=10$.\n",
    "2. Remember to disable regularization by setting the parameter $C$ of the `LogisticRegression` class to a very large number.\n",
    "\n"
   ]
  },
  {
   "cell_type": "code",
   "execution_count": 18,
   "metadata": {
    "ExecuteTime": {
     "end_time": "2018-03-02T02:54:19.096174Z",
     "start_time": "2018-03-02T02:54:19.054645Z"
    }
   },
   "outputs": [
    {
     "name": "stdout",
     "output_type": "stream",
     "text": [
      "1 0.72 0.731\n",
      "2 0.72 0.731\n",
      "3 0.86 0.792\n",
      "4 0.96 0.891\n",
      "5 0.96 0.923\n",
      "6 0.96 0.915\n",
      "7 0.96 0.9\n",
      "8 0.96 0.909\n",
      "9 0.96 0.882\n",
      "10 0.96 0.898\n",
      "Best 5 0.923\n"
     ]
    }
   ],
   "source": [
    "train_accuracies=[]\n",
    "val_accuracies=[]\n",
    "\n",
    "Ds=range(1,11)\n",
    "for D in Ds:\n",
    "    H_train=polynomial_features(X_train,D)\n",
    "    model=LogisticRegression(C=1e40)\n",
    "    model.fit(H_train,Y_train)\n",
    "    Y_pred=model.predict(H_train)\n",
    "    train_accuracy=np.mean(Y_pred==Y_train)\n",
    "    train_accuracies.append(train_accuracy)\n",
    "    H_val=polynomial_features(X_val,D)\n",
    "    Y_pred=model.predict(H_val)\n",
    "    val_accuracy=np.mean(Y_pred==Y_val) \n",
    "    val_accuracies.append(val_accuracy)\n",
    "    print(D,train_accuracy,val_accuracy)\n",
    "val_accuracies=np.array(val_accuracies)\n",
    "best_idx=val_accuracies.argmax()\n",
    "best_D=Ds[best_idx]\n",
    "print(\"Best\",best_D,val_accuracies[best_idx])  "
   ]
  },
  {
   "cell_type": "code",
   "execution_count": 19,
   "metadata": {
    "ExecuteTime": {
     "end_time": "2018-03-02T02:54:19.300275Z",
     "start_time": "2018-03-02T02:54:19.096174Z"
    }
   },
   "outputs": [
    {
     "data": {
      "text/plain": [
       "[<matplotlib.lines.Line2D at 0x1d68f967128>]"
      ]
     },
     "execution_count": 19,
     "metadata": {},
     "output_type": "execute_result"
    },
    {
     "data": {
      "image/png": "[encoded data removed]",
      "text/plain": [
       "<matplotlib.figure.Figure at 0x1d68fbb68d0>"
      ]
     },
     "metadata": {},
     "output_type": "display_data"
    }
   ],
   "source": [
    "plt.plot(Ds,val_accuracies)"
   ]
  },
  {
   "cell_type": "markdown",
   "metadata": {},
   "source": [
    "<div class=\"alert alert-block alert-info\"> Problem 4.4 </div>\n",
    "Use the test set you already generated to measure the accuracy for the optimal classifier you have found\n",
    "(do not use data from the  valuation set to train the classifier)"
   ]
  },
  {
   "cell_type": "code",
   "execution_count": 20,
   "metadata": {
    "ExecuteTime": {
     "end_time": "2018-03-02T02:54:19.312275Z",
     "start_time": "2018-03-02T02:54:19.300275Z"
    }
   },
   "outputs": [
    {
     "name": "stdout",
     "output_type": "stream",
     "text": [
      "Test Accuracy 0.933\n"
     ]
    }
   ],
   "source": [
    "H_train=polynomial_features(X_train,best_D)\n",
    "model=LogisticRegression(C=1e40)\n",
    "model.fit(H_train,Y_train)\n",
    "H_test=polynomial_features(X_test,best_D)\n",
    "Y_pred=model.predict(H_test)\n",
    "test_accuracy=np.mean(Y_pred==Y_test) \n",
    "print(\"Test Accuracy\",test_accuracy)"
   ]
  },
  {
   "cell_type": "markdown",
   "metadata": {},
   "source": [
    "## Feature Engineering for MNIST sample"
   ]
  },
  {
   "cell_type": "markdown",
   "metadata": {},
   "source": [
    "<div class=\"alert alert-block alert-info\"> Problem 5.1 </div>\n",
    "In this problem we will use `mnist.ImageFeatureModel` class to find the optimal number of orientations $\\theta$  of the oriented gradients\n",
    "features for the MNIST data set.\n",
    "\n",
    "1. use `mnist.ImageFeatureModel` to generate image oriented gradient features.\n",
    "2. use  `LogisticGDClassifier` as the base model\n",
    "3. set the block size to 4 \n",
    "4. select the best number of orientations by performing  5-Fold cross validation on the full MNIST data set.\n",
    "5. Consider only [1,2,4,8] as possible values for the orientation\n",
    "6. Plot number of orientations vs validation accuracy\n",
    "\n",
    "[HINT] to `valiation_model` function below will be useful to perform cross-validation"
   ]
  },
  {
   "cell_type": "code",
   "execution_count": 21,
   "metadata": {
    "ExecuteTime": {
     "end_time": "2018-03-02T02:54:19.351788Z",
     "start_time": "2018-03-02T02:54:19.312275Z"
    },
    "collapsed": true
   },
   "outputs": [],
   "source": [
    "def validate_model(model,K,X,Y):\n",
    "    folder=KFold(K,shuffle=True)\n",
    "    folds=folder.split(X,Y)\n",
    "    val_error=0.0\n",
    "    fold_count=0\n",
    "    for fold in folds:\n",
    "        train_idx,val_idx=fold\n",
    "        x_train=X[train_idx]\n",
    "        y_train=Y[train_idx]\n",
    "        x_val=X[val_idx]\n",
    "        y_val=Y[val_idx]     \n",
    "        model.fit(x_train,y_train)\n",
    "        y_pred=model.predict(x_val)\n",
    "        val_err=np.mean(y_val==y_pred)\n",
    "        #print(y_pred)\n",
    "        val_error+=val_err\n",
    "        fold_count+=1\n",
    "        print(fold_count,val_err)\n",
    "    return val_error/K\n",
    "      "
   ]
  },
  {
   "cell_type": "code",
   "execution_count": 22,
   "metadata": {
    "ExecuteTime": {
     "end_time": "2018-03-02T03:14:27.026220Z",
     "start_time": "2018-03-02T02:54:19.356299Z"
    }
   },
   "outputs": [
    {
     "name": "stdout",
     "output_type": "stream",
     "text": [
      "\t 0 Loss = 2284.24766048 Train_Accuracy 0.125 \n",
      "\t 10 Loss = 557.426414386 Train_Accuracy 0.836 \n",
      "\t 20 Loss = 511.526745603 Train_Accuracy 0.849 \n",
      "\t 30 Loss = 506.540144123 Train_Accuracy 0.861 \n",
      "\t 40 Loss = 503.296292931 Train_Accuracy 0.834 \n",
      "\t 50 Loss = 425.369758057 Train_Accuracy 0.873 \n",
      "\t 60 Loss = 482.066491927 Train_Accuracy 0.857 \n",
      "\t 70 Loss = 447.989698541 Train_Accuracy 0.839 \n",
      "\t 80 Loss = 476.333354796 Train_Accuracy 0.856 \n",
      "\t 90 Loss = 401.105346972 Train_Accuracy 0.876 \n",
      "\t 99 Loss = 405.630319225 Train_Accuracy 0.878 \n",
      "1 0.863833333333\n",
      "\t 0 Loss = 2290.99398618 Train_Accuracy 0.127 \n",
      "\t 10 Loss = 561.798978673 Train_Accuracy 0.841 \n",
      "\t 20 Loss = 530.653306568 Train_Accuracy 0.835 \n",
      "\t 30 Loss = 530.260717508 Train_Accuracy 0.837 \n",
      "\t 40 Loss = 494.074594696 Train_Accuracy 0.849 \n",
      "\t 50 Loss = 467.495589829 Train_Accuracy 0.843 \n",
      "\t 60 Loss = 417.525813517 Train_Accuracy 0.888 \n",
      "\t 70 Loss = 467.905168692 Train_Accuracy 0.85 \n",
      "\t 80 Loss = 448.10910172 Train_Accuracy 0.867 \n",
      "\t 86 Loss = 463.164703614 Train_Accuracy 0.85 \n",
      "2 0.863916666667\n",
      "\t 0 Loss = 2321.51512325 Train_Accuracy 0.078 \n",
      "\t 10 Loss = 591.32691904 Train_Accuracy 0.834 \n",
      "\t 20 Loss = 563.050477291 Train_Accuracy 0.835 \n",
      "\t 30 Loss = 517.3360104 Train_Accuracy 0.838 \n",
      "\t 40 Loss = 475.482853972 Train_Accuracy 0.851 \n",
      "\t 50 Loss = 448.098234269 Train_Accuracy 0.854 \n",
      "\t 60 Loss = 469.794611477 Train_Accuracy 0.855 \n",
      "\t 70 Loss = 475.436017301 Train_Accuracy 0.852 \n",
      "\t 78 Loss = 444.003739551 Train_Accuracy 0.855 \n",
      "3 0.86125\n",
      "\t 0 Loss = 2303.09639153 Train_Accuracy 0.122 \n",
      "\t 10 Loss = 585.075111654 Train_Accuracy 0.834 \n",
      "\t 20 Loss = 513.776340595 Train_Accuracy 0.851 \n",
      "\t 30 Loss = 499.087829947 Train_Accuracy 0.861 \n",
      "\t 40 Loss = 456.82751394 Train_Accuracy 0.871 \n",
      "\t 50 Loss = 504.295523845 Train_Accuracy 0.85 \n",
      "\t 60 Loss = 432.200707414 Train_Accuracy 0.871 \n",
      "\t 70 Loss = 454.590383224 Train_Accuracy 0.864 \n",
      "\t 80 Loss = 503.115007559 Train_Accuracy 0.852 \n",
      "\t 87 Loss = 457.166681294 Train_Accuracy 0.863 \n",
      "4 0.8615\n",
      "\t 0 Loss = 2306.09683806 Train_Accuracy 0.097 \n",
      "\t 10 Loss = 592.474782769 Train_Accuracy 0.826 \n",
      "\t 20 Loss = 515.905920148 Train_Accuracy 0.84 \n",
      "\t 30 Loss = 503.349113644 Train_Accuracy 0.846 \n",
      "\t 40 Loss = 539.723352085 Train_Accuracy 0.824 \n",
      "\t 50 Loss = 492.629260567 Train_Accuracy 0.85 \n",
      "\t 60 Loss = 392.171401697 Train_Accuracy 0.889 \n",
      "\t 70 Loss = 437.533148647 Train_Accuracy 0.875 \n",
      "\t 80 Loss = 433.938699551 Train_Accuracy 0.876 \n",
      "\t 90 Loss = 419.21382619 Train_Accuracy 0.867 \n",
      "\t 99 Loss = 431.730273024 Train_Accuracy 0.87 \n",
      "5 0.858083333333\n",
      "orientation= 1 0.861716666667\n",
      "\t 0 Loss = 2317.38286985 Train_Accuracy 0.062 \n",
      "\t 10 Loss = 341.193211613 Train_Accuracy 0.896 \n",
      "\t 20 Loss = 245.146832207 Train_Accuracy 0.929 \n",
      "\t 30 Loss = 229.683263092 Train_Accuracy 0.938 \n",
      "\t 40 Loss = 204.397386541 Train_Accuracy 0.931 \n",
      "\t 50 Loss = 191.044937423 Train_Accuracy 0.947 \n",
      "\t 60 Loss = 164.452144471 Train_Accuracy 0.953 \n",
      "\t 70 Loss = 211.403474056 Train_Accuracy 0.938 \n",
      "\t 80 Loss = 160.464719291 Train_Accuracy 0.955 \n",
      "\t 90 Loss = 183.193193636 Train_Accuracy 0.945 \n",
      "\t 99 Loss = 190.811473431 Train_Accuracy 0.945 \n",
      "1 0.945666666667\n",
      "\t 0 Loss = 2301.67913599 Train_Accuracy 0.061 \n",
      "\t 10 Loss = 297.096706407 Train_Accuracy 0.925 \n",
      "\t 20 Loss = 252.554495799 Train_Accuracy 0.934 \n",
      "\t 30 Loss = 239.290117644 Train_Accuracy 0.937 \n",
      "\t 40 Loss = 229.682193466 Train_Accuracy 0.933 \n",
      "\t 50 Loss = 169.298592854 Train_Accuracy 0.951 \n",
      "\t 60 Loss = 178.802148338 Train_Accuracy 0.947 \n",
      "\t 70 Loss = 189.089250554 Train_Accuracy 0.944 \n",
      "\t 80 Loss = 197.38855566 Train_Accuracy 0.943 \n",
      "\t 90 Loss = 153.342241162 Train_Accuracy 0.958 \n",
      "\t 99 Loss = 162.183047863 Train_Accuracy 0.952 \n",
      "2 0.9485\n",
      "\t 0 Loss = 2312.63856547 Train_Accuracy 0.108 \n",
      "\t 10 Loss = 292.717375608 Train_Accuracy 0.924 \n",
      "\t 20 Loss = 253.942852594 Train_Accuracy 0.928 \n",
      "\t 30 Loss = 227.035211545 Train_Accuracy 0.938 \n",
      "\t 40 Loss = 208.579709758 Train_Accuracy 0.942 \n",
      "\t 50 Loss = 207.127370373 Train_Accuracy 0.937 \n",
      "\t 60 Loss = 171.987218051 Train_Accuracy 0.953 \n",
      "\t 70 Loss = 192.383773379 Train_Accuracy 0.945 \n",
      "\t 80 Loss = 155.74353003 Train_Accuracy 0.958 \n",
      "\t 90 Loss = 156.35169084 Train_Accuracy 0.949 \n",
      "\t 99 Loss = 178.282241035 Train_Accuracy 0.951 \n",
      "3 0.946833333333\n",
      "\t 0 Loss = 2287.79264113 Train_Accuracy 0.155 \n",
      "\t 10 Loss = 303.689877687 Train_Accuracy 0.921 \n",
      "\t 20 Loss = 257.537772183 Train_Accuracy 0.936 \n",
      "\t 30 Loss = 197.734466245 Train_Accuracy 0.95 \n",
      "\t 40 Loss = 216.969509957 Train_Accuracy 0.938 \n",
      "\t 50 Loss = 173.203235327 Train_Accuracy 0.955 \n",
      "\t 60 Loss = 152.249051585 Train_Accuracy 0.955 \n",
      "\t 70 Loss = 167.286973084 Train_Accuracy 0.948 \n",
      "\t 80 Loss = 205.964433249 Train_Accuracy 0.937 \n",
      "\t 90 Loss = 202.569395701 Train_Accuracy 0.934 \n",
      "\t 99 Loss = 162.360643807 Train_Accuracy 0.951 \n",
      "4 0.948416666667\n",
      "\t 0 Loss = 2308.38353703 Train_Accuracy 0.139 \n",
      "\t 10 Loss = 340.401691485 Train_Accuracy 0.91 \n",
      "\t 20 Loss = 242.866757998 Train_Accuracy 0.925 \n",
      "\t 30 Loss = 220.306521001 Train_Accuracy 0.93 \n",
      "\t 40 Loss = 197.910017488 Train_Accuracy 0.937 \n",
      "\t 50 Loss = 200.174197343 Train_Accuracy 0.937 \n",
      "\t 60 Loss = 204.969910905 Train_Accuracy 0.944 \n",
      "\t 70 Loss = 168.352539541 Train_Accuracy 0.948 \n",
      "\t 80 Loss = 157.190503512 Train_Accuracy 0.956 \n",
      "\t 90 Loss = 162.196126771 Train_Accuracy 0.952 \n",
      "\t 99 Loss = 208.834931091 Train_Accuracy 0.937 \n",
      "5 0.950416666667\n",
      "orientation= 2 0.947966666667\n",
      "\t 0 Loss = 2310.28305577 Train_Accuracy 0.109 \n",
      "\t 10 Loss = 278.039205734 Train_Accuracy 0.922 \n",
      "\t 20 Loss = 174.67088352 Train_Accuracy 0.954 \n",
      "\t 30 Loss = 151.313422069 Train_Accuracy 0.958 \n",
      "\t 40 Loss = 163.442861556 Train_Accuracy 0.955 \n",
      "\t 50 Loss = 145.501613481 Train_Accuracy 0.965 \n",
      "\t 60 Loss = 134.116882085 Train_Accuracy 0.962 \n",
      "\t 70 Loss = 135.401517316 Train_Accuracy 0.965 \n",
      "\t 80 Loss = 133.629603976 Train_Accuracy 0.96 \n",
      "\t 90 Loss = 115.805932694 Train_Accuracy 0.965 \n",
      "\t 99 Loss = 121.917075265 Train_Accuracy 0.967 \n",
      "1 0.967833333333\n",
      "\t 0 Loss = 2296.75104515 Train_Accuracy 0.12 \n",
      "\t 10 Loss = 225.107072808 Train_Accuracy 0.938 \n",
      "\t 20 Loss = 182.832834382 Train_Accuracy 0.957 \n",
      "\t 30 Loss = 153.629869885 Train_Accuracy 0.96 \n",
      "\t 40 Loss = 129.502144174 Train_Accuracy 0.968 \n",
      "\t 50 Loss = 165.288441482 Train_Accuracy 0.955 \n",
      "\t 60 Loss = 135.459335407 Train_Accuracy 0.961 \n",
      "\t 70 Loss = 119.259858467 Train_Accuracy 0.965 \n",
      "\t 80 Loss = 136.98457565 Train_Accuracy 0.961 \n",
      "\t 90 Loss = 148.463895422 Train_Accuracy 0.965 \n",
      "\t 99 Loss = 125.793294908 Train_Accuracy 0.966 \n",
      "2 0.96625\n",
      "\t 0 Loss = 2320.43386005 Train_Accuracy 0.077 \n",
      "\t 10 Loss = 217.85452991 Train_Accuracy 0.954 \n",
      "\t 20 Loss = 214.178315483 Train_Accuracy 0.942 \n",
      "\t 30 Loss = 156.972447771 Train_Accuracy 0.965 \n",
      "\t 40 Loss = 139.277357015 Train_Accuracy 0.968 \n",
      "\t 50 Loss = 134.709642056 Train_Accuracy 0.96 \n",
      "\t 60 Loss = 163.875093406 Train_Accuracy 0.958 \n",
      "\t 70 Loss = 166.897201543 Train_Accuracy 0.953 \n",
      "\t 80 Loss = 107.675460437 Train_Accuracy 0.974 \n",
      "\t 90 Loss = 114.605935953 Train_Accuracy 0.966 \n",
      "\t 99 Loss = 117.846330642 Train_Accuracy 0.972 \n",
      "3 0.968833333333\n",
      "\t 0 Loss = 2323.28912004 Train_Accuracy 0.039 \n",
      "\t 10 Loss = 210.158768165 Train_Accuracy 0.958 \n",
      "\t 20 Loss = 166.52911545 Train_Accuracy 0.958 \n",
      "\t 30 Loss = 156.357485532 Train_Accuracy 0.963 \n",
      "\t 40 Loss = 150.511024139 Train_Accuracy 0.962 \n",
      "\t 50 Loss = 142.472312566 Train_Accuracy 0.963 \n",
      "\t 60 Loss = 149.668513728 Train_Accuracy 0.957 \n",
      "\t 70 Loss = 125.504199471 Train_Accuracy 0.962 \n",
      "\t 80 Loss = 100.439350836 Train_Accuracy 0.975 \n",
      "\t 90 Loss = 119.344603128 Train_Accuracy 0.967 \n",
      "\t 99 Loss = 120.228477542 Train_Accuracy 0.97 \n",
      "4 0.965666666667\n",
      "\t 0 Loss = 2312.05846182 Train_Accuracy 0.071 \n",
      "\t 10 Loss = 258.779723341 Train_Accuracy 0.93 \n",
      "\t 20 Loss = 201.51760504 Train_Accuracy 0.941 \n",
      "\t 30 Loss = 137.112508867 Train_Accuracy 0.973 \n",
      "\t 40 Loss = 167.294976226 Train_Accuracy 0.959 \n",
      "\t 50 Loss = 144.538743345 Train_Accuracy 0.959 \n",
      "\t 60 Loss = 120.290711652 Train_Accuracy 0.972 \n",
      "\t 70 Loss = 117.833919592 Train_Accuracy 0.967 \n",
      "\t 80 Loss = 108.934303424 Train_Accuracy 0.975 \n",
      "\t 90 Loss = 136.212442483 Train_Accuracy 0.957 \n",
      "\t 99 Loss = 107.332040259 Train_Accuracy 0.975 \n",
      "5 0.965333333333\n",
      "orientation= 4 0.966783333333\n",
      "\t 0 Loss = 2314.16192599 Train_Accuracy 0.106 \n",
      "\t 10 Loss = 164.685404778 Train_Accuracy 0.957 \n",
      "\t 20 Loss = 127.519059408 Train_Accuracy 0.966 \n",
      "\t 30 Loss = 138.033356922 Train_Accuracy 0.96 \n",
      "\t 40 Loss = 137.596904233 Train_Accuracy 0.962 \n"
     ]
    },
    {
     "name": "stdout",
     "output_type": "stream",
     "text": [
      "\t 50 Loss = 83.4589377219 Train_Accuracy 0.973 \n",
      "\t 60 Loss = 90.3600821877 Train_Accuracy 0.975 \n",
      "\t 70 Loss = 99.6097972007 Train_Accuracy 0.974 \n",
      "\t 80 Loss = 87.3776622749 Train_Accuracy 0.971 \n",
      "\t 90 Loss = 104.251189792 Train_Accuracy 0.972 \n",
      "\t 99 Loss = 87.4454357134 Train_Accuracy 0.973 \n",
      "1 0.972583333333\n",
      "\t 0 Loss = 2316.89158987 Train_Accuracy 0.07 \n",
      "\t 10 Loss = 163.514623952 Train_Accuracy 0.959 \n",
      "\t 20 Loss = 159.678992165 Train_Accuracy 0.958 \n",
      "\t 30 Loss = 118.469763337 Train_Accuracy 0.976 \n",
      "\t 40 Loss = 111.915227624 Train_Accuracy 0.967 \n",
      "\t 50 Loss = 117.246383176 Train_Accuracy 0.966 \n",
      "\t 60 Loss = 102.895999709 Train_Accuracy 0.975 \n",
      "\t 70 Loss = 88.2990850082 Train_Accuracy 0.981 \n",
      "\t 80 Loss = 105.704107167 Train_Accuracy 0.971 \n",
      "\t 90 Loss = 107.855943739 Train_Accuracy 0.975 \n",
      "\t 99 Loss = 83.1591467615 Train_Accuracy 0.981 \n",
      "2 0.972416666667\n",
      "\t 0 Loss = 2288.196081 Train_Accuracy 0.164 \n",
      "\t 10 Loss = 185.91246824 Train_Accuracy 0.945 \n",
      "\t 20 Loss = 147.341722379 Train_Accuracy 0.966 \n",
      "\t 30 Loss = 136.510650703 Train_Accuracy 0.959 \n",
      "\t 40 Loss = 132.696527317 Train_Accuracy 0.966 \n",
      "\t 50 Loss = 102.42435017 Train_Accuracy 0.97 \n",
      "\t 60 Loss = 89.9695624501 Train_Accuracy 0.978 \n",
      "\t 70 Loss = 91.5599871204 Train_Accuracy 0.974 \n",
      "\t 80 Loss = 107.584693007 Train_Accuracy 0.972 \n",
      "\t 90 Loss = 108.637446571 Train_Accuracy 0.964 \n",
      "\t 99 Loss = 82.0910168008 Train_Accuracy 0.98 \n",
      "3 0.970833333333\n",
      "\t 0 Loss = 2315.73928491 Train_Accuracy 0.087 \n",
      "\t 10 Loss = 183.775388114 Train_Accuracy 0.956 \n",
      "\t 20 Loss = 161.663651162 Train_Accuracy 0.958 \n",
      "\t 30 Loss = 116.991093063 Train_Accuracy 0.968 \n",
      "\t 40 Loss = 141.160582084 Train_Accuracy 0.963 \n",
      "\t 50 Loss = 110.919749624 Train_Accuracy 0.968 \n",
      "\t 60 Loss = 111.119743549 Train_Accuracy 0.97 \n",
      "\t 70 Loss = 88.8371457899 Train_Accuracy 0.982 \n",
      "\t 80 Loss = 85.9917489465 Train_Accuracy 0.98 \n",
      "\t 90 Loss = 97.1518658764 Train_Accuracy 0.976 \n",
      "\t 99 Loss = 91.8876578034 Train_Accuracy 0.973 \n",
      "4 0.971833333333\n",
      "\t 0 Loss = 2317.91003163 Train_Accuracy 0.082 \n",
      "\t 10 Loss = 179.227793258 Train_Accuracy 0.949 \n",
      "\t 20 Loss = 156.437610113 Train_Accuracy 0.95 \n",
      "\t 30 Loss = 122.270277662 Train_Accuracy 0.968 \n",
      "\t 40 Loss = 110.630019625 Train_Accuracy 0.974 \n",
      "\t 50 Loss = 121.534476265 Train_Accuracy 0.967 \n",
      "\t 60 Loss = 111.755179483 Train_Accuracy 0.969 \n",
      "\t 70 Loss = 101.472678153 Train_Accuracy 0.974 \n",
      "\t 80 Loss = 110.919986838 Train_Accuracy 0.964 \n",
      "\t 90 Loss = 100.282525463 Train_Accuracy 0.97 \n",
      "\t 99 Loss = 76.3161087278 Train_Accuracy 0.985 \n",
      "5 0.97325\n",
      "orientation= 8 0.972183333333\n",
      "\t 0 Loss = 2307.31893624 Train_Accuracy 0.07 \n",
      "\t 10 Loss = 154.924989002 Train_Accuracy 0.957 \n",
      "\t 20 Loss = 94.9008863369 Train_Accuracy 0.978 \n",
      "\t 30 Loss = 112.148356048 Train_Accuracy 0.97 \n",
      "\t 40 Loss = 129.277028786 Train_Accuracy 0.959 \n",
      "\t 50 Loss = 90.6687322658 Train_Accuracy 0.969 \n",
      "\t 60 Loss = 84.4635681039 Train_Accuracy 0.978 \n",
      "\t 70 Loss = 84.7972160247 Train_Accuracy 0.981 \n",
      "\t 80 Loss = 89.5703758317 Train_Accuracy 0.97 \n",
      "\t 90 Loss = 83.0080593112 Train_Accuracy 0.981 \n",
      "\t 94 Loss = 72.4751324091 Train_Accuracy 0.983 \n",
      "1 0.975583333333\n",
      "\t 0 Loss = 2322.074871 Train_Accuracy 0.093 \n",
      "\t 10 Loss = 139.780244734 Train_Accuracy 0.964 \n",
      "\t 20 Loss = 133.487627739 Train_Accuracy 0.968 \n",
      "\t 30 Loss = 108.748843955 Train_Accuracy 0.972 \n",
      "\t 40 Loss = 87.6134387912 Train_Accuracy 0.973 \n",
      "\t 50 Loss = 117.148219142 Train_Accuracy 0.972 \n",
      "\t 60 Loss = 79.3747026 Train_Accuracy 0.976 \n",
      "\t 70 Loss = 84.3760064707 Train_Accuracy 0.975 \n",
      "\t 79 Loss = 65.6564876977 Train_Accuracy 0.979 \n",
      "2 0.973916666667\n",
      "\t 0 Loss = 2300.70022734 Train_Accuracy 0.146 \n",
      "\t 10 Loss = 163.572867048 Train_Accuracy 0.958 \n",
      "\t 20 Loss = 103.41415076 Train_Accuracy 0.977 \n",
      "\t 30 Loss = 100.327392354 Train_Accuracy 0.971 \n",
      "\t 40 Loss = 78.5235844365 Train_Accuracy 0.977 \n",
      "\t 50 Loss = 115.295828186 Train_Accuracy 0.965 \n",
      "\t 60 Loss = 84.0855837784 Train_Accuracy 0.977 \n",
      "\t 70 Loss = 91.2006195803 Train_Accuracy 0.976 \n",
      "\t 80 Loss = 66.9674486082 Train_Accuracy 0.983 \n",
      "\t 90 Loss = 74.1534011405 Train_Accuracy 0.986 \n",
      "\t 99 Loss = 70.6541872656 Train_Accuracy 0.978 \n",
      "3 0.974\n",
      "\t 0 Loss = 2310.82888345 Train_Accuracy 0.138 \n",
      "\t 10 Loss = 174.113128173 Train_Accuracy 0.952 \n",
      "\t 20 Loss = 129.229383353 Train_Accuracy 0.966 \n",
      "\t 30 Loss = 97.1500394085 Train_Accuracy 0.97 \n",
      "\t 40 Loss = 94.9896918245 Train_Accuracy 0.976 \n",
      "\t 50 Loss = 88.0560343698 Train_Accuracy 0.974 \n",
      "\t 60 Loss = 96.8934613343 Train_Accuracy 0.974 \n",
      "\t 64 Loss = 83.1409159536 Train_Accuracy 0.976 \n",
      "4 0.974833333333\n",
      "\t 0 Loss = 2298.53995891 Train_Accuracy 0.083 \n",
      "\t 10 Loss = 122.502814372 Train_Accuracy 0.965 \n",
      "\t 20 Loss = 133.162054422 Train_Accuracy 0.969 \n",
      "\t 30 Loss = 88.1896712425 Train_Accuracy 0.977 \n",
      "\t 40 Loss = 80.3374571469 Train_Accuracy 0.978 \n",
      "\t 50 Loss = 99.5527726144 Train_Accuracy 0.969 \n",
      "\t 60 Loss = 104.106125701 Train_Accuracy 0.977 \n",
      "\t 70 Loss = 82.7924439822 Train_Accuracy 0.972 \n",
      "\t 77 Loss = 87.0697275656 Train_Accuracy 0.98 \n",
      "5 0.975166666667\n",
      "orientation= 16 0.9747\n",
      "\t 0 Loss = 2312.02792377 Train_Accuracy 0.038 \n",
      "\t 10 Loss = 136.199824447 Train_Accuracy 0.959 \n",
      "\t 20 Loss = 103.153209994 Train_Accuracy 0.973 \n",
      "\t 30 Loss = 75.3531591761 Train_Accuracy 0.981 \n",
      "\t 40 Loss = 80.9319230429 Train_Accuracy 0.978 \n",
      "\t 50 Loss = 82.7497858185 Train_Accuracy 0.978 \n",
      "\t 60 Loss = 75.56207805 Train_Accuracy 0.983 \n",
      "\t 70 Loss = 72.2336752642 Train_Accuracy 0.98 \n",
      "\t 80 Loss = 90.8449108644 Train_Accuracy 0.979 \n",
      "\t 90 Loss = 60.2667372527 Train_Accuracy 0.981 \n",
      "\t 99 Loss = 44.4594963126 Train_Accuracy 0.99 \n",
      "1 0.9745\n",
      "\t 0 Loss = 2311.31850994 Train_Accuracy 0.09 \n",
      "\t 10 Loss = 110.383661843 Train_Accuracy 0.971 \n",
      "\t 20 Loss = 104.906847797 Train_Accuracy 0.966 \n",
      "\t 30 Loss = 72.8990691713 Train_Accuracy 0.982 \n",
      "\t 40 Loss = 62.1562492603 Train_Accuracy 0.981 \n",
      "\t 50 Loss = 88.7088379744 Train_Accuracy 0.97 \n",
      "\t 60 Loss = 73.6438166115 Train_Accuracy 0.971 \n",
      "\t 60 Loss = 69.8220199905 Train_Accuracy 0.978 \n",
      "2 0.974083333333\n",
      "\t 0 Loss = 2298.67872448 Train_Accuracy 0.134 \n",
      "\t 10 Loss = 112.406609259 Train_Accuracy 0.971 \n",
      "\t 20 Loss = 96.9872846473 Train_Accuracy 0.978 \n",
      "\t 30 Loss = 88.6050155134 Train_Accuracy 0.969 \n",
      "\t 40 Loss = 88.3063807499 Train_Accuracy 0.975 \n",
      "\t 50 Loss = 71.9888049972 Train_Accuracy 0.979 \n",
      "\t 59 Loss = 100.141107214 Train_Accuracy 0.969 \n",
      "3 0.97625\n",
      "\t 0 Loss = 2300.19853384 Train_Accuracy 0.125 \n",
      "\t 10 Loss = 112.865507579 Train_Accuracy 0.97 \n",
      "\t 20 Loss = 85.6160860841 Train_Accuracy 0.979 \n",
      "\t 30 Loss = 92.8130019881 Train_Accuracy 0.976 \n",
      "\t 40 Loss = 89.4433080862 Train_Accuracy 0.977 \n",
      "\t 50 Loss = 57.4448626223 Train_Accuracy 0.985 \n",
      "\t 60 Loss = 64.4364059831 Train_Accuracy 0.987 \n",
      "\t 61 Loss = 92.6328194115 Train_Accuracy 0.973 \n",
      "4 0.977\n",
      "\t 0 Loss = 2306.83191888 Train_Accuracy 0.131 \n",
      "\t 10 Loss = 121.672407289 Train_Accuracy 0.966 \n",
      "\t 20 Loss = 99.4523774502 Train_Accuracy 0.975 \n",
      "\t 30 Loss = 93.0425070411 Train_Accuracy 0.977 \n",
      "\t 40 Loss = 68.2755264084 Train_Accuracy 0.982 \n",
      "\t 50 Loss = 69.7688932992 Train_Accuracy 0.979 \n",
      "\t 60 Loss = 82.7839565122 Train_Accuracy 0.978 \n",
      "\t 64 Loss = 74.9948346464 Train_Accuracy 0.976 \n",
      "5 0.977083333333\n",
      "orientation= 32 0.975783333333\n"
     ]
    }
   ],
   "source": [
    "# we will go all the way to 32 orientations\n",
    "# for this problem you only needed to go up to 8\n",
    "base_model=LogisticGDClassifier()\n",
    "K=5\n",
    "block_size=4\n",
    "orientations=[1,2,4,8,16,32]\n",
    "\n",
    "val_accuracy=[]\n",
    "for orientation in orientations:\n",
    "    model=mnist.ImageFeatureModel(base_model,size=block_size,orientations=orientation)\n",
    "    accuracy=validate_model(model,K,images,labels)\n",
    "    val_accuracy.append(accuracy)\n",
    "    print(\"orientation=\",orientation,accuracy)"
   ]
  },
  {
   "cell_type": "code",
   "execution_count": 23,
   "metadata": {
    "ExecuteTime": {
     "end_time": "2018-03-02T03:14:27.037248Z",
     "start_time": "2018-03-02T03:14:27.029228Z"
    }
   },
   "outputs": [
    {
     "name": "stdout",
     "output_type": "stream",
     "text": [
      "best number of orientations 32 0.975783333333\n"
     ]
    }
   ],
   "source": [
    "val_accuracy=np.array(val_accuracy)\n",
    "best_idx=val_accuracy.argmax()\n",
    "best_orientations=orientations[best_idx]\n",
    "print(\"best number of orientations\",best_orientations,val_accuracy[best_idx])"
   ]
  },
  {
   "cell_type": "code",
   "execution_count": 24,
   "metadata": {
    "ExecuteTime": {
     "end_time": "2018-03-02T03:14:27.257344Z",
     "start_time": "2018-03-02T03:14:27.042262Z"
    }
   },
   "outputs": [
    {
     "data": {
      "text/plain": [
       "[<matplotlib.lines.Line2D at 0x1d6936e45f8>]"
      ]
     },
     "execution_count": 24,
     "metadata": {},
     "output_type": "execute_result"
    },
    {
     "data": {
      "image/png": "[encoded data removed]",
      "text/plain": [
       "<matplotlib.figure.Figure at 0x1d68fbb6588>"
      ]
     },
     "metadata": {},
     "output_type": "display_data"
    }
   ],
   "source": [
    "plt.plot(orientations,val_accuracy)"
   ]
  },
  {
   "cell_type": "markdown",
   "metadata": {},
   "source": [
    "<div class=\"alert alert-block alert-info\"> Problem 5.2 </div>\n",
    "\n",
    "Fit the model with the optimal number of orientations to the full MNIST data set and estimate its accuracy on the MNIST test set\n"
   ]
  },
  {
   "cell_type": "code",
   "execution_count": 25,
   "metadata": {
    "ExecuteTime": {
     "end_time": "2018-03-02T03:16:52.002722Z",
     "start_time": "2018-03-02T03:14:27.259850Z"
    }
   },
   "outputs": [
    {
     "name": "stdout",
     "output_type": "stream",
     "text": [
      "\t 0 Loss = 2311.97266492 Train_Accuracy 0.051 \n",
      "\t 10 Loss = 109.761835374 Train_Accuracy 0.971 \n",
      "\t 20 Loss = 94.7885214674 Train_Accuracy 0.972 \n",
      "\t 30 Loss = 72.1905535949 Train_Accuracy 0.976 \n",
      "\t 40 Loss = 85.3511515461 Train_Accuracy 0.978 \n",
      "\t 50 Loss = 73.6007107665 Train_Accuracy 0.978 \n",
      "\t 60 Loss = 69.4628982731 Train_Accuracy 0.983 \n",
      "\t 70 Loss = 57.7171451484 Train_Accuracy 0.986 \n",
      "\t 80 Loss = 57.5551867118 Train_Accuracy 0.983 \n",
      "\t 90 Loss = 64.7193259523 Train_Accuracy 0.978 \n",
      "\t 99 Loss = 47.4168959232 Train_Accuracy 0.987 \n",
      "Test Accuracy =  0.9816\n"
     ]
    }
   ],
   "source": [
    "model=mnist.ImageFeatureModel(base_model,size=block_size,orientations=best_orientations)\n",
    "model.fit(images,labels)\n",
    "Y_pred=model.predict(test_images)\n",
    "print(\"Test Accuracy = \", np.mean(Y_pred==test_labels))"
   ]
  },
  {
   "cell_type": "code",
   "execution_count": null,
   "metadata": {
    "collapsed": true
   },
   "outputs": [],
   "source": []
  }
 ],
 "metadata": {
  "kernelspec": {
   "display_name": "Python 3",
   "language": "python",
   "name": "python3"
  },
  "language_info": {
   "codemirror_mode": {
    "name": "ipython",
    "version": 3
   },
   "file_extension": ".py",
   "mimetype": "text/x-python",
   "name": "python",
   "nbconvert_exporter": "python",
   "pygments_lexer": "ipython3",
   "version": "3.6.4"
  },
  "toc": {
   "base_numbering": 1,
   "nav_menu": {},
   "number_sections": true,
   "sideBar": true,
   "skip_h1_title": true,
   "title_cell": "Table of Contents",
   "title_sidebar": "Contents",
   "toc_cell": false,
   "toc_position": {},
   "toc_section_display": "block",
   "toc_window_display": false
  }
 },
 "nbformat": 4,
 "nbformat_minor": 2
}

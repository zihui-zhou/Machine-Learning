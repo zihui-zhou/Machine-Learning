{
 "cells": [
  {
   "cell_type": "markdown",
   "metadata": {},
   "source": [
    "# Bonus Homework 1: Financial Data"
   ]
  },
  {
   "cell_type": "markdown",
   "metadata": {},
   "source": [
    "## Preliminararies"
   ]
  },
  {
   "cell_type": "markdown",
   "metadata": {},
   "source": [
    "### Imports"
   ]
  },
  {
   "cell_type": "code",
   "execution_count": null,
   "metadata": {},
   "outputs": [],
   "source": [
    "import os\n",
    "from datetime import date\n",
    "\n",
    "import numpy as np\n",
    "import pandas as pd\n",
    "\n",
    "import matplotlib.pyplot as plt\n",
    "\n",
    "import statsmodels.tsa.stattools\n",
    "import statsmodels.graphics.tsaplots\n",
    "\n",
    "%matplotlib inline"
   ]
  },
  {
   "cell_type": "markdown",
   "metadata": {},
   "source": [
    "### Data Dir"
   ]
  },
  {
   "cell_type": "code",
   "execution_count": null,
   "metadata": {},
   "outputs": [],
   "source": [
    "data_dir=\"../../data/finance\""
   ]
  },
  {
   "cell_type": "markdown",
   "metadata": {},
   "source": [
    "## CMT Treasury Rate Data"
   ]
  },
  {
   "cell_type": "markdown",
   "metadata": {},
   "source": [
    "<div class=\"alert alert-block alert-info\"> Problem 1.0 </div>\n",
    "Load the data from the \"H15.csv\" file into a pandas dataframe.\n",
    "\n",
    "You must have run the `FinanceDataSets` notebook first to generate that file.\n"
   ]
  },
  {
   "cell_type": "code",
   "execution_count": null,
   "metadata": {},
   "outputs": [],
   "source": []
  },
  {
   "cell_type": "markdown",
   "metadata": {},
   "source": [
    "<div class=\"alert alert-block alert-info\">Problem 1.1</div>\n",
    "Plot the history of the 2 year and 5 year CMT rates \n",
    "(the `plot()` function of the `pd.DataFrame` object may be useful)"
   ]
  },
  {
   "cell_type": "code",
   "execution_count": null,
   "metadata": {},
   "outputs": [],
   "source": []
  },
  {
   "cell_type": "markdown",
   "metadata": {},
   "source": [
    "<div class=\"alert alert-block alert-info\">Problem 1.2</div>\n",
    "\n",
    "Do the 5T CMT rates  at two  consecutive dates  look independent of each other?"
   ]
  },
  {
   "cell_type": "code",
   "execution_count": null,
   "metadata": {},
   "outputs": [],
   "source": []
  },
  {
   "cell_type": "markdown",
   "metadata": {},
   "source": [
    "### Auto Correlation of Rate Levels"
   ]
  },
  {
   "cell_type": "markdown",
   "metadata": {},
   "source": [
    "For two time series of length $N$, the **auto correlation** function is defined by ([see](https://www.mathworks.com/help/econ/autocorrelation-and-partial-autocorrelation.html),\n",
    "or [wikipedia](https://en.wikipedia.org/wiki/Autocorrelation)\n",
    "is defined as\n",
    "\n",
    "$$\n",
    "    \\rho_\\tau(X,Y) = \\frac{C_\\tau(X,Y)}{C_0(X,Y)}\n",
    "$$\n",
    "where the shifted covariance $C_\\tau(X,Y)$ is defined by\n",
    "$$\n",
    "    C_\\tau(X,Y)= \\sum_{t=0}^{N-\\tau} (X_{t}-\\mu_X)(Y_{t+\\tau}-\\mu_Y)\n",
    "$$\n",
    "and where $\\mu_X$ and $\\mu_Y$ are the sample means\n",
    "\\begin{align}\n",
    "    \\mu_X &=\\frac{1}{N} \\sum_{t=1}^N X_t \\\\\n",
    "    \\mu_Y &=\\frac{1}{N} \\sum_{t=1}^N Y_t \\\\\n",
    "\\end{align} \n",
    "\n",
    "Other definitions that differ by factors of order $\\frac{1}{N-k}$ are used sometimes, but give similar results provided $N \\gg k$. "
   ]
  },
  {
   "cell_type": "markdown",
   "metadata": {},
   "source": [
    "<div class=\"alert alert-block alert-info\">Problem 1.3</div>\n",
    "Compute the auto correlation of the 5Y CMT rate with itself for lags $\\tau=0,1,\\dots,5$.\n",
    "\n",
    "What would you expect those correlations to be if rates for different times were independent from each other?"
   ]
  },
  {
   "cell_type": "code",
   "execution_count": null,
   "metadata": {},
   "outputs": [],
   "source": []
  },
  {
   "cell_type": "markdown",
   "metadata": {},
   "source": [
    "<div class=\"alert alert-block alert-info\">Problem 1.4</div>\n",
    "Compare your results to the auto correlations computed by the function [`statsmodels.tsa.stattools.acf`](https://www.statsmodels.org/dev/generated/statsmodels.tsa.stattools.acf.html)"
   ]
  },
  {
   "cell_type": "code",
   "execution_count": null,
   "metadata": {},
   "outputs": [],
   "source": []
  },
  {
   "cell_type": "markdown",
   "metadata": {},
   "source": [
    "<div class=\"alert alert-block alert-info\">Problem 1.5</div>\n",
    "\n",
    "Use function [`statsmodels.graphics.tsaplots.plot_acf`](https://www.statsmodels.org/dev/generated/statsmodels.graphics.tsaplots.plot_acf.html)\n",
    "to plot the auto correlation for the 50 first $\\tau$ lags (use the argument `lags` to that function )\n",
    "\n",
    "The light blue shaded area in the graph is the confidence interval for the empirical auto-correlation assuming $X$ and $ Y$ times series\n",
    "are uncorrelated at lag $\\tau$."
   ]
  },
  {
   "cell_type": "markdown",
   "metadata": {},
   "source": [
    "<div class=\"alert alert-block alert-info\">Problem 1.6</div>\n",
    "It the auto correlation function significantly difference from zero up to lag 50?\n"
   ]
  },
  {
   "cell_type": "code",
   "execution_count": null,
   "metadata": {},
   "outputs": [],
   "source": []
  },
  {
   "cell_type": "markdown",
   "metadata": {},
   "source": [
    "### Time series of the daily changes of the CMT 5Y rate"
   ]
  },
  {
   "cell_type": "markdown",
   "metadata": {},
   "source": [
    "<div class=\"alert alert-block alert-info\">Problem 1.7</div>\n",
    "create a series  for the 1-lag difference of CMT rates (daily change of the rate)\n",
    "$$\n",
    "    \\Delta_1 Y_t = Y_{t+1}-Y_{t}\n",
    "$$"
   ]
  },
  {
   "cell_type": "code",
   "execution_count": null,
   "metadata": {},
   "outputs": [],
   "source": []
  },
  {
   "cell_type": "markdown",
   "metadata": {},
   "source": [
    "<div class=\"alert alert-block alert-info\">Problem 1.8</div>\n",
    "Compute the auto correlation of the daily changes of the 5Y CMT Rate\n",
    "$$\n",
    "    \\rho_\\tau(\\Delta_1 Y_t,\\Delta_1 Y_t)\n",
    "$$\n",
    "for lags $\\tau=0,1,\\cdots 5$.\n"
   ]
  },
  {
   "cell_type": "code",
   "execution_count": null,
   "metadata": {},
   "outputs": [],
   "source": []
  },
  {
   "cell_type": "markdown",
   "metadata": {},
   "source": [
    "<div class=\"alert alert-block alert-info\">Problem 1.9</div>\n",
    "use `statsmodels.graphics.tsaplots.plot_acf` to visual investigate if the 50 first lag correlations are significantly different from zero.\n"
   ]
  },
  {
   "cell_type": "code",
   "execution_count": null,
   "metadata": {},
   "outputs": [],
   "source": []
  },
  {
   "cell_type": "markdown",
   "metadata": {},
   "source": [
    "## Equity Market Indexes"
   ]
  },
  {
   "cell_type": "markdown",
   "metadata": {},
   "source": [
    "<div class=\"alert alert-block alert-info\"> Problem 2.0 </div>\n",
    "Load the data \"RussellIndexes.csv\" file into a pandas dataframe."
   ]
  },
  {
   "cell_type": "code",
   "execution_count": null,
   "metadata": {},
   "outputs": [],
   "source": []
  },
  {
   "cell_type": "markdown",
   "metadata": {},
   "source": [
    "<div class=\"alert alert-block alert-info\">Problem 2.1</div>\n",
    "Plot the history of the RU3000 and RUMIDCAP equity indexes \n",
    "(the `plot()` function of the `pd.DataFrame` object by be useful)"
   ]
  },
  {
   "cell_type": "code",
   "execution_count": null,
   "metadata": {},
   "outputs": [],
   "source": []
  },
  {
   "cell_type": "markdown",
   "metadata": {},
   "source": [
    "<div class=\"alert alert-block alert-info\">Problem 2.2</div>\n",
    "Plot the history of the log of RU3000 and RUMIDCAP equity indexes \n",
    "(the `plot()` function of the `pd.DataFrame` object by be useful)"
   ]
  },
  {
   "cell_type": "code",
   "execution_count": null,
   "metadata": {},
   "outputs": [],
   "source": []
  },
  {
   "cell_type": "markdown",
   "metadata": {},
   "source": [
    "<div class=\"alert alert-block alert-info\">Problem 2.3</div>\n",
    "use `statsmodels.graphics.tsaplots.plot_acf` to visual investigate if the 50 first lag correlations  of the log of RU3000  are significantly different from zero.\n"
   ]
  },
  {
   "cell_type": "code",
   "execution_count": null,
   "metadata": {},
   "outputs": [],
   "source": []
  },
  {
   "cell_type": "code",
   "execution_count": null,
   "metadata": {},
   "outputs": [],
   "source": []
  },
  {
   "cell_type": "markdown",
   "metadata": {},
   "source": [
    "<div class=\"alert alert-block alert-info\">Problem 2.4</div>\n",
    "create a series for the 1-lag difference of the Russell 3000 Log levels\n",
    "(the daily log returns of Rusell 3000).\n",
    "\n",
    "Use `statsmodels.graphics.tsaplots.plot_acf` to investigate if there are significant auto correlations\n",
    "for the first 50 lags of the daily log returns for Rusell 3000."
   ]
  },
  {
   "cell_type": "code",
   "execution_count": null,
   "metadata": {},
   "outputs": [],
   "source": []
  }
 ],
 "metadata": {
  "kernelspec": {
   "display_name": "Python 3",
   "language": "python",
   "name": "python3"
  },
  "language_info": {
   "codemirror_mode": {
    "name": "ipython",
    "version": 3
   },
   "file_extension": ".py",
   "mimetype": "text/x-python",
   "name": "python",
   "nbconvert_exporter": "python",
   "pygments_lexer": "ipython3",
   "version": "3.6.4"
  }
 },
 "nbformat": 4,
 "nbformat_minor": 2
}

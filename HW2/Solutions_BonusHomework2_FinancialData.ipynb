{
 "cells": [
  {
   "cell_type": "markdown",
   "metadata": {},
   "source": [
    "# Bonus Homework 1: Financial Data"
   ]
  },
  {
   "cell_type": "markdown",
   "metadata": {},
   "source": [
    "## Preliminararies"
   ]
  },
  {
   "cell_type": "markdown",
   "metadata": {},
   "source": [
    "### Imports"
   ]
  },
  {
   "cell_type": "code",
   "execution_count": 1,
   "metadata": {},
   "outputs": [
    {
     "name": "stderr",
     "output_type": "stream",
     "text": [
      "/home/manel/anaconda3/lib/python3.6/site-packages/statsmodels/compat/pandas.py:56: FutureWarning: The pandas.core.datetools module is deprecated and will be removed in a future version. Please use the pandas.tseries module instead.\n",
      "  from pandas.core import datetools\n"
     ]
    }
   ],
   "source": [
    "import os\n",
    "from datetime import date\n",
    "\n",
    "import numpy as np\n",
    "import pandas as pd\n",
    "\n",
    "import matplotlib.pyplot as plt\n",
    "\n",
    "import statsmodels.tsa.stattools\n",
    "import statsmodels.graphics.tsaplots\n",
    "\n",
    "%matplotlib inline"
   ]
  },
  {
   "cell_type": "markdown",
   "metadata": {},
   "source": [
    "### Data Dir"
   ]
  },
  {
   "cell_type": "code",
   "execution_count": 2,
   "metadata": {},
   "outputs": [],
   "source": [
    "data_dir=\"../../data/finance\""
   ]
  },
  {
   "cell_type": "markdown",
   "metadata": {},
   "source": [
    "## CMT Treasury Rate Data"
   ]
  },
  {
   "cell_type": "markdown",
   "metadata": {},
   "source": [
    "<div class=\"alert alert-block alert-info\"> Problem 1.0 </div>\n",
    "Load the data \"H15.csv\" file into a pandas dataframe."
   ]
  },
  {
   "cell_type": "code",
   "execution_count": 3,
   "metadata": {},
   "outputs": [
    {
     "data": {
      "text/html": [
       "<div>\n",
       "<style scoped>\n",
       "    .dataframe tbody tr th:only-of-type {\n",
       "        vertical-align: middle;\n",
       "    }\n",
       "\n",
       "    .dataframe tbody tr th {\n",
       "        vertical-align: top;\n",
       "    }\n",
       "\n",
       "    .dataframe thead th {\n",
       "        text-align: right;\n",
       "    }\n",
       "</style>\n",
       "<table border=\"1\" class=\"dataframe\">\n",
       "  <thead>\n",
       "    <tr style=\"text-align: right;\">\n",
       "      <th></th>\n",
       "      <th>3M</th>\n",
       "      <th>6M</th>\n",
       "      <th>1Y</th>\n",
       "      <th>2Y</th>\n",
       "      <th>3Y</th>\n",
       "      <th>5Y</th>\n",
       "      <th>7Y</th>\n",
       "      <th>10Y</th>\n",
       "      <th>20Y</th>\n",
       "      <th>30Y</th>\n",
       "    </tr>\n",
       "    <tr>\n",
       "      <th>DATE</th>\n",
       "      <th></th>\n",
       "      <th></th>\n",
       "      <th></th>\n",
       "      <th></th>\n",
       "      <th></th>\n",
       "      <th></th>\n",
       "      <th></th>\n",
       "      <th></th>\n",
       "      <th></th>\n",
       "      <th></th>\n",
       "    </tr>\n",
       "  </thead>\n",
       "  <tbody>\n",
       "    <tr>\n",
       "      <th>2006-02-09</th>\n",
       "      <td>4.52</td>\n",
       "      <td>4.67</td>\n",
       "      <td>4.66</td>\n",
       "      <td>4.66</td>\n",
       "      <td>4.62</td>\n",
       "      <td>4.55</td>\n",
       "      <td>4.55</td>\n",
       "      <td>4.54</td>\n",
       "      <td>4.72</td>\n",
       "      <td>4.51</td>\n",
       "    </tr>\n",
       "    <tr>\n",
       "      <th>2006-02-10</th>\n",
       "      <td>4.53</td>\n",
       "      <td>4.70</td>\n",
       "      <td>4.70</td>\n",
       "      <td>4.69</td>\n",
       "      <td>4.67</td>\n",
       "      <td>4.59</td>\n",
       "      <td>4.59</td>\n",
       "      <td>4.59</td>\n",
       "      <td>4.76</td>\n",
       "      <td>4.55</td>\n",
       "    </tr>\n",
       "    <tr>\n",
       "      <th>2006-02-13</th>\n",
       "      <td>4.55</td>\n",
       "      <td>4.71</td>\n",
       "      <td>4.70</td>\n",
       "      <td>4.68</td>\n",
       "      <td>4.66</td>\n",
       "      <td>4.58</td>\n",
       "      <td>4.58</td>\n",
       "      <td>4.58</td>\n",
       "      <td>4.76</td>\n",
       "      <td>4.56</td>\n",
       "    </tr>\n",
       "    <tr>\n",
       "      <th>2006-02-14</th>\n",
       "      <td>4.55</td>\n",
       "      <td>4.72</td>\n",
       "      <td>4.71</td>\n",
       "      <td>4.69</td>\n",
       "      <td>4.68</td>\n",
       "      <td>4.61</td>\n",
       "      <td>4.61</td>\n",
       "      <td>4.62</td>\n",
       "      <td>4.80</td>\n",
       "      <td>4.60</td>\n",
       "    </tr>\n",
       "    <tr>\n",
       "      <th>2006-02-15</th>\n",
       "      <td>4.55</td>\n",
       "      <td>4.70</td>\n",
       "      <td>4.70</td>\n",
       "      <td>4.71</td>\n",
       "      <td>4.68</td>\n",
       "      <td>4.60</td>\n",
       "      <td>4.60</td>\n",
       "      <td>4.61</td>\n",
       "      <td>4.78</td>\n",
       "      <td>4.58</td>\n",
       "    </tr>\n",
       "  </tbody>\n",
       "</table>\n",
       "</div>"
      ],
      "text/plain": [
       "              3M    6M    1Y    2Y    3Y    5Y    7Y   10Y   20Y   30Y\n",
       "DATE                                                                  \n",
       "2006-02-09  4.52  4.67  4.66  4.66  4.62  4.55  4.55  4.54  4.72  4.51\n",
       "2006-02-10  4.53  4.70  4.70  4.69  4.67  4.59  4.59  4.59  4.76  4.55\n",
       "2006-02-13  4.55  4.71  4.70  4.68  4.66  4.58  4.58  4.58  4.76  4.56\n",
       "2006-02-14  4.55  4.72  4.71  4.69  4.68  4.61  4.61  4.62  4.80  4.60\n",
       "2006-02-15  4.55  4.70  4.70  4.71  4.68  4.60  4.60  4.61  4.78  4.58"
      ]
     },
     "execution_count": 3,
     "metadata": {},
     "output_type": "execute_result"
    }
   ],
   "source": [
    "H15=pd.read_csv(data_dir+\"/H15.csv\",index_col=[0],parse_dates=[0])\n",
    "H15.head()"
   ]
  },
  {
   "cell_type": "markdown",
   "metadata": {},
   "source": [
    "<div class=\"alert alert-block alert-info\">Problem 1.1</div>\n",
    "Plot the history of the 2 year and 5 year CMT rates \n",
    "(the `plot()` function of the `pd.DataFrame` object by be useful)"
   ]
  },
  {
   "cell_type": "code",
   "execution_count": 4,
   "metadata": {},
   "outputs": [
    {
     "data": {
      "text/plain": [
       "Text(0,0.5,'Rate')"
      ]
     },
     "execution_count": 4,
     "metadata": {},
     "output_type": "execute_result"
    },
    {
     "data": {
      "image/png": "[encoded data removed]",
      "text/plain": [
       "<matplotlib.figure.Figure at 0x7f82e56afcc0>"
      ]
     },
     "metadata": {},
     "output_type": "display_data"
    }
   ],
   "source": [
    "H15[[\"2Y\",\"5Y\"]].plot()\n",
    "plt.title(\"CMT Rate History\")\n",
    "plt.ylabel(\"Rate\")\n"
   ]
  },
  {
   "cell_type": "markdown",
   "metadata": {},
   "source": [
    "<div class=\"alert alert-block alert-info\">Problem 1.2</div>\n",
    "\n",
    "Do the rates  at two  consecutive dates (for the same tenor) look independent of each other?"
   ]
  },
  {
   "cell_type": "code",
   "execution_count": 5,
   "metadata": {},
   "outputs": [],
   "source": [
    "# No, they look highly correlated."
   ]
  },
  {
   "cell_type": "markdown",
   "metadata": {},
   "source": [
    "### Auto Correlation of Rate Levels"
   ]
  },
  {
   "cell_type": "markdown",
   "metadata": {},
   "source": [
    "For two time series of length $N$, the **auto correlation** function is defined by ([see](https://www.mathworks.com/help/econ/autocorrelation-and-partial-autocorrelation.html),\n",
    "or [wikipedia] https://en.wikipedia.org/wiki/Autocorrelation)\n",
    "is defined as\n",
    "\n",
    "$$\n",
    "    \\rho_\\tau(X,Y) = \\frac{C_\\tau(X,Y)}{C_0(X,Y)}\n",
    "$$\n",
    "where the shifted covariance $C_\\tau(X,Y)$ is defined by\n",
    "$$\n",
    "    C_\\tau(X,Y)= \\sum_{t=0}^{N-\\tau} (X_{t}-\\mu_X)(Y_{t+\\tau}-\\mu_Y)\n",
    "$$\n",
    "and where $\\mu_X$ and $\\mu_Y$ are the sample means\n",
    "\\begin{align}\n",
    "    \\mu_X &=\\frac{1}{N} \\sum_{t=1}^N X_t \\\\\n",
    "    \\mu_Y &=\\frac{1}{N} \\sum_{t=1}^N Y_t \\\\\n",
    "\\end{align} \n",
    "\n",
    "Other definitions that differ by factors of order $\\frac{1}{N-k}$ are possible, but give very similar results provided $N \\gg k$. "
   ]
  },
  {
   "cell_type": "markdown",
   "metadata": {},
   "source": [
    "<div class=\"alert alert-block alert-info\">Problem 1.3</div>\n",
    "Compute the auto correlation of the 5Y CMT rate with itself for lags $\\tau=0,1,\\dots,5$.\n",
    "\n",
    "What would you expect those correlations to be if rates for different time were independent from each other?"
   ]
  },
  {
   "cell_type": "code",
   "execution_count": 6,
   "metadata": {},
   "outputs": [],
   "source": [
    "def auto_correlation(X,Y,tau):\n",
    "    if tau==0:\n",
    "        return 1.0 # by definition\n",
    "    DX=X-X.mean()\n",
    "    DY=Y-Y.mean()\n",
    "    C0=np.sum(DX*DY)\n",
    "    C_tau=np.sum(DX[0:-tau]*DY[tau:])\n",
    "    return C_tau/C0"
   ]
  },
  {
   "cell_type": "code",
   "execution_count": 7,
   "metadata": {},
   "outputs": [],
   "source": [
    "cmt5=H15[\"5Y\"].values # get a numpy array out of pandas"
   ]
  },
  {
   "cell_type": "code",
   "execution_count": 8,
   "metadata": {},
   "outputs": [
    {
     "data": {
      "text/plain": [
       "array([1.        , 0.99817712, 0.99642824, 0.99483342, 0.9931474 ,\n",
       "       0.99148257])"
      ]
     },
     "execution_count": 8,
     "metadata": {},
     "output_type": "execute_result"
    }
   ],
   "source": [
    "rho=np.empty(6)\n",
    "for tau in range(0,6):\n",
    "    rho[tau]=auto_correlation(cmt5,cmt5,tau)\n",
    "rho"
   ]
  },
  {
   "cell_type": "code",
   "execution_count": 9,
   "metadata": {},
   "outputs": [],
   "source": [
    "# correlations for all lags other $\\tau=0$ should be zero. The correlation for $\\tau=0$ should be 1.0 "
   ]
  },
  {
   "cell_type": "markdown",
   "metadata": {},
   "source": [
    "<div class=\"alert alert-block alert-info\">Problem 1.4</div>\n",
    "Compare your results this the function [`statsmodels.tsa.stattools.acf`](https://www.statsmodels.org/dev/generated/statsmodels.tsa.stattools.acf.html)"
   ]
  },
  {
   "cell_type": "code",
   "execution_count": 10,
   "metadata": {},
   "outputs": [],
   "source": [
    "acf=statsmodels.tsa.stattools.acf(cmt5)[:6]"
   ]
  },
  {
   "cell_type": "code",
   "execution_count": 11,
   "metadata": {},
   "outputs": [
    {
     "data": {
      "text/plain": [
       "array([0.00000000e+00, 3.33066907e-16, 2.22044605e-16, 2.22044605e-16,\n",
       "       1.11022302e-16, 1.11022302e-16])"
      ]
     },
     "execution_count": 11,
     "metadata": {},
     "output_type": "execute_result"
    }
   ],
   "source": [
    "acf-rho"
   ]
  },
  {
   "cell_type": "code",
   "execution_count": 12,
   "metadata": {},
   "outputs": [],
   "source": [
    "# They are  identical within numerical pricision"
   ]
  },
  {
   "cell_type": "markdown",
   "metadata": {},
   "source": [
    "<div class=\"alert alert-block alert-info\">Problem 1.5</div>\n",
    "\n",
    "Use function [`statsmodels.graphics.tsaplots.plot_acf`](https://www.statsmodels.org/dev/generated/statsmodels.graphics.tsaplots.plot_acf.html)\n",
    "to plot the auto correlation for the 50 first $\\tau$ lags (using the argument `lags` )\n",
    "\n",
    "The light blue shaded area is the confidence interval for the empirical auto-correlation assuming $X$ and $ Y$ times series\n",
    "are uncorrelated at lag $\\tau$."
   ]
  },
  {
   "cell_type": "code",
   "execution_count": 13,
   "metadata": {},
   "outputs": [
    {
     "data": {
      "image/png": "[encoded data removed]",
      "text/plain": [
       "<matplotlib.figure.Figure at 0x7f82e52fc828>"
      ]
     },
     "metadata": {},
     "output_type": "display_data"
    }
   ],
   "source": [
    " a=statsmodels.graphics.tsaplots.plot_acf(cmt5,lags=50)"
   ]
  },
  {
   "cell_type": "markdown",
   "metadata": {},
   "source": [
    "<div class=\"alert alert-block alert-info\">Problem 1.6</div>\n",
    "It the auto correlation function significantly difference from zero up to lag 50?\n"
   ]
  },
  {
   "cell_type": "code",
   "execution_count": 14,
   "metadata": {},
   "outputs": [],
   "source": [
    "# Yes, it is."
   ]
  },
  {
   "cell_type": "markdown",
   "metadata": {},
   "source": [
    "### Time series of changes of the CMT 5Y rate"
   ]
  },
  {
   "cell_type": "markdown",
   "metadata": {},
   "source": [
    "<div class=\"alert alert-block alert-info\">Problem 1.7</div>\n",
    "create a series  for the 1-lag difference of CMT rates\n",
    "$$\n",
    "    \\Delta_1 Y_t = Y_{t+1}-Y_{t}\n",
    "$$"
   ]
  },
  {
   "cell_type": "code",
   "execution_count": 15,
   "metadata": {},
   "outputs": [],
   "source": [
    "Delta_cmt5=cmt5[1:]-cmt5[:-1]"
   ]
  },
  {
   "cell_type": "markdown",
   "metadata": {},
   "source": [
    "<div class=\"alert alert-block alert-info\">Problem 1.8</div>\n",
    "Compute the auto correlation \n",
    "$$\n",
    "    \\rho_\\tau(\\Delta_1 Y_t,\\Delta_1 Y_t)\n",
    "$$\n",
    "for lags $\\tau=0,1,\\cdots 5$ when $Y$ is the 5Y CMT rate.\n"
   ]
  },
  {
   "cell_type": "code",
   "execution_count": 16,
   "metadata": {},
   "outputs": [
    {
     "data": {
      "text/plain": [
       "array([ 1.        , -0.04138359, -0.0617599 ,  0.03177387, -0.00863381,\n",
       "       -0.03012158])"
      ]
     },
     "execution_count": 16,
     "metadata": {},
     "output_type": "execute_result"
    }
   ],
   "source": [
    "acf=statsmodels.tsa.stattools.acf(Delta_cmt5)[:6]\n",
    "acf"
   ]
  },
  {
   "cell_type": "markdown",
   "metadata": {},
   "source": [
    "<div class=\"alert alert-block alert-info\">Problem 1.9</div>\n",
    "use `statsmodels.graphics.tsaplots.plot_acf` to visual investigate if the 50 first lag correlations are significantly different from zero.\n"
   ]
  },
  {
   "cell_type": "code",
   "execution_count": 17,
   "metadata": {},
   "outputs": [
    {
     "data": {
      "image/png": "[encoded data removed]",
      "text/plain": [
       "<matplotlib.figure.Figure at 0x7f82e52fc630>"
      ]
     },
     "metadata": {},
     "output_type": "display_data"
    }
   ],
   "source": [
    " a=statsmodels.graphics.tsaplots.plot_acf(Delta_cmt5,lags=50)"
   ]
  },
  {
   "cell_type": "code",
   "execution_count": 18,
   "metadata": {},
   "outputs": [],
   "source": [
    "#The first two lags may be  slighly out of the 95% confidence band (negative correlation),\n",
    "#   but even then, those auto correlations are small. \n",
    "# All other lags look statistically no different from zero.\n"
   ]
  },
  {
   "cell_type": "markdown",
   "metadata": {},
   "source": [
    "## Equity Market Indexes"
   ]
  },
  {
   "cell_type": "markdown",
   "metadata": {},
   "source": [
    "<div class=\"alert alert-block alert-info\"> Problem 2.0 </div>\n",
    "Load the data \"RussellIndexes.csv\" file into a pandas dataframe."
   ]
  },
  {
   "cell_type": "code",
   "execution_count": 19,
   "metadata": {},
   "outputs": [
    {
     "data": {
      "text/html": [
       "<div>\n",
       "<style scoped>\n",
       "    .dataframe tbody tr th:only-of-type {\n",
       "        vertical-align: middle;\n",
       "    }\n",
       "\n",
       "    .dataframe tbody tr th {\n",
       "        vertical-align: top;\n",
       "    }\n",
       "\n",
       "    .dataframe thead th {\n",
       "        text-align: right;\n",
       "    }\n",
       "</style>\n",
       "<table border=\"1\" class=\"dataframe\">\n",
       "  <thead>\n",
       "    <tr style=\"text-align: right;\">\n",
       "      <th></th>\n",
       "      <th>RU3000</th>\n",
       "      <th>RU2000</th>\n",
       "      <th>RU1000V</th>\n",
       "      <th>RU1000</th>\n",
       "      <th>RU2000V</th>\n",
       "      <th>RU1000G</th>\n",
       "      <th>RUMIDCAP</th>\n",
       "      <th>RU2000G</th>\n",
       "      <th>RU3000V</th>\n",
       "      <th>RMIDGR</th>\n",
       "      <th>RMIDVL</th>\n",
       "      <th>RU3000G</th>\n",
       "    </tr>\n",
       "    <tr>\n",
       "      <th>DATE</th>\n",
       "      <th></th>\n",
       "      <th></th>\n",
       "      <th></th>\n",
       "      <th></th>\n",
       "      <th></th>\n",
       "      <th></th>\n",
       "      <th></th>\n",
       "      <th></th>\n",
       "      <th></th>\n",
       "      <th></th>\n",
       "      <th></th>\n",
       "      <th></th>\n",
       "    </tr>\n",
       "  </thead>\n",
       "  <tbody>\n",
       "    <tr>\n",
       "      <th>1995-05-31</th>\n",
       "      <td>1032.69</td>\n",
       "      <td>982.04</td>\n",
       "      <td>192.75</td>\n",
       "      <td>1036.37</td>\n",
       "      <td>1203.23</td>\n",
       "      <td>181.34</td>\n",
       "      <td>1242.92</td>\n",
       "      <td>1190.50</td>\n",
       "      <td>1000.00</td>\n",
       "      <td>338.75</td>\n",
       "      <td>328.35</td>\n",
       "      <td>1000.00</td>\n",
       "    </tr>\n",
       "    <tr>\n",
       "      <th>1995-06-01</th>\n",
       "      <td>1034.42</td>\n",
       "      <td>986.60</td>\n",
       "      <td>193.05</td>\n",
       "      <td>1037.77</td>\n",
       "      <td>1209.42</td>\n",
       "      <td>181.55</td>\n",
       "      <td>1246.34</td>\n",
       "      <td>1195.46</td>\n",
       "      <td>1001.91</td>\n",
       "      <td>339.98</td>\n",
       "      <td>329.00</td>\n",
       "      <td>1001.45</td>\n",
       "    </tr>\n",
       "    <tr>\n",
       "      <th>1995-06-02</th>\n",
       "      <td>1034.56</td>\n",
       "      <td>989.48</td>\n",
       "      <td>192.99</td>\n",
       "      <td>1037.61</td>\n",
       "      <td>1212.55</td>\n",
       "      <td>181.54</td>\n",
       "      <td>1247.38</td>\n",
       "      <td>1199.32</td>\n",
       "      <td>1001.90</td>\n",
       "      <td>340.23</td>\n",
       "      <td>329.30</td>\n",
       "      <td>1001.72</td>\n",
       "    </tr>\n",
       "    <tr>\n",
       "      <th>1995-06-05</th>\n",
       "      <td>1041.21</td>\n",
       "      <td>996.50</td>\n",
       "      <td>194.27</td>\n",
       "      <td>1044.21</td>\n",
       "      <td>1219.08</td>\n",
       "      <td>182.66</td>\n",
       "      <td>1259.02</td>\n",
       "      <td>1209.81</td>\n",
       "      <td>1008.40</td>\n",
       "      <td>343.85</td>\n",
       "      <td>331.99</td>\n",
       "      <td>1008.11</td>\n",
       "    </tr>\n",
       "    <tr>\n",
       "      <th>1995-06-06</th>\n",
       "      <td>1041.04</td>\n",
       "      <td>998.22</td>\n",
       "      <td>194.20</td>\n",
       "      <td>1043.82</td>\n",
       "      <td>1221.69</td>\n",
       "      <td>182.59</td>\n",
       "      <td>1258.83</td>\n",
       "      <td>1211.42</td>\n",
       "      <td>1008.28</td>\n",
       "      <td>343.47</td>\n",
       "      <td>332.23</td>\n",
       "      <td>1007.89</td>\n",
       "    </tr>\n",
       "  </tbody>\n",
       "</table>\n",
       "</div>"
      ],
      "text/plain": [
       "             RU3000  RU2000  RU1000V   RU1000  RU2000V  RU1000G  RUMIDCAP  \\\n",
       "DATE                                                                        \n",
       "1995-05-31  1032.69  982.04   192.75  1036.37  1203.23   181.34   1242.92   \n",
       "1995-06-01  1034.42  986.60   193.05  1037.77  1209.42   181.55   1246.34   \n",
       "1995-06-02  1034.56  989.48   192.99  1037.61  1212.55   181.54   1247.38   \n",
       "1995-06-05  1041.21  996.50   194.27  1044.21  1219.08   182.66   1259.02   \n",
       "1995-06-06  1041.04  998.22   194.20  1043.82  1221.69   182.59   1258.83   \n",
       "\n",
       "            RU2000G  RU3000V  RMIDGR  RMIDVL  RU3000G  \n",
       "DATE                                                   \n",
       "1995-05-31  1190.50  1000.00  338.75  328.35  1000.00  \n",
       "1995-06-01  1195.46  1001.91  339.98  329.00  1001.45  \n",
       "1995-06-02  1199.32  1001.90  340.23  329.30  1001.72  \n",
       "1995-06-05  1209.81  1008.40  343.85  331.99  1008.11  \n",
       "1995-06-06  1211.42  1008.28  343.47  332.23  1007.89  "
      ]
     },
     "execution_count": 19,
     "metadata": {},
     "output_type": "execute_result"
    }
   ],
   "source": [
    "equity=pd.read_csv(data_dir+\"/RussellIndexes.csv\",index_col=[0],parse_dates=[0])\n",
    "equity.head()"
   ]
  },
  {
   "cell_type": "markdown",
   "metadata": {},
   "source": [
    "<div class=\"alert alert-block alert-info\">Problem 2.1</div>\n",
    "Plot the history of the RU3000 and RUMIDCAP equity indexes \n",
    "(the `plot()` function of the `pd.DataFrame` object by be useful)"
   ]
  },
  {
   "cell_type": "code",
   "execution_count": 20,
   "metadata": {},
   "outputs": [
    {
     "data": {
      "text/plain": [
       "Text(0,0.5,'Equity')"
      ]
     },
     "execution_count": 20,
     "metadata": {},
     "output_type": "execute_result"
    },
    {
     "data": {
      "image/png": "[encoded data removed]",
      "text/plain": [
       "<matplotlib.figure.Figure at 0x7f82e53ffe80>"
      ]
     },
     "metadata": {},
     "output_type": "display_data"
    }
   ],
   "source": [
    "equity[[\"RU3000\",\"RUMIDCAP\"]].plot()\n",
    "plt.title(\"Equity History\")\n",
    "plt.ylabel(\"Equity\")\n"
   ]
  },
  {
   "cell_type": "markdown",
   "metadata": {},
   "source": [
    "<div class=\"alert alert-block alert-info\">Problem 2.2</div>\n",
    "Plot the history of the log of RU3000 and RUMIDCAP equity indexes \n",
    "(the `plot()` function of the `pd.DataFrame` object by be useful)"
   ]
  },
  {
   "cell_type": "code",
   "execution_count": 21,
   "metadata": {},
   "outputs": [
    {
     "data": {
      "text/plain": [
       "Text(0,0.5,'log(Equity)')"
      ]
     },
     "execution_count": 21,
     "metadata": {},
     "output_type": "execute_result"
    },
    {
     "data": {
      "image/png": "[encoded data removed]",
      "text/plain": [
       "<matplotlib.figure.Figure at 0x7f82e518b438>"
      ]
     },
     "metadata": {},
     "output_type": "display_data"
    }
   ],
   "source": [
    "log_equity=np.log(equity)\n",
    "log_equity[[\"RU3000\",\"RUMIDCAP\"]].plot()\n",
    "plt.title(\"Log(Equity)  History\")\n",
    "plt.ylabel(\"log(Equity)\")"
   ]
  },
  {
   "cell_type": "markdown",
   "metadata": {},
   "source": [
    "<div class=\"alert alert-block alert-info\">Problem 2.3</div>\n",
    "use `statsmodels.graphics.tsaplots.plot_acf` to visual investigate if the 50 first lag correlations  of the log of RU3000 leverl are significantly different from zero.\n"
   ]
  },
  {
   "cell_type": "code",
   "execution_count": 22,
   "metadata": {},
   "outputs": [],
   "source": [
    "ru3000=log_equity[\"RU3000\"].values"
   ]
  },
  {
   "cell_type": "code",
   "execution_count": 23,
   "metadata": {},
   "outputs": [
    {
     "data": {
      "text/plain": [
       "array([1.        , 0.99883594, 0.99770215, 0.99659324, 0.99547878,\n",
       "       0.99437012, 0.9932876 , 0.99219803, 0.9911214 , 0.99004253,\n",
       "       0.98898277, 0.98791012, 0.9868512 , 0.98577183, 0.98468931,\n",
       "       0.98362205, 0.98257869, 0.98152382, 0.98045761, 0.97941394,\n",
       "       0.97836235, 0.97729006, 0.97623873, 0.9751811 , 0.97412682,\n",
       "       0.97307805, 0.972044  , 0.97101889, 0.96996988, 0.9689286 ,\n",
       "       0.96788276, 0.96682243, 0.96576102, 0.96470569, 0.96364632,\n",
       "       0.96262106, 0.96159404, 0.96055034, 0.9595212 , 0.95850729,\n",
       "       0.95747395])"
      ]
     },
     "execution_count": 23,
     "metadata": {},
     "output_type": "execute_result"
    }
   ],
   "source": [
    "statsmodels.tsa.stattools.acf(ru3000)[:50]"
   ]
  },
  {
   "cell_type": "code",
   "execution_count": 24,
   "metadata": {
    "scrolled": true
   },
   "outputs": [
    {
     "data": {
      "image/png": "[encoded data removed]",
      "text/plain": [
       "<matplotlib.figure.Figure at 0x7f82e518b7f0>"
      ]
     },
     "metadata": {},
     "output_type": "display_data"
    }
   ],
   "source": [
    "a=statsmodels.graphics.tsaplots.plot_acf(ru3000,lags=50)"
   ]
  },
  {
   "cell_type": "markdown",
   "metadata": {},
   "source": [
    "<div class=\"alert alert-block alert-info\">Problem 2.4</div>\n",
    "create a series for the 1-lag difference of the Russell 3000 Log levels\n",
    "(these are really the log returns of Rusell 3000).\n",
    "\n",
    "Use `statsmodels.graphics.tsaplots.plot_acf` to investiguate if there are significant auto correlations\n",
    "for the first 50 lages."
   ]
  },
  {
   "cell_type": "code",
   "execution_count": 26,
   "metadata": {},
   "outputs": [],
   "source": [
    "Delta_ru3000=ru3000[1:]-ru3000[:-1]"
   ]
  },
  {
   "cell_type": "code",
   "execution_count": 27,
   "metadata": {},
   "outputs": [
    {
     "data": {
      "image/png": "[encoded data removed]",
      "text/plain": [
       "<matplotlib.figure.Figure at 0x7f82dc963cf8>"
      ]
     },
     "metadata": {},
     "output_type": "display_data"
    }
   ],
   "source": [
    "a=statsmodels.graphics.tsaplots.plot_acf(Delta_ru3000,lags=50)"
   ]
  },
  {
   "cell_type": "code",
   "execution_count": 28,
   "metadata": {},
   "outputs": [],
   "source": [
    "# A few lags (including the first two) are out of the 95% confidence band. But all auto correlations look small."
   ]
  },
  {
   "cell_type": "code",
   "execution_count": null,
   "metadata": {},
   "outputs": [],
   "source": []
  }
 ],
 "metadata": {
  "kernelspec": {
   "display_name": "Python 3",
   "language": "python",
   "name": "python3"
  },
  "language_info": {
   "codemirror_mode": {
    "name": "ipython",
    "version": 3
   },
   "file_extension": ".py",
   "mimetype": "text/x-python",
   "name": "python",
   "nbconvert_exporter": "python",
   "pygments_lexer": "ipython3",
   "version": "3.7.3"
  },
  "toc": {
   "base_numbering": 1,
   "nav_menu": {},
   "number_sections": true,
   "sideBar": true,
   "skip_h1_title": true,
   "title_cell": "Table of Contents",
   "title_sidebar": "Contents",
   "toc_cell": false,
   "toc_position": {},
   "toc_section_display": true,
   "toc_window_display": false
  }
 },
 "nbformat": 4,
 "nbformat_minor": 2
}

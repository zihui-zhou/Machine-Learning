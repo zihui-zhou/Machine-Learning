{
 "cells": [
  {
   "cell_type": "markdown",
   "metadata": {
    "ExecuteTime": {
     "end_time": "2018-01-09T15:16:27.144141Z",
     "start_time": "2018-01-09T15:16:27.139141Z"
    }
   },
   "source": [
    "# Homework Lecture 1"
   ]
  },
  {
   "cell_type": "markdown",
   "metadata": {
    "ExecuteTime": {
     "end_time": "2018-01-09T15:16:42.223141Z",
     "start_time": "2018-01-09T15:16:42.218141Z"
    }
   },
   "source": [
    "## Preliminaries"
   ]
  },
  {
   "cell_type": "markdown",
   "metadata": {
    "ExecuteTime": {
     "end_time": "2018-01-09T15:16:58.417141Z",
     "start_time": "2018-01-09T15:16:58.414141Z"
    }
   },
   "source": [
    "### Imports"
   ]
  },
  {
   "cell_type": "code",
   "execution_count": 1,
   "metadata": {
    "ExecuteTime": {
     "end_time": "2019-09-07T23:48:40.876601Z",
     "start_time": "2019-09-07T23:48:39.686044Z"
    }
   },
   "outputs": [],
   "source": [
    "import os\n",
    "\n",
    "import numpy as np\n",
    "import pandas as pd\n",
    "import matplotlib.pyplot as plt\n",
    "\n",
    "%matplotlib inline\n",
    "\n",
    "import sys \n",
    "sys.path.append(\"../..\")\n",
    "import E4525_ML.mnist as mnist"
   ]
  },
  {
   "cell_type": "markdown",
   "metadata": {
    "ExecuteTime": {
     "end_time": "2018-01-09T15:18:16.996141Z",
     "start_time": "2018-01-09T15:18:16.993141Z"
    }
   },
   "source": [
    "### Data Directories "
   ]
  },
  {
   "cell_type": "markdown",
   "metadata": {},
   "source": [
    "Create a directory with the path below"
   ]
  },
  {
   "cell_type": "code",
   "execution_count": 4,
   "metadata": {
    "ExecuteTime": {
     "end_time": "2019-09-07T23:50:10.711415Z",
     "start_time": "2019-09-07T23:50:10.708507Z"
    }
   },
   "outputs": [],
   "source": [
    "raw_data_dir=\"../../raw/MNIST\"\n",
    "data_dir=\"../../data/Introduction\"\n"
   ]
  },
  {
   "cell_type": "markdown",
   "metadata": {},
   "source": [
    "<div class=\"alert alert-block alert-info\"> Problem 0 </div>\n",
    "Download the file `data.csv` and save it fo the directory `data_dir`"
   ]
  },
  {
   "cell_type": "markdown",
   "metadata": {
    "ExecuteTime": {
     "end_time": "2018-01-09T15:21:30.644141Z",
     "start_time": "2018-01-09T15:21:30.639141Z"
    }
   },
   "source": [
    "## Numpy Exercises"
   ]
  },
  {
   "cell_type": "markdown",
   "metadata": {
    "ExecuteTime": {
     "end_time": "2018-01-09T16:23:41.930141Z",
     "start_time": "2018-01-09T16:23:41.927141Z"
    }
   },
   "source": [
    "### Read and Inspect the Data "
   ]
  },
  {
   "cell_type": "markdown",
   "metadata": {},
   "source": [
    "<div class=\"alert alert-block alert-info\"> Problem 1.1 </div>\n",
    "Read the contents of `data.csv` into a panda's dataframe"
   ]
  },
  {
   "cell_type": "code",
   "execution_count": 5,
   "metadata": {
    "ExecuteTime": {
     "end_time": "2019-09-07T23:50:13.074975Z",
     "start_time": "2019-09-07T23:50:13.063011Z"
    }
   },
   "outputs": [],
   "source": [
    "data=pd.read_csv(data_dir+\"/data.csv\")"
   ]
  },
  {
   "cell_type": "markdown",
   "metadata": {},
   "source": [
    "<div class=\"alert alert-block alert-info\"> Problem 1.2 </div>\n",
    "What are the name of the columns?"
   ]
  },
  {
   "cell_type": "code",
   "execution_count": 6,
   "metadata": {
    "ExecuteTime": {
     "end_time": "2019-09-07T23:50:13.409127Z",
     "start_time": "2019-09-07T23:50:13.401576Z"
    }
   },
   "outputs": [
    {
     "data": {
      "text/plain": [
       "Index(['X', 'Y'], dtype='object')"
      ]
     },
     "execution_count": 6,
     "metadata": {},
     "output_type": "execute_result"
    }
   ],
   "source": [
    "data.columns"
   ]
  },
  {
   "cell_type": "markdown",
   "metadata": {
    "ExecuteTime": {
     "end_time": "2018-01-09T16:25:39.747141Z",
     "start_time": "2018-01-09T16:25:39.722141Z"
    }
   },
   "source": [
    "<div class=\"alert alert-block alert-info\"> Problem 1.3 </div>\n",
    "How many rows are there?"
   ]
  },
  {
   "cell_type": "code",
   "execution_count": 7,
   "metadata": {
    "ExecuteTime": {
     "end_time": "2019-09-07T23:50:13.673006Z",
     "start_time": "2019-09-07T23:50:13.668662Z"
    }
   },
   "outputs": [
    {
     "data": {
      "text/plain": [
       "1000"
      ]
     },
     "execution_count": 7,
     "metadata": {},
     "output_type": "execute_result"
    }
   ],
   "source": [
    "len(data)"
   ]
  },
  {
   "cell_type": "markdown",
   "metadata": {},
   "source": [
    "<div class=\"alert alert-block alert-info\"> Problem 1.4 </div>\n",
    "List the unique values of column \"X\", and of column \"Y\""
   ]
  },
  {
   "cell_type": "code",
   "execution_count": 8,
   "metadata": {
    "ExecuteTime": {
     "end_time": "2019-09-07T23:50:15.459357Z",
     "start_time": "2019-09-07T23:50:15.446262Z"
    }
   },
   "outputs": [
    {
     "name": "stdout",
     "output_type": "stream",
     "text": [
      "X ['A' 'B' 'C' 'D']\n",
      "Y ['a' 'c' 'd' 'b' 'e']\n"
     ]
    }
   ],
   "source": [
    "print(\"X\",data[\"X\"].unique())\n",
    "print(\"Y\",data[\"Y\"].unique())"
   ]
  },
  {
   "cell_type": "markdown",
   "metadata": {
    "ExecuteTime": {
     "end_time": "2018-01-09T16:27:20.953141Z",
     "start_time": "2018-01-09T16:27:20.944141Z"
    }
   },
   "source": [
    "<div class=\"alert alert-block alert-info\"> Problem 1.5 </div>\n",
    "Use [pandas.Series.value_counts](https://pandas.pydata.org/pandas-docs/stable/generated/pandas.Series.value_counts.html) function to get the counts of each possible value  of X and Y variables"
   ]
  },
  {
   "cell_type": "code",
   "execution_count": 9,
   "metadata": {
    "ExecuteTime": {
     "end_time": "2019-09-07T23:50:16.472313Z",
     "start_time": "2019-09-07T23:50:16.460083Z"
    }
   },
   "outputs": [
    {
     "data": {
      "text/plain": [
       "A    383\n",
       "B    293\n",
       "C    279\n",
       "D     45\n",
       "Name: X, dtype: int64"
      ]
     },
     "execution_count": 9,
     "metadata": {},
     "output_type": "execute_result"
    }
   ],
   "source": [
    "hist_X=data[\"X\"].value_counts()\n",
    "hist_X"
   ]
  },
  {
   "cell_type": "code",
   "execution_count": 10,
   "metadata": {
    "ExecuteTime": {
     "end_time": "2019-09-07T23:50:17.370720Z",
     "start_time": "2019-09-07T23:50:17.363431Z"
    }
   },
   "outputs": [
    {
     "data": {
      "text/plain": [
       "c    349\n",
       "a    312\n",
       "b    148\n",
       "d    132\n",
       "e     59\n",
       "Name: Y, dtype: int64"
      ]
     },
     "execution_count": 10,
     "metadata": {},
     "output_type": "execute_result"
    }
   ],
   "source": [
    "hist_Y=data[\"Y\"].value_counts()\n",
    "hist_Y"
   ]
  },
  {
   "cell_type": "markdown",
   "metadata": {
    "ExecuteTime": {
     "end_time": "2018-01-09T16:29:30.641141Z",
     "start_time": "2018-01-09T16:29:30.635141Z"
    }
   },
   "source": [
    "### Basic Usage of Numpy"
   ]
  },
  {
   "cell_type": "markdown",
   "metadata": {},
   "source": [
    "<div class=\"alert alert-block alert-info\"> Problem 2.1 </div>\n",
    "\n",
    "Use panda's function [get_dummies](https://pandas.pydata.org/pandas-docs/stable/generated/pandas.get_dummies.html) to\n",
    "* create a variable named `data_ZX` with one row per row on the original data, and one-hot encoded `X` variable values as columns\n",
    "* create a varialbe named `data_ZY` with one row per row on the original data, and one-hot encoded `Y` variable values as columns"
   ]
  },
  {
   "cell_type": "code",
   "execution_count": 11,
   "metadata": {
    "ExecuteTime": {
     "end_time": "2019-09-07T23:50:19.795730Z",
     "start_time": "2019-09-07T23:50:19.787877Z"
    }
   },
   "outputs": [
    {
     "data": {
      "text/plain": [
       "(1000, 4)"
      ]
     },
     "execution_count": 11,
     "metadata": {},
     "output_type": "execute_result"
    }
   ],
   "source": [
    "data_ZX=pd.get_dummies(data[\"X\"])\n",
    "data_ZX.shape"
   ]
  },
  {
   "cell_type": "code",
   "execution_count": 12,
   "metadata": {
    "ExecuteTime": {
     "end_time": "2019-09-07T23:50:20.402601Z",
     "start_time": "2019-09-07T23:50:20.376341Z"
    }
   },
   "outputs": [
    {
     "data": {
      "text/plain": [
       "(1000, 5)"
      ]
     },
     "execution_count": 12,
     "metadata": {},
     "output_type": "execute_result"
    }
   ],
   "source": [
    "data_ZY=pd.get_dummies(data[\"Y\"])\n",
    "data_ZY.shape"
   ]
  },
  {
   "cell_type": "code",
   "execution_count": null,
   "metadata": {},
   "outputs": [],
   "source": []
  },
  {
   "cell_type": "markdown",
   "metadata": {},
   "source": [
    "<div class=\"alert alert-block alert-info\"> Problem 2.2 </div>\n",
    "Using the dataframe function `as_matrix()`  create `numpy` arrays `ZX` and `ZY` with the occurrence data for `X` and `Y` variables"
   ]
  },
  {
   "cell_type": "code",
   "execution_count": 15,
   "metadata": {
    "ExecuteTime": {
     "end_time": "2019-09-07T23:51:15.187059Z",
     "start_time": "2019-09-07T23:51:15.178149Z"
    }
   },
   "outputs": [
    {
     "data": {
      "text/plain": [
       "(1000, 4)"
      ]
     },
     "execution_count": 15,
     "metadata": {},
     "output_type": "execute_result"
    }
   ],
   "source": [
    "ZX=data_ZX.values\n",
    "ZX.shape"
   ]
  },
  {
   "cell_type": "code",
   "execution_count": 17,
   "metadata": {
    "ExecuteTime": {
     "end_time": "2019-09-07T23:51:37.082905Z",
     "start_time": "2019-09-07T23:51:37.074314Z"
    }
   },
   "outputs": [
    {
     "data": {
      "text/plain": [
       "array([[1, 0, 0, 0],\n",
       "       [1, 0, 0, 0],\n",
       "       [0, 1, 0, 0],\n",
       "       ...,\n",
       "       [0, 1, 0, 0],\n",
       "       [0, 0, 1, 0],\n",
       "       [1, 0, 0, 0]], dtype=uint8)"
      ]
     },
     "execution_count": 17,
     "metadata": {},
     "output_type": "execute_result"
    }
   ],
   "source": [
    "ZX"
   ]
  },
  {
   "cell_type": "code",
   "execution_count": 16,
   "metadata": {
    "ExecuteTime": {
     "end_time": "2019-09-07T23:51:16.047648Z",
     "start_time": "2019-09-07T23:51:16.043837Z"
    }
   },
   "outputs": [
    {
     "data": {
      "text/plain": [
       "(1000, 5)"
      ]
     },
     "execution_count": 16,
     "metadata": {},
     "output_type": "execute_result"
    }
   ],
   "source": [
    "ZY=data_ZY.values\n",
    "ZY.shape"
   ]
  },
  {
   "cell_type": "markdown",
   "metadata": {},
   "source": [
    "<div class=\"alert alert-block alert-info\"> Problem 2.3 </div>\n",
    "Save the column names of `data_ZX` in a variable named `X_values`, create also `Y_values`"
   ]
  },
  {
   "cell_type": "code",
   "execution_count": null,
   "metadata": {
    "ExecuteTime": {
     "end_time": "2019-09-07T23:48:41.194297Z",
     "start_time": "2019-09-07T23:48:39.768Z"
    }
   },
   "outputs": [],
   "source": [
    "X_values=data_ZX.columns\n",
    "X_values"
   ]
  },
  {
   "cell_type": "code",
   "execution_count": null,
   "metadata": {
    "ExecuteTime": {
     "end_time": "2019-09-07T23:48:41.196478Z",
     "start_time": "2019-09-07T23:48:39.774Z"
    }
   },
   "outputs": [],
   "source": [
    "Y_values=data_ZY.columns\n",
    "Y_values"
   ]
  },
  {
   "cell_type": "markdown",
   "metadata": {},
   "source": [
    "### Covariance calculation"
   ]
  },
  {
   "cell_type": "markdown",
   "metadata": {
    "ExecuteTime": {
     "end_time": "2018-01-09T17:01:14.184187Z",
     "start_time": "2018-01-09T17:01:14.176186Z"
    }
   },
   "source": [
    "From now on, work **only** with the variables `ZX`, and `ZY`, `X_values` and `Y_values`"
   ]
  },
  {
   "cell_type": "markdown",
   "metadata": {},
   "source": [
    "<div class=\"alert alert-block alert-info\"> Problem 3.1 </div>\n",
    "Show the shape of `ZX` and `ZY` variables"
   ]
  },
  {
   "cell_type": "code",
   "execution_count": null,
   "metadata": {
    "ExecuteTime": {
     "end_time": "2019-09-07T23:48:41.198291Z",
     "start_time": "2019-09-07T23:48:39.782Z"
    }
   },
   "outputs": [],
   "source": [
    "print(ZX.shape,ZY.shape)"
   ]
  },
  {
   "cell_type": "markdown",
   "metadata": {},
   "source": [
    "<div class=\"alert alert-block alert-info\"> Problem 3.2 </div>\n",
    "* using `ZX`  compute the number of occurrences of each possible value of the variable X\n",
    "* using `ZY`  compute the number of occurrences of each possible value of the variable Y\n",
    "\n",
    "for each posible value of 'X' print the value (a string), and how may times it occurs on the data (an integer).\n",
    "Do the same for 'Y'"
   ]
  },
  {
   "cell_type": "code",
   "execution_count": null,
   "metadata": {
    "ExecuteTime": {
     "end_time": "2019-09-07T23:48:41.200118Z",
     "start_time": "2019-09-07T23:48:39.807Z"
    }
   },
   "outputs": [],
   "source": [
    "X_counts=ZX.sum(axis=0)\n",
    "Y_counts=ZY.sum(axis=0)"
   ]
  },
  {
   "cell_type": "code",
   "execution_count": null,
   "metadata": {
    "ExecuteTime": {
     "end_time": "2019-09-07T23:48:41.201959Z",
     "start_time": "2019-09-07T23:48:39.813Z"
    }
   },
   "outputs": [],
   "source": [
    "for i in range(len(X_values)):\n",
    "    print(X_values[i],X_counts[i])"
   ]
  },
  {
   "cell_type": "code",
   "execution_count": null,
   "metadata": {
    "ExecuteTime": {
     "end_time": "2019-09-07T23:48:41.203791Z",
     "start_time": "2019-09-07T23:48:39.818Z"
    }
   },
   "outputs": [],
   "source": [
    "for i in range(len(Y_values)):\n",
    "    print(Y_values[i],Y_counts[i])"
   ]
  },
  {
   "cell_type": "markdown",
   "metadata": {
    "ExecuteTime": {
     "end_time": "2018-01-09T18:41:32.233141Z",
     "start_time": "2018-01-09T18:41:32.228141Z"
    }
   },
   "source": [
    "<div class=\"alert alert-block alert-info\"> Problem 3.3</div>\n",
    "Compute the empirical (sample) probabilities of the  values of `X` and `Y`.\n",
    "$$\n",
    "    \\mu^X_d = \\frac{1}{N} \\sum_i Z^X_{i,k}\n",
    "$$\n",
    "and similarly for $\\mu^Y_k$\n",
    "\n",
    "Store the results on variables `muX` and `muY`"
   ]
  },
  {
   "cell_type": "code",
   "execution_count": null,
   "metadata": {
    "ExecuteTime": {
     "end_time": "2019-09-07T23:48:41.205689Z",
     "start_time": "2019-09-07T23:48:39.824Z"
    }
   },
   "outputs": [],
   "source": [
    "N=len(ZX)\n",
    "muX=X_counts/N\n",
    "muY=Y_counts/N\n",
    "print(\"muX\",muX)\n",
    "print(\"muY\",muY)"
   ]
  },
  {
   "cell_type": "markdown",
   "metadata": {},
   "source": [
    "<div class=\"alert alert-block alert-info\"> Problem 3.4 </div>\n",
    "Compute the covariance matrix of `ZX` and `ZY` values defined as \n",
    "$$\n",
    "    \\sigma^{X}_{d,d'} = \\frac{1}{N}\\sum_i Z^X_{i,d}Z^X_{i,d'}- \\mu^X_d \\mu^X_{d'}\n",
    "$$\n",
    "and similarly for $\\sigma^Y_{k,k'}$"
   ]
  },
  {
   "cell_type": "code",
   "execution_count": null,
   "metadata": {
    "ExecuteTime": {
     "end_time": "2019-09-07T23:48:41.207578Z",
     "start_time": "2019-09-07T23:48:39.831Z"
    }
   },
   "outputs": [],
   "source": [
    "sigX=np.mean(ZX[:,:,np.newaxis]*ZX[:,np.newaxis,:],axis=0) - muX[:,np.newaxis]*muX[np.newaxis,:]\n",
    "sigX"
   ]
  },
  {
   "cell_type": "code",
   "execution_count": null,
   "metadata": {
    "ExecuteTime": {
     "end_time": "2019-09-07T23:48:41.209385Z",
     "start_time": "2019-09-07T23:48:39.839Z"
    }
   },
   "outputs": [],
   "source": [
    "sigY=np.mean(ZY[:,:,np.newaxis]*ZY[:,np.newaxis,:],axis=0) - muY[:,np.newaxis]*muY[np.newaxis,:]\n",
    "sigY"
   ]
  },
  {
   "cell_type": "markdown",
   "metadata": {},
   "source": [
    "<div class=\"alert alert-block alert-info\"> Problem 3.5 </div>\n",
    "Compute the convariance matrix between `ZX` and `ZY` values defined as\n",
    "$$\n",
    "    \\sigma^{Y,X}_{k,d} = \\frac{1}{N}\\sum_i Z^Y_{i,k}Z^X_{i,d}- \\mu^Y_k\\mu^X_d \n",
    "$$"
   ]
  },
  {
   "cell_type": "code",
   "execution_count": null,
   "metadata": {
    "ExecuteTime": {
     "end_time": "2019-09-07T23:48:41.211130Z",
     "start_time": "2019-09-07T23:48:39.844Z"
    }
   },
   "outputs": [],
   "source": [
    "sigXY=np.mean(ZY[:,:,np.newaxis]*ZX[:,np.newaxis,:],axis=0) - muY[:,np.newaxis]*muX[np.newaxis,:]\n",
    "sigXY"
   ]
  },
  {
   "cell_type": "markdown",
   "metadata": {
    "collapsed": true
   },
   "source": [
    "### Exponential weighted covariance"
   ]
  },
  {
   "cell_type": "markdown",
   "metadata": {
    "ExecuteTime": {
     "end_time": "2018-01-10T10:22:23.229504Z",
     "start_time": "2018-01-10T10:22:23.224493Z"
    }
   },
   "source": [
    "Some times, we want to give more weight so some observations $i$  others.\n",
    "\n",
    "For example, We could interpret the sample index $i$, as time, and we want to weight more strongly observations close to the present more \n",
    "strongly than ones far in the pass."
   ]
  },
  {
   "cell_type": "markdown",
   "metadata": {
    "ExecuteTime": {
     "end_time": "2018-01-10T10:26:19.566016Z",
     "start_time": "2018-01-10T10:26:19.561003Z"
    }
   },
   "source": [
    "<div class=\"alert alert-block alert-info\"> Problem 4.1 </div>\n",
    "Generate an array $W$ of shape $(N,)$ such that\n",
    "$$\n",
    "    W_i =\\frac{ e^{-\\lambda i}}{\\sum_{j} e^{-\\lambda j}}\n",
    "$$\n",
    "with $\\lambda = 4/N$\n",
    "\n",
    "Verify that \n",
    "$$\n",
    "     \\sum_i W_i = 1\n",
    "$$\n",
    "[Hints]\n",
    "* Try not write a python for loop (too slow). \n",
    "* It is probably easier to break the implementation into  two or three intermediate steps.\n",
    "* The function [`numpy.arange`](https://docs.scipy.org/doc/numpy-1.13.0/reference/generated/numpy.arange.html) will probably be useful."
   ]
  },
  {
   "cell_type": "code",
   "execution_count": null,
   "metadata": {
    "ExecuteTime": {
     "end_time": "2019-09-07T23:48:41.213160Z",
     "start_time": "2019-09-07T23:48:39.853Z"
    }
   },
   "outputs": [],
   "source": [
    "lambda0=4/N\n",
    "I=np.arange(N)\n",
    "eI=np.exp(-lambda0*I)\n",
    "eISum=eI.sum()\n",
    "W=eI/eISum\n",
    "print(W.sum(),W[:10])"
   ]
  },
  {
   "cell_type": "markdown",
   "metadata": {},
   "source": [
    "<div class=\"alert alert-block alert-info\"> Problem 4.2 </div>\n",
    "Compute the $X$ and $Y$ weighted means defined as\n",
    "$$\n",
    "    \\mu^X_{W,d} = \\sum_i W_i Z^X_{i,d}\n",
    "$$\n",
    "and similarly for $Y$"
   ]
  },
  {
   "cell_type": "code",
   "execution_count": null,
   "metadata": {
    "ExecuteTime": {
     "end_time": "2019-09-07T23:48:41.214933Z",
     "start_time": "2019-09-07T23:48:39.862Z"
    }
   },
   "outputs": [],
   "source": [
    "muXW=np.dot(W,ZX)\n",
    "muYW=np.dot(W,ZY)\n",
    "print(\"muXW\",muXW)\n",
    "print(\"muYW\",muYW)"
   ]
  },
  {
   "cell_type": "code",
   "execution_count": null,
   "metadata": {
    "ExecuteTime": {
     "end_time": "2019-09-07T23:48:41.216845Z",
     "start_time": "2019-09-07T23:48:39.868Z"
    }
   },
   "outputs": [],
   "source": [
    "# another possible solution\n",
    "muXW=np.sum(W[:,np.newaxis]*ZX,axis=0)\n",
    "muYW=np.sum(W[:,np.newaxis]*ZY,axis=0)\n",
    "print(\"muXW\",muXW)\n",
    "print(\"muYW\",muYW)"
   ]
  },
  {
   "cell_type": "markdown",
   "metadata": {},
   "source": [
    "<div class=\"alert alert-block alert-info\"> Problem 4.3 </div>\n",
    "Compute the exponentially weighted  covariance matrix defined as\n",
    "$$\n",
    "    \\sigma^{Y,X}_{W,\\,k,d} = \\sum_i W_i (Z^Y_{i,k} - \\mu^Y_{W,k})(Z^X_{i,k} - \\mu^X_{W,k})\n",
    "$$"
   ]
  },
  {
   "cell_type": "code",
   "execution_count": null,
   "metadata": {
    "ExecuteTime": {
     "end_time": "2019-09-07T23:48:41.218636Z",
     "start_time": "2019-09-07T23:48:39.873Z"
    }
   },
   "outputs": [],
   "source": [
    "dZX= ZX-muXW\n",
    "dZY= ZY-muYW\n",
    "Cov=dZY[:,:,np.newaxis]*dZX[:,np.newaxis,:]\n",
    "sigXYW=np.sum(W[:,np.newaxis,np.newaxis]*Cov,axis=0)\n",
    "print(sigXYW)"
   ]
  },
  {
   "cell_type": "markdown",
   "metadata": {},
   "source": [
    "## Analyzing MNIST with Numpy"
   ]
  },
  {
   "cell_type": "markdown",
   "metadata": {},
   "source": [
    "<div class=\"alert alert-block alert-info\"> Problem 5.0 </div>\n",
    "Got to MNIST dataset's [web site](http://yann.lecun.com/exdb/mnist/)'.\n",
    "\n",
    "Download the floowing four files, and save them with those names in the raw data directory [raw/MINST](../../raw/MNIST)\n",
    "* `train-images-idx3-ubyte.gz`:  training set images\n",
    "* `train-labels-idx1-ubyte.gz`:  training set labels\n",
    "* `t10k-images-idx3-ubyte.gz`:   test set images\n",
    "* `t10k-labels-idx1-ubyte.gz`:   test set labels\n",
    "\n",
    "Make sure not the decompress, or modify the files in any way.\n"
   ]
  },
  {
   "cell_type": "markdown",
   "metadata": {},
   "source": [
    "<div class=\"alert alert-block alert-info\"> Problem 5.1 </div>\n",
    "Using `E54525_ML.mnist.read_images` function read the train images in file `train-images-idx3-ubyte.gz` into a variable named\n",
    "`images`. \n",
    "\n",
    "images will be a tensor (`np.array` of floating point numbers) with three dimensions $N\\times R \\times C$ where\n",
    "1. $N$ is the number of images\n",
    "2. $R$ is the number of column pixels in an image\n",
    "3. $C$ is the number of row pixels.\n",
    "\n",
    "Show whe shape of the `images` variable"
   ]
  },
  {
   "cell_type": "code",
   "execution_count": null,
   "metadata": {
    "ExecuteTime": {
     "end_time": "2019-09-07T23:48:41.220379Z",
     "start_time": "2019-09-07T23:48:39.882Z"
    }
   },
   "outputs": [],
   "source": [
    "images_filename=raw_data_dir+\"/train-images-idx3-ubyte.gz\"\n",
    "images=mnist.read_images(images_filename)\n",
    "print(images.shape)"
   ]
  },
  {
   "cell_type": "code",
   "execution_count": null,
   "metadata": {
    "ExecuteTime": {
     "end_time": "2019-09-07T23:48:41.222089Z",
     "start_time": "2019-09-07T23:48:39.888Z"
    }
   },
   "outputs": [],
   "source": [
    "N=images.shape[0]\n",
    "R=images.shape[1]\n",
    "C=images.shape[2]\n",
    "print(\"N\",N)\n",
    "print(\"R\",R)\n",
    "print(\"C\",C)"
   ]
  },
  {
   "cell_type": "markdown",
   "metadata": {},
   "source": [
    "<div class=\"alert alert-block alert-info\"> Problem 5.2 </div>\n",
    "Read the labels from file `train-labels-idx1-ubyte.gz`, save them in a variable named labels\n",
    "What is the shape of  label's variable?"
   ]
  },
  {
   "cell_type": "code",
   "execution_count": null,
   "metadata": {
    "ExecuteTime": {
     "end_time": "2019-09-07T23:48:41.223865Z",
     "start_time": "2019-09-07T23:48:39.894Z"
    }
   },
   "outputs": [],
   "source": [
    "labels_filename=raw_data_dir+\"/train-labels-idx1-ubyte.gz\"\n",
    "labels=mnist.read_labels(labels_filename)\n",
    "labels.shape"
   ]
  },
  {
   "cell_type": "markdown",
   "metadata": {},
   "source": [
    "<div class=\"alert alert-block alert-info\"> Problem 5.3 </div>\n",
    "Use [`matplotlib.pyplot.imshow`](https://matplotlib.org/api/_as_gen/matplotlib.pyplot.imshow.html?highlight=matplotlib%20pyplot%20imshow#matplotlib.pyplot.imshow) to display the first three images on the MNIST dataset\n",
    "\n",
    "Se the plot title to each image to the corresponding label\n",
    "\n",
    "[HINT] set the color map to `gray` for best results"
   ]
  },
  {
   "cell_type": "code",
   "execution_count": null,
   "metadata": {
    "ExecuteTime": {
     "end_time": "2019-09-07T23:48:41.225830Z",
     "start_time": "2019-09-07T23:48:39.901Z"
    }
   },
   "outputs": [],
   "source": [
    "label=int(labels[0])\n",
    "plt.title('Digit {0}'.format(label))\n",
    "plt.imshow(images[0],cmap=\"gray\")"
   ]
  },
  {
   "cell_type": "code",
   "execution_count": null,
   "metadata": {
    "ExecuteTime": {
     "end_time": "2019-09-07T23:48:41.227691Z",
     "start_time": "2019-09-07T23:48:39.906Z"
    }
   },
   "outputs": [],
   "source": [
    "label=int(labels[1])\n",
    "plt.title('Digit {0}'.format(label))\n",
    "plt.imshow(images[1], cmap='gray')"
   ]
  },
  {
   "cell_type": "code",
   "execution_count": null,
   "metadata": {
    "ExecuteTime": {
     "end_time": "2019-09-07T23:48:41.229692Z",
     "start_time": "2019-09-07T23:48:39.911Z"
    }
   },
   "outputs": [],
   "source": [
    "label=int(labels[2])\n",
    "plt.title('Digit {0}'.format(label))\n",
    "plt.imshow(images[2], cmap='gray')"
   ]
  },
  {
   "cell_type": "markdown",
   "metadata": {},
   "source": [
    "<div class=\"alert alert-block alert-info\"> Problem 5.3 </div>\n",
    "Compute the average image (averaged over all the samples).\n",
    "use `imshow` to plot the result.\n",
    "\n",
    "[HINT] this is just averaging over the first axis of the images array"
   ]
  },
  {
   "cell_type": "code",
   "execution_count": null,
   "metadata": {
    "ExecuteTime": {
     "end_time": "2019-09-07T23:48:41.231489Z",
     "start_time": "2019-09-07T23:48:39.918Z"
    }
   },
   "outputs": [],
   "source": [
    "mean_image=np.mean(images,axis=0)\n",
    "print(mean_image.shape)\n",
    "plt.title(\"Average pixel intensities\")\n",
    "plt.imshow(mean_image,cmap=\"gray\")"
   ]
  },
  {
   "cell_type": "code",
   "execution_count": null,
   "metadata": {
    "ExecuteTime": {
     "end_time": "2019-09-07T23:48:41.233152Z",
     "start_time": "2019-09-07T23:48:39.924Z"
    }
   },
   "outputs": [],
   "source": [
    "def one_hot_encode(labels):\n",
    "    N=len(labels)\n",
    "    K=labels.max()+1\n",
    "    Z=np.zeros((len(labels),K))\n",
    "    Z[np.arange(N),labels]=1\n",
    "    return Z"
   ]
  },
  {
   "cell_type": "markdown",
   "metadata": {},
   "source": [
    "<div class=\"alert alert-block alert-info\"> Problem 5.4 </div>\n",
    "Use the function `one_hot_encode` defined above to create a variable `Z` with the one hot encoding of the labels.\n",
    "\n",
    "Show the shape of `Z`"
   ]
  },
  {
   "cell_type": "code",
   "execution_count": null,
   "metadata": {
    "ExecuteTime": {
     "end_time": "2019-09-07T23:48:41.234953Z",
     "start_time": "2019-09-07T23:48:39.929Z"
    }
   },
   "outputs": [],
   "source": [
    "Z=one_hot_encode(labels)\n",
    "Z.shape"
   ]
  },
  {
   "cell_type": "markdown",
   "metadata": {
    "ExecuteTime": {
     "end_time": "2018-01-14T19:55:30.710143Z",
     "start_time": "2018-01-14T19:55:30.705129Z"
    }
   },
   "source": [
    "<div class=\"alert alert-block alert-info\"> Problem 5.5 </div>\n",
    "Create the rank four tensor\n",
    "$$\n",
    "T_{i,k,r,c} = Z_{i,k}  \\textrm{images}_{i,r,c}\n",
    "$$\n"
   ]
  },
  {
   "cell_type": "code",
   "execution_count": null,
   "metadata": {
    "ExecuteTime": {
     "end_time": "2019-09-07T23:48:41.237045Z",
     "start_time": "2019-09-07T23:48:39.940Z"
    }
   },
   "outputs": [],
   "source": [
    "T=Z[:,:,np.newaxis,np.newaxis]*images[:,np.newaxis,:,:]\n",
    "T.shape"
   ]
  },
  {
   "cell_type": "markdown",
   "metadata": {},
   "source": [
    "<div class=\"alert alert-block alert-info\"> Problem 5.6 </div>\n",
    "Average $T$ over the sample index $i$, save to a variable named `average`"
   ]
  },
  {
   "cell_type": "code",
   "execution_count": null,
   "metadata": {
    "ExecuteTime": {
     "end_time": "2019-09-07T23:48:41.239349Z",
     "start_time": "2019-09-07T23:48:39.946Z"
    }
   },
   "outputs": [],
   "source": [
    "average=T.mean(axis=0)\n",
    "average.shape"
   ]
  },
  {
   "cell_type": "markdown",
   "metadata": {
    "ExecuteTime": {
     "end_time": "2018-01-14T19:59:54.793042Z",
     "start_time": "2018-01-14T19:59:54.787027Z"
    }
   },
   "source": [
    "<div class=\"alert alert-block alert-info\"> Problem 5.7</div>\n",
    "What does `average[0]` represent? \n",
    "\n",
    "and `average[5]`?"
   ]
  },
  {
   "cell_type": "markdown",
   "metadata": {},
   "source": [
    "`average[0]` is the average intensity of  the pixels for all the images labeled 0 (scaled by 1/K=0.1).\n",
    "\n",
    "`average[5]` is the average intensity of the pixels for all the images labeled 5 (scaled by 1/K=0.1)."
   ]
  },
  {
   "cell_type": "markdown",
   "metadata": {
    "ExecuteTime": {
     "end_time": "2018-01-14T20:02:02.528638Z",
     "start_time": "2018-01-14T20:02:02.513011Z"
    }
   },
   "source": [
    "<div class=\"alert alert-block alert-info\"> Problem 5.8 </div>\n",
    "use `imshow` to plot `average[0]` and `average[5]`"
   ]
  },
  {
   "cell_type": "code",
   "execution_count": null,
   "metadata": {
    "ExecuteTime": {
     "end_time": "2019-09-07T23:48:41.241420Z",
     "start_time": "2019-09-07T23:48:39.954Z"
    }
   },
   "outputs": [],
   "source": [
    "plt.title(\"Average Digit 0\")\n",
    "plt.imshow(average[0],cmap=\"gray\")"
   ]
  },
  {
   "cell_type": "code",
   "execution_count": null,
   "metadata": {
    "ExecuteTime": {
     "end_time": "2019-09-07T23:48:41.243424Z",
     "start_time": "2019-09-07T23:48:39.970Z"
    }
   },
   "outputs": [],
   "source": [
    "plt.title(\"Average Digit 5\")\n",
    "plt.imshow(average[5],cmap=\"gray\")"
   ]
  },
  {
   "cell_type": "code",
   "execution_count": null,
   "metadata": {},
   "outputs": [],
   "source": []
  }
 ],
 "metadata": {
  "kernelspec": {
   "display_name": "Python 3",
   "language": "python",
   "name": "python3"
  },
  "language_info": {
   "codemirror_mode": {
    "name": "ipython",
    "version": 3
   },
   "file_extension": ".py",
   "mimetype": "text/x-python",
   "name": "python",
   "nbconvert_exporter": "python",
   "pygments_lexer": "ipython3",
   "version": "3.7.3"
  },
  "toc": {
   "base_numbering": 1,
   "nav_menu": {},
   "number_sections": true,
   "sideBar": true,
   "skip_h1_title": false,
   "title_cell": "Table of Contents",
   "title_sidebar": "Contents",
   "toc_cell": false,
   "toc_position": {},
   "toc_section_display": "block",
   "toc_window_display": true
  }
 },
 "nbformat": 4,
 "nbformat_minor": 2
}

{
 "cells": [
  {
   "cell_type": "markdown",
   "metadata": {
    "ExecuteTime": {
     "end_time": "2018-01-09T15:16:27.144141Z",
     "start_time": "2018-01-09T15:16:27.139141Z"
    }
   },
   "source": [
    "# Homework Lecture 1"
   ]
  },
  {
   "cell_type": "markdown",
   "metadata": {
    "ExecuteTime": {
     "end_time": "2018-01-09T15:16:42.223141Z",
     "start_time": "2018-01-09T15:16:42.218141Z"
    }
   },
   "source": [
    "## Preliminaries"
   ]
  },
  {
   "cell_type": "markdown",
   "metadata": {
    "ExecuteTime": {
     "end_time": "2018-01-09T15:16:58.417141Z",
     "start_time": "2018-01-09T15:16:58.414141Z"
    }
   },
   "source": [
    "### Imports"
   ]
  },
  {
   "cell_type": "code",
   "execution_count": 1,
   "metadata": {
    "ExecuteTime": {
     "end_time": "2018-01-17T16:09:33.797176Z",
     "start_time": "2018-01-17T16:09:12.299456Z"
    }
   },
   "outputs": [],
   "source": [
    "import os\n",
    "\n",
    "import numpy as np\n",
    "import pandas as pd\n",
    "import matplotlib.pyplot as plt\n",
    "\n",
    "%matplotlib inline\n",
    "\n",
    "import sys \n",
    "sys.path.append(\"../..\")\n",
    "import E4525_ML.mnist as mnist"
   ]
  },
  {
   "cell_type": "markdown",
   "metadata": {
    "ExecuteTime": {
     "end_time": "2018-01-09T15:18:16.996141Z",
     "start_time": "2018-01-09T15:18:16.993141Z"
    }
   },
   "source": [
    "### Data Directories "
   ]
  },
  {
   "cell_type": "markdown",
   "metadata": {},
   "source": [
    "Create a directory with the path below"
   ]
  },
  {
   "cell_type": "code",
   "execution_count": 2,
   "metadata": {
    "ExecuteTime": {
     "end_time": "2018-01-17T16:09:33.816326Z",
     "start_time": "2018-01-17T16:09:33.801275Z"
    }
   },
   "outputs": [],
   "source": [
    "raw_data_dir=\"../../raw/MNIST\"\n",
    "data_dir=\"../../data/introduction\"\n"
   ]
  },
  {
   "cell_type": "markdown",
   "metadata": {},
   "source": [
    "<div class=\"alert alert-block alert-info\"> Problem 0 </div>\n",
    "Download the file `data.csv` and save it fo the directory `data_dir`"
   ]
  },
  {
   "cell_type": "markdown",
   "metadata": {
    "ExecuteTime": {
     "end_time": "2018-01-09T15:21:30.644141Z",
     "start_time": "2018-01-09T15:21:30.639141Z"
    }
   },
   "source": [
    "## Numpy Exercises"
   ]
  },
  {
   "cell_type": "markdown",
   "metadata": {
    "ExecuteTime": {
     "end_time": "2018-01-09T16:23:41.930141Z",
     "start_time": "2018-01-09T16:23:41.927141Z"
    }
   },
   "source": [
    "### Read and Inspect the Data "
   ]
  },
  {
   "cell_type": "markdown",
   "metadata": {},
   "source": [
    "<div class=\"alert alert-block alert-info\"> Problem 1.1 </div>\n",
    "Read the contents of `data.csv` into a panda's dataframe"
   ]
  },
  {
   "cell_type": "code",
   "execution_count": null,
   "metadata": {
    "ExecuteTime": {
     "end_time": "2018-01-15T02:43:44.196239Z",
     "start_time": "2018-01-15T02:43:44.108006Z"
    }
   },
   "outputs": [],
   "source": []
  },
  {
   "cell_type": "markdown",
   "metadata": {},
   "source": [
    "<div class=\"alert alert-block alert-info\"> Problem 1.2 </div>\n",
    "What are the name of the columns?"
   ]
  },
  {
   "cell_type": "code",
   "execution_count": null,
   "metadata": {
    "ExecuteTime": {
     "end_time": "2018-01-15T02:43:44.223312Z",
     "start_time": "2018-01-15T02:43:44.198245Z"
    }
   },
   "outputs": [],
   "source": []
  },
  {
   "cell_type": "markdown",
   "metadata": {
    "ExecuteTime": {
     "end_time": "2018-01-09T16:25:39.747141Z",
     "start_time": "2018-01-09T16:25:39.722141Z"
    }
   },
   "source": [
    "<div class=\"alert alert-block alert-info\"> Problem 1.3 </div>\n",
    "How many rows are there?"
   ]
  },
  {
   "cell_type": "code",
   "execution_count": null,
   "metadata": {
    "ExecuteTime": {
     "end_time": "2018-01-15T02:43:44.242362Z",
     "start_time": "2018-01-15T02:43:44.225318Z"
    }
   },
   "outputs": [],
   "source": []
  },
  {
   "cell_type": "markdown",
   "metadata": {},
   "source": [
    "<div class=\"alert alert-block alert-info\"> Problem 1.4 </div>\n",
    "List the unique values of column \"X\", and of column \"Y\""
   ]
  },
  {
   "cell_type": "code",
   "execution_count": null,
   "metadata": {
    "ExecuteTime": {
     "end_time": "2018-01-15T02:43:44.265424Z",
     "start_time": "2018-01-15T02:43:44.244369Z"
    }
   },
   "outputs": [],
   "source": []
  },
  {
   "cell_type": "markdown",
   "metadata": {
    "ExecuteTime": {
     "end_time": "2018-01-09T16:27:20.953141Z",
     "start_time": "2018-01-09T16:27:20.944141Z"
    }
   },
   "source": [
    "<div class=\"alert alert-block alert-info\"> Problem 1.5 </div>\n",
    "Use [pandas.Series.value_counts](https://pandas.pydata.org/pandas-docs/stable/generated/pandas.Series.value_counts.html) function to get the counts of each possible value  of X and Y variables"
   ]
  },
  {
   "cell_type": "code",
   "execution_count": null,
   "metadata": {
    "ExecuteTime": {
     "end_time": "2018-01-15T02:43:44.465957Z",
     "start_time": "2018-01-15T02:43:44.267430Z"
    }
   },
   "outputs": [],
   "source": []
  },
  {
   "cell_type": "code",
   "execution_count": null,
   "metadata": {
    "ExecuteTime": {
     "end_time": "2018-01-15T02:43:44.600543Z",
     "start_time": "2018-01-15T02:43:44.468966Z"
    }
   },
   "outputs": [],
   "source": []
  },
  {
   "cell_type": "markdown",
   "metadata": {
    "ExecuteTime": {
     "end_time": "2018-01-09T16:29:30.641141Z",
     "start_time": "2018-01-09T16:29:30.635141Z"
    }
   },
   "source": [
    "### Basic Usage of Numpy"
   ]
  },
  {
   "cell_type": "markdown",
   "metadata": {},
   "source": [
    "<div class=\"alert alert-block alert-info\"> Problem 2.1 </div>\n",
    "\n",
    "Use panda's function [get_dummies](https://pandas.pydata.org/pandas-docs/stable/generated/pandas.get_dummies.html) to\n",
    "* create a variable named `data_ZX` with one row per row on the original data, and one-hot encoded `X` variable values as columns\n",
    "* create a varialbe named `data_ZY` with one row per row on the original data, and one-hot encoded `Y` variable values as columns"
   ]
  },
  {
   "cell_type": "code",
   "execution_count": null,
   "metadata": {
    "ExecuteTime": {
     "end_time": "2018-01-15T02:43:44.608564Z",
     "start_time": "2018-01-15T02:43:44.602548Z"
    }
   },
   "outputs": [],
   "source": []
  },
  {
   "cell_type": "code",
   "execution_count": null,
   "metadata": {
    "ExecuteTime": {
     "end_time": "2018-01-15T02:43:44.638662Z",
     "start_time": "2018-01-15T02:43:44.613588Z"
    }
   },
   "outputs": [],
   "source": []
  },
  {
   "cell_type": "markdown",
   "metadata": {},
   "source": [
    "<div class=\"alert alert-block alert-info\"> Problem 2.2 </div>\n",
    "Using the dataframe function `as_matrix()`  create `numpy` arrays `ZX` and `ZY` with the occurrence data for `X` and `Y` variables"
   ]
  },
  {
   "cell_type": "code",
   "execution_count": null,
   "metadata": {
    "ExecuteTime": {
     "end_time": "2018-01-15T02:43:44.672736Z",
     "start_time": "2018-01-15T02:43:44.645664Z"
    }
   },
   "outputs": [],
   "source": []
  },
  {
   "cell_type": "code",
   "execution_count": null,
   "metadata": {
    "ExecuteTime": {
     "end_time": "2018-01-15T02:43:44.691786Z",
     "start_time": "2018-01-15T02:43:44.674741Z"
    }
   },
   "outputs": [],
   "source": []
  },
  {
   "cell_type": "markdown",
   "metadata": {},
   "source": [
    "<div class=\"alert alert-block alert-info\"> Problem 2.3 </div>\n",
    "Save the column names of `data_ZX` in a variable named `X_values`, create also `Y_values`"
   ]
  },
  {
   "cell_type": "code",
   "execution_count": null,
   "metadata": {
    "ExecuteTime": {
     "end_time": "2018-01-15T02:43:44.715850Z",
     "start_time": "2018-01-15T02:43:44.693792Z"
    }
   },
   "outputs": [],
   "source": []
  },
  {
   "cell_type": "code",
   "execution_count": null,
   "metadata": {
    "ExecuteTime": {
     "end_time": "2018-01-15T02:43:44.739915Z",
     "start_time": "2018-01-15T02:43:44.719865Z"
    }
   },
   "outputs": [],
   "source": []
  },
  {
   "cell_type": "markdown",
   "metadata": {},
   "source": [
    "### Covariance calculation"
   ]
  },
  {
   "cell_type": "markdown",
   "metadata": {
    "ExecuteTime": {
     "end_time": "2018-01-09T17:01:14.184187Z",
     "start_time": "2018-01-09T17:01:14.176186Z"
    }
   },
   "source": [
    "From now on, work **only** with the variables `ZX`, and `ZY`, `X_values` and `Y_values`"
   ]
  },
  {
   "cell_type": "markdown",
   "metadata": {},
   "source": [
    "<div class=\"alert alert-block alert-info\"> Problem 3.1 </div>\n",
    "Show the shape of `ZX` and `ZY` variables"
   ]
  },
  {
   "cell_type": "code",
   "execution_count": null,
   "metadata": {
    "ExecuteTime": {
     "end_time": "2018-01-15T02:43:44.760970Z",
     "start_time": "2018-01-15T02:43:44.741919Z"
    }
   },
   "outputs": [],
   "source": []
  },
  {
   "cell_type": "markdown",
   "metadata": {},
   "source": [
    "<div class=\"alert alert-block alert-info\"> Problem 3.2 </div>\n",
    "* using `ZX`  compute the number of occurrences of each possible value of the variable X\n",
    "* using `ZY`  compute the number of occurrences of each possible value of the variable Y\n",
    "\n",
    "for each posible value of 'X' print the value (a string), and how may times it occurs on the data (an integer).\n",
    "Do the same for 'Y'"
   ]
  },
  {
   "cell_type": "code",
   "execution_count": null,
   "metadata": {
    "ExecuteTime": {
     "end_time": "2018-01-15T02:43:44.781026Z",
     "start_time": "2018-01-15T02:43:44.767992Z"
    }
   },
   "outputs": [],
   "source": []
  },
  {
   "cell_type": "code",
   "execution_count": null,
   "metadata": {
    "ExecuteTime": {
     "end_time": "2018-01-15T02:43:44.845193Z",
     "start_time": "2018-01-15T02:43:44.785035Z"
    }
   },
   "outputs": [],
   "source": []
  },
  {
   "cell_type": "code",
   "execution_count": null,
   "metadata": {
    "ExecuteTime": {
     "end_time": "2018-01-15T02:43:44.862239Z",
     "start_time": "2018-01-15T02:43:44.847199Z"
    }
   },
   "outputs": [],
   "source": []
  },
  {
   "cell_type": "markdown",
   "metadata": {
    "ExecuteTime": {
     "end_time": "2018-01-09T18:41:32.233141Z",
     "start_time": "2018-01-09T18:41:32.228141Z"
    }
   },
   "source": [
    "<div class=\"alert alert-block alert-info\"> Problem 3.3</div>\n",
    "Compute the empirical (sample) probabilities of the  values of `X` and `Y`.\n",
    "$$\n",
    "    \\mu^X_d = \\frac{1}{N} \\sum_i Z^X_{i,k}\n",
    "$$\n",
    "and similarly for $\\mu^Y_k$\n",
    "\n",
    "Store the results on variables `muX` and `muY`"
   ]
  },
  {
   "cell_type": "code",
   "execution_count": null,
   "metadata": {
    "ExecuteTime": {
     "end_time": "2018-01-15T02:43:44.879284Z",
     "start_time": "2018-01-15T02:43:44.864244Z"
    }
   },
   "outputs": [],
   "source": []
  },
  {
   "cell_type": "markdown",
   "metadata": {},
   "source": [
    "<div class=\"alert alert-block alert-info\"> Problem 3.4 </div>\n",
    "Compute the covariance matrix of `ZX` and `ZY` values defined as \n",
    "$$\n",
    "    \\sigma^{X}_{d,d'} = \\frac{1}{N}\\sum_i Z^X_{i,d}Z^X_{i,d'}- \\mu^X_d \\mu^X_{d'}\n",
    "$$\n",
    "and similarly for $\\sigma^Y_{k,k'}$"
   ]
  },
  {
   "cell_type": "code",
   "execution_count": null,
   "metadata": {
    "ExecuteTime": {
     "end_time": "2018-01-15T02:43:44.898336Z",
     "start_time": "2018-01-15T02:43:44.881290Z"
    }
   },
   "outputs": [],
   "source": []
  },
  {
   "cell_type": "code",
   "execution_count": null,
   "metadata": {
    "ExecuteTime": {
     "end_time": "2018-01-15T02:43:45.039711Z",
     "start_time": "2018-01-15T02:43:44.902347Z"
    }
   },
   "outputs": [],
   "source": []
  },
  {
   "cell_type": "markdown",
   "metadata": {},
   "source": [
    "<div class=\"alert alert-block alert-info\"> Problem 3.5 </div>\n",
    "Compute the covariance matrix between `ZX` and `ZY` values defined as\n",
    "$$\n",
    "    \\sigma^{Y,X}_{k,d} = \\frac{1}{N}\\sum_i Z^Y_{i,k}Z^X_{i,d}- \\mu^Y_k\\mu^X_d \n",
    "$$"
   ]
  },
  {
   "cell_type": "code",
   "execution_count": null,
   "metadata": {
    "ExecuteTime": {
     "end_time": "2018-01-15T02:43:45.062778Z",
     "start_time": "2018-01-15T02:43:45.041716Z"
    }
   },
   "outputs": [],
   "source": []
  },
  {
   "cell_type": "markdown",
   "metadata": {
    "collapsed": true
   },
   "source": [
    "### Exponential weighted covariance"
   ]
  },
  {
   "cell_type": "markdown",
   "metadata": {
    "ExecuteTime": {
     "end_time": "2018-01-10T10:22:23.229504Z",
     "start_time": "2018-01-10T10:22:23.224493Z"
    }
   },
   "source": [
    "Some times, we want to give more weight so some observations $i$  others.\n",
    "\n",
    "For example, We could interpret the sample index $i$, as time, and we want to weight more strongly observations close to the present more \n",
    "strongly than ones far in the pass."
   ]
  },
  {
   "cell_type": "markdown",
   "metadata": {
    "ExecuteTime": {
     "end_time": "2018-01-10T10:26:19.566016Z",
     "start_time": "2018-01-10T10:26:19.561003Z"
    }
   },
   "source": [
    "<div class=\"alert alert-block alert-info\"> Problem 4.1 </div>\n",
    "Generate an array $W$ of shape $(N,)$ such that\n",
    "$$\n",
    "    W_i =\\frac{ e^{-\\lambda i}}{\\sum_{j} e^{-\\lambda j}}\n",
    "$$\n",
    "with $\\lambda = 4/N$\n",
    "\n",
    "Verify that \n",
    "$$\n",
    "     \\sum_i W_i = 1\n",
    "$$\n",
    "[Hints]\n",
    "* Try not write a python for loop (too slow). \n",
    "* It is probably easier to break the implementation into  two or three intermediate steps.\n",
    "* The function [`numpy.arange`](https://docs.scipy.org/doc/numpy-1.13.0/reference/generated/numpy.arange.html) will probably be useful.\n",
    "* `lambda` is a reserved word in python."
   ]
  },
  {
   "cell_type": "code",
   "execution_count": null,
   "metadata": {
    "ExecuteTime": {
     "end_time": "2018-01-15T02:43:45.082826Z",
     "start_time": "2018-01-15T02:43:45.066797Z"
    }
   },
   "outputs": [],
   "source": []
  },
  {
   "cell_type": "markdown",
   "metadata": {},
   "source": [
    "<div class=\"alert alert-block alert-info\"> Problem 4.2 </div>\n",
    "Compute the $X$ and $Y$ weighted means defined as\n",
    "$$\n",
    "    \\mu^X_{W,d} = \\sum_i W_i Z^X_{i,d}\n",
    "$$\n",
    "and similarly for $Y$"
   ]
  },
  {
   "cell_type": "code",
   "execution_count": null,
   "metadata": {
    "ExecuteTime": {
     "end_time": "2018-01-15T02:43:45.267318Z",
     "start_time": "2018-01-15T02:43:45.087840Z"
    }
   },
   "outputs": [],
   "source": []
  },
  {
   "cell_type": "code",
   "execution_count": null,
   "metadata": {
    "ExecuteTime": {
     "end_time": "2018-01-15T02:43:45.407690Z",
     "start_time": "2018-01-15T02:43:45.271328Z"
    }
   },
   "outputs": [],
   "source": []
  },
  {
   "cell_type": "markdown",
   "metadata": {},
   "source": [
    "<div class=\"alert alert-block alert-info\"> Problem 4.3 </div>\n",
    "Compute the exponentially weighted  covariance matrix defined as\n",
    "$$\n",
    "    \\sigma^{Y,X}_{W,\\,k,d} = \\sum_i W_i (Z^Y_{i,k} - \\mu^Y_{W,k})(Z^X_{i,k} - \\mu^X_{W,k})\n",
    "$$"
   ]
  },
  {
   "cell_type": "code",
   "execution_count": null,
   "metadata": {
    "ExecuteTime": {
     "end_time": "2018-01-15T02:43:45.567120Z",
     "start_time": "2018-01-15T02:43:45.410699Z"
    }
   },
   "outputs": [],
   "source": []
  },
  {
   "cell_type": "markdown",
   "metadata": {},
   "source": [
    "## Analyzing MNIST with Numpy"
   ]
  },
  {
   "cell_type": "markdown",
   "metadata": {},
   "source": [
    "<div class=\"alert alert-block alert-info\"> Problem 5.0 </div>\n",
    "Got to MNIST dataset's [web site](http://yann.lecun.com/exdb/mnist/)'.\n",
    "\n",
    "Download the floowing four files, and save them with those names in the raw data directory [raw/MINST](../../raw/MNIST)\n",
    "* `train-images-idx3-ubyte.gz`:  training set images\n",
    "* `train-labels-idx1-ubyte.gz`:  training set labels\n",
    "* `t10k-images-idx3-ubyte.gz`:   test set images\n",
    "* `t10k-labels-idx1-ubyte.gz`:   test set labels\n",
    "\n",
    "Make sure not the decompress, or modify the files in any way.\n"
   ]
  },
  {
   "cell_type": "markdown",
   "metadata": {},
   "source": [
    "<div class=\"alert alert-block alert-info\"> Problem 5.1 </div>\n",
    "Using `E54525_ML.mnist.read_images` function read the train images in file `train-images-idx3-ubyte.gz` into a variable named\n",
    "`images`. \n",
    "\n",
    "images will be a tensor (`np.array` of floating point numbers) with three dimensions $N\\times R \\times C$ where\n",
    "1. $N$ is the number of images\n",
    "2. $R$ is the number of column pixels in an image\n",
    "3. $C$ is the number of row pixels.\n",
    "\n",
    "Show whe shape of the `images` variable"
   ]
  },
  {
   "cell_type": "code",
   "execution_count": null,
   "metadata": {
    "ExecuteTime": {
     "end_time": "2018-01-15T02:43:48.089823Z",
     "start_time": "2018-01-15T02:43:45.570121Z"
    }
   },
   "outputs": [],
   "source": []
  },
  {
   "cell_type": "code",
   "execution_count": null,
   "metadata": {
    "ExecuteTime": {
     "end_time": "2018-01-15T02:43:48.172043Z",
     "start_time": "2018-01-15T02:43:48.091829Z"
    }
   },
   "outputs": [],
   "source": []
  },
  {
   "cell_type": "markdown",
   "metadata": {},
   "source": [
    "<div class=\"alert alert-block alert-info\"> Problem 5.2 </div>\n",
    "Read the labels from file `train-labels-idx1-ubyte.gz`, save them in a variable named labels\n",
    "What is the shape of  label's variable?"
   ]
  },
  {
   "cell_type": "code",
   "execution_count": null,
   "metadata": {
    "ExecuteTime": {
     "end_time": "2018-01-15T02:43:48.455796Z",
     "start_time": "2018-01-15T02:43:48.176054Z"
    }
   },
   "outputs": [],
   "source": []
  },
  {
   "cell_type": "markdown",
   "metadata": {},
   "source": [
    "<div class=\"alert alert-block alert-info\"> Problem 5.3 </div>\n",
    "Use [`matplotlib.pyplot.imshow`](https://matplotlib.org/api/_as_gen/matplotlib.pyplot.imshow.html?highlight=matplotlib%20pyplot%20imshow#matplotlib.pyplot.imshow) to display the first three images on the MNIST dataset\n",
    "\n",
    "Se the plot title to each image to the corresponding label\n",
    "\n",
    "[HINT] set the color map to `gray` for best results"
   ]
  },
  {
   "cell_type": "code",
   "execution_count": null,
   "metadata": {
    "ExecuteTime": {
     "end_time": "2018-01-15T02:43:49.134602Z",
     "start_time": "2018-01-15T02:43:48.458806Z"
    }
   },
   "outputs": [],
   "source": []
  },
  {
   "cell_type": "code",
   "execution_count": null,
   "metadata": {
    "ExecuteTime": {
     "end_time": "2018-01-15T02:43:49.646964Z",
     "start_time": "2018-01-15T02:43:49.136607Z"
    }
   },
   "outputs": [],
   "source": []
  },
  {
   "cell_type": "code",
   "execution_count": null,
   "metadata": {
    "ExecuteTime": {
     "end_time": "2018-01-15T02:43:50.071093Z",
     "start_time": "2018-01-15T02:43:49.648970Z"
    }
   },
   "outputs": [],
   "source": []
  },
  {
   "cell_type": "markdown",
   "metadata": {},
   "source": [
    "<div class=\"alert alert-block alert-info\"> Problem 5.3 </div>\n",
    "Compute the average image (averaged over all the samples).\n",
    "use `imshow` to plot the result.\n",
    "\n",
    "[HINT] this is just averaging over the first axis of the images array"
   ]
  },
  {
   "cell_type": "code",
   "execution_count": null,
   "metadata": {
    "ExecuteTime": {
     "end_time": "2018-01-15T02:43:50.633590Z",
     "start_time": "2018-01-15T02:43:50.072095Z"
    }
   },
   "outputs": [],
   "source": []
  },
  {
   "cell_type": "code",
   "execution_count": 3,
   "metadata": {
    "ExecuteTime": {
     "end_time": "2018-01-17T16:09:33.832469Z",
     "start_time": "2018-01-17T16:09:33.818041Z"
    }
   },
   "outputs": [],
   "source": [
    "def one_hot_encode(labels):\n",
    "    N=len(labels)\n",
    "    K=labels.max()+1\n",
    "    Z=np.zeros((len(labels),K))\n",
    "    Z[np.arange(N),labels]=1\n",
    "    return Z"
   ]
  },
  {
   "cell_type": "markdown",
   "metadata": {},
   "source": [
    "<div class=\"alert alert-block alert-info\"> Problem 5.4 </div>\n",
    "Use the function `one_hot_encode` defined above to create a variable `Z` with the one hot encoding of the labels.\n",
    "\n",
    "Show the shape of `Z`"
   ]
  },
  {
   "cell_type": "code",
   "execution_count": null,
   "metadata": {
    "ExecuteTime": {
     "end_time": "2018-01-15T02:43:50.785769Z",
     "start_time": "2018-01-15T02:43:50.649639Z"
    }
   },
   "outputs": [],
   "source": []
  },
  {
   "cell_type": "markdown",
   "metadata": {
    "ExecuteTime": {
     "end_time": "2018-01-14T19:55:30.710143Z",
     "start_time": "2018-01-14T19:55:30.705129Z"
    }
   },
   "source": [
    "<div class=\"alert alert-block alert-info\"> Problem 5.5 </div>\n",
    "Create the rank four tensor\n",
    "$$\n",
    "T_{i,k,r,c} = Z_{i,k}  \\textrm{images}_{i,r,c}\n",
    "$$\n"
   ]
  },
  {
   "cell_type": "code",
   "execution_count": null,
   "metadata": {
    "ExecuteTime": {
     "end_time": "2018-01-15T02:43:56.812860Z",
     "start_time": "2018-01-15T02:43:50.787775Z"
    }
   },
   "outputs": [],
   "source": []
  },
  {
   "cell_type": "markdown",
   "metadata": {},
   "source": [
    "<div class=\"alert alert-block alert-info\"> Problem 5.6 </div>\n",
    "Average $T$ over the sample index $i$, save to a variable named `average`"
   ]
  },
  {
   "cell_type": "code",
   "execution_count": null,
   "metadata": {
    "ExecuteTime": {
     "end_time": "2018-01-15T02:43:57.700447Z",
     "start_time": "2018-01-15T02:43:56.814869Z"
    }
   },
   "outputs": [],
   "source": []
  },
  {
   "cell_type": "markdown",
   "metadata": {
    "ExecuteTime": {
     "end_time": "2018-01-14T19:59:54.793042Z",
     "start_time": "2018-01-14T19:59:54.787027Z"
    }
   },
   "source": [
    "<div class=\"alert alert-block alert-info\"> Problem 5.7</div>\n",
    "What does `average[0]` represent? \n",
    "\n",
    "and `average[5]`?"
   ]
  },
  {
   "cell_type": "code",
   "execution_count": null,
   "metadata": {},
   "outputs": [],
   "source": []
  },
  {
   "cell_type": "markdown",
   "metadata": {
    "ExecuteTime": {
     "end_time": "2018-01-14T20:02:02.528638Z",
     "start_time": "2018-01-14T20:02:02.513011Z"
    }
   },
   "source": [
    "<div class=\"alert alert-block alert-info\"> Problem 5.8 </div>\n",
    "use `imshow` to plot `average[0]` and `average[5]`"
   ]
  },
  {
   "cell_type": "code",
   "execution_count": null,
   "metadata": {
    "ExecuteTime": {
     "end_time": "2018-01-15T02:43:58.395295Z",
     "start_time": "2018-01-15T02:43:57.702454Z"
    }
   },
   "outputs": [],
   "source": []
  },
  {
   "cell_type": "code",
   "execution_count": null,
   "metadata": {
    "ExecuteTime": {
     "end_time": "2018-01-15T02:43:58.917685Z",
     "start_time": "2018-01-15T02:43:58.397302Z"
    }
   },
   "outputs": [],
   "source": []
  },
  {
   "cell_type": "code",
   "execution_count": null,
   "metadata": {},
   "outputs": [],
   "source": []
  }
 ],
 "metadata": {
  "kernelspec": {
   "display_name": "Python 3",
   "language": "python",
   "name": "python3"
  },
  "language_info": {
   "codemirror_mode": {
    "name": "ipython",
    "version": 3
   },
   "file_extension": ".py",
   "mimetype": "text/x-python",
   "name": "python",
   "nbconvert_exporter": "python",
   "pygments_lexer": "ipython3",
   "version": "3.6.4"
  },
  "toc": {
   "base_numbering": 1,
   "nav_menu": {},
   "number_sections": true,
   "sideBar": true,
   "skip_h1_title": false,
   "title_cell": "Table of Contents",
   "title_sidebar": "Contents",
   "toc_cell": false,
   "toc_position": {},
   "toc_section_display": "block",
   "toc_window_display": true
  }
 },
 "nbformat": 4,
 "nbformat_minor": 2
}

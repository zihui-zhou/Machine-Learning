{
 "cells": [
  {
   "cell_type": "markdown",
   "metadata": {
    "ExecuteTime": {
     "end_time": "2018-01-09T15:16:27.144141Z",
     "start_time": "2018-01-09T15:16:27.139141Z"
    }
   },
   "source": [
    "# Homework Lecture 2: Linear Regression"
   ]
  },
  {
   "cell_type": "markdown",
   "metadata": {
    "ExecuteTime": {
     "end_time": "2018-01-09T15:16:42.223141Z",
     "start_time": "2018-01-09T15:16:42.218141Z"
    }
   },
   "source": [
    "## Preliminaries"
   ]
  },
  {
   "cell_type": "markdown",
   "metadata": {
    "ExecuteTime": {
     "end_time": "2018-01-09T15:16:58.417141Z",
     "start_time": "2018-01-09T15:16:58.414141Z"
    }
   },
   "source": [
    "### Imports"
   ]
  },
  {
   "cell_type": "code",
   "execution_count": 1,
   "metadata": {
    "ExecuteTime": {
     "end_time": "2018-01-26T10:50:19.436473Z",
     "start_time": "2018-01-26T10:50:15.415256Z"
    }
   },
   "outputs": [],
   "source": [
    "import os\n",
    "\n",
    "import numpy as np\n",
    "import pandas as pd\n",
    "import matplotlib.pyplot as plt\n",
    "\n",
    "import scipy.optimize\n",
    "import sklearn.datasets\n",
    "import sklearn.linear_model\n",
    "\n",
    "\n",
    "%matplotlib inline\n",
    "\n"
   ]
  },
  {
   "cell_type": "markdown",
   "metadata": {
    "ExecuteTime": {
     "end_time": "2018-01-09T15:18:16.996141Z",
     "start_time": "2018-01-09T15:18:16.993141Z"
    }
   },
   "source": [
    "### Data Directories "
   ]
  },
  {
   "cell_type": "markdown",
   "metadata": {},
   "source": [
    "Create a directory with the path below"
   ]
  },
  {
   "cell_type": "code",
   "execution_count": 2,
   "metadata": {
    "ExecuteTime": {
     "end_time": "2018-01-26T10:50:19.441506Z",
     "start_time": "2018-01-26T10:50:19.437494Z"
    }
   },
   "outputs": [],
   "source": [
    "raw_data_dir=\"../../raw/california_housing\"\n",
    "data_dir=\"../../data/probabilisticTools\"\n"
   ]
  },
  {
   "cell_type": "markdown",
   "metadata": {},
   "source": [
    "### Random Seed"
   ]
  },
  {
   "cell_type": "code",
   "execution_count": 3,
   "metadata": {
    "ExecuteTime": {
     "end_time": "2018-01-26T10:50:19.471264Z",
     "start_time": "2018-01-26T10:50:19.442578Z"
    }
   },
   "outputs": [],
   "source": [
    "seed=2506\n",
    "np.random.seed(seed)"
   ]
  },
  {
   "cell_type": "markdown",
   "metadata": {},
   "source": [
    "### Get Data"
   ]
  },
  {
   "cell_type": "markdown",
   "metadata": {},
   "source": [
    "<div class=\"alert alert-block alert-success\"> Problem 0 </div>\n",
    "We download the California housing dataset using the function `sklearn.datasets.fetch_california_housing`."
   ]
  },
  {
   "cell_type": "code",
   "execution_count": 4,
   "metadata": {
    "ExecuteTime": {
     "end_time": "2018-01-26T10:50:19.511084Z",
     "start_time": "2018-01-26T10:50:19.473268Z"
    }
   },
   "outputs": [],
   "source": [
    "import sklearn.datasets\n",
    "housing=sklearn.datasets.fetch_california_housing()"
   ]
  },
  {
   "cell_type": "code",
   "execution_count": 5,
   "metadata": {
    "ExecuteTime": {
     "end_time": "2018-01-26T10:50:19.521148Z",
     "start_time": "2018-01-26T10:50:19.513089Z"
    }
   },
   "outputs": [
    {
     "data": {
      "text/plain": [
       "dict_keys(['data', 'target', 'feature_names', 'DESCR'])"
      ]
     },
     "execution_count": 5,
     "metadata": {},
     "output_type": "execute_result"
    }
   ],
   "source": [
    "housing.keys()"
   ]
  },
  {
   "cell_type": "code",
   "execution_count": 6,
   "metadata": {
    "ExecuteTime": {
     "end_time": "2018-01-26T10:50:19.540169Z",
     "start_time": "2018-01-26T10:50:19.523116Z"
    }
   },
   "outputs": [
    {
     "name": "stdout",
     "output_type": "stream",
     "text": [
      ".. _california_housing_dataset:\n",
      "\n",
      "California Housing dataset\n",
      "--------------------------\n",
      "\n",
      "**Data Set Characteristics:**\n",
      "\n",
      "    :Number of Instances: 20640\n",
      "\n",
      "    :Number of Attributes: 8 numeric, predictive attributes and the target\n",
      "\n",
      "    :Attribute Information:\n",
      "        - MedInc        median income in block\n",
      "        - HouseAge      median house age in block\n",
      "        - AveRooms      average number of rooms\n",
      "        - AveBedrms     average number of bedrooms\n",
      "        - Population    block population\n",
      "        - AveOccup      average house occupancy\n",
      "        - Latitude      house block latitude\n",
      "        - Longitude     house block longitude\n",
      "\n",
      "    :Missing Attribute Values: None\n",
      "\n",
      "This dataset was obtained from the StatLib repository.\n",
      "http://lib.stat.cmu.edu/datasets/\n",
      "\n",
      "The target variable is the median house value for California districts.\n",
      "\n",
      "This dataset was derived from the 1990 U.S. census, using one row per census\n",
      "block group. A block group is the smallest geographical unit for which the U.S.\n",
      "Census Bureau publishes sample data (a block group typically has a population\n",
      "of 600 to 3,000 people).\n",
      "\n",
      "It can be downloaded/loaded using the\n",
      ":func:`sklearn.datasets.fetch_california_housing` function.\n",
      "\n",
      ".. topic:: References\n",
      "\n",
      "    - Pace, R. Kelley and Ronald Barry, Sparse Spatial Autoregressions,\n",
      "      Statistics and Probability Letters, 33 (1997) 291-297\n",
      "\n"
     ]
    }
   ],
   "source": [
    "print(housing.DESCR)"
   ]
  },
  {
   "cell_type": "code",
   "execution_count": 7,
   "metadata": {
    "ExecuteTime": {
     "end_time": "2018-01-26T10:50:19.559307Z",
     "start_time": "2018-01-26T10:50:19.542167Z"
    }
   },
   "outputs": [
    {
     "name": "stdout",
     "output_type": "stream",
     "text": [
      "8 ['MedInc', 'HouseAge', 'AveRooms', 'AveBedrms', 'Population', 'AveOccup', 'Latitude', 'Longitude']\n"
     ]
    }
   ],
   "source": [
    "print(len(housing.feature_names),housing.feature_names)"
   ]
  },
  {
   "cell_type": "code",
   "execution_count": 8,
   "metadata": {
    "ExecuteTime": {
     "end_time": "2018-01-26T10:50:19.574348Z",
     "start_time": "2018-01-26T10:50:19.561313Z"
    }
   },
   "outputs": [
    {
     "name": "stdout",
     "output_type": "stream",
     "text": [
      "(20640, 8) (20640,)\n"
     ]
    }
   ],
   "source": [
    "print(housing.data.shape,housing.target.shape)"
   ]
  },
  {
   "cell_type": "code",
   "execution_count": 9,
   "metadata": {
    "ExecuteTime": {
     "end_time": "2018-01-26T10:50:19.645657Z",
     "start_time": "2018-01-26T10:50:19.575350Z"
    }
   },
   "outputs": [
    {
     "data": {
      "text/html": [
       "<div>\n",
       "<style scoped>\n",
       "    .dataframe tbody tr th:only-of-type {\n",
       "        vertical-align: middle;\n",
       "    }\n",
       "\n",
       "    .dataframe tbody tr th {\n",
       "        vertical-align: top;\n",
       "    }\n",
       "\n",
       "    .dataframe thead th {\n",
       "        text-align: right;\n",
       "    }\n",
       "</style>\n",
       "<table border=\"1\" class=\"dataframe\">\n",
       "  <thead>\n",
       "    <tr style=\"text-align: right;\">\n",
       "      <th></th>\n",
       "      <th>MedInc</th>\n",
       "      <th>HouseAge</th>\n",
       "      <th>AveRooms</th>\n",
       "      <th>AveBedrms</th>\n",
       "      <th>Population</th>\n",
       "      <th>AveOccup</th>\n",
       "      <th>Latitude</th>\n",
       "      <th>Longitude</th>\n",
       "      <th>value</th>\n",
       "    </tr>\n",
       "  </thead>\n",
       "  <tbody>\n",
       "    <tr>\n",
       "      <th>count</th>\n",
       "      <td>20640.000000</td>\n",
       "      <td>20640.000000</td>\n",
       "      <td>20640.000000</td>\n",
       "      <td>20640.000000</td>\n",
       "      <td>20640.000000</td>\n",
       "      <td>20640.000000</td>\n",
       "      <td>20640.000000</td>\n",
       "      <td>20640.000000</td>\n",
       "      <td>20640.000000</td>\n",
       "    </tr>\n",
       "    <tr>\n",
       "      <th>mean</th>\n",
       "      <td>3.870671</td>\n",
       "      <td>28.639486</td>\n",
       "      <td>5.429000</td>\n",
       "      <td>1.096675</td>\n",
       "      <td>1425.476744</td>\n",
       "      <td>3.070655</td>\n",
       "      <td>35.631861</td>\n",
       "      <td>-119.569704</td>\n",
       "      <td>2.068558</td>\n",
       "    </tr>\n",
       "    <tr>\n",
       "      <th>std</th>\n",
       "      <td>1.899822</td>\n",
       "      <td>12.585558</td>\n",
       "      <td>2.474173</td>\n",
       "      <td>0.473911</td>\n",
       "      <td>1132.462122</td>\n",
       "      <td>10.386050</td>\n",
       "      <td>2.135952</td>\n",
       "      <td>2.003532</td>\n",
       "      <td>1.153956</td>\n",
       "    </tr>\n",
       "    <tr>\n",
       "      <th>min</th>\n",
       "      <td>0.499900</td>\n",
       "      <td>1.000000</td>\n",
       "      <td>0.846154</td>\n",
       "      <td>0.333333</td>\n",
       "      <td>3.000000</td>\n",
       "      <td>0.692308</td>\n",
       "      <td>32.540000</td>\n",
       "      <td>-124.350000</td>\n",
       "      <td>0.149990</td>\n",
       "    </tr>\n",
       "    <tr>\n",
       "      <th>25%</th>\n",
       "      <td>2.563400</td>\n",
       "      <td>18.000000</td>\n",
       "      <td>4.440716</td>\n",
       "      <td>1.006079</td>\n",
       "      <td>787.000000</td>\n",
       "      <td>2.429741</td>\n",
       "      <td>33.930000</td>\n",
       "      <td>-121.800000</td>\n",
       "      <td>1.196000</td>\n",
       "    </tr>\n",
       "    <tr>\n",
       "      <th>50%</th>\n",
       "      <td>3.534800</td>\n",
       "      <td>29.000000</td>\n",
       "      <td>5.229129</td>\n",
       "      <td>1.048780</td>\n",
       "      <td>1166.000000</td>\n",
       "      <td>2.818116</td>\n",
       "      <td>34.260000</td>\n",
       "      <td>-118.490000</td>\n",
       "      <td>1.797000</td>\n",
       "    </tr>\n",
       "    <tr>\n",
       "      <th>75%</th>\n",
       "      <td>4.743250</td>\n",
       "      <td>37.000000</td>\n",
       "      <td>6.052381</td>\n",
       "      <td>1.099526</td>\n",
       "      <td>1725.000000</td>\n",
       "      <td>3.282261</td>\n",
       "      <td>37.710000</td>\n",
       "      <td>-118.010000</td>\n",
       "      <td>2.647250</td>\n",
       "    </tr>\n",
       "    <tr>\n",
       "      <th>max</th>\n",
       "      <td>15.000100</td>\n",
       "      <td>52.000000</td>\n",
       "      <td>141.909091</td>\n",
       "      <td>34.066667</td>\n",
       "      <td>35682.000000</td>\n",
       "      <td>1243.333333</td>\n",
       "      <td>41.950000</td>\n",
       "      <td>-114.310000</td>\n",
       "      <td>5.000010</td>\n",
       "    </tr>\n",
       "  </tbody>\n",
       "</table>\n",
       "</div>"
      ],
      "text/plain": [
       "             MedInc      HouseAge      AveRooms     AveBedrms    Population  \\\n",
       "count  20640.000000  20640.000000  20640.000000  20640.000000  20640.000000   \n",
       "mean       3.870671     28.639486      5.429000      1.096675   1425.476744   \n",
       "std        1.899822     12.585558      2.474173      0.473911   1132.462122   \n",
       "min        0.499900      1.000000      0.846154      0.333333      3.000000   \n",
       "25%        2.563400     18.000000      4.440716      1.006079    787.000000   \n",
       "50%        3.534800     29.000000      5.229129      1.048780   1166.000000   \n",
       "75%        4.743250     37.000000      6.052381      1.099526   1725.000000   \n",
       "max       15.000100     52.000000    141.909091     34.066667  35682.000000   \n",
       "\n",
       "           AveOccup      Latitude     Longitude         value  \n",
       "count  20640.000000  20640.000000  20640.000000  20640.000000  \n",
       "mean       3.070655     35.631861   -119.569704      2.068558  \n",
       "std       10.386050      2.135952      2.003532      1.153956  \n",
       "min        0.692308     32.540000   -124.350000      0.149990  \n",
       "25%        2.429741     33.930000   -121.800000      1.196000  \n",
       "50%        2.818116     34.260000   -118.490000      1.797000  \n",
       "75%        3.282261     37.710000   -118.010000      2.647250  \n",
       "max     1243.333333     41.950000   -114.310000      5.000010  "
      ]
     },
     "execution_count": 9,
     "metadata": {},
     "output_type": "execute_result"
    }
   ],
   "source": [
    "data=pd.DataFrame(housing.data,columns=housing.feature_names)\n",
    "data[\"value\"]=housing.target\n",
    "data.describe()"
   ]
  },
  {
   "cell_type": "markdown",
   "metadata": {
    "ExecuteTime": {
     "end_time": "2018-01-09T15:21:30.644141Z",
     "start_time": "2018-01-09T15:21:30.639141Z"
    }
   },
   "source": [
    "## Data Pre-Processing"
   ]
  },
  {
   "cell_type": "markdown",
   "metadata": {
    "ExecuteTime": {
     "end_time": "2018-01-16T18:00:13.822180Z",
     "start_time": "2018-01-16T18:00:13.812180Z"
    }
   },
   "source": [
    "The variables in `data` have very different scales.\n",
    "We will replace the values  $x$ on each column by their standarized values \n",
    "$$\n",
    "    z = \\frac{x - \\bar{x}}{\\sigma_x}\n",
    "$$"
   ]
  },
  {
   "cell_type": "markdown",
   "metadata": {},
   "source": [
    "<div class=\"alert alert-block alert-info\"> Problem 1.1 </div>\n",
    "Compute the mean and std deviation of each column in `data`\n",
    "\n",
    "[HINT] Pandas has convenient functions to compute the column mean an std deviation"
   ]
  },
  {
   "cell_type": "code",
   "execution_count": 10,
   "metadata": {},
   "outputs": [
    {
     "data": {
      "text/plain": [
       "MedInc           3.870671\n",
       "HouseAge        28.639486\n",
       "AveRooms         5.429000\n",
       "AveBedrms        1.096675\n",
       "Population    1425.476744\n",
       "AveOccup         3.070655\n",
       "Latitude        35.631861\n",
       "Longitude     -119.569704\n",
       "value            2.068558\n",
       "dtype: float64"
      ]
     },
     "execution_count": 10,
     "metadata": {},
     "output_type": "execute_result"
    }
   ],
   "source": [
    "mean = data.mean()\n",
    "mean"
   ]
  },
  {
   "cell_type": "code",
   "execution_count": 11,
   "metadata": {},
   "outputs": [
    {
     "data": {
      "text/plain": [
       "MedInc           1.899822\n",
       "HouseAge        12.585558\n",
       "AveRooms         2.474173\n",
       "AveBedrms        0.473911\n",
       "Population    1132.462122\n",
       "AveOccup        10.386050\n",
       "Latitude         2.135952\n",
       "Longitude        2.003532\n",
       "value            1.153956\n",
       "dtype: float64"
      ]
     },
     "execution_count": 11,
     "metadata": {},
     "output_type": "execute_result"
    }
   ],
   "source": [
    "std = data.std()\n",
    "std"
   ]
  },
  {
   "cell_type": "markdown",
   "metadata": {
    "ExecuteTime": {
     "end_time": "2018-01-16T18:03:14.004680Z",
     "start_time": "2018-01-16T18:03:13.994680Z"
    }
   },
   "source": [
    "<div class=\"alert alert-block alert-info\"> Problem 1.2 </div>\n",
    "Create a new `DataFrame` called `data_standarized` the value $x$ of each column gets replaced by its standarized value \n",
    "$$\n",
    "    z = \\frac{x - \\bar{x}}{\\sigma_x}\n",
    "$$"
   ]
  },
  {
   "cell_type": "code",
   "execution_count": 12,
   "metadata": {
    "scrolled": true
   },
   "outputs": [
    {
     "data": {
      "text/html": [
       "<div>\n",
       "<style scoped>\n",
       "    .dataframe tbody tr th:only-of-type {\n",
       "        vertical-align: middle;\n",
       "    }\n",
       "\n",
       "    .dataframe tbody tr th {\n",
       "        vertical-align: top;\n",
       "    }\n",
       "\n",
       "    .dataframe thead th {\n",
       "        text-align: right;\n",
       "    }\n",
       "</style>\n",
       "<table border=\"1\" class=\"dataframe\">\n",
       "  <thead>\n",
       "    <tr style=\"text-align: right;\">\n",
       "      <th></th>\n",
       "      <th>MedInc</th>\n",
       "      <th>HouseAge</th>\n",
       "      <th>AveRooms</th>\n",
       "      <th>AveBedrms</th>\n",
       "      <th>Population</th>\n",
       "      <th>AveOccup</th>\n",
       "      <th>Latitude</th>\n",
       "      <th>Longitude</th>\n",
       "      <th>value</th>\n",
       "    </tr>\n",
       "  </thead>\n",
       "  <tbody>\n",
       "    <tr>\n",
       "      <th>0</th>\n",
       "      <td>2.344709</td>\n",
       "      <td>0.982119</td>\n",
       "      <td>0.628544</td>\n",
       "      <td>-0.153754</td>\n",
       "      <td>-0.974405</td>\n",
       "      <td>-0.049595</td>\n",
       "      <td>1.052523</td>\n",
       "      <td>-1.327803</td>\n",
       "      <td>2.129580</td>\n",
       "    </tr>\n",
       "    <tr>\n",
       "      <th>1</th>\n",
       "      <td>2.332181</td>\n",
       "      <td>-0.607004</td>\n",
       "      <td>0.327033</td>\n",
       "      <td>-0.263329</td>\n",
       "      <td>0.861418</td>\n",
       "      <td>-0.092510</td>\n",
       "      <td>1.043159</td>\n",
       "      <td>-1.322812</td>\n",
       "      <td>1.314124</td>\n",
       "    </tr>\n",
       "    <tr>\n",
       "      <th>2</th>\n",
       "      <td>1.782656</td>\n",
       "      <td>1.856137</td>\n",
       "      <td>1.155592</td>\n",
       "      <td>-0.049015</td>\n",
       "      <td>-0.820757</td>\n",
       "      <td>-0.025842</td>\n",
       "      <td>1.038478</td>\n",
       "      <td>-1.332794</td>\n",
       "      <td>1.258663</td>\n",
       "    </tr>\n",
       "    <tr>\n",
       "      <th>3</th>\n",
       "      <td>0.932945</td>\n",
       "      <td>1.856137</td>\n",
       "      <td>0.156962</td>\n",
       "      <td>-0.049832</td>\n",
       "      <td>-0.766010</td>\n",
       "      <td>-0.050328</td>\n",
       "      <td>1.038478</td>\n",
       "      <td>-1.337785</td>\n",
       "      <td>1.165072</td>\n",
       "    </tr>\n",
       "    <tr>\n",
       "      <th>4</th>\n",
       "      <td>-0.012881</td>\n",
       "      <td>1.856137</td>\n",
       "      <td>0.344702</td>\n",
       "      <td>-0.032905</td>\n",
       "      <td>-0.759828</td>\n",
       "      <td>-0.085614</td>\n",
       "      <td>1.038478</td>\n",
       "      <td>-1.337785</td>\n",
       "      <td>1.172871</td>\n",
       "    </tr>\n",
       "    <tr>\n",
       "      <th>5</th>\n",
       "      <td>0.087445</td>\n",
       "      <td>1.856137</td>\n",
       "      <td>-0.269723</td>\n",
       "      <td>0.014669</td>\n",
       "      <td>-0.894049</td>\n",
       "      <td>-0.089616</td>\n",
       "      <td>1.038478</td>\n",
       "      <td>-1.337785</td>\n",
       "      <td>0.544598</td>\n",
       "    </tr>\n",
       "    <tr>\n",
       "      <th>6</th>\n",
       "      <td>-0.111364</td>\n",
       "      <td>1.856137</td>\n",
       "      <td>-0.200913</td>\n",
       "      <td>-0.306626</td>\n",
       "      <td>-0.292704</td>\n",
       "      <td>-0.090723</td>\n",
       "      <td>1.033796</td>\n",
       "      <td>-1.337785</td>\n",
       "      <td>0.800240</td>\n",
       "    </tr>\n",
       "    <tr>\n",
       "      <th>7</th>\n",
       "      <td>-0.395127</td>\n",
       "      <td>1.856137</td>\n",
       "      <td>-0.255226</td>\n",
       "      <td>-0.073540</td>\n",
       "      <td>-0.237073</td>\n",
       "      <td>-0.123473</td>\n",
       "      <td>1.033796</td>\n",
       "      <td>-1.337785</td>\n",
       "      <td>0.299354</td>\n",
       "    </tr>\n",
       "    <tr>\n",
       "      <th>8</th>\n",
       "      <td>-0.942336</td>\n",
       "      <td>1.061575</td>\n",
       "      <td>-0.458691</td>\n",
       "      <td>0.044253</td>\n",
       "      <td>-0.193805</td>\n",
       "      <td>-0.100497</td>\n",
       "      <td>1.033796</td>\n",
       "      <td>-1.342777</td>\n",
       "      <td>0.171967</td>\n",
       "    </tr>\n",
       "    <tr>\n",
       "      <th>9</th>\n",
       "      <td>-0.094467</td>\n",
       "      <td>1.856137</td>\n",
       "      <td>-0.185279</td>\n",
       "      <td>-0.224682</td>\n",
       "      <td>0.110841</td>\n",
       "      <td>-0.086499</td>\n",
       "      <td>1.033796</td>\n",
       "      <td>-1.337785</td>\n",
       "      <td>0.470071</td>\n",
       "    </tr>\n",
       "    <tr>\n",
       "      <th>10</th>\n",
       "      <td>-0.351386</td>\n",
       "      <td>1.856137</td>\n",
       "      <td>0.019648</td>\n",
       "      <td>-0.036026</td>\n",
       "      <td>-0.455182</td>\n",
       "      <td>-0.077698</td>\n",
       "      <td>1.038478</td>\n",
       "      <td>-1.342777</td>\n",
       "      <td>0.646855</td>\n",
       "    </tr>\n",
       "    <tr>\n",
       "      <th>11</th>\n",
       "      <td>-0.315909</td>\n",
       "      <td>1.856137</td>\n",
       "      <td>-0.265349</td>\n",
       "      <td>-0.152248</td>\n",
       "      <td>0.069339</td>\n",
       "      <td>-0.098364</td>\n",
       "      <td>1.038478</td>\n",
       "      <td>-1.342777</td>\n",
       "      <td>0.302821</td>\n",
       "    </tr>\n",
       "    <tr>\n",
       "      <th>12</th>\n",
       "      <td>-0.418814</td>\n",
       "      <td>1.856137</td>\n",
       "      <td>-0.042984</td>\n",
       "      <td>-0.176942</td>\n",
       "      <td>-0.289172</td>\n",
       "      <td>-0.069757</td>\n",
       "      <td>1.038478</td>\n",
       "      <td>-1.342777</td>\n",
       "      <td>0.057577</td>\n",
       "    </tr>\n",
       "    <tr>\n",
       "      <th>13</th>\n",
       "      <td>-0.630096</td>\n",
       "      <td>1.856137</td>\n",
       "      <td>-0.577567</td>\n",
       "      <td>0.002165</td>\n",
       "      <td>-0.954095</td>\n",
       "      <td>-0.104746</td>\n",
       "      <td>1.033796</td>\n",
       "      <td>-1.342777</td>\n",
       "      <td>-0.134804</td>\n",
       "    </tr>\n",
       "    <tr>\n",
       "      <th>14</th>\n",
       "      <td>-1.028502</td>\n",
       "      <td>1.856137</td>\n",
       "      <td>-0.471308</td>\n",
       "      <td>-0.183574</td>\n",
       "      <td>-0.188507</td>\n",
       "      <td>-0.107434</td>\n",
       "      <td>1.038478</td>\n",
       "      <td>-1.342777</td>\n",
       "      <td>-0.412978</td>\n",
       "    </tr>\n",
       "    <tr>\n",
       "      <th>15</th>\n",
       "      <td>-0.918860</td>\n",
       "      <td>1.697224</td>\n",
       "      <td>-0.479585</td>\n",
       "      <td>-0.052131</td>\n",
       "      <td>-0.643268</td>\n",
       "      <td>-0.041450</td>\n",
       "      <td>1.038478</td>\n",
       "      <td>-1.342777</td>\n",
       "      <td>-0.579362</td>\n",
       "    </tr>\n",
       "    <tr>\n",
       "      <th>16</th>\n",
       "      <td>-0.576723</td>\n",
       "      <td>1.856137</td>\n",
       "      <td>0.206363</td>\n",
       "      <td>-0.101996</td>\n",
       "      <td>-0.558497</td>\n",
       "      <td>-0.064980</td>\n",
       "      <td>1.038478</td>\n",
       "      <td>-1.347768</td>\n",
       "      <td>-0.471039</td>\n",
       "    </tr>\n",
       "    <tr>\n",
       "      <th>17</th>\n",
       "      <td>-0.921387</td>\n",
       "      <td>1.856137</td>\n",
       "      <td>-0.556224</td>\n",
       "      <td>-0.273635</td>\n",
       "      <td>-0.686537</td>\n",
       "      <td>-0.089740</td>\n",
       "      <td>1.038478</td>\n",
       "      <td>-1.347768</td>\n",
       "      <td>-0.445041</td>\n",
       "    </tr>\n",
       "    <tr>\n",
       "      <th>18</th>\n",
       "      <td>-0.989341</td>\n",
       "      <td>1.697224</td>\n",
       "      <td>-0.034486</td>\n",
       "      <td>-0.022697</td>\n",
       "      <td>-0.384540</td>\n",
       "      <td>-0.068157</td>\n",
       "      <td>1.033796</td>\n",
       "      <td>-1.342777</td>\n",
       "      <td>-0.417311</td>\n",
       "    </tr>\n",
       "    <tr>\n",
       "      <th>19</th>\n",
       "      <td>-0.667100</td>\n",
       "      <td>1.856137</td>\n",
       "      <td>0.014734</td>\n",
       "      <td>-0.027513</td>\n",
       "      <td>-0.649449</td>\n",
       "      <td>-0.054069</td>\n",
       "      <td>1.033796</td>\n",
       "      <td>-1.347768</td>\n",
       "      <td>-0.380914</td>\n",
       "    </tr>\n",
       "    <tr>\n",
       "      <th>20</th>\n",
       "      <td>-1.322688</td>\n",
       "      <td>0.902663</td>\n",
       "      <td>-0.365740</td>\n",
       "      <td>0.024812</td>\n",
       "      <td>-0.897581</td>\n",
       "      <td>-0.058424</td>\n",
       "      <td>1.038478</td>\n",
       "      <td>-1.347768</td>\n",
       "      <td>-0.514368</td>\n",
       "    </tr>\n",
       "    <tr>\n",
       "      <th>21</th>\n",
       "      <td>-1.135460</td>\n",
       "      <td>1.061575</td>\n",
       "      <td>-0.384313</td>\n",
       "      <td>-0.198229</td>\n",
       "      <td>-0.438405</td>\n",
       "      <td>-0.051261</td>\n",
       "      <td>1.038478</td>\n",
       "      <td>-1.347768</td>\n",
       "      <td>-0.407778</td>\n",
       "    </tr>\n",
       "    <tr>\n",
       "      <th>22</th>\n",
       "      <td>-1.129407</td>\n",
       "      <td>1.856137</td>\n",
       "      <td>-0.134496</td>\n",
       "      <td>0.074115</td>\n",
       "      <td>-0.362464</td>\n",
       "      <td>-0.091202</td>\n",
       "      <td>1.033796</td>\n",
       "      <td>-1.347768</td>\n",
       "      <td>-0.805540</td>\n",
       "    </tr>\n",
       "    <tr>\n",
       "      <th>23</th>\n",
       "      <td>-0.889595</td>\n",
       "      <td>1.856137</td>\n",
       "      <td>-0.095043</td>\n",
       "      <td>-0.126083</td>\n",
       "      <td>-0.505515</td>\n",
       "      <td>-0.042946</td>\n",
       "      <td>1.033796</td>\n",
       "      <td>-1.347768</td>\n",
       "      <td>-0.928595</td>\n",
       "    </tr>\n",
       "    <tr>\n",
       "      <th>24</th>\n",
       "      <td>-0.668837</td>\n",
       "      <td>1.856137</td>\n",
       "      <td>-0.064206</td>\n",
       "      <td>-0.128991</td>\n",
       "      <td>-0.370411</td>\n",
       "      <td>-0.066124</td>\n",
       "      <td>1.033796</td>\n",
       "      <td>-1.347768</td>\n",
       "      <td>-0.643489</td>\n",
       "    </tr>\n",
       "    <tr>\n",
       "      <th>25</th>\n",
       "      <td>-0.772110</td>\n",
       "      <td>0.982119</td>\n",
       "      <td>-0.377177</td>\n",
       "      <td>-0.133067</td>\n",
       "      <td>-0.978820</td>\n",
       "      <td>-0.039167</td>\n",
       "      <td>1.038478</td>\n",
       "      <td>-1.352759</td>\n",
       "      <td>-0.861002</td>\n",
       "    </tr>\n",
       "    <tr>\n",
       "      <th>26</th>\n",
       "      <td>-0.742686</td>\n",
       "      <td>1.617768</td>\n",
       "      <td>-0.283313</td>\n",
       "      <td>-0.159850</td>\n",
       "      <td>-0.722741</td>\n",
       "      <td>-0.051117</td>\n",
       "      <td>1.038478</td>\n",
       "      <td>-1.352759</td>\n",
       "      <td>-0.979724</td>\n",
       "    </tr>\n",
       "    <tr>\n",
       "      <th>27</th>\n",
       "      <td>-1.085718</td>\n",
       "      <td>1.856137</td>\n",
       "      <td>-0.261964</td>\n",
       "      <td>-0.076432</td>\n",
       "      <td>-0.285640</td>\n",
       "      <td>-0.028388</td>\n",
       "      <td>1.038478</td>\n",
       "      <td>-1.352759</td>\n",
       "      <td>-0.878333</td>\n",
       "    </tr>\n",
       "    <tr>\n",
       "      <th>28</th>\n",
       "      <td>-1.172884</td>\n",
       "      <td>1.697224</td>\n",
       "      <td>-0.415213</td>\n",
       "      <td>-0.119233</td>\n",
       "      <td>-0.260032</td>\n",
       "      <td>-0.065428</td>\n",
       "      <td>1.033796</td>\n",
       "      <td>-1.352759</td>\n",
       "      <td>-0.848869</td>\n",
       "    </tr>\n",
       "    <tr>\n",
       "      <th>29</th>\n",
       "      <td>-1.149145</td>\n",
       "      <td>1.856137</td>\n",
       "      <td>-0.293340</td>\n",
       "      <td>-0.135927</td>\n",
       "      <td>-0.909944</td>\n",
       "      <td>-0.050286</td>\n",
       "      <td>1.033796</td>\n",
       "      <td>-1.352759</td>\n",
       "      <td>-0.648689</td>\n",
       "    </tr>\n",
       "    <tr>\n",
       "      <th>...</th>\n",
       "      <td>...</td>\n",
       "      <td>...</td>\n",
       "      <td>...</td>\n",
       "      <td>...</td>\n",
       "      <td>...</td>\n",
       "      <td>...</td>\n",
       "      <td>...</td>\n",
       "      <td>...</td>\n",
       "      <td>...</td>\n",
       "    </tr>\n",
       "    <tr>\n",
       "      <th>20610</th>\n",
       "      <td>-1.319898</td>\n",
       "      <td>-0.050811</td>\n",
       "      <td>-0.233235</td>\n",
       "      <td>0.012303</td>\n",
       "      <td>-0.203518</td>\n",
       "      <td>-0.033560</td>\n",
       "      <td>1.623697</td>\n",
       "      <td>-0.993394</td>\n",
       "      <td>-1.398284</td>\n",
       "    </tr>\n",
       "    <tr>\n",
       "      <th>20611</th>\n",
       "      <td>-1.360639</td>\n",
       "      <td>-0.130267</td>\n",
       "      <td>-0.432301</td>\n",
       "      <td>-0.038901</td>\n",
       "      <td>-0.231775</td>\n",
       "      <td>-0.021869</td>\n",
       "      <td>1.623697</td>\n",
       "      <td>-0.988402</td>\n",
       "      <td>-1.385285</td>\n",
       "    </tr>\n",
       "    <tr>\n",
       "      <th>20612</th>\n",
       "      <td>-1.251313</td>\n",
       "      <td>-0.209723</td>\n",
       "      <td>-0.109813</td>\n",
       "      <td>-0.030128</td>\n",
       "      <td>-0.586754</td>\n",
       "      <td>-0.021227</td>\n",
       "      <td>1.614333</td>\n",
       "      <td>-0.993394</td>\n",
       "      <td>-1.374019</td>\n",
       "    </tr>\n",
       "    <tr>\n",
       "      <th>20613</th>\n",
       "      <td>-1.250049</td>\n",
       "      <td>0.187557</td>\n",
       "      <td>-0.375479</td>\n",
       "      <td>-0.308400</td>\n",
       "      <td>-0.228243</td>\n",
       "      <td>-0.003042</td>\n",
       "      <td>1.619015</td>\n",
       "      <td>-0.988402</td>\n",
       "      <td>-1.329824</td>\n",
       "    </tr>\n",
       "    <tr>\n",
       "      <th>20614</th>\n",
       "      <td>-0.737528</td>\n",
       "      <td>-0.209723</td>\n",
       "      <td>-0.253544</td>\n",
       "      <td>-0.266318</td>\n",
       "      <td>0.026070</td>\n",
       "      <td>-0.000100</td>\n",
       "      <td>1.614333</td>\n",
       "      <td>-0.983411</td>\n",
       "      <td>-1.289961</td>\n",
       "    </tr>\n",
       "    <tr>\n",
       "      <th>20615</th>\n",
       "      <td>-0.795270</td>\n",
       "      <td>-0.448092</td>\n",
       "      <td>0.013309</td>\n",
       "      <td>-0.000482</td>\n",
       "      <td>-0.619426</td>\n",
       "      <td>0.058200</td>\n",
       "      <td>1.614333</td>\n",
       "      <td>-0.983411</td>\n",
       "      <td>-1.294294</td>\n",
       "    </tr>\n",
       "    <tr>\n",
       "      <th>20616</th>\n",
       "      <td>-0.959970</td>\n",
       "      <td>-1.083741</td>\n",
       "      <td>-0.243448</td>\n",
       "      <td>0.167383</td>\n",
       "      <td>-0.237073</td>\n",
       "      <td>0.001413</td>\n",
       "      <td>1.614333</td>\n",
       "      <td>-0.978420</td>\n",
       "      <td>-1.315092</td>\n",
       "    </tr>\n",
       "    <tr>\n",
       "      <th>20617</th>\n",
       "      <td>-0.299276</td>\n",
       "      <td>-0.686460</td>\n",
       "      <td>-0.205300</td>\n",
       "      <td>-0.296543</td>\n",
       "      <td>-0.986767</td>\n",
       "      <td>-0.035519</td>\n",
       "      <td>1.604970</td>\n",
       "      <td>-0.978420</td>\n",
       "      <td>-1.179038</td>\n",
       "    </tr>\n",
       "    <tr>\n",
       "      <th>20618</th>\n",
       "      <td>-0.853065</td>\n",
       "      <td>-0.289180</td>\n",
       "      <td>0.187863</td>\n",
       "      <td>-0.007923</td>\n",
       "      <td>-0.617660</td>\n",
       "      <td>0.013647</td>\n",
       "      <td>1.604970</td>\n",
       "      <td>-0.988402</td>\n",
       "      <td>-1.243165</td>\n",
       "    </tr>\n",
       "    <tr>\n",
       "      <th>20619</th>\n",
       "      <td>-0.600252</td>\n",
       "      <td>-0.527548</td>\n",
       "      <td>0.387812</td>\n",
       "      <td>0.109669</td>\n",
       "      <td>-0.355400</td>\n",
       "      <td>0.037110</td>\n",
       "      <td>1.581561</td>\n",
       "      <td>-0.993394</td>\n",
       "      <td>-0.933795</td>\n",
       "    </tr>\n",
       "    <tr>\n",
       "      <th>20620</th>\n",
       "      <td>0.364155</td>\n",
       "      <td>0.902663</td>\n",
       "      <td>-0.527045</td>\n",
       "      <td>-0.511718</td>\n",
       "      <td>-1.125403</td>\n",
       "      <td>0.007238</td>\n",
       "      <td>1.600288</td>\n",
       "      <td>-0.953464</td>\n",
       "      <td>-0.925995</td>\n",
       "    </tr>\n",
       "    <tr>\n",
       "      <th>20621</th>\n",
       "      <td>-0.791954</td>\n",
       "      <td>0.664294</td>\n",
       "      <td>1.008243</td>\n",
       "      <td>1.005618</td>\n",
       "      <td>-0.831354</td>\n",
       "      <td>0.001170</td>\n",
       "      <td>1.581561</td>\n",
       "      <td>-0.948473</td>\n",
       "      <td>-1.120977</td>\n",
       "    </tr>\n",
       "    <tr>\n",
       "      <th>20622</th>\n",
       "      <td>-0.765320</td>\n",
       "      <td>-0.686460</td>\n",
       "      <td>-0.250622</td>\n",
       "      <td>-0.338396</td>\n",
       "      <td>-0.855196</td>\n",
       "      <td>-0.015389</td>\n",
       "      <td>1.576879</td>\n",
       "      <td>-0.933499</td>\n",
       "      <td>-1.211968</td>\n",
       "    </tr>\n",
       "    <tr>\n",
       "      <th>20623</th>\n",
       "      <td>-0.551194</td>\n",
       "      <td>0.267013</td>\n",
       "      <td>-0.132439</td>\n",
       "      <td>-0.045969</td>\n",
       "      <td>-0.730688</td>\n",
       "      <td>-0.042008</td>\n",
       "      <td>1.590924</td>\n",
       "      <td>-0.898561</td>\n",
       "      <td>-1.224967</td>\n",
       "    </tr>\n",
       "    <tr>\n",
       "      <th>20624</th>\n",
       "      <td>-0.419393</td>\n",
       "      <td>-1.004285</td>\n",
       "      <td>0.164116</td>\n",
       "      <td>-0.138734</td>\n",
       "      <td>-0.613245</td>\n",
       "      <td>-0.053786</td>\n",
       "      <td>1.595606</td>\n",
       "      <td>-0.918526</td>\n",
       "      <td>-1.036918</td>\n",
       "    </tr>\n",
       "    <tr>\n",
       "      <th>20625</th>\n",
       "      <td>0.133870</td>\n",
       "      <td>0.664294</td>\n",
       "      <td>0.750438</td>\n",
       "      <td>0.248170</td>\n",
       "      <td>-1.233133</td>\n",
       "      <td>-0.096209</td>\n",
       "      <td>1.633060</td>\n",
       "      <td>-0.973429</td>\n",
       "      <td>-1.168639</td>\n",
       "    </tr>\n",
       "    <tr>\n",
       "      <th>20626</th>\n",
       "      <td>-0.896911</td>\n",
       "      <td>0.584838</td>\n",
       "      <td>0.462417</td>\n",
       "      <td>-0.043577</td>\n",
       "      <td>-0.813693</td>\n",
       "      <td>-0.011870</td>\n",
       "      <td>1.661151</td>\n",
       "      <td>-0.928508</td>\n",
       "      <td>-0.979724</td>\n",
       "    </tr>\n",
       "    <tr>\n",
       "      <th>20627</th>\n",
       "      <td>-0.458291</td>\n",
       "      <td>-1.878303</td>\n",
       "      <td>0.258186</td>\n",
       "      <td>0.010592</td>\n",
       "      <td>-1.109509</td>\n",
       "      <td>-0.019858</td>\n",
       "      <td>1.637742</td>\n",
       "      <td>-0.873605</td>\n",
       "      <td>-0.384380</td>\n",
       "    </tr>\n",
       "    <tr>\n",
       "      <th>20628</th>\n",
       "      <td>-0.671364</td>\n",
       "      <td>-0.765917</td>\n",
       "      <td>-0.077011</td>\n",
       "      <td>-0.036268</td>\n",
       "      <td>-0.359815</td>\n",
       "      <td>-0.044329</td>\n",
       "      <td>1.623697</td>\n",
       "      <td>-0.953464</td>\n",
       "      <td>-0.991856</td>\n",
       "    </tr>\n",
       "    <tr>\n",
       "      <th>20629</th>\n",
       "      <td>-0.935020</td>\n",
       "      <td>-0.050811</td>\n",
       "      <td>0.036700</td>\n",
       "      <td>-0.159889</td>\n",
       "      <td>4.844774</td>\n",
       "      <td>0.070414</td>\n",
       "      <td>1.633060</td>\n",
       "      <td>-0.908543</td>\n",
       "      <td>-0.854069</td>\n",
       "    </tr>\n",
       "    <tr>\n",
       "      <th>20630</th>\n",
       "      <td>-0.159684</td>\n",
       "      <td>-1.401566</td>\n",
       "      <td>0.203536</td>\n",
       "      <td>0.080514</td>\n",
       "      <td>-0.148770</td>\n",
       "      <td>-0.023679</td>\n",
       "      <td>1.712650</td>\n",
       "      <td>-0.873605</td>\n",
       "      <td>-0.822005</td>\n",
       "    </tr>\n",
       "    <tr>\n",
       "      <th>20631</th>\n",
       "      <td>-0.185686</td>\n",
       "      <td>-1.083741</td>\n",
       "      <td>0.289727</td>\n",
       "      <td>0.093960</td>\n",
       "      <td>-0.199103</td>\n",
       "      <td>-0.028199</td>\n",
       "      <td>1.731377</td>\n",
       "      <td>-0.913535</td>\n",
       "      <td>-0.863601</td>\n",
       "    </tr>\n",
       "    <tr>\n",
       "      <th>20632</th>\n",
       "      <td>-0.392495</td>\n",
       "      <td>-1.083741</td>\n",
       "      <td>0.240233</td>\n",
       "      <td>-0.034090</td>\n",
       "      <td>-0.334207</td>\n",
       "      <td>-0.033812</td>\n",
       "      <td>1.698605</td>\n",
       "      <td>-0.938491</td>\n",
       "      <td>-0.790808</td>\n",
       "    </tr>\n",
       "    <tr>\n",
       "      <th>20633</th>\n",
       "      <td>-0.695418</td>\n",
       "      <td>-0.130267</td>\n",
       "      <td>0.006477</td>\n",
       "      <td>-0.038280</td>\n",
       "      <td>-0.303301</td>\n",
       "      <td>-0.022934</td>\n",
       "      <td>1.665832</td>\n",
       "      <td>-0.978420</td>\n",
       "      <td>-0.940727</td>\n",
       "    </tr>\n",
       "    <tr>\n",
       "      <th>20634</th>\n",
       "      <td>-0.083256</td>\n",
       "      <td>-0.050811</td>\n",
       "      <td>0.545665</td>\n",
       "      <td>0.108840</td>\n",
       "      <td>-0.339505</td>\n",
       "      <td>-0.004284</td>\n",
       "      <td>1.703286</td>\n",
       "      <td>-0.993394</td>\n",
       "      <td>-0.780409</td>\n",
       "    </tr>\n",
       "    <tr>\n",
       "      <th>20635</th>\n",
       "      <td>-1.216099</td>\n",
       "      <td>-0.289180</td>\n",
       "      <td>-0.155020</td>\n",
       "      <td>0.077352</td>\n",
       "      <td>-0.512579</td>\n",
       "      <td>-0.049109</td>\n",
       "      <td>1.801603</td>\n",
       "      <td>-0.758808</td>\n",
       "      <td>-1.115777</td>\n",
       "    </tr>\n",
       "    <tr>\n",
       "      <th>20636</th>\n",
       "      <td>-0.691576</td>\n",
       "      <td>-0.845373</td>\n",
       "      <td>0.276874</td>\n",
       "      <td>0.462353</td>\n",
       "      <td>-0.944382</td>\n",
       "      <td>0.005021</td>\n",
       "      <td>1.806285</td>\n",
       "      <td>-0.818702</td>\n",
       "      <td>-1.124443</td>\n",
       "    </tr>\n",
       "    <tr>\n",
       "      <th>20637</th>\n",
       "      <td>-1.142566</td>\n",
       "      <td>-0.924829</td>\n",
       "      <td>-0.090316</td>\n",
       "      <td>0.049413</td>\n",
       "      <td>-0.369528</td>\n",
       "      <td>-0.071733</td>\n",
       "      <td>1.778194</td>\n",
       "      <td>-0.823693</td>\n",
       "      <td>-0.992722</td>\n",
       "    </tr>\n",
       "    <tr>\n",
       "      <th>20638</th>\n",
       "      <td>-1.054557</td>\n",
       "      <td>-0.845373</td>\n",
       "      <td>-0.040210</td>\n",
       "      <td>0.158774</td>\n",
       "      <td>-0.604415</td>\n",
       "      <td>-0.091223</td>\n",
       "      <td>1.778194</td>\n",
       "      <td>-0.873605</td>\n",
       "      <td>-1.058583</td>\n",
       "    </tr>\n",
       "    <tr>\n",
       "      <th>20639</th>\n",
       "      <td>-0.780111</td>\n",
       "      <td>-1.004285</td>\n",
       "      <td>-0.070441</td>\n",
       "      <td>0.138399</td>\n",
       "      <td>-0.033976</td>\n",
       "      <td>-0.043681</td>\n",
       "      <td>1.750104</td>\n",
       "      <td>-0.833676</td>\n",
       "      <td>-1.017853</td>\n",
       "    </tr>\n",
       "  </tbody>\n",
       "</table>\n",
       "<p>20640 rows × 9 columns</p>\n",
       "</div>"
      ],
      "text/plain": [
       "         MedInc  HouseAge  AveRooms  AveBedrms  Population  AveOccup  \\\n",
       "0      2.344709  0.982119  0.628544  -0.153754   -0.974405 -0.049595   \n",
       "1      2.332181 -0.607004  0.327033  -0.263329    0.861418 -0.092510   \n",
       "2      1.782656  1.856137  1.155592  -0.049015   -0.820757 -0.025842   \n",
       "3      0.932945  1.856137  0.156962  -0.049832   -0.766010 -0.050328   \n",
       "4     -0.012881  1.856137  0.344702  -0.032905   -0.759828 -0.085614   \n",
       "5      0.087445  1.856137 -0.269723   0.014669   -0.894049 -0.089616   \n",
       "6     -0.111364  1.856137 -0.200913  -0.306626   -0.292704 -0.090723   \n",
       "7     -0.395127  1.856137 -0.255226  -0.073540   -0.237073 -0.123473   \n",
       "8     -0.942336  1.061575 -0.458691   0.044253   -0.193805 -0.100497   \n",
       "9     -0.094467  1.856137 -0.185279  -0.224682    0.110841 -0.086499   \n",
       "10    -0.351386  1.856137  0.019648  -0.036026   -0.455182 -0.077698   \n",
       "11    -0.315909  1.856137 -0.265349  -0.152248    0.069339 -0.098364   \n",
       "12    -0.418814  1.856137 -0.042984  -0.176942   -0.289172 -0.069757   \n",
       "13    -0.630096  1.856137 -0.577567   0.002165   -0.954095 -0.104746   \n",
       "14    -1.028502  1.856137 -0.471308  -0.183574   -0.188507 -0.107434   \n",
       "15    -0.918860  1.697224 -0.479585  -0.052131   -0.643268 -0.041450   \n",
       "16    -0.576723  1.856137  0.206363  -0.101996   -0.558497 -0.064980   \n",
       "17    -0.921387  1.856137 -0.556224  -0.273635   -0.686537 -0.089740   \n",
       "18    -0.989341  1.697224 -0.034486  -0.022697   -0.384540 -0.068157   \n",
       "19    -0.667100  1.856137  0.014734  -0.027513   -0.649449 -0.054069   \n",
       "20    -1.322688  0.902663 -0.365740   0.024812   -0.897581 -0.058424   \n",
       "21    -1.135460  1.061575 -0.384313  -0.198229   -0.438405 -0.051261   \n",
       "22    -1.129407  1.856137 -0.134496   0.074115   -0.362464 -0.091202   \n",
       "23    -0.889595  1.856137 -0.095043  -0.126083   -0.505515 -0.042946   \n",
       "24    -0.668837  1.856137 -0.064206  -0.128991   -0.370411 -0.066124   \n",
       "25    -0.772110  0.982119 -0.377177  -0.133067   -0.978820 -0.039167   \n",
       "26    -0.742686  1.617768 -0.283313  -0.159850   -0.722741 -0.051117   \n",
       "27    -1.085718  1.856137 -0.261964  -0.076432   -0.285640 -0.028388   \n",
       "28    -1.172884  1.697224 -0.415213  -0.119233   -0.260032 -0.065428   \n",
       "29    -1.149145  1.856137 -0.293340  -0.135927   -0.909944 -0.050286   \n",
       "...         ...       ...       ...        ...         ...       ...   \n",
       "20610 -1.319898 -0.050811 -0.233235   0.012303   -0.203518 -0.033560   \n",
       "20611 -1.360639 -0.130267 -0.432301  -0.038901   -0.231775 -0.021869   \n",
       "20612 -1.251313 -0.209723 -0.109813  -0.030128   -0.586754 -0.021227   \n",
       "20613 -1.250049  0.187557 -0.375479  -0.308400   -0.228243 -0.003042   \n",
       "20614 -0.737528 -0.209723 -0.253544  -0.266318    0.026070 -0.000100   \n",
       "20615 -0.795270 -0.448092  0.013309  -0.000482   -0.619426  0.058200   \n",
       "20616 -0.959970 -1.083741 -0.243448   0.167383   -0.237073  0.001413   \n",
       "20617 -0.299276 -0.686460 -0.205300  -0.296543   -0.986767 -0.035519   \n",
       "20618 -0.853065 -0.289180  0.187863  -0.007923   -0.617660  0.013647   \n",
       "20619 -0.600252 -0.527548  0.387812   0.109669   -0.355400  0.037110   \n",
       "20620  0.364155  0.902663 -0.527045  -0.511718   -1.125403  0.007238   \n",
       "20621 -0.791954  0.664294  1.008243   1.005618   -0.831354  0.001170   \n",
       "20622 -0.765320 -0.686460 -0.250622  -0.338396   -0.855196 -0.015389   \n",
       "20623 -0.551194  0.267013 -0.132439  -0.045969   -0.730688 -0.042008   \n",
       "20624 -0.419393 -1.004285  0.164116  -0.138734   -0.613245 -0.053786   \n",
       "20625  0.133870  0.664294  0.750438   0.248170   -1.233133 -0.096209   \n",
       "20626 -0.896911  0.584838  0.462417  -0.043577   -0.813693 -0.011870   \n",
       "20627 -0.458291 -1.878303  0.258186   0.010592   -1.109509 -0.019858   \n",
       "20628 -0.671364 -0.765917 -0.077011  -0.036268   -0.359815 -0.044329   \n",
       "20629 -0.935020 -0.050811  0.036700  -0.159889    4.844774  0.070414   \n",
       "20630 -0.159684 -1.401566  0.203536   0.080514   -0.148770 -0.023679   \n",
       "20631 -0.185686 -1.083741  0.289727   0.093960   -0.199103 -0.028199   \n",
       "20632 -0.392495 -1.083741  0.240233  -0.034090   -0.334207 -0.033812   \n",
       "20633 -0.695418 -0.130267  0.006477  -0.038280   -0.303301 -0.022934   \n",
       "20634 -0.083256 -0.050811  0.545665   0.108840   -0.339505 -0.004284   \n",
       "20635 -1.216099 -0.289180 -0.155020   0.077352   -0.512579 -0.049109   \n",
       "20636 -0.691576 -0.845373  0.276874   0.462353   -0.944382  0.005021   \n",
       "20637 -1.142566 -0.924829 -0.090316   0.049413   -0.369528 -0.071733   \n",
       "20638 -1.054557 -0.845373 -0.040210   0.158774   -0.604415 -0.091223   \n",
       "20639 -0.780111 -1.004285 -0.070441   0.138399   -0.033976 -0.043681   \n",
       "\n",
       "       Latitude  Longitude     value  \n",
       "0      1.052523  -1.327803  2.129580  \n",
       "1      1.043159  -1.322812  1.314124  \n",
       "2      1.038478  -1.332794  1.258663  \n",
       "3      1.038478  -1.337785  1.165072  \n",
       "4      1.038478  -1.337785  1.172871  \n",
       "5      1.038478  -1.337785  0.544598  \n",
       "6      1.033796  -1.337785  0.800240  \n",
       "7      1.033796  -1.337785  0.299354  \n",
       "8      1.033796  -1.342777  0.171967  \n",
       "9      1.033796  -1.337785  0.470071  \n",
       "10     1.038478  -1.342777  0.646855  \n",
       "11     1.038478  -1.342777  0.302821  \n",
       "12     1.038478  -1.342777  0.057577  \n",
       "13     1.033796  -1.342777 -0.134804  \n",
       "14     1.038478  -1.342777 -0.412978  \n",
       "15     1.038478  -1.342777 -0.579362  \n",
       "16     1.038478  -1.347768 -0.471039  \n",
       "17     1.038478  -1.347768 -0.445041  \n",
       "18     1.033796  -1.342777 -0.417311  \n",
       "19     1.033796  -1.347768 -0.380914  \n",
       "20     1.038478  -1.347768 -0.514368  \n",
       "21     1.038478  -1.347768 -0.407778  \n",
       "22     1.033796  -1.347768 -0.805540  \n",
       "23     1.033796  -1.347768 -0.928595  \n",
       "24     1.033796  -1.347768 -0.643489  \n",
       "25     1.038478  -1.352759 -0.861002  \n",
       "26     1.038478  -1.352759 -0.979724  \n",
       "27     1.038478  -1.352759 -0.878333  \n",
       "28     1.033796  -1.352759 -0.848869  \n",
       "29     1.033796  -1.352759 -0.648689  \n",
       "...         ...        ...       ...  \n",
       "20610  1.623697  -0.993394 -1.398284  \n",
       "20611  1.623697  -0.988402 -1.385285  \n",
       "20612  1.614333  -0.993394 -1.374019  \n",
       "20613  1.619015  -0.988402 -1.329824  \n",
       "20614  1.614333  -0.983411 -1.289961  \n",
       "20615  1.614333  -0.983411 -1.294294  \n",
       "20616  1.614333  -0.978420 -1.315092  \n",
       "20617  1.604970  -0.978420 -1.179038  \n",
       "20618  1.604970  -0.988402 -1.243165  \n",
       "20619  1.581561  -0.993394 -0.933795  \n",
       "20620  1.600288  -0.953464 -0.925995  \n",
       "20621  1.581561  -0.948473 -1.120977  \n",
       "20622  1.576879  -0.933499 -1.211968  \n",
       "20623  1.590924  -0.898561 -1.224967  \n",
       "20624  1.595606  -0.918526 -1.036918  \n",
       "20625  1.633060  -0.973429 -1.168639  \n",
       "20626  1.661151  -0.928508 -0.979724  \n",
       "20627  1.637742  -0.873605 -0.384380  \n",
       "20628  1.623697  -0.953464 -0.991856  \n",
       "20629  1.633060  -0.908543 -0.854069  \n",
       "20630  1.712650  -0.873605 -0.822005  \n",
       "20631  1.731377  -0.913535 -0.863601  \n",
       "20632  1.698605  -0.938491 -0.790808  \n",
       "20633  1.665832  -0.978420 -0.940727  \n",
       "20634  1.703286  -0.993394 -0.780409  \n",
       "20635  1.801603  -0.758808 -1.115777  \n",
       "20636  1.806285  -0.818702 -1.124443  \n",
       "20637  1.778194  -0.823693 -0.992722  \n",
       "20638  1.778194  -0.873605 -1.058583  \n",
       "20639  1.750104  -0.833676 -1.017853  \n",
       "\n",
       "[20640 rows x 9 columns]"
      ]
     },
     "execution_count": 12,
     "metadata": {},
     "output_type": "execute_result"
    }
   ],
   "source": [
    "std_value = (data - mean) / std\n",
    "data_standarized = pd.DataFrame(std_value,columns = housing.feature_names + ['value'])\n",
    "data_standarized"
   ]
  },
  {
   "cell_type": "markdown",
   "metadata": {
    "ExecuteTime": {
     "end_time": "2018-01-16T18:08:08.730680Z",
     "start_time": "2018-01-16T18:08:08.720680Z"
    }
   },
   "source": [
    "<div class=\"alert alert-block alert-info\"> Problem 1.3</div>\n",
    "1. Create a numpy array variable named `X` with all the features (but excluding the house values)\n",
    "2. Create a numpy array variable named `Y` with the house prices (values)"
   ]
  },
  {
   "cell_type": "code",
   "execution_count": 13,
   "metadata": {
    "scrolled": true
   },
   "outputs": [
    {
     "name": "stderr",
     "output_type": "stream",
     "text": [
      "/Users/zhouzihui/anaconda3/lib/python3.7/site-packages/ipykernel_launcher.py:1: FutureWarning: Method .as_matrix will be removed in a future version. Use .values instead.\n",
      "  \"\"\"Entry point for launching an IPython kernel.\n"
     ]
    },
    {
     "data": {
      "text/plain": [
       "array([[ 2.34470896,  0.98211887,  0.62854423, ..., -0.04959533,\n",
       "         1.05252278, -1.32780305],\n",
       "       [ 2.33218146, -0.60700421,  0.32703343, ..., -0.09250999,\n",
       "         1.04315928, -1.32281187],\n",
       "       [ 1.78265622,  1.85613656,  1.15559247, ..., -0.0258419 ,\n",
       "         1.03847753, -1.33279424],\n",
       "       ...,\n",
       "       [-1.14256563, -0.92482882, -0.09031584, ..., -0.07173277,\n",
       "         1.77819439, -0.82369324],\n",
       "       [-1.05455737, -0.84537267, -0.04021014, ..., -0.09122294,\n",
       "         1.77819439, -0.87360511],\n",
       "       [-0.78011057, -1.00428498, -0.07044081, ..., -0.0436811 ,\n",
       "         1.75010387, -0.83367562]])"
      ]
     },
     "execution_count": 13,
     "metadata": {},
     "output_type": "execute_result"
    }
   ],
   "source": [
    "X = data_standarized[housing.feature_names].as_matrix()#creating a numpy array variable\n",
    "X"
   ]
  },
  {
   "cell_type": "code",
   "execution_count": 14,
   "metadata": {
    "scrolled": true
   },
   "outputs": [
    {
     "name": "stderr",
     "output_type": "stream",
     "text": [
      "/Users/zhouzihui/anaconda3/lib/python3.7/site-packages/ipykernel_launcher.py:1: FutureWarning: Method .as_matrix will be removed in a future version. Use .values instead.\n",
      "  \"\"\"Entry point for launching an IPython kernel.\n"
     ]
    },
    {
     "data": {
      "text/plain": [
       "array([ 2.12957989,  1.3141243 ,  1.25866292, ..., -0.99272244,\n",
       "       -1.05858282, -1.01785337])"
      ]
     },
     "execution_count": 14,
     "metadata": {},
     "output_type": "execute_result"
    }
   ],
   "source": [
    "Y = data_standarized['value'].as_matrix()\n",
    "Y"
   ]
  },
  {
   "cell_type": "markdown",
   "metadata": {
    "ExecuteTime": {
     "end_time": "2018-01-09T16:23:41.930141Z",
     "start_time": "2018-01-09T16:23:41.927141Z"
    }
   },
   "source": [
    "## Exact Solution with Numpy"
   ]
  },
  {
   "cell_type": "markdown",
   "metadata": {
    "ExecuteTime": {
     "end_time": "2018-01-16T18:14:18.478680Z",
     "start_time": "2018-01-16T18:14:18.468680Z"
    }
   },
   "source": [
    "We assume a linear model\n",
    "$$\n",
    "     y = \\sum_d x_d \\theta_d  + \\epsilon\n",
    "$$\n",
    "where $d$ runs through the housing features and $\\epsilon$ is a Gaussian noise term."
   ]
  },
  {
   "cell_type": "markdown",
   "metadata": {},
   "source": [
    "<div class=\"alert alert-block alert-info\"> Problem 2.1 </div>\n",
    "Can you find a reason why we have not included a bias term `b` in the equation?"
   ]
  },
  {
   "cell_type": "code",
   "execution_count": 15,
   "metadata": {},
   "outputs": [],
   "source": [
    "# Because we've already changed the variable x to its standarized form in the above steps, therefore b will equal to zero."
   ]
  },
  {
   "cell_type": "markdown",
   "metadata": {},
   "source": [
    "<div class=\"alert alert-block alert-info\"> Problem 2.2 </div>\n",
    "Using only `numpy` matrix algebra functions, find the Maximum Likelihood values of $\\theta_d$\n",
    "\n",
    "[Hint] Computing matrix inverses is computationally expensive.  The function `numpy.linalg.solve` can be used to solve systems of linear equations."
   ]
  },
  {
   "cell_type": "code",
   "execution_count": 16,
   "metadata": {},
   "outputs": [
    {
     "data": {
      "text/plain": [
       "array([ 0.71895227,  0.10291078, -0.23010693,  0.26491789, -0.00390232,\n",
       "       -0.03408034, -0.77984545, -0.75441522])"
      ]
     },
     "execution_count": 16,
     "metadata": {},
     "output_type": "execute_result"
    }
   ],
   "source": [
    "ml_theta = np.linalg.solve(np.dot(X.T,X),np.dot(X.T,Y))\n",
    "ml_theta"
   ]
  },
  {
   "cell_type": "markdown",
   "metadata": {
    "ExecuteTime": {
     "end_time": "2018-01-16T18:31:59.073180Z",
     "start_time": "2018-01-16T18:31:59.063180Z"
    }
   },
   "source": [
    "<div class=\"alert alert-block alert-info\"> Problem 2.3 </div>\n",
    "Create a variable named `Y_pred` that for each sample $X$, constains  the maximum likelihood model predicted value for $Y$"
   ]
  },
  {
   "cell_type": "code",
   "execution_count": 17,
   "metadata": {},
   "outputs": [
    {
     "data": {
      "text/plain": [
       "array([ 1.78784232,  1.65348419,  1.39347822, ..., -1.64417577,\n",
       "       -1.51604801, -1.34559232])"
      ]
     },
     "execution_count": 17,
     "metadata": {},
     "output_type": "execute_result"
    }
   ],
   "source": [
    "Y_pred = np.dot(X,ml_theta)\n",
    "Y_pred"
   ]
  },
  {
   "cell_type": "markdown",
   "metadata": {
    "ExecuteTime": {
     "end_time": "2018-01-16T18:35:58.559180Z",
     "start_time": "2018-01-16T18:35:58.549180Z"
    }
   },
   "source": [
    "## Gradient Descent Optimization"
   ]
  },
  {
   "cell_type": "markdown",
   "metadata": {
    "ExecuteTime": {
     "end_time": "2018-01-16T18:37:54.949180Z",
     "start_time": "2018-01-16T18:37:54.944180Z"
    }
   },
   "source": [
    "We will now solve the same problem using Gradient Descent, instead of the analytic solution."
   ]
  },
  {
   "cell_type": "markdown",
   "metadata": {},
   "source": [
    "<div class=\"alert alert-block alert-info\"> Problem 3.1 </div>\n",
    "Define a python function `mse(theta,X,Y)` that computes the mean square error function given $\\theta$, $X$ and $Y$"
   ]
  },
  {
   "cell_type": "code",
   "execution_count": 18,
   "metadata": {},
   "outputs": [],
   "source": [
    "def mse(theta,X,Y):\n",
    "    se = np.square(np.dot(X,theta)-Y)\n",
    "    mse = np.mean(se)/2  \n",
    "    return mse"
   ]
  },
  {
   "cell_type": "markdown",
   "metadata": {},
   "source": [
    "<div class=\"alert alert-block alert-info\"> Problem 3.2 </div>\n",
    "Define a python function `grad(theta,X,Y)` that computes the gradient of the error function given $\\theta$, $X$ and $Y$"
   ]
  },
  {
   "cell_type": "code",
   "execution_count": 19,
   "metadata": {},
   "outputs": [],
   "source": [
    "def grad(theta,X,Y): \n",
    "    m = len(X)     #len(X) returns the number of rows in the matrix X\n",
    "    grad = np.dot(X.T,np.dot(X,theta)-Y)/m\n",
    "    return grad"
   ]
  },
  {
   "cell_type": "markdown",
   "metadata": {
    "ExecuteTime": {
     "end_time": "2018-01-16T19:07:01.390180Z",
     "start_time": "2018-01-16T19:07:01.380180Z"
    }
   },
   "source": [
    "<div class=\"alert alert-block alert-info\"> Problem 3.3 </div>\n",
    "Using [`numpy.random.normal`](https://docs.scipy.org/doc/numpy-1.13.0/reference/generated/numpy.random.normal.html) \n",
    "generate a random guess of the vector $\\theta$ so that each component is $\\mathcal{N}(0,1)$ distributed"
   ]
  },
  {
   "cell_type": "code",
   "execution_count": 20,
   "metadata": {},
   "outputs": [
    {
     "data": {
      "text/plain": [
       "array([ 1.18332114,  1.3144417 , -1.43101293, -0.90304957,  1.47576176,\n",
       "       -1.11638228,  1.71375566, -0.16266391])"
      ]
     },
     "execution_count": 20,
     "metadata": {},
     "output_type": "execute_result"
    }
   ],
   "source": [
    "mu, sigma = 0, 1\n",
    "rg_theta = np.random.normal(mu, sigma, X.shape[1])\n",
    "rg_theta"
   ]
  },
  {
   "cell_type": "markdown",
   "metadata": {
    "ExecuteTime": {
     "end_time": "2018-01-16T19:02:22.042680Z",
     "start_time": "2018-01-16T19:02:22.032680Z"
    },
    "collapsed": true
   },
   "source": [
    "<div class=\"alert alert-block alert-info\"> Problem 3.4 </div>\n",
    "Use the function [`scipy.optimze.check_grad`](https://docs.scipy.org/doc/scipy/reference/generated/scipy.optimize.check_grad.html)\n",
    "to verify numerically that `grad` is really the gradient of `mse` for the  $\\theta$ guess.\n",
    "\n",
    "[HINT] `grad` is the gradient of `mse` if `check_grad` returns a very small number (say $\\approx 10^-8$)"
   ]
  },
  {
   "cell_type": "code",
   "execution_count": 21,
   "metadata": {},
   "outputs": [
    {
     "data": {
      "text/plain": [
       "2.5193743230817395e-07"
      ]
     },
     "execution_count": 21,
     "metadata": {},
     "output_type": "execute_result"
    }
   ],
   "source": [
    "from scipy.optimize import check_grad\n",
    "scipy.optimize.check_grad(mse, grad, rg_theta, X, Y) #since it returns a very small number --> grad is the gradient"
   ]
  },
  {
   "cell_type": "markdown",
   "metadata": {},
   "source": [
    "<div class=\"alert alert-block alert-info\"> Problem 3.5 </div>\n",
    "** Steepest Descent Algorithm**\n",
    "\n",
    "1. Pick a value for the learning rate $\\eta$\n",
    "1. Implement the steepest descent update rule\n",
    "    $$\n",
    "        \\theta \\leftarrow \\theta - \\eta \\frac{\\partial E}{\\partial \\theta}\n",
    "    $$\n",
    "1. Run the update rule on a loop, starting from your random guess for $\\theta$. Repeat  $T=1000$ times\n",
    "1. Every 100 steps, print the step number and the current error\n",
    "1. After 1000 steps, print the final error, and the final $\\theta$ parameters.\n",
    "2. If process did not converge, modify value of learning rate $\\eta$ and repeat until convergence."
   ]
  },
  {
   "cell_type": "code",
   "execution_count": 22,
   "metadata": {},
   "outputs": [
    {
     "name": "stdout",
     "output_type": "stream",
     "text": [
      "step number: 0 the current error: 0.9737484582556808\n",
      "step number: 100 the current error: 0.19775497424567143\n",
      "step number: 200 the current error: 0.19688270264246163\n",
      "step number: 300 the current error: 0.19687420376097656\n",
      "step number: 400 the current error: 0.1968741193111804\n",
      "step number: 500 the current error: 0.19687411847163477\n",
      "step number: 600 the current error: 0.19687411846328848\n",
      "step number: 700 the current error: 0.19687411846320552\n",
      "step number: 800 the current error: 0.19687411846320466\n",
      "step number: 900 the current error: 0.19687411846320466\n",
      "the final error is after 1000 times is 0.19687411846320463\n",
      "theta: [ 0.71895227  0.10291078 -0.23010693  0.26491789 -0.00390232 -0.03408034\n",
      " -0.77984545 -0.75441522]\n"
     ]
    }
   ],
   "source": [
    "n = 0.5\n",
    "T = 1000\n",
    "theta = rg_theta\n",
    "for t in range(T):\n",
    "    theta = theta - n*grad(theta, X, Y)\n",
    "    # then print the step number and the current error for each 100 steps\n",
    "    if (t % 100 == 0):\n",
    "        print('step number:', t, 'the current error:', mse(theta, X, Y))   \n",
    "print('the final error is after', T, 'times is', mse(theta, X, Y))\n",
    "print('theta:', theta)\n",
    "# the first try: n = 1, the process did not converge\n",
    "# the nchanged n = 0.5, it converges obviously"
   ]
  },
  {
   "cell_type": "markdown",
   "metadata": {
    "ExecuteTime": {
     "end_time": "2018-01-16T19:38:08.793680Z",
     "start_time": "2018-01-16T19:38:08.783680Z"
    }
   },
   "source": [
    "<div class=\"alert alert-block alert-info\"> Problem 3.6 </div>\n",
    "Compare the MSE of the steepest descent solution to the exact solution."
   ]
  },
  {
   "cell_type": "code",
   "execution_count": 23,
   "metadata": {},
   "outputs": [
    {
     "name": "stdout",
     "output_type": "stream",
     "text": [
      "the steepest descent solution: 0.19687411846320463\n",
      "the exact descent solution: 0.19687411846320466\n",
      "the difference of the two solutions is: -2.7755575615628914e-17\n"
     ]
    }
   ],
   "source": [
    "st_sol = mse(theta, X, Y)\n",
    "exact_sol = mse(ml_theta, X, Y)\n",
    "diff = st_sol - exact_sol\n",
    "print('the steepest descent solution:', st_sol)\n",
    "print('the exact descent solution:', exact_sol)\n",
    "print('the difference of the two solutions is:', diff)"
   ]
  },
  {
   "cell_type": "markdown",
   "metadata": {
    "ExecuteTime": {
     "end_time": "2018-01-16T19:42:23.454680Z",
     "start_time": "2018-01-16T19:42:23.449680Z"
    }
   },
   "source": [
    "<div class=\"alert alert-block alert-info\"> Problem 3.7 </div>\n",
    "Compare the  steepest descent parameters $\\theta$  to the exact solution."
   ]
  },
  {
   "cell_type": "code",
   "execution_count": 24,
   "metadata": {},
   "outputs": [
    {
     "name": "stdout",
     "output_type": "stream",
     "text": [
      "       steepest𝜃         exact solution       difference\n",
      "MedInc 0.7189522722724133 0.7189522722254268 4.698652578127849e-11\n",
      "HouseAge 0.1029107797229423 0.10291077971424403 8.698264331030714e-12\n",
      "AveRooms -0.23010693271850396 -0.23010693262952092 -8.898304315607675e-11\n",
      "AveBedrms 0.26491789421449813 0.264917894140825 7.367312315764707e-11\n",
      "Population -0.0039023236401504167 -0.003902323642704787 2.5543703437158616e-12\n",
      "AveOccup -0.03408034125730446 -0.03408034125556681 -1.737651689204256e-12\n",
      "Latitude -0.7798454454435649 -0.7798454455510937 1.0752876367092767e-10\n",
      "Longitude -0.7544152219949256 -0.7544152220969756 1.0205003508900745e-10\n"
     ]
    }
   ],
   "source": [
    "theta_diff = theta - ml_theta\n",
    "print('      ', 'steepest𝜃        ' , 'exact solution', '      difference')\n",
    "for i in range(X.shape[1]):\n",
    "    print(data.columns[i], theta[i], ml_theta[i], theta_diff[i]) # X was set to array in the above steps"
   ]
  },
  {
   "cell_type": "markdown",
   "metadata": {},
   "source": [
    "## Sklearn Comparison"
   ]
  },
  {
   "cell_type": "markdown",
   "metadata": {
    "ExecuteTime": {
     "end_time": "2018-01-16T19:50:26.024680Z",
     "start_time": "2018-01-16T19:50:26.014680Z"
    }
   },
   "source": [
    "<div class=\"alert alert-block alert-info\"> Problem 4.1 </div>\n",
    "Use [`sklearn.linear_model.LinearRegression`](http://scikit-learn.org/stable/modules/generated/sklearn.linear_model.LinearRegression.html)\n",
    "to fit our model.\n",
    "\n",
    "[Hint] You will need to create a `LinearRegression` object, and the call the `fit` method. Make sure not to fit the intercept (bias).\n"
   ]
  },
  {
   "cell_type": "code",
   "execution_count": 25,
   "metadata": {},
   "outputs": [
    {
     "data": {
      "text/plain": [
       "LinearRegression(copy_X=True, fit_intercept=False, n_jobs=None, normalize=False)"
      ]
     },
     "execution_count": 25,
     "metadata": {},
     "output_type": "execute_result"
    }
   ],
   "source": [
    "LinearRegression = sklearn.linear_model.LinearRegression(fit_intercept = False)\n",
    "LinearRegression = LinearRegression.fit(X,Y)\n",
    "LinearRegression"
   ]
  },
  {
   "cell_type": "markdown",
   "metadata": {
    "ExecuteTime": {
     "end_time": "2018-01-16T20:00:11.040180Z",
     "start_time": "2018-01-16T20:00:11.030180Z"
    }
   },
   "source": [
    "<div class=\"alert alert-block alert-info\"> Problem 4.2 </div>\n",
    "Compute the mean squared different between the exact model prediction's  `Y_pred`  we saved before and\n",
    "`sklearn`'s Linear model regression predictions"
   ]
  },
  {
   "cell_type": "code",
   "execution_count": 26,
   "metadata": {},
   "outputs": [
    {
     "data": {
      "text/plain": [
       "3.9626724673140836e-30"
      ]
     },
     "execution_count": 26,
     "metadata": {},
     "output_type": "execute_result"
    }
   ],
   "source": [
    "def msd(X,Y_pred,LinearRegression):\n",
    "    Difference = LinearRegression.predict(X) - Y_pred\n",
    "    length = len(Y_pred)\n",
    "    return np.dot(Difference.T,Difference)/length\n",
    "msd = msd(X,Y_pred,LinearRegression)\n",
    "msd"
   ]
  },
  {
   "cell_type": "markdown",
   "metadata": {},
   "source": [
    "<div class=\"alert alert-block alert-info\"> Problem 4.3 </div>\n",
    "Compare the sklearn solution to the exact solution we found earlier.\n",
    "\n",
    "[Hint] The solution is stored on the model's  `coef_` variable"
   ]
  },
  {
   "cell_type": "code",
   "execution_count": 27,
   "metadata": {},
   "outputs": [
    {
     "name": "stdout",
     "output_type": "stream",
     "text": [
      "          exact solution    sklearn solution\n",
      "MedInc 0.7189522722254268 0.7189522722254276\n",
      "HouseAge 0.10291077971424403 0.10291077971424487\n",
      "AveRooms -0.23010693262952092 -0.23010693262952173\n",
      "AveBedrms 0.264917894140825 0.2649178941408253\n",
      "Population -0.003902323642704787 -0.0039023236427050455\n",
      "AveOccup -0.03408034125556681 -0.034080341255566575\n",
      "Latitude -0.7798454455510937 -0.779845445551089\n",
      "Longitude -0.7544152220969756 -0.7544152220969702\n"
     ]
    }
   ],
   "source": [
    "print('    ', '     exact solution', '   sklearn solution')\n",
    "for i in range(X.shape[1]):\n",
    "    print(data.columns[i], ml_theta[i], LinearRegression.coef_[i])"
   ]
  },
  {
   "cell_type": "markdown",
   "metadata": {
    "ExecuteTime": {
     "end_time": "2018-01-16T20:34:50.406680Z",
     "start_time": "2018-01-16T20:34:50.401680Z"
    }
   },
   "source": [
    "### Statmodels  Comparison"
   ]
  },
  {
   "cell_type": "code",
   "execution_count": 28,
   "metadata": {
    "ExecuteTime": {
     "end_time": "2018-01-26T10:50:23.030019Z",
     "start_time": "2018-01-26T10:50:20.210760Z"
    }
   },
   "outputs": [],
   "source": [
    "import statsmodels.api as sm"
   ]
  },
  {
   "cell_type": "markdown",
   "metadata": {},
   "source": [
    "We will solve using  `statmodels` so that we appreciate the difference in emphasis between Machine Learning (`sklearn`) and Statistics Modeling `statmodels` "
   ]
  },
  {
   "cell_type": "markdown",
   "metadata": {
    "ExecuteTime": {
     "end_time": "2018-01-16T20:41:08.551180Z",
     "start_time": "2018-01-16T20:41:08.546180Z"
    }
   },
   "source": [
    "<div class=\"alert alert-block alert-info\"> Problem 5.1 </div>\n",
    "Use [`statmodels.api.OLS`](http://www.statsmodels.org/dev/generated/statsmodels.regression.linear_model.OLS.html) to solve the same linear regression problem\n"
   ]
  },
  {
   "cell_type": "code",
   "execution_count": 29,
   "metadata": {},
   "outputs": [],
   "source": [
    "stats_lr = sm.OLS(Y,X)\n",
    "result = stats_lr.fit()"
   ]
  },
  {
   "cell_type": "markdown",
   "metadata": {
    "ExecuteTime": {
     "end_time": "2018-01-16T20:44:32.088180Z",
     "start_time": "2018-01-16T20:44:32.078180Z"
    }
   },
   "source": [
    "<div class=\"alert alert-block alert-info\"> Problem 5.2 </div>\n",
    "Compare the `statmodels` solution to the exact solution we found earlier.\n",
    "\n",
    "[Hint] The fitted parameters are stored on the results 's  `params` variable"
   ]
  },
  {
   "cell_type": "code",
   "execution_count": 30,
   "metadata": {},
   "outputs": [
    {
     "name": "stdout",
     "output_type": "stream",
     "text": [
      "          exact solution    statmodel solution\n",
      "MedInc 0.7189522722254268 0.7189522722254271\n",
      "HouseAge 0.10291077971424403 0.1029107797142449\n",
      "AveRooms -0.23010693262952092 -0.23010693262952087\n",
      "AveBedrms 0.264917894140825 0.2649178941408249\n",
      "Population -0.003902323642704787 -0.003902323642705284\n",
      "AveOccup -0.03408034125556681 -0.03408034125556665\n",
      "Latitude -0.7798454455510937 -0.7798454455510893\n",
      "Longitude -0.7544152220969756 -0.7544152220969701\n"
     ]
    }
   ],
   "source": [
    "print('    ', '     exact solution', '   statmodel solution')\n",
    "for i in range(X.shape[1]):\n",
    "    print(data.columns[i], ml_theta[i], result.params[i])"
   ]
  },
  {
   "cell_type": "markdown",
   "metadata": {},
   "source": [
    "<div class=\"alert alert-block alert-info\"> Problem 5.3 </div>\n",
    "Print a  `statmodels` result summary (function `summary` of the results object).\n",
    "\n",
    "It will show you a number of estimates on goodness-of-fit, significance of coefficients, etc."
   ]
  },
  {
   "cell_type": "code",
   "execution_count": 31,
   "metadata": {},
   "outputs": [
    {
     "data": {
      "text/html": [
       "<table class=\"simpletable\">\n",
       "<caption>OLS Regression Results</caption>\n",
       "<tr>\n",
       "  <th>Dep. Variable:</th>            <td>y</td>        <th>  R-squared (uncentered):</th>      <td>   0.606</td> \n",
       "</tr>\n",
       "<tr>\n",
       "  <th>Model:</th>                   <td>OLS</td>       <th>  Adj. R-squared (uncentered):</th> <td>   0.606</td> \n",
       "</tr>\n",
       "<tr>\n",
       "  <th>Method:</th>             <td>Least Squares</td>  <th>  F-statistic:       </th>          <td>   3971.</td> \n",
       "</tr>\n",
       "<tr>\n",
       "  <th>Date:</th>             <td>Fri, 20 Sep 2019</td> <th>  Prob (F-statistic):</th>           <td>  0.00</td>  \n",
       "</tr>\n",
       "<tr>\n",
       "  <th>Time:</th>                 <td>00:24:41</td>     <th>  Log-Likelihood:    </th>          <td> -19668.</td> \n",
       "</tr>\n",
       "<tr>\n",
       "  <th>No. Observations:</th>      <td> 20640</td>      <th>  AIC:               </th>          <td>3.935e+04</td>\n",
       "</tr>\n",
       "<tr>\n",
       "  <th>Df Residuals:</th>          <td> 20632</td>      <th>  BIC:               </th>          <td>3.942e+04</td>\n",
       "</tr>\n",
       "<tr>\n",
       "  <th>Df Model:</th>              <td>     8</td>      <th>                     </th>              <td> </td>    \n",
       "</tr>\n",
       "<tr>\n",
       "  <th>Covariance Type:</th>      <td>nonrobust</td>    <th>                     </th>              <td> </td>    \n",
       "</tr>\n",
       "</table>\n",
       "<table class=\"simpletable\">\n",
       "<tr>\n",
       "   <td></td>     <th>coef</th>     <th>std err</th>      <th>t</th>      <th>P>|t|</th>  <th>[0.025</th>    <th>0.975]</th>  \n",
       "</tr>\n",
       "<tr>\n",
       "  <th>x1</th> <td>    0.7190</td> <td>    0.007</td> <td>  104.056</td> <td> 0.000</td> <td>    0.705</td> <td>    0.732</td>\n",
       "</tr>\n",
       "<tr>\n",
       "  <th>x2</th> <td>    0.1029</td> <td>    0.005</td> <td>   21.144</td> <td> 0.000</td> <td>    0.093</td> <td>    0.112</td>\n",
       "</tr>\n",
       "<tr>\n",
       "  <th>x3</th> <td>   -0.2301</td> <td>    0.013</td> <td>  -18.236</td> <td> 0.000</td> <td>   -0.255</td> <td>   -0.205</td>\n",
       "</tr>\n",
       "<tr>\n",
       "  <th>x4</th> <td>    0.2649</td> <td>    0.012</td> <td>   22.928</td> <td> 0.000</td> <td>    0.242</td> <td>    0.288</td>\n",
       "</tr>\n",
       "<tr>\n",
       "  <th>x5</th> <td>   -0.0039</td> <td>    0.005</td> <td>   -0.837</td> <td> 0.402</td> <td>   -0.013</td> <td>    0.005</td>\n",
       "</tr>\n",
       "<tr>\n",
       "  <th>x6</th> <td>   -0.0341</td> <td>    0.004</td> <td>   -7.769</td> <td> 0.000</td> <td>   -0.043</td> <td>   -0.025</td>\n",
       "</tr>\n",
       "<tr>\n",
       "  <th>x7</th> <td>   -0.7798</td> <td>    0.013</td> <td>  -58.543</td> <td> 0.000</td> <td>   -0.806</td> <td>   -0.754</td>\n",
       "</tr>\n",
       "<tr>\n",
       "  <th>x8</th> <td>   -0.7544</td> <td>    0.013</td> <td>  -57.684</td> <td> 0.000</td> <td>   -0.780</td> <td>   -0.729</td>\n",
       "</tr>\n",
       "</table>\n",
       "<table class=\"simpletable\">\n",
       "<tr>\n",
       "  <th>Omnibus:</th>       <td>4393.650</td> <th>  Durbin-Watson:     </th> <td>   0.885</td> \n",
       "</tr>\n",
       "<tr>\n",
       "  <th>Prob(Omnibus):</th>  <td> 0.000</td>  <th>  Jarque-Bera (JB):  </th> <td>14087.596</td>\n",
       "</tr>\n",
       "<tr>\n",
       "  <th>Skew:</th>           <td> 1.082</td>  <th>  Prob(JB):          </th> <td>    0.00</td> \n",
       "</tr>\n",
       "<tr>\n",
       "  <th>Kurtosis:</th>       <td> 6.420</td>  <th>  Cond. No.          </th> <td>    6.67</td> \n",
       "</tr>\n",
       "</table><br/><br/>Warnings:<br/>[1] Standard Errors assume that the covariance matrix of the errors is correctly specified."
      ],
      "text/plain": [
       "<class 'statsmodels.iolib.summary.Summary'>\n",
       "\"\"\"\n",
       "                                 OLS Regression Results                                \n",
       "=======================================================================================\n",
       "Dep. Variable:                      y   R-squared (uncentered):                   0.606\n",
       "Model:                            OLS   Adj. R-squared (uncentered):              0.606\n",
       "Method:                 Least Squares   F-statistic:                              3971.\n",
       "Date:                Fri, 20 Sep 2019   Prob (F-statistic):                        0.00\n",
       "Time:                        00:24:41   Log-Likelihood:                         -19668.\n",
       "No. Observations:               20640   AIC:                                  3.935e+04\n",
       "Df Residuals:                   20632   BIC:                                  3.942e+04\n",
       "Df Model:                           8                                                  \n",
       "Covariance Type:            nonrobust                                                  \n",
       "==============================================================================\n",
       "                 coef    std err          t      P>|t|      [0.025      0.975]\n",
       "------------------------------------------------------------------------------\n",
       "x1             0.7190      0.007    104.056      0.000       0.705       0.732\n",
       "x2             0.1029      0.005     21.144      0.000       0.093       0.112\n",
       "x3            -0.2301      0.013    -18.236      0.000      -0.255      -0.205\n",
       "x4             0.2649      0.012     22.928      0.000       0.242       0.288\n",
       "x5            -0.0039      0.005     -0.837      0.402      -0.013       0.005\n",
       "x6            -0.0341      0.004     -7.769      0.000      -0.043      -0.025\n",
       "x7            -0.7798      0.013    -58.543      0.000      -0.806      -0.754\n",
       "x8            -0.7544      0.013    -57.684      0.000      -0.780      -0.729\n",
       "==============================================================================\n",
       "Omnibus:                     4393.650   Durbin-Watson:                   0.885\n",
       "Prob(Omnibus):                  0.000   Jarque-Bera (JB):            14087.596\n",
       "Skew:                           1.082   Prob(JB):                         0.00\n",
       "Kurtosis:                       6.420   Cond. No.                         6.67\n",
       "==============================================================================\n",
       "\n",
       "Warnings:\n",
       "[1] Standard Errors assume that the covariance matrix of the errors is correctly specified.\n",
       "\"\"\""
      ]
     },
     "execution_count": 31,
     "metadata": {},
     "output_type": "execute_result"
    }
   ],
   "source": [
    "result.summary()"
   ]
  },
  {
   "cell_type": "markdown",
   "metadata": {
    "collapsed": true
   },
   "source": [
    "### Independent test for categorial variables"
   ]
  },
  {
   "cell_type": "markdown",
   "metadata": {},
   "source": [
    "<div class=\"alert alert-block alert-info\"> Problem 6.1 </div>\n",
    "\n",
    "Read the data from file 'homework.csv' in the  'data_dir' directory (you must run `GenerateCategorialVariables` notebook first to create the data)\n",
    "\n",
    "Perform a $\\chi^2$ test of independence between the variables `X` and `Y`.\n",
    "Are 'X' and 'Y' dependent on each other?\n",
    "\n",
    "[Hint] You can copy any code you need from the [`CategoricalInference`](./CategoricalInference.ipynb) Notebook,\n",
    "but make sure to import any python modules you may need."
   ]
  },
  {
   "cell_type": "code",
   "execution_count": 32,
   "metadata": {},
   "outputs": [
    {
     "name": "stderr",
     "output_type": "stream",
     "text": [
      "/Users/zhouzihui/anaconda3/lib/python3.7/site-packages/ipykernel_launcher.py:11: FutureWarning: Method .as_matrix will be removed in a future version. Use .values instead.\n",
      "  # This is added back by InteractiveShellApp.init_path()\n",
      "/Users/zhouzihui/anaconda3/lib/python3.7/site-packages/ipykernel_launcher.py:12: FutureWarning: Method .as_matrix will be removed in a future version. Use .values instead.\n",
      "  if sys.path[0] == '':\n"
     ]
    }
   ],
   "source": [
    "import scipy.special as special\n",
    "\n",
    "# Import the file\n",
    "base_data_dir=\"../../data/ProbabilisticTools\"\n",
    "os.chdir(base_data_dir)\n",
    "df = pd.read_csv('homework.csv')\n",
    "\n",
    "# Create the hot-noded matrices\n",
    "X = df[\"X\"]\n",
    "Y = df[\"Y\"]\n",
    "X_hn = pd.get_dummies(X).as_matrix()\n",
    "Y_hn = pd.get_dummies(Y).as_matrix()\n",
    "\n",
    "# Define a chi_test function\n",
    "def C2_independence(Z_x,Z_y):\n",
    "    N=len(Z_x)\n",
    "    D=Z_x.shape[1]\n",
    "    K=Z_y.shape[1]\n",
    "    # p_y has index k\n",
    "    p_y=Z_y.mean(axis=0)\n",
    "    # p_x has index d\n",
    "    p_x=Z_x.mean(axis=0)\n",
    "    # p will be K*D, with indexes k,d\n",
    "    p=p_y[:,np.newaxis]*p_x[np.newaxis,:]\n",
    "    # expectation if x and y are independent\n",
    "    expect=N*p\n",
    "    # Z_y has indexes i,k and Z_x has indexes i,d\n",
    "    #Z will be N*K*D, with indexes i,k,d\n",
    "    Z=Z_y[:,:,np.newaxis]*Z_x[:,np.newaxis,:]\n",
    "    # observations for each (y,x) \n",
    "    # sum over i, left with a K*D matrix\n",
    "    obs=Z.sum(axis=0) # last two expressions are the same as np.dot(Z_y^T,Z_x)\n",
    "    df=obs-expect\n",
    "    df2=df*df\n",
    "    # we need to special case 0/0 case.\n",
    "    c2 = (df2/np.maximum(1e-9,expect)).sum()\n",
    "    return c2,special.chdtrc((K-1)*(D-1),c2)\n",
    "\n",
    "a = C2_independence(X_hn,Y_hn)"
   ]
  },
  {
   "cell_type": "code",
   "execution_count": 33,
   "metadata": {},
   "outputs": [
    {
     "name": "stdout",
     "output_type": "stream",
     "text": [
      "The probability that they are independent is: 6.1498086442245095 %. Therefore, we accept them as independent.\n"
     ]
    }
   ],
   "source": [
    "print ('The probability that they are independent is:', a[1]*100, '%. Therefore, we accept them as independent.')"
   ]
  },
  {
   "cell_type": "markdown",
   "metadata": {},
   "source": []
  }
 ],
 "metadata": {
  "kernelspec": {
   "display_name": "Python 3",
   "language": "python",
   "name": "python3"
  },
  "language_info": {
   "codemirror_mode": {
    "name": "ipython",
    "version": 3
   },
   "file_extension": ".py",
   "mimetype": "text/x-python",
   "name": "python",
   "nbconvert_exporter": "python",
   "pygments_lexer": "ipython3",
   "version": "3.7.3"
  },
  "toc": {
   "nav_menu": {},
   "number_sections": true,
   "sideBar": true,
   "skip_h1_title": false,
   "toc_cell": false,
   "toc_position": {},
   "toc_section_display": "block",
   "toc_window_display": true
  }
 },
 "nbformat": 4,
 "nbformat_minor": 2
}

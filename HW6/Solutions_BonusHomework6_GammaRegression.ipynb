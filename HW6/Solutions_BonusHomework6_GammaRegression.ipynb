{
 "cells": [
  {
   "cell_type": "markdown",
   "metadata": {},
   "source": [
    "# Gamma Regression Implementation"
   ]
  },
  {
   "cell_type": "markdown",
   "metadata": {},
   "source": [
    "## Preliminaries"
   ]
  },
  {
   "cell_type": "markdown",
   "metadata": {},
   "source": [
    "### Imports"
   ]
  },
  {
   "cell_type": "code",
   "execution_count": 1,
   "metadata": {
    "ExecuteTime": {
     "end_time": "2018-10-31T16:02:39.563048Z",
     "start_time": "2018-10-31T16:02:32.707048Z"
    }
   },
   "outputs": [],
   "source": [
    "import numpy as np\n",
    "import numpy.random as random\n",
    "\n",
    "import matplotlib.pyplot as plt\n",
    "\n",
    "from scipy.special import factorial\n",
    "from sklearn.linear_model import LinearRegression\n",
    "import scipy.stats as stats\n",
    "import scipy.optimize as optimize\n",
    "import scipy.special as special\n",
    "\n",
    "import pandas as pd\n",
    "\n",
    "import sys\n",
    "\n",
    "%matplotlib inline"
   ]
  },
  {
   "cell_type": "markdown",
   "metadata": {},
   "source": [
    "### Random Seed"
   ]
  },
  {
   "cell_type": "code",
   "execution_count": 2,
   "metadata": {
    "ExecuteTime": {
     "end_time": "2018-10-31T16:02:39.567048Z",
     "start_time": "2018-10-31T16:02:39.564048Z"
    }
   },
   "outputs": [],
   "source": [
    "seed=567\n",
    "np.random.seed(seed)"
   ]
  },
  {
   "cell_type": "markdown",
   "metadata": {},
   "source": [
    "## Gamma Regression"
   ]
  },
  {
   "cell_type": "markdown",
   "metadata": {},
   "source": [
    "When $Y\\in\\mathbb{R}^+$, ie $y>0$ is   positive real numbers it is  natural to assume that $Y|_X$ follows a $\\Gamma$   distribution. For simplicity we will assume $\\alpha$ is a fixed **known** parameter. \n",
    "\n",
    "$$\n",
    "    p(y|x) = \\frac{\\beta^\\alpha}{\\Gamma(\\alpha)}s^{\\alpha-1}e^{-\\beta s} = \\frac{s^{\\alpha-1}}{\\Gamma(\\alpha)}e^{ -y\\beta +  \\alpha\\log \\beta }\n",
    "$$  \n",
    "were $\\alpha>0$ and $\\beta>0$\n",
    "\n",
    "And a non-canonical log link\n",
    "\n",
    "$$\n",
    "    \\eta(x) = -e^{-b_0 - W_0 x}\n",
    "$$\n",
    "\n"
   ]
  },
  {
   "cell_type": "markdown",
   "metadata": {},
   "source": [
    "### Generate random sample data"
   ]
  },
  {
   "cell_type": "markdown",
   "metadata": {},
   "source": [
    "<div class=\"alert alert-block alert-info\"> Problem 0 </div>\n",
    "Generate some random data to test model"
   ]
  },
  {
   "cell_type": "code",
   "execution_count": 3,
   "metadata": {
    "ExecuteTime": {
     "end_time": "2018-10-31T16:42:15.688948Z",
     "start_time": "2018-10-31T16:42:14.876748Z"
    }
   },
   "outputs": [],
   "source": [
    "alpha=5.0"
   ]
  },
  {
   "cell_type": "markdown",
   "metadata": {},
   "source": [
    "The true parameters used to generate the data are\n",
    "$$\n",
    "    \\theta_0=(b_0,w_0)=(0,1)\n",
    "$$"
   ]
  },
  {
   "cell_type": "code",
   "execution_count": 4,
   "metadata": {
    "ExecuteTime": {
     "end_time": "2018-10-31T16:42:14.392448Z",
     "start_time": "2018-10-31T16:42:14.376848Z"
    }
   },
   "outputs": [
    {
     "data": {
      "text/plain": [
       "(2,)"
      ]
     },
     "execution_count": 4,
     "metadata": {},
     "output_type": "execute_result"
    }
   ],
   "source": [
    "b0=0\n",
    "W0=1\n",
    "\n",
    "theta0=np.array([b0,W0])\n",
    "theta0.shape"
   ]
  },
  {
   "cell_type": "markdown",
   "metadata": {},
   "source": [
    "We generate $N=30$ samples, with $X\\sim \\mathcal{U}(0,4)$."
   ]
  },
  {
   "cell_type": "code",
   "execution_count": 5,
   "metadata": {
    "ExecuteTime": {
     "end_time": "2018-10-31T16:42:15.738248Z",
     "start_time": "2018-10-31T16:42:15.688948Z"
    }
   },
   "outputs": [
    {
     "data": {
      "text/plain": [
       "(30, 1)"
      ]
     },
     "execution_count": 5,
     "metadata": {},
     "output_type": "execute_result"
    }
   ],
   "source": [
    "N=30\n",
    "X=np.random.uniform(0,4,(N,1))\n",
    "X.shape"
   ]
  },
  {
   "cell_type": "code",
   "execution_count": 6,
   "metadata": {
    "ExecuteTime": {
     "end_time": "2018-10-31T16:42:16.290548Z",
     "start_time": "2018-10-31T16:42:16.274948Z"
    }
   },
   "outputs": [
    {
     "data": {
      "text/plain": [
       "(30,)"
      ]
     },
     "execution_count": 6,
     "metadata": {},
     "output_type": "execute_result"
    }
   ],
   "source": [
    "X1=np.c_[np.ones(len(X)),X]\n",
    "\n",
    "b=np.exp(np.dot(X1,theta0))\n",
    "Y=stats.gamma.rvs(a=alpha,scale=b)\n",
    "Y.shape"
   ]
  },
  {
   "cell_type": "markdown",
   "metadata": {},
   "source": [
    "<div class=\"alert alert-block alert-info\"> Problem 0.1 </div>\n",
    "Make a scatter plot of `X` vs `Y`"
   ]
  },
  {
   "cell_type": "code",
   "execution_count": 7,
   "metadata": {},
   "outputs": [
    {
     "data": {
      "text/plain": [
       "<matplotlib.collections.PathCollection at 0x7f75a15f39e8>"
      ]
     },
     "execution_count": 7,
     "metadata": {},
     "output_type": "execute_result"
    },
    {
     "data": {
      "image/png": "[encoded data removed]",
      "text/plain": [
       "<matplotlib.figure.Figure at 0x7f75c9f423c8>"
      ]
     },
     "metadata": {},
     "output_type": "display_data"
    }
   ],
   "source": [
    "plt.scatter(X,Y)"
   ]
  },
  {
   "cell_type": "markdown",
   "metadata": {},
   "source": [
    "## Fit linear model\n",
    "\n",
    "<div class=\"alert alert-block alert-info\"> Problem 1.0 </div>\n",
    "To demonstrate what goes wrong with a linear least squares model, fit the data to a linear regression.\n"
   ]
  },
  {
   "cell_type": "code",
   "execution_count": 8,
   "metadata": {
    "ExecuteTime": {
     "end_time": "2018-10-31T16:42:19.167248Z",
     "start_time": "2018-10-31T16:42:19.136048Z"
    }
   },
   "outputs": [
    {
     "data": {
      "text/plain": [
       "LinearRegression(copy_X=True, fit_intercept=True, n_jobs=1, normalize=False)"
      ]
     },
     "execution_count": 8,
     "metadata": {},
     "output_type": "execute_result"
    }
   ],
   "source": [
    "linear_model=LinearRegression()\n",
    "linear_model.fit(X,Y)"
   ]
  },
  {
   "cell_type": "markdown",
   "metadata": {},
   "source": [
    "\n",
    "<div class=\"alert alert-block alert-info\"> Problem 1.1 </div>\n",
    "Make a line plot of the linear fit over the the test points `x_test`\n",
    "superimposed over the $X,Y$ input data."
   ]
  },
  {
   "cell_type": "code",
   "execution_count": 9,
   "metadata": {
    "ExecuteTime": {
     "end_time": "2018-10-31T16:42:19.167248Z",
     "start_time": "2018-10-31T16:42:19.136048Z"
    }
   },
   "outputs": [],
   "source": [
    "x_test=np.linspace(0,4,201).reshape(-1,1)"
   ]
  },
  {
   "cell_type": "code",
   "execution_count": 10,
   "metadata": {
    "ExecuteTime": {
     "end_time": "2018-10-31T16:42:19.167248Z",
     "start_time": "2018-10-31T16:42:19.136048Z"
    }
   },
   "outputs": [],
   "source": [
    "Y_linear_pred=linear_model.predict(x_test)"
   ]
  },
  {
   "cell_type": "code",
   "execution_count": 11,
   "metadata": {
    "ExecuteTime": {
     "end_time": "2018-10-31T16:42:19.991648Z",
     "start_time": "2018-10-31T16:42:19.852448Z"
    }
   },
   "outputs": [
    {
     "data": {
      "text/plain": [
       "<matplotlib.legend.Legend at 0x7f75a151fa90>"
      ]
     },
     "execution_count": 11,
     "metadata": {},
     "output_type": "execute_result"
    },
    {
     "data": {
      "image/png": "[encoded data removed]",
      "text/plain": [
       "<matplotlib.figure.Figure at 0x7f75a1897630>"
      ]
     },
     "metadata": {},
     "output_type": "display_data"
    }
   ],
   "source": [
    "plt.scatter(X,Y,label=\"data\")\n",
    "plt.plot(x_test,Y_linear_pred,label=\"$\\hat{y}=a+b x$\",linestyle=\"--\",color=\"g\")\n",
    "plt.legend()"
   ]
  },
  {
   "cell_type": "markdown",
   "metadata": {},
   "source": [
    "## Gamma Regression\n",
    "\n",
    "There are specialized (re-weighed least square methods) to solve Generalized linear models, but here we just use the standard `scipy.optimize.minimize` routine to fit a Gamma Regression model to the data."
   ]
  },
  {
   "cell_type": "markdown",
   "metadata": {},
   "source": [
    "### Link Function"
   ]
  },
  {
   "cell_type": "markdown",
   "metadata": {},
   "source": [
    "<div class=\"alert alert-block alert-info\"> Problem 2.1 </div>\n",
    "Using the results you worked out on written homework 5\n",
    "write the function\n",
    "$$\n",
    "    \\hat{y}(x_1;\\alpha,\\theta)\n",
    "$$\n",
    "where $\\theta=(b,w)$\n",
    "\n",
    "and $x_1$ is a 2 dimensional vector  with a first column of ones $x_1=(1,x)$"
   ]
  },
  {
   "cell_type": "code",
   "execution_count": null,
   "metadata": {},
   "outputs": [],
   "source": []
  },
  {
   "cell_type": "markdown",
   "metadata": {},
   "source": [
    "We are assuming\n",
    "$$\n",
    "    p(y|x) = \\frac{\\beta^\\alpha}{\\Gamma(\\alpha)}s^{\\alpha-1}e^{-\\beta s} = \\frac{s^{\\alpha-1}}{\\Gamma(\\alpha)}e^{ -y\\beta +  \\alpha\\log \\beta }\n",
    "$$  \n",
    "were $\\alpha>0$ and $\\beta>0$\n",
    "\n",
    "And a non-canonical log link\n",
    "\n",
    "$$\n",
    "    \\eta(x) = -e^{-b_0 - W_0 x}\n",
    "$$\n",
    "\n",
    "\n",
    "From the above expression, the base measure is\n",
    "$$\n",
    "    h(s)=\\frac{s^{\\alpha-1}}{\\Gamma(\\alpha)}\n",
    "$$\n",
    "\n",
    "the sufficient statistic is\n",
    "$$\n",
    "    T(s)=s\n",
    "$$\n",
    "where the canonical parameter is\n",
    "$$\n",
    "    \\eta= -\\beta\n",
    "$$\n",
    "with the constrain $\\eta<0$.\n",
    "\n",
    "The cumulant function is\n",
    "$$\n",
    "    A(\\eta) = - \\alpha\\log (- \\eta)\n",
    "$$\n",
    "\n",
    "if we assume the log of $\\eta$ is linear on the data $X$ (this is a **log link**)\n",
    "$$\n",
    "    \\eta(x) = -e^{-(b + x^T w)}\n",
    "$$\n",
    "\n",
    "where the minus sign is there for convenience, and does not affect the assumptions.\n",
    "\n",
    "With those assumptions we have a ** Gamma regression model**.\n",
    "\n",
    "The cross entropy loss (negative log likelihood) is (dropping terms that do not depend on $\\eta$)\n",
    "$$\n",
    "    E(b,w;\\{x_i,y_i\\}) = \\frac{1}{N}\\sum_i \\left\\{\\alpha \\left(b +\\sum_d x_{i,d}^T w_d\\right) + y_i e^{b+\\sum_d x_{i,d} w_d }\\right\\} \n",
    "$$\n",
    "this is a *convex* optimization problem that can be solved using `scipy.optimize`, gradient descent, or any other method of our choosing.\n",
    "\n",
    "The expected value is given by\n",
    "$$\n",
    "    \\hat{y}(x;b,w)=\\mathbb{E}(y|x) = A'(\\eta) = \\alpha e^{b+x^T w}\n",
    "$$\n",
    "and\n",
    "$$\n",
    "    \\textrm{Var}(y|x) = \\alpha e^{2(b+x^T w)}\n",
    "$$"
   ]
  },
  {
   "cell_type": "code",
   "execution_count": 12,
   "metadata": {
    "ExecuteTime": {
     "end_time": "2018-10-31T16:42:12.657048Z",
     "start_time": "2018-10-31T16:42:12.625848Z"
    }
   },
   "outputs": [],
   "source": [
    "def beta(theta,X): \n",
    "    eta=-np.exp(-np.dot(X,theta))\n",
    "    return -eta"
   ]
  },
  {
   "cell_type": "code",
   "execution_count": 13,
   "metadata": {
    "ExecuteTime": {
     "end_time": "2018-10-31T16:42:13.176248Z",
     "start_time": "2018-10-31T16:42:13.145048Z"
    }
   },
   "outputs": [],
   "source": [
    "def y_hat(X1,alpha,theta):\n",
    "    return alpha/beta(theta,X1)"
   ]
  },
  {
   "cell_type": "code",
   "execution_count": null,
   "metadata": {},
   "outputs": [],
   "source": [
    "(x1,x2)\n",
    "(2)"
   ]
  },
  {
   "cell_type": "markdown",
   "metadata": {},
   "source": [
    "<div class=\"alert alert-block alert-info\"> Problem 2.2 </div>\n",
    "Using the *true parameters*\n",
    "$$\n",
    "    \\theta_0=(b_0,w_0)\n",
    "$$\n",
    "Superimpose a plot of $\\hat{y}(x,\\alpha,\\theta_0)$ to the plots of the linear fit \n",
    "and the problem data $X,Y$\n"
   ]
  },
  {
   "cell_type": "code",
   "execution_count": 14,
   "metadata": {},
   "outputs": [],
   "source": [
    "x1_test=np.c_[np.ones(len(x_test)),x_test]"
   ]
  },
  {
   "cell_type": "code",
   "execution_count": 15,
   "metadata": {},
   "outputs": [
    {
     "data": {
      "text/plain": [
       "array([  5.        ,   5.1010067 ,   5.20405387,   5.30918273,\n",
       "         5.41643534,   5.52585459,   5.63748426,   5.75136899,\n",
       "         5.86755435,   5.98608682,   6.10701379,   6.23038365,\n",
       "         6.35624575,   6.48465043,   6.61564906,   6.74929404,\n",
       "         6.88563882,   7.02473795,   7.16664707,   7.31142295,\n",
       "         7.45912349,   7.60980778,   7.76353609,   7.92036992,\n",
       "         8.08037201,   8.24360635,   8.41013825,   8.58003431,\n",
       "         8.7533625 ,   8.93019215,   9.110594  ,   9.29464021,\n",
       "         9.4824044 ,   9.67396167,   9.86938866,  10.06876354,\n",
       "        10.27216605,  10.47967757,  10.6913811 ,  10.90736133,\n",
       "        11.12770464,  11.35249919,  11.58183488,  11.81580347,\n",
       "        12.05449853,  12.29801556,  12.54645195,  12.79990709,\n",
       "        13.05848237,  13.32228121,  13.59140914,  13.86597382,\n",
       "        14.14608507,  14.43185495,  14.72339776,  15.02083012,\n",
       "        15.32427102,  15.63384183,  15.94966638,  16.27187101,\n",
       "        16.60058461,  16.93593867,  17.27806732,  17.62710744,\n",
       "        17.98319863,  18.34648334,  18.71710689,  19.09521753,\n",
       "        19.48096651,  19.87450814,  20.27599983,  20.6856022 ,\n",
       "        21.10347908,  21.52979764,  21.9647284 ,  22.40844535,\n",
       "        22.86112598,  23.32295135,  23.79410623,  24.27477906,\n",
       "        24.76516212,  25.26545158,  25.77584756,  26.29655422,\n",
       "        26.82777986,  27.36973696,  27.92264232,  28.48671711,\n",
       "        29.06218697,  29.64928209,  30.24823732,  30.85929225,\n",
       "        31.48269131,  32.11868386,  32.76752431,  33.42947221,\n",
       "        34.10479235,  34.79375485,  35.49663533,  36.21371493,\n",
       "        36.94528049,  37.69162467,  38.45304599,  39.22984905,\n",
       "        40.02234457,  40.83084956,  41.65568744,  42.49718814,\n",
       "        43.35568829,  44.23153129,  45.1250675 ,  46.03665433,\n",
       "        46.96665644,  47.91544583,  48.88340205,  49.87091227,\n",
       "        50.87837153,  51.90618281,  52.95475726,  54.02451432,\n",
       "        55.1158819 ,  56.22929657,  57.36520371,  58.5240577 ,\n",
       "        59.70632209,  60.9124698 ,  62.14298332,  63.39835485,\n",
       "        64.67908658,  65.9856908 ,  67.31869018,  68.67861793,\n",
       "        70.06601804,  71.48144549,  72.92546648,  74.39865862,\n",
       "        75.90161122,  77.43492548,  78.99921474,  80.59510474,\n",
       "        82.22323386,  83.88425336,  85.57882769,  87.30763468,\n",
       "        89.0713659 ,  90.87072685,  92.7064373 ,  94.57923156,\n",
       "        96.48985878,  98.43908322, 100.42768462, 102.45645842,\n",
       "       104.52621618, 106.63778581, 108.79201198, 110.98975641,\n",
       "       113.23189822, 115.51933429, 117.85297965, 120.23376776,\n",
       "       122.66265099, 125.14060091, 127.66860874, 130.24768571,\n",
       "       132.8788635 , 135.5631946 , 138.30175279, 141.09563353,\n",
       "       143.9459544 , 146.85385557, 149.82050024, 152.84707511,\n",
       "       155.93479084, 159.08488257, 162.29861038, 165.57725979,\n",
       "       168.92214232, 172.33459595, 175.81598573, 179.36770424,\n",
       "       182.99117222, 186.68783911, 190.45918363, 194.30671436,\n",
       "       198.23197036, 202.2365218 , 206.32197054, 210.48995082,\n",
       "       214.74212989, 219.08020868, 223.50592247, 228.0210416 ,\n",
       "       232.6273722 , 237.32675684, 242.12107536, 247.01224553,\n",
       "       252.00222389, 257.0930065 , 262.28662975, 267.58517114,\n",
       "       272.99075017])"
      ]
     },
     "execution_count": 15,
     "metadata": {},
     "output_type": "execute_result"
    }
   ],
   "source": [
    "y_true=y_hat(x1_test,alpha,theta0)\n",
    "y_true"
   ]
  },
  {
   "cell_type": "code",
   "execution_count": 16,
   "metadata": {},
   "outputs": [
    {
     "data": {
      "text/plain": [
       "<matplotlib.legend.Legend at 0x7fbeb47b5748>"
      ]
     },
     "execution_count": 16,
     "metadata": {},
     "output_type": "execute_result"
    },
    {
     "data": {
      "image/png": "[encoded data removed]",
      "text/plain": [
       "<matplotlib.figure.Figure at 0x7fbeb4809828>"
      ]
     },
     "metadata": {},
     "output_type": "display_data"
    }
   ],
   "source": [
    "plt.scatter(X,Y,label=\"data\")\n",
    "plt.plot(x_test,Y_linear_pred,label=\"$\\hat{y}=a+b x$\",linestyle=\"--\",color=\"g\")\n",
    "plt.plot(x_test,y_true,label=\"$p(y|x)$\",linestyle=\":\",color=\"orange\")\n",
    "plt.legend()\n",
    "plt.legend()"
   ]
  },
  {
   "cell_type": "markdown",
   "metadata": {},
   "source": [
    "### Loss and Loss Gradient"
   ]
  },
  {
   "cell_type": "markdown",
   "metadata": {},
   "source": [
    "<div class=\"alert alert-block alert-info\"> Problem 3.1 </div>\n",
    "Write the max likelihood loss for the Gamma Regression problem with log link\n",
    "\n",
    "$$\n",
    "E^{\\textrm{log}}_{\\textrm{Gam}}(\\theta;X_1,Y,\\alpha)\n",
    "$$\n",
    "\n",
    "where $X_1$ is a $2\\times N$ matrix and $Y$ is a $N$ vector of input data"
   ]
  },
  {
   "cell_type": "code",
   "execution_count": 17,
   "metadata": {},
   "outputs": [],
   "source": [
    "def GammaError(theta,X1,Y,alpha):\n",
    "    pass"
   ]
  },
  {
   "cell_type": "code",
   "execution_count": 18,
   "metadata": {
    "ExecuteTime": {
     "end_time": "2018-10-31T16:42:42.089048Z",
     "start_time": "2018-10-31T16:42:42.073448Z"
    }
   },
   "outputs": [],
   "source": [
    "def GammaError(theta,X1,Y,alpha):\n",
    "    eta=-np.exp(-np.dot(X1,theta))\n",
    "    loss=-alpha*np.log(-eta)-Y*eta\n",
    "    return loss.mean()"
   ]
  },
  {
   "cell_type": "markdown",
   "metadata": {},
   "source": [
    "<div class=\"alert alert-block alert-info\"> Problem 3.2 </div>\n",
    "Write the gradient max likelihood loss for the Gamma Regression problem with log link\n",
    "\n",
    "$$\n",
    "\\frac{\\partial}{\\partial \\theta_d} E^{\\textrm{log}}_{\\textrm{Gam}}(\\theta;X_1,Y,\\alpha)\n",
    "$$\n"
   ]
  },
  {
   "cell_type": "code",
   "execution_count": 19,
   "metadata": {},
   "outputs": [],
   "source": [
    "def GammaErrorGradient(theta,X1,Y,alpha): \n",
    "    pass"
   ]
  },
  {
   "cell_type": "code",
   "execution_count": 20,
   "metadata": {},
   "outputs": [],
   "source": [
    "def GammaErrorGradient(theta,X1,Y,alpha): \n",
    "    y_e=y_hat(X1,alpha,theta)\n",
    "    dpsi=np.exp(-np.dot(X1,theta))\n",
    "    dloss=(y_e-Y)*dpsi\n",
    "    grad=np.dot(dloss.T,X1)/len(X1)\n",
    "    return grad.ravel()"
   ]
  },
  {
   "cell_type": "markdown",
   "metadata": {},
   "source": [
    "<div class=\"alert alert-block alert-info\"> Problem 3.3 </div>\n",
    "Use the function `scipy.minimize.check_gra` to verify that the gradient function is \n",
    "implemented correctly at the point \n",
    "$$\n",
    "    \\theta_{\\textrm{test}} = (-1,1.5)\n",
    "$$\n"
   ]
  },
  {
   "cell_type": "code",
   "execution_count": 21,
   "metadata": {},
   "outputs": [],
   "source": [
    "theta_test=np.array([-1,1.5])"
   ]
  },
  {
   "cell_type": "code",
   "execution_count": 22,
   "metadata": {},
   "outputs": [
    {
     "data": {
      "text/plain": [
       "2.7453492675473255e-07"
      ]
     },
     "execution_count": 22,
     "metadata": {},
     "output_type": "execute_result"
    }
   ],
   "source": [
    "X1=np.c_[np.ones(len(X)),X]\n",
    "optimize.check_grad(GammaError,GammaErrorGradient,theta_test,X1,Y,alpha)"
   ]
  },
  {
   "cell_type": "code",
   "execution_count": 23,
   "metadata": {},
   "outputs": [],
   "source": [
    "### Optimization"
   ]
  },
  {
   "cell_type": "markdown",
   "metadata": {},
   "source": [
    "<div class=\"alert alert-block alert-info\"> Problem 4.1 </div>\n",
    "Fill in the `fit` and `predict` methods in the class below.\n",
    "\n",
    "Inside the `fit` method:\n",
    "2. Initilize the initial guess for $\\theta$ at random.\n",
    "1. Use `scipy.optimize` with method `bfgs` to find the optimal parameters."
   ]
  },
  {
   "cell_type": "code",
   "execution_count": 24,
   "metadata": {},
   "outputs": [],
   "source": [
    "class GammaRegression:\n",
    "    def __init__(self,alpha):\n",
    "        self.alpha=alpha\n",
    "    def fit(self,X,Y):\n",
    "        pass\n",
    "    def predict(self,X):\n",
    "        pass"
   ]
  },
  {
   "cell_type": "code",
   "execution_count": 25,
   "metadata": {
    "ExecuteTime": {
     "end_time": "2018-10-31T16:42:42.089048Z",
     "start_time": "2018-10-31T16:42:42.073448Z"
    }
   },
   "outputs": [],
   "source": [
    "class GammaRegression:\n",
    "    def __init__(self,alpha):\n",
    "            self.alpha=alpha\n",
    "    def fit(self,X,Y):\n",
    "        X1=np.c_[np.ones(len(X)),X]\n",
    "        N,D=X1.shape\n",
    "        theta0=np.random.normal(0,1,D)\n",
    "        fit=optimize.minimize(GammaError,theta0,jac=GammaErrorGradient,args=(X1,Y,self.alpha),method=\"bfgs\")\n",
    "        #print(fit)\n",
    "        self.theta=fit.x\n",
    "        return self\n",
    "    def predict(self,X):\n",
    "        X1=np.c_[np.ones(len(X)),X]\n",
    "        return y_hat(X1,self.alpha,self.theta)"
   ]
  },
  {
   "cell_type": "markdown",
   "metadata": {},
   "source": [
    "<div class=\"alert alert-block alert-info\"> Problem 4.1 </div>\n",
    "Fit the model to  the `X`, `Y` data.\n",
    "\n",
    "What are the fitter parameters?"
   ]
  },
  {
   "cell_type": "code",
   "execution_count": 26,
   "metadata": {
    "ExecuteTime": {
     "end_time": "2018-10-31T16:54:51.842248Z",
     "start_time": "2018-10-31T16:54:51.826648Z"
    },
    "scrolled": true
   },
   "outputs": [
    {
     "data": {
      "text/plain": [
       "array([0.00271211, 0.98051382])"
      ]
     },
     "execution_count": 26,
     "metadata": {},
     "output_type": "execute_result"
    }
   ],
   "source": [
    "model=GammaRegression(alpha=alpha)\n",
    "model.fit(X,Y)\n",
    "Yg_pred=model.predict(x_test)\n",
    "model.theta"
   ]
  },
  {
   "cell_type": "markdown",
   "metadata": {},
   "source": [
    "The Gamma model fits the data much better"
   ]
  },
  {
   "cell_type": "markdown",
   "metadata": {},
   "source": [
    "<div class=\"alert alert-block alert-info\"> Problem 4.2 </div>\n",
    "Superimpose plots of\n",
    "1. fitted model predictions for `x_test`\n",
    "2. $\\hat{y}(x_test,\\alpha,\\theta_0)$ for the true model\n",
    "3. The linear model fit \n",
    "4. The problem data $X,Y$\n"
   ]
  },
  {
   "cell_type": "code",
   "execution_count": 27,
   "metadata": {},
   "outputs": [],
   "source": [
    "y_pred=model.predict(x_test)"
   ]
  },
  {
   "cell_type": "code",
   "execution_count": 28,
   "metadata": {
    "ExecuteTime": {
     "end_time": "2018-10-31T16:54:54.375248Z",
     "start_time": "2018-10-31T16:54:54.119248Z"
    },
    "scrolled": true
   },
   "outputs": [
    {
     "data": {
      "text/plain": [
       "Text(0,0.5,'Y')"
      ]
     },
     "execution_count": 28,
     "metadata": {},
     "output_type": "execute_result"
    },
    {
     "data": {
      "image/png": "[encoded data removed]",
      "text/plain": [
       "<matplotlib.figure.Figure at 0x7fbeb481c2e8>"
      ]
     },
     "metadata": {},
     "output_type": "display_data"
    }
   ],
   "source": [
    "plt.scatter(X,Y,label=\"data\")\n",
    "plt.plot(x_test,Y_linear_pred,label=\"$\\hat{y}=a+b x$\",linestyle=\"--\",color=\"g\")\n",
    "plt.plot(x_test,y_true,label=\"$p(y|x)$\",linestyle=\":\",color=\"orange\")\n",
    "plt.plot(x_test,y_true,label=\"$Gamma\",linestyle=\"-\",color=\"red\")\n",
    "plt.legend()\n",
    "plt.xlabel(\"X\")\n",
    "plt.ylabel(\"Y\")"
   ]
  },
  {
   "cell_type": "markdown",
   "metadata": {},
   "source": [
    "## Dependence on $\\alpha$"
   ]
  },
  {
   "cell_type": "markdown",
   "metadata": {},
   "source": [
    "Keeping $X$ and $Y$ Fixed"
   ]
  },
  {
   "cell_type": "markdown",
   "metadata": {},
   "source": [
    "<div class=\"alert alert-block alert-info\"> Problem 5.1 </div>\n",
    "How do the fitted parameters $\\hat{b}$ and $\\hat{w}$ depend on the parameter $\\alpha$ used for fitting?"
   ]
  },
  {
   "cell_type": "code",
   "execution_count": 29,
   "metadata": {},
   "outputs": [
    {
     "data": {
      "text/plain": [
       "array([0.00271272, 0.98051345])"
      ]
     },
     "execution_count": 29,
     "metadata": {},
     "output_type": "execute_result"
    }
   ],
   "source": [
    "model=GammaRegression(alpha=alpha)\n",
    "model.fit(X,Y)\n",
    "model.theta"
   ]
  },
  {
   "cell_type": "code",
   "execution_count": 30,
   "metadata": {},
   "outputs": [
    {
     "data": {
      "text/plain": [
       "array([-0.99728752,  0.98051354])"
      ]
     },
     "execution_count": 30,
     "metadata": {},
     "output_type": "execute_result"
    }
   ],
   "source": [
    "model=GammaRegression(alpha=alpha*np.exp(1))\n",
    "model.fit(X,Y)\n",
    "model.theta"
   ]
  },
  {
   "cell_type": "code",
   "execution_count": 31,
   "metadata": {},
   "outputs": [
    {
     "data": {
      "text/plain": [
       "array([-1.99728761,  0.9805136 ])"
      ]
     },
     "execution_count": 31,
     "metadata": {},
     "output_type": "execute_result"
    }
   ],
   "source": [
    "model=GammaRegression(alpha=alpha*np.exp(2))\n",
    "model.fit(X,Y)\n",
    "model.theta"
   ]
  },
  {
   "cell_type": "code",
   "execution_count": 32,
   "metadata": {},
   "outputs": [
    {
     "data": {
      "text/plain": [
       "array([2.00269871, 0.98051943])"
      ]
     },
     "execution_count": 32,
     "metadata": {},
     "output_type": "execute_result"
    }
   ],
   "source": [
    "model=GammaRegression(alpha=alpha*np.exp(-2))\n",
    "model.fit(X,Y)\n",
    "model.theta"
   ]
  },
  {
   "cell_type": "markdown",
   "metadata": {},
   "source": [
    "$$\n",
    "\\hat{b}= \\hat{b}_0 - \\log(\\frac{\\alpha}{\\alpha_0})\n",
    "$$\n",
    "\n",
    "$w$ does not change"
   ]
  },
  {
   "cell_type": "markdown",
   "metadata": {},
   "source": [
    "<div class=\"alert alert-block alert-info\"> Problem 5.1 </div>\n",
    "How do the fitted predicted levels of $Y$ depend the parameter $\\alpha$ used for fitting?"
   ]
  },
  {
   "cell_type": "code",
   "execution_count": 33,
   "metadata": {},
   "outputs": [],
   "source": [
    "model0=GammaRegression(alpha=alpha)\n",
    "model0.fit(X,Y)\n",
    "Y0_pred=model0.predict(x_test)"
   ]
  },
  {
   "cell_type": "code",
   "execution_count": 34,
   "metadata": {},
   "outputs": [],
   "source": [
    "model=GammaRegression(alpha=alpha*np.exp(1))\n",
    "model.fit(X,Y)\n",
    "Y_pred=model.predict(x_test)"
   ]
  },
  {
   "cell_type": "code",
   "execution_count": 35,
   "metadata": {},
   "outputs": [
    {
     "data": {
      "text/plain": [
       "1.0245998891848619e-08"
      ]
     },
     "execution_count": 35,
     "metadata": {},
     "output_type": "execute_result"
    }
   ],
   "source": [
    "np.mean((Y_pred-Y0_pred)**2)"
   ]
  },
  {
   "cell_type": "markdown",
   "metadata": {},
   "source": [
    "The predictions are identical"
   ]
  },
  {
   "cell_type": "markdown",
   "metadata": {},
   "source": [
    "<div class=\"alert alert-block alert-info\"> Problem 5.2 </div>\n",
    "Can you explain why this happens based on the expression for $E^{\\textrm{log}}_{\\textrm{Gam}}$ that\n",
    "you worked out in the written homework?"
   ]
  },
  {
   "cell_type": "code",
   "execution_count": null,
   "metadata": {},
   "outputs": [],
   "source": []
  }
 ],
 "metadata": {
  "kernelspec": {
   "display_name": "Python 3",
   "language": "python",
   "name": "python3"
  },
  "language_info": {
   "codemirror_mode": {
    "name": "ipython",
    "version": 3
   },
   "file_extension": ".py",
   "mimetype": "text/x-python",
   "name": "python",
   "nbconvert_exporter": "python",
   "pygments_lexer": "ipython3",
   "version": "3.6.4"
  },
  "toc": {
   "base_numbering": 1,
   "nav_menu": {},
   "number_sections": true,
   "sideBar": true,
   "skip_h1_title": true,
   "title_cell": "Table of Contents",
   "title_sidebar": "Contents",
   "toc_cell": false,
   "toc_position": {},
   "toc_section_display": true,
   "toc_window_display": true
  }
 },
 "nbformat": 4,
 "nbformat_minor": 2
}

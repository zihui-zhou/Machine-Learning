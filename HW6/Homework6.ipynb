{
 "cells": [
  {
   "cell_type": "markdown",
   "metadata": {},
   "source": [
    "# Homework 6"
   ]
  },
  {
   "cell_type": "markdown",
   "metadata": {},
   "source": [
    "In this homework we will\n",
    "1. Use `sklearn`'s **`SVC`** class to perform non-linear SVM classification \n",
    "2. Use `sklearn`'s `cross_val_score` and `GridSearchCV` functions to perform cross validation and hyper-parameter tunning.\n",
    "3. Reconstruct the classification boundary given  `sklearn`  provide support vectors. \n"
   ]
  },
  {
   "cell_type": "markdown",
   "metadata": {},
   "source": [
    "## Preliminaries"
   ]
  },
  {
   "cell_type": "markdown",
   "metadata": {
    "ExecuteTime": {
     "end_time": "2018-04-02T20:39:32.695907Z",
     "start_time": "2018-04-02T20:39:32.692907Z"
    }
   },
   "source": [
    "### Imports"
   ]
  },
  {
   "cell_type": "markdown",
   "metadata": {
    "ExecuteTime": {
     "end_time": "2018-04-02T20:38:41.094907Z",
     "start_time": "2018-04-02T20:38:41.087907Z"
    }
   },
   "source": [
    "<div class=\"alert alert-block alert-info\"> Problem 0 </div>\n",
    "This time you will need to **add any other necessary  import statements** yourself."
   ]
  },
  {
   "cell_type": "code",
   "execution_count": 198,
   "metadata": {
    "ExecuteTime": {
     "end_time": "2018-04-06T10:38:12.456826Z",
     "start_time": "2018-04-06T10:38:12.427749Z"
    },
    "collapsed": true
   },
   "outputs": [],
   "source": [
    "import numpy as np\n",
    "import matplotlib.pyplot as plt\n",
    "\n",
    "\n",
    "%matplotlib inline\n",
    "\n",
    "import sys\n",
    "sys.path.append(\"../..\")\n",
    "import E4525_ML.samples as samples"
   ]
  },
  {
   "cell_type": "markdown",
   "metadata": {},
   "source": [
    "### Random Seed"
   ]
  },
  {
   "cell_type": "code",
   "execution_count": 199,
   "metadata": {
    "ExecuteTime": {
     "end_time": "2018-04-06T10:38:17.514269Z",
     "start_time": "2018-04-06T10:38:17.510258Z"
    },
    "collapsed": true
   },
   "outputs": [],
   "source": [
    "seed=4543\n",
    "np.random.seed(seed)"
   ]
  },
  {
   "cell_type": "markdown",
   "metadata": {
    "ExecuteTime": {
     "end_time": "2018-04-02T20:40:09.742907Z",
     "start_time": "2018-04-02T20:40:09.739907Z"
    }
   },
   "source": [
    "### Sample Data Generation"
   ]
  },
  {
   "cell_type": "code",
   "execution_count": 200,
   "metadata": {
    "ExecuteTime": {
     "end_time": "2018-04-06T10:38:19.251888Z",
     "start_time": "2018-04-06T10:38:19.245871Z"
    },
    "collapsed": true
   },
   "outputs": [],
   "source": [
    "N=40\n",
    "X,Y=samples.ellipsoid(N//2)\n",
    "X_test,Y_test=samples.ellipsoid(N//2)"
   ]
  },
  {
   "cell_type": "code",
   "execution_count": 201,
   "metadata": {
    "ExecuteTime": {
     "end_time": "2018-04-06T10:38:20.328748Z",
     "start_time": "2018-04-06T10:38:20.066050Z"
    }
   },
   "outputs": [
    {
     "data": {
      "text/plain": [
       "<matplotlib.collections.PathCollection at 0x23ee13e9240>"
      ]
     },
     "execution_count": 201,
     "metadata": {},
     "output_type": "execute_result"
    },
    {
     "data": {
      "image/png": "[encoded data removed]",
      "text/plain": [
       "<matplotlib.figure.Figure at 0x23ee1358400>"
      ]
     },
     "metadata": {},
     "output_type": "display_data"
    }
   ],
   "source": [
    "plt.scatter(X[:,0],X[:,1],c=Y, s=40, cmap=plt.cm.Spectral)"
   ]
  },
  {
   "cell_type": "markdown",
   "metadata": {},
   "source": [
    "## Polinomial features"
   ]
  },
  {
   "cell_type": "markdown",
   "metadata": {
    "ExecuteTime": {
     "end_time": "2018-04-02T20:43:13.079907Z",
     "start_time": "2018-04-02T20:43:13.070907Z"
    }
   },
   "source": [
    "<div class=\"alert alert-block alert-info\"> Problem 1.0 </div>\n",
    "Greate a function **`phi`**, that, given input $ N\\times 2$ array $X$ generates  $N \\times 5$ array $Z$\n",
    "with all monomials in $X$ at to second order, i.e. with the  columns\n",
    "\n",
    "$$\n",
    "        X_1, X_2, X_1^2, X_1 X_2, X_2^2\n",
    "$$\n"
   ]
  },
  {
   "cell_type": "code",
   "execution_count": 81,
   "metadata": {
    "ExecuteTime": {
     "end_time": "2018-04-03T09:14:49.648330Z",
     "start_time": "2018-04-03T09:14:49.643316Z"
    },
    "collapsed": true
   },
   "outputs": [],
   "source": []
  },
  {
   "cell_type": "markdown",
   "metadata": {},
   "source": [
    "<div class=\"alert alert-block alert-info\"> Problem 1.1 </div>\n",
    "Generate feature arrays `Z` and `Z_test` with all monomial at to second order for the training data `X` and the test data `X_test` "
   ]
  },
  {
   "cell_type": "code",
   "execution_count": 82,
   "metadata": {
    "ExecuteTime": {
     "end_time": "2018-04-03T09:14:51.382939Z",
     "start_time": "2018-04-03T09:14:51.377928Z"
    }
   },
   "outputs": [
    {
     "data": {
      "text/plain": [
       "((40, 5), (40, 5))"
      ]
     },
     "execution_count": 82,
     "metadata": {},
     "output_type": "execute_result"
    }
   ],
   "source": []
  },
  {
   "cell_type": "markdown",
   "metadata": {},
   "source": [
    "## Linear SVM"
   ]
  },
  {
   "cell_type": "markdown",
   "metadata": {},
   "source": [
    "<div class=\"alert alert-block alert-info\"> Problem 2.0 </div>\n",
    "using `sklearn`'s  function `model_validation.cross_val_score` and `sklearn`'s `svm.SVC` estimator (classifier) compute the average 10-Fold cross validation error of a **linear** svm model fitted to the transformed feature data `Z`.\n",
    "\n",
    "[HINT] You need to import any `sklearn` modules or functions you want use."
   ]
  },
  {
   "cell_type": "code",
   "execution_count": 84,
   "metadata": {
    "ExecuteTime": {
     "end_time": "2018-04-03T09:14:54.983509Z",
     "start_time": "2018-04-03T09:14:54.958445Z"
    }
   },
   "outputs": [
    {
     "data": {
      "text/plain": [
       "0.90000000000000002"
      ]
     },
     "execution_count": 84,
     "metadata": {},
     "output_type": "execute_result"
    }
   ],
   "source": []
  },
  {
   "cell_type": "markdown",
   "metadata": {},
   "source": [
    "<div class=\"alert alert-block alert-info\"> Problem 2.1 </div>\n",
    "fit the SVC estimator to the transformed training data `Z`.\n",
    "After fitting the model, compute the number of support vectors\n",
    "\n",
    "[HINT] After fitting, Support vectors are stored into the model's variable `support_vectors_`.\n",
    "\n",
    "Look into [SVC documentation](http://scikit-learn.org/stable/modules/generated/sklearn.svm.SVC.html), specially the **Attributes** section  for information on available results returned by the classifier."
   ]
  },
  {
   "cell_type": "code",
   "execution_count": 85,
   "metadata": {
    "ExecuteTime": {
     "end_time": "2018-04-03T09:15:02.583707Z",
     "start_time": "2018-04-03T09:15:02.578693Z"
    }
   },
   "outputs": [
    {
     "data": {
      "text/plain": [
       "8"
      ]
     },
     "execution_count": 85,
     "metadata": {},
     "output_type": "execute_result"
    }
   ],
   "source": []
  },
  {
   "cell_type": "markdown",
   "metadata": {},
   "source": [
    "<div class=\"alert alert-block alert-info\"> Problem 2.2 </div>\n",
    "Show that the fitted estimator contains a variable `C` with the value of $C$ it was initialized with "
   ]
  },
  {
   "cell_type": "code",
   "execution_count": 86,
   "metadata": {
    "ExecuteTime": {
     "end_time": "2018-04-03T09:15:05.051266Z",
     "start_time": "2018-04-03T09:15:05.047255Z"
    }
   },
   "outputs": [
    {
     "data": {
      "text/plain": [
       "1.0"
      ]
     },
     "execution_count": 86,
     "metadata": {},
     "output_type": "execute_result"
    }
   ],
   "source": []
  },
  {
   "cell_type": "markdown",
   "metadata": {
    "collapsed": true
   },
   "source": [
    "<div class=\"alert alert-block alert-info\"> Problem 2.3 </div>\n",
    "Using the function [`model_selection.GridSearchCV`](http://scikit-learn.org/stable/modules/generated/sklearn.model_selection.GridSearchCV.html#sklearn.model_selection.GridSearchCV)\n",
    "select by 10-fold cross validation the optimal value of C to use while fitting a  SVC linear model with the transformed training data `Z`.\n",
    "\n",
    "Display clearly the optimal value of C, and the number of support vectors of the best model\n",
    "\n",
    "[HINT] \n",
    "\n",
    "1. Read the  [`model_selection.GridSearchCV` ](http://scikit-learn.org/stable/modules/generated/sklearn.model_selection.GridSearchCV.html#sklearn.model_selection.GridSearchCV)        documentation carefully\n",
    "2. Parameters to search over are passed in the `parameters`'s  **dictionary**   argument of `GridSearchCV`\n",
    "3. The number of folds is controled by the argument  `cv`\n",
    "4. Consider only the values of $C$ provided below\n",
    "5. The GridSearchCV object, after fitting, contains a variable **`best_estimator_`** with the best calibrated model. You can get \n",
    "   from the best estimator $C$ and the array of support vectors."
   ]
  },
  {
   "cell_type": "code",
   "execution_count": 87,
   "metadata": {
    "ExecuteTime": {
     "end_time": "2018-04-03T09:15:11.521461Z",
     "start_time": "2018-04-03T09:15:11.518453Z"
    },
    "collapsed": true
   },
   "outputs": [],
   "source": [
    "Cs=[0.001,0.01,0.1,1,10,100,1000,10000]"
   ]
  },
  {
   "cell_type": "code",
   "execution_count": 88,
   "metadata": {
    "ExecuteTime": {
     "end_time": "2018-04-03T09:15:11.874399Z",
     "start_time": "2018-04-03T09:15:11.871391Z"
    },
    "collapsed": true
   },
   "outputs": [],
   "source": []
  },
  {
   "cell_type": "markdown",
   "metadata": {
    "ExecuteTime": {
     "end_time": "2018-04-03T10:02:08.481555Z",
     "start_time": "2018-04-03T10:02:08.476540Z"
    }
   },
   "source": [
    "<div class=\"alert alert-block alert-info\"> Problem 2.4 </div>\n",
    "Compute the 10-fold cross validation accuracy of the best estimator using `sklearn` `cross_val_score` function"
   ]
  },
  {
   "cell_type": "code",
   "execution_count": 94,
   "metadata": {
    "ExecuteTime": {
     "end_time": "2018-04-03T09:15:19.218917Z",
     "start_time": "2018-04-03T09:15:19.193852Z"
    }
   },
   "outputs": [
    {
     "data": {
      "text/plain": [
       "0.94999999999999996"
      ]
     },
     "execution_count": 94,
     "metadata": {},
     "output_type": "execute_result"
    }
   ],
   "source": []
  },
  {
   "cell_type": "markdown",
   "metadata": {},
   "source": [
    "<div class=\"alert alert-block alert-info\"> Problem 2.5 </div>\n",
    "Show the class Y for each support vector\n",
    "\n",
    "[HINT] after fitting the estimator  contains an boolean array `support_` that is set true for the index of data points that are support vectors"
   ]
  },
  {
   "cell_type": "code",
   "execution_count": null,
   "metadata": {
    "ExecuteTime": {
     "end_time": "2018-04-03T09:15:28.030337Z",
     "start_time": "2018-04-03T09:15:28.024321Z"
    }
   },
   "outputs": [],
   "source": []
  },
  {
   "cell_type": "markdown",
   "metadata": {
    "ExecuteTime": {
     "end_time": "2018-04-03T10:09:41.669967Z",
     "start_time": "2018-04-03T10:09:41.663950Z"
    }
   },
   "source": [
    "<div class=\"alert alert-block alert-info\"> Problem 2.6 </div>\n",
    "Show that\n",
    "$$\n",
    "    \\sum_i \\alpha_i y_i =0\n",
    "$$\n",
    "where $y_i=-1$ for the negative class and $y_i=+1$ for the positive class\n",
    "[HINT] \n",
    "1. Our input classes are y={0,1}, but `SVC` internally treats them as if they were y=(-1,1)\n",
    "2. The fitted estimator contains an array **`dual_coef_`** that contains the values of $\\alpha_i y_i$\n",
    "3. `dual_coef_` is a $1 x N$ array, it may be easier for the rest of this notebook to turn in into a $N$ array by using\n",
    "    `ravel()` method.\n"
   ]
  },
  {
   "cell_type": "code",
   "execution_count": 96,
   "metadata": {
    "ExecuteTime": {
     "end_time": "2018-04-03T09:15:32.466124Z",
     "start_time": "2018-04-03T09:15:32.455095Z"
    }
   },
   "outputs": [
    {
     "data": {
      "text/plain": [
       "array([-0.0745366 , -0.03340815, -0.1       , -0.09613701, -0.02785635,\n",
       "        0.03193811,  0.1       ,  0.1       ,  0.1       ])"
      ]
     },
     "execution_count": 96,
     "metadata": {},
     "output_type": "execute_result"
    }
   ],
   "source": []
  },
  {
   "cell_type": "markdown",
   "metadata": {
    "ExecuteTime": {
     "end_time": "2018-04-03T10:16:07.567731Z",
     "start_time": "2018-04-03T10:16:07.559709Z"
    }
   },
   "source": [
    "<div class=\"alert alert-block alert-info\"> Problem 2.7 </div>\n",
    "Show wich support vectors are in violation of the margin\n",
    "\n",
    "[HINT]\n",
    "Remember that support vectors in violation of the marging satisfy\n",
    "$$\n",
    "    \\alpha_i = C\n",
    "$$\n",
    "But that `SVC` returned \n",
    "\n",
    "$$\n",
    "    \\textrm{dual_coef}_i = \\alpha_i y_i\n",
    "$$"
   ]
  },
  {
   "cell_type": "code",
   "execution_count": 97,
   "metadata": {
    "ExecuteTime": {
     "end_time": "2018-04-03T09:15:34.758215Z",
     "start_time": "2018-04-03T09:15:34.752200Z"
    }
   },
   "outputs": [
    {
     "name": "stdout",
     "output_type": "stream",
     "text": [
      "[False False  True False False False  True  True  True]\n"
     ]
    }
   ],
   "source": []
  },
  {
   "cell_type": "markdown",
   "metadata": {
    "ExecuteTime": {
     "end_time": "2018-04-03T10:18:52.672521Z",
     "start_time": "2018-04-03T10:18:52.666505Z"
    }
   },
   "source": [
    "<div class=\"alert alert-block alert-info\"> Problem 2.8 </div>\n",
    "Using equation\n",
    "$$\n",
    "    w_d = \\sum_i \\alpha_i y_i x_{i,d}\n",
    "$$\n",
    "compute the vector of loadings $w$"
   ]
  },
  {
   "cell_type": "code",
   "execution_count": null,
   "metadata": {
    "ExecuteTime": {
     "end_time": "2018-04-03T09:15:39.007508Z",
     "start_time": "2018-04-03T09:15:39.001493Z"
    }
   },
   "outputs": [],
   "source": []
  },
  {
   "cell_type": "markdown",
   "metadata": {
    "ExecuteTime": {
     "end_time": "2018-04-03T10:20:51.574518Z",
     "start_time": "2018-04-03T10:20:51.568503Z"
    }
   },
   "source": [
    "<div class=\"alert alert-block alert-info\"> Problem 2.9 </div>\n",
    "Select a support vector not in violation of the margin and use the equation\n",
    "\n",
    "$$\n",
    "    y_i(w^T x + b) =1\n",
    "$$\n",
    "to compute $b$"
   ]
  },
  {
   "cell_type": "code",
   "execution_count": 101,
   "metadata": {
    "ExecuteTime": {
     "end_time": "2018-04-03T09:15:43.510475Z",
     "start_time": "2018-04-03T09:15:43.505462Z"
    }
   },
   "outputs": [
    {
     "data": {
      "text/plain": [
       "array([  4.71747825,   4.93114745,  22.25460101,  23.26258084,  24.3162152 ])"
      ]
     },
     "execution_count": 101,
     "metadata": {},
     "output_type": "execute_result"
    }
   ],
   "source": []
  },
  {
   "cell_type": "markdown",
   "metadata": {},
   "source": [
    "<div class=\"alert alert-block alert-info\"> Problem 2.10 </div>\n",
    "Write a prediction function that classifies poinst as having class $y=0$ or $y=1$ in terms of $w$ and $b$\n",
    "\n",
    "Use this class to classify all points in the training set and verify that the accuracy of your function is exactly the same as  the\n",
    "accuracy of the `predict` method of the best estimator."
   ]
  },
  {
   "cell_type": "code",
   "execution_count": 105,
   "metadata": {
    "ExecuteTime": {
     "end_time": "2018-04-03T09:15:57.863622Z",
     "start_time": "2018-04-03T09:15:57.859611Z"
    },
    "collapsed": true
   },
   "outputs": [],
   "source": []
  },
  {
   "cell_type": "markdown",
   "metadata": {
    "collapsed": true
   },
   "source": [
    "## Polinomial Kernel"
   ]
  },
  {
   "cell_type": "markdown",
   "metadata": {},
   "source": [
    "<div class=\"alert alert-block alert-info\"> Problem 3.1 </div>\n",
    "using sklearn's function model_validation.cross_val_score and sklearn's svm.SVC estimator (classifier) compute the average 10-Fold cross validation error of a linear svm model to the **polinomial** kernel and the **untransformed** training data $X$,$Y.\n",
    "\n",
    "Set the polinomial kernel to be\n",
    "$$\n",
    "    K(x,x') = (1 + x^T x')^2\n",
    "$$\n",
    "\n",
    "[HINT] \n",
    "1. `SVC` implement the following parametrization of the polynomial kernel\n",
    "$$\n",
    "    K(x,x') = ( c + \\gamma x^T x')^d\n",
    "$$\n",
    "where $c$ is the parameter `coef0` of `SVC`'s constructor and $\\gamma$ is the `gamma` parameter, and $d$ is the `degree` parameter.\n",
    "\n",
    "2. You may want to review again the [SVC documentation](http://scikit-learn.org/stable/modules/generated/sklearn.svm.SVC.html) "
   ]
  },
  {
   "cell_type": "code",
   "execution_count": 166,
   "metadata": {
    "ExecuteTime": {
     "end_time": "2018-04-03T10:41:21.745872Z",
     "start_time": "2018-04-03T10:41:21.742864Z"
    },
    "collapsed": true
   },
   "outputs": [],
   "source": []
  },
  {
   "cell_type": "markdown",
   "metadata": {
    "ExecuteTime": {
     "end_time": "2018-04-03T10:34:28.640987Z",
     "start_time": "2018-04-03T10:34:28.630960Z"
    }
   },
   "source": [
    "<div class=\"alert alert-block alert-info\"> Problem 3.2 </div>\n",
    "Using the function [`model_selection.GridSearchCV`](http://scikit-learn.org/stable/modules/generated/sklearn.model_selection.GridSearchCV.html#sklearn.model_selection.GridSearchCV)\n",
    "select by 10-fold cross validation the optimal values of $C$ and $\\gamma$ to use while fitting a  SVC polynomial kernel with the untransformed training data `X`. Keep the constant $c$ (`coef0`) fixed at 1.\n",
    "\n",
    "Display clearly the optimal values of $C$ and $\\gamma$, and the number of support vectors of the best model\n",
    "\n",
    "[HINT] \n",
    "\n",
    "1. Read the  [`model_selection.GridSearchCV` ](http://scikit-learn.org/stable/modules/generated/sklearn.model_selection.GridSearchCV.html#sklearn.model_selection.GridSearchCV)        documentation carefully\n",
    "2. Parameters to search over are passed in the `parameters`'s  **dictionary**   argument of `GridSearchCV`\n",
    "3. The number of folds is controled by the argument  `cv`\n",
    "4. Consider only the values of $C$ and $\\gamma$ provided below\n",
    "5. The GridSearchCV object, after fitting, contains a variable **`best_estimator_`** with the best calibrated model. You can get \n",
    "   from the values of best estimator's $C$  and $\\gamma$ parameters and the array of support vectors.\n",
    "6. As the search may be a bit time consuming, it may be useful so set the `GridSearchCV` verbose parameter so that you can see if the search is making progress."
   ]
  },
  {
   "cell_type": "code",
   "execution_count": 168,
   "metadata": {
    "ExecuteTime": {
     "end_time": "2018-04-03T10:41:24.351797Z",
     "start_time": "2018-04-03T10:41:24.347788Z"
    },
    "collapsed": true
   },
   "outputs": [],
   "source": [
    "Cs=[0.001,0.01,0.1,1,10,100]\n",
    "gammas=[0.01,0.1,1,10,100]"
   ]
  },
  {
   "cell_type": "code",
   "execution_count": 169,
   "metadata": {
    "ExecuteTime": {
     "end_time": "2018-04-03T10:41:25.340425Z",
     "start_time": "2018-04-03T10:41:25.337417Z"
    },
    "collapsed": true
   },
   "outputs": [],
   "source": []
  },
  {
   "cell_type": "markdown",
   "metadata": {
    "ExecuteTime": {
     "end_time": "2018-04-03T09:19:12.901242Z",
     "start_time": "2018-04-03T09:19:12.862139Z"
    },
    "collapsed": true
   },
   "source": [
    "<div class=\"alert alert-block alert-info\"> Problem 3.3 </div>\n",
    "Show the class Y for each support vector\n",
    "\n",
    "[HINT] after fitting the estimator  contains an boolean array `support_` that is set true for the index of data points that are support vectors"
   ]
  },
  {
   "cell_type": "code",
   "execution_count": 124,
   "metadata": {
    "ExecuteTime": {
     "end_time": "2018-04-03T09:19:12.928316Z",
     "start_time": "2018-04-03T09:19:12.907258Z"
    },
    "collapsed": true
   },
   "outputs": [],
   "source": []
  },
  {
   "cell_type": "markdown",
   "metadata": {
    "ExecuteTime": {
     "end_time": "2018-04-06T10:46:04.857000Z",
     "start_time": "2018-04-06T10:46:04.850985Z"
    }
   },
   "source": [
    "<div class=\"alert alert-block alert-info\"> Problem 3.4 </div>\n",
    "Show that\n",
    "$$\n",
    "    \\sum_i \\alpha_i y_i =0\n",
    "$$\n",
    "where $y_i=-1$ for the negative class and $y_i=+1$ for the positive class\n"
   ]
  },
  {
   "cell_type": "code",
   "execution_count": 126,
   "metadata": {
    "ExecuteTime": {
     "end_time": "2018-04-03T09:19:12.979450Z",
     "start_time": "2018-04-03T09:19:12.951375Z"
    }
   },
   "outputs": [
    {
     "data": {
      "text/plain": [
       "(40,)"
      ]
     },
     "execution_count": 126,
     "metadata": {},
     "output_type": "execute_result"
    }
   ],
   "source": []
  },
  {
   "cell_type": "markdown",
   "metadata": {
    "ExecuteTime": {
     "end_time": "2018-04-06T10:46:50.498374Z",
     "start_time": "2018-04-06T10:46:50.491356Z"
    }
   },
   "source": [
    "<div class=\"alert alert-block alert-info\"> Problem 3.5 </div>\n",
    "Show which support vectors are in violation of the margin\n"
   ]
  },
  {
   "cell_type": "code",
   "execution_count": null,
   "metadata": {
    "ExecuteTime": {
     "end_time": "2018-04-03T09:19:13.047634Z",
     "start_time": "2018-04-03T09:19:13.016550Z"
    },
    "collapsed": true
   },
   "outputs": [],
   "source": []
  },
  {
   "cell_type": "markdown",
   "metadata": {
    "ExecuteTime": {
     "end_time": "2018-04-03T09:19:13.070693Z",
     "start_time": "2018-04-03T09:19:13.051643Z"
    }
   },
   "source": [
    "<div class=\"alert alert-block alert-info\"> Problem 3.6 </div>\n",
    "Write a function that, give two matrices $X_{i,d}$, $X'_{j,d}$ for $i=1,\\dots,N_1$, $j=1,\\dots,N_2$ and $d=1,\\dots D$\n",
    "computes the kernel products\n",
    "$$\n",
    "    K_{i,j} = \\textrm{kernel}(X_i,X'_j)\n",
    "$$\n",
    "where 'kernel' is the optimal kernel you found by cross-validation"
   ]
  },
  {
   "cell_type": "code",
   "execution_count": 130,
   "metadata": {
    "ExecuteTime": {
     "end_time": "2018-04-03T09:19:13.090746Z",
     "start_time": "2018-04-03T09:19:13.076708Z"
    }
   },
   "outputs": [
    {
     "data": {
      "text/plain": [
       "0.97499999999999998"
      ]
     },
     "execution_count": 130,
     "metadata": {},
     "output_type": "execute_result"
    }
   ],
   "source": []
  },
  {
   "cell_type": "markdown",
   "metadata": {
    "ExecuteTime": {
     "end_time": "2018-04-03T09:19:13.401572Z",
     "start_time": "2018-04-03T09:19:13.092751Z"
    }
   },
   "source": [
    "<div class=\"alert alert-block alert-info\"> Problem 3.7 </div>\n",
    "Write a prediction function that classifies points as having class $y=0$ or $y=1$ in terms of $\\alpha$, $b$, and the support vectors, using equation\n",
    "\n",
    "$$\n",
    "  y(x) =  \\frac{\\textrm{sign}( \\sum_i \\alpha_i y_i K(x,x_i) + b ) + 1}{2}\n",
    "$$\n",
    "\n",
    "Use this class to classify all points in the training set and verify that the accuracy of your function is exactly the same as  the\n",
    "accuracy of the `predict` method of the best estimator."
   ]
  },
  {
   "cell_type": "code",
   "execution_count": 132,
   "metadata": {
    "ExecuteTime": {
     "end_time": "2018-04-03T09:19:13.409593Z",
     "start_time": "2018-04-03T09:19:13.403577Z"
    }
   },
   "outputs": [
    {
     "data": {
      "text/plain": [
       "0.875"
      ]
     },
     "execution_count": 132,
     "metadata": {},
     "output_type": "execute_result"
    }
   ],
   "source": []
  },
  {
   "cell_type": "markdown",
   "metadata": {
    "ExecuteTime": {
     "end_time": "2018-04-03T11:30:39.093828Z",
     "start_time": "2018-04-03T11:30:39.090820Z"
    },
    "collapsed": true
   },
   "source": [
    "<div class=\"alert alert-block alert-info\"> Problem 3.8 </div>\n",
    "Use the function `decision_boundary_2d` from the python module `E4525_ML.plots` to display a graph of the training points and \n",
    "the optimal estimator descision boundary."
   ]
  },
  {
   "cell_type": "code",
   "execution_count": 178,
   "metadata": {
    "ExecuteTime": {
     "end_time": "2018-04-03T11:30:39.932057Z",
     "start_time": "2018-04-03T11:30:39.909998Z"
    }
   },
   "outputs": [
    {
     "data": {
      "text/plain": [
       "0.75"
      ]
     },
     "execution_count": 178,
     "metadata": {},
     "output_type": "execute_result"
    }
   ],
   "source": []
  }
 ],
 "metadata": {
  "kernelspec": {
   "display_name": "Python 3",
   "language": "python",
   "name": "python3"
  },
  "language_info": {
   "codemirror_mode": {
    "name": "ipython",
    "version": 3
   },
   "file_extension": ".py",
   "mimetype": "text/x-python",
   "name": "python",
   "nbconvert_exporter": "python",
   "pygments_lexer": "ipython3",
   "version": "3.7.3"
  },
  "toc": {
   "base_numbering": 1,
   "nav_menu": {},
   "number_sections": true,
   "sideBar": true,
   "skip_h1_title": true,
   "title_cell": "Table of Contents",
   "title_sidebar": "Contents",
   "toc_cell": false,
   "toc_position": {},
   "toc_section_display": "block",
   "toc_window_display": false
  }
 },
 "nbformat": 4,
 "nbformat_minor": 2
}

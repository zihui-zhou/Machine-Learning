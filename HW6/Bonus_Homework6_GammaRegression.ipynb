{
 "cells": [
  {
   "cell_type": "markdown",
   "metadata": {},
   "source": [
    "# Gamma Regression Implementation"
   ]
  },
  {
   "cell_type": "markdown",
   "metadata": {},
   "source": [
    "## Preliminaries"
   ]
  },
  {
   "cell_type": "markdown",
   "metadata": {},
   "source": [
    "### Imports"
   ]
  },
  {
   "cell_type": "code",
   "execution_count": 1,
   "metadata": {
    "ExecuteTime": {
     "end_time": "2018-10-31T16:02:39.563048Z",
     "start_time": "2018-10-31T16:02:32.707048Z"
    }
   },
   "outputs": [],
   "source": [
    "import numpy as np\n",
    "import numpy.random as random\n",
    "\n",
    "import matplotlib.pyplot as plt\n",
    "\n",
    "from scipy.special import factorial\n",
    "from sklearn.linear_model import LinearRegression\n",
    "import scipy.stats as stats\n",
    "import scipy.optimize as optimize\n",
    "import scipy.special as special\n",
    "\n",
    "import pandas as pd\n",
    "\n",
    "import sys\n",
    "\n",
    "%matplotlib inline"
   ]
  },
  {
   "cell_type": "markdown",
   "metadata": {},
   "source": [
    "### Random Seed"
   ]
  },
  {
   "cell_type": "code",
   "execution_count": 2,
   "metadata": {
    "ExecuteTime": {
     "end_time": "2018-10-31T16:02:39.567048Z",
     "start_time": "2018-10-31T16:02:39.564048Z"
    }
   },
   "outputs": [],
   "source": [
    "seed=567\n",
    "np.random.seed(seed)"
   ]
  },
  {
   "cell_type": "markdown",
   "metadata": {},
   "source": [
    "## Gamma Regression"
   ]
  },
  {
   "cell_type": "markdown",
   "metadata": {},
   "source": [
    "When $Y\\in\\mathbb{R}^+$, ie $y>0$ is   positive real numbers it is  natural to assume that $Y|_X$ follows a $\\Gamma$   distribution. For simplicity we will assume $\\alpha$ is a fixed **known** parameter. \n",
    "\n",
    "$$\n",
    "    p(y|x) = \\frac{\\beta^\\alpha}{\\Gamma(\\alpha)}s^{\\alpha-1}e^{-\\beta s} = \\frac{s^{\\alpha-1}}{\\Gamma(\\alpha)}e^{ -y\\beta +  \\alpha\\log \\beta }\n",
    "$$  \n",
    "were $\\alpha>0$ and $\\beta>0$\n",
    "\n",
    "And a non-canonical log link\n",
    "\n",
    "$$\n",
    "    \\eta(x) = -e^{-b_0 - W_0 x}\n",
    "$$\n",
    "\n"
   ]
  },
  {
   "cell_type": "markdown",
   "metadata": {},
   "source": [
    "### Generate random sample data"
   ]
  },
  {
   "cell_type": "markdown",
   "metadata": {},
   "source": [
    "<div class=\"alert alert-block alert-info\"> Problem 0 </div>\n",
    "Generate some random data to test model"
   ]
  },
  {
   "cell_type": "code",
   "execution_count": 3,
   "metadata": {
    "ExecuteTime": {
     "end_time": "2018-10-31T16:42:15.688948Z",
     "start_time": "2018-10-31T16:42:14.876748Z"
    }
   },
   "outputs": [],
   "source": [
    "alpha=5.0"
   ]
  },
  {
   "cell_type": "markdown",
   "metadata": {},
   "source": [
    "The true parameters used to generate the data are\n",
    "$$\n",
    "    \\theta_0=(b_0,w_0)=(0,1)\n",
    "$$"
   ]
  },
  {
   "cell_type": "code",
   "execution_count": 4,
   "metadata": {
    "ExecuteTime": {
     "end_time": "2018-10-31T16:42:14.392448Z",
     "start_time": "2018-10-31T16:42:14.376848Z"
    }
   },
   "outputs": [
    {
     "data": {
      "text/plain": [
       "(2,)"
      ]
     },
     "execution_count": 4,
     "metadata": {},
     "output_type": "execute_result"
    }
   ],
   "source": [
    "b0=0\n",
    "W0=1\n",
    "\n",
    "theta0=np.array([b0,W0])\n",
    "theta0.shape"
   ]
  },
  {
   "cell_type": "markdown",
   "metadata": {},
   "source": [
    "We generate $N=30$ samples, with $X\\sim \\mathcal{U}(0,4)$."
   ]
  },
  {
   "cell_type": "code",
   "execution_count": 5,
   "metadata": {
    "ExecuteTime": {
     "end_time": "2018-10-31T16:42:15.738248Z",
     "start_time": "2018-10-31T16:42:15.688948Z"
    }
   },
   "outputs": [
    {
     "data": {
      "text/plain": [
       "(30, 1)"
      ]
     },
     "execution_count": 5,
     "metadata": {},
     "output_type": "execute_result"
    }
   ],
   "source": [
    "N=30\n",
    "X=np.random.uniform(0,4,(N,1))\n",
    "X.shape"
   ]
  },
  {
   "cell_type": "code",
   "execution_count": 6,
   "metadata": {
    "ExecuteTime": {
     "end_time": "2018-10-31T16:42:16.290548Z",
     "start_time": "2018-10-31T16:42:16.274948Z"
    }
   },
   "outputs": [
    {
     "data": {
      "text/plain": [
       "(30,)"
      ]
     },
     "execution_count": 6,
     "metadata": {},
     "output_type": "execute_result"
    }
   ],
   "source": [
    "X1=np.c_[np.ones(len(X)),X]\n",
    "\n",
    "b=np.exp(np.dot(X1,theta0))\n",
    "Y=stats.gamma.rvs(a=alpha,scale=b)\n",
    "Y.shape"
   ]
  },
  {
   "cell_type": "markdown",
   "metadata": {},
   "source": [
    "<div class=\"alert alert-block alert-info\"> Problem 0.1 </div>\n",
    "Make a scatter plot of `X` vs `Y`"
   ]
  },
  {
   "cell_type": "code",
   "execution_count": null,
   "metadata": {},
   "outputs": [],
   "source": []
  },
  {
   "cell_type": "markdown",
   "metadata": {},
   "source": [
    "## Fit linear model\n",
    "\n",
    "<div class=\"alert alert-block alert-info\"> Problem 1.0 </div>\n",
    "To demonstrate what goes wrong with a linear least squares model, fit the data to a linear regression.\n"
   ]
  },
  {
   "cell_type": "code",
   "execution_count": null,
   "metadata": {
    "ExecuteTime": {
     "end_time": "2018-10-31T16:42:19.167248Z",
     "start_time": "2018-10-31T16:42:19.136048Z"
    }
   },
   "outputs": [],
   "source": []
  },
  {
   "cell_type": "markdown",
   "metadata": {},
   "source": [
    "\n",
    "<div class=\"alert alert-block alert-info\"> Problem 1.1 </div>\n",
    "Make a line plot of the linear fit over the the test points `x_test`\n",
    "superimposed over the $X,Y$ input data."
   ]
  },
  {
   "cell_type": "code",
   "execution_count": 7,
   "metadata": {
    "ExecuteTime": {
     "end_time": "2018-10-31T16:42:19.167248Z",
     "start_time": "2018-10-31T16:42:19.136048Z"
    }
   },
   "outputs": [],
   "source": [
    "x_test=np.linspace(0,4,201).reshape(-1,1)"
   ]
  },
  {
   "cell_type": "code",
   "execution_count": null,
   "metadata": {
    "ExecuteTime": {
     "end_time": "2018-10-31T16:42:19.167248Z",
     "start_time": "2018-10-31T16:42:19.136048Z"
    }
   },
   "outputs": [],
   "source": []
  },
  {
   "cell_type": "markdown",
   "metadata": {},
   "source": [
    "## Gamma Regression\n",
    "\n",
    "There are specialized (re-weighed least square methods) to solve Generalized linear models, but here we just use the standard `scipy.optimize.minimize` routine to fit a Gamma Regression model to the data."
   ]
  },
  {
   "cell_type": "markdown",
   "metadata": {},
   "source": [
    "### Link Function"
   ]
  },
  {
   "cell_type": "markdown",
   "metadata": {},
   "source": [
    "<div class=\"alert alert-block alert-info\"> Problem 2.1 </div>\n",
    "Using the results you worked out on written homework 5\n",
    "write the function\n",
    "$$\n",
    "    \\hat{y}(x_1;\\alpha,\\theta)\n",
    "$$\n",
    "where $\\theta=(b,w)$\n",
    "\n",
    "and $x_1$ is a 2 dimensional vector  with a first column of ones $x_1=(1,x)$"
   ]
  },
  {
   "cell_type": "code",
   "execution_count": null,
   "metadata": {},
   "outputs": [],
   "source": []
  },
  {
   "cell_type": "markdown",
   "metadata": {},
   "source": [
    "<div class=\"alert alert-block alert-info\"> Problem 2.2 </div>\n",
    "Using the *true parameters*\n",
    "$$\n",
    "    \\theta_0=(b_0,w_0)\n",
    "$$\n",
    "Superimpose a plot of $\\hat{y}(x,\\alpha,\\theta_0)$ to the plots of the linear fit \n",
    "and the problem data $X,Y$\n"
   ]
  },
  {
   "cell_type": "code",
   "execution_count": null,
   "metadata": {},
   "outputs": [],
   "source": []
  },
  {
   "cell_type": "markdown",
   "metadata": {},
   "source": [
    "### Loss and Loss Gradient"
   ]
  },
  {
   "cell_type": "markdown",
   "metadata": {},
   "source": [
    "<div class=\"alert alert-block alert-info\"> Problem 3.1 </div>\n",
    "Write the max likelihood loss for the Gamma Regression problem with log link\n",
    "\n",
    "$$\n",
    "E^{\\textrm{log}}_{\\textrm{Gam}}(\\theta;X_1,Y,\\alpha)\n",
    "$$\n",
    "\n",
    "where $X_1$ is a $2\\times N$ matrix and $Y$ is a $N$ vector of input data"
   ]
  },
  {
   "cell_type": "code",
   "execution_count": 8,
   "metadata": {},
   "outputs": [],
   "source": [
    "def GammaError(theta,X1,Y,alpha):\n",
    "    pass"
   ]
  },
  {
   "cell_type": "markdown",
   "metadata": {},
   "source": [
    "<div class=\"alert alert-block alert-info\"> Problem 3.2 </div>\n",
    "Write the gradient max likelihood loss for the Gamma Regression problem with log link\n",
    "\n",
    "$$\n",
    "\\frac{\\partial}{\\partial \\theta_d} E^{\\textrm{log}}_{\\textrm{Gam}}(\\theta;X_1,Y,\\alpha)\n",
    "$$\n"
   ]
  },
  {
   "cell_type": "code",
   "execution_count": 9,
   "metadata": {},
   "outputs": [],
   "source": [
    "def GammaErrorGradient(theta,X1,Y,alpha): \n",
    "    pass"
   ]
  },
  {
   "cell_type": "markdown",
   "metadata": {},
   "source": [
    "<div class=\"alert alert-block alert-info\"> Problem 3.3 </div>\n",
    "Use the function `scipy.minimize.check_gra` to verify that the gradient function is \n",
    "implemented correctly at the point \n",
    "$$\n",
    "    \\theta_{\\textrm{test}} = (-1,1.5)\n",
    "$$\n"
   ]
  },
  {
   "cell_type": "code",
   "execution_count": 10,
   "metadata": {},
   "outputs": [],
   "source": [
    "theta_test=np.array([-1,1.5])"
   ]
  },
  {
   "cell_type": "code",
   "execution_count": null,
   "metadata": {},
   "outputs": [],
   "source": []
  },
  {
   "cell_type": "markdown",
   "metadata": {},
   "source": [
    "### Optimization"
   ]
  },
  {
   "cell_type": "markdown",
   "metadata": {},
   "source": [
    "<div class=\"alert alert-block alert-info\"> Problem 4.1 </div>\n",
    "Fill in the `fit` and `predict` methods in the class below.\n",
    "\n",
    "Inside the `fit` method:\n",
    "2. Initilize the initial guess for $\\theta$ at random.\n",
    "1. Use `scipy.optimize` with method `bfgs` to find the optimal parameters."
   ]
  },
  {
   "cell_type": "code",
   "execution_count": 11,
   "metadata": {},
   "outputs": [],
   "source": [
    "class GammaRegression:\n",
    "    def __init__(self,alpha):\n",
    "        self.alpha=alpha\n",
    "    def fit(self,X,Y):\n",
    "        pass\n",
    "    def predict(self,X):\n",
    "        pass"
   ]
  },
  {
   "cell_type": "markdown",
   "metadata": {},
   "source": [
    "<div class=\"alert alert-block alert-info\"> Problem 4.1 </div>\n",
    "Fit the model to  the `X`, `Y` data.\n",
    "\n",
    "What are the fitter parameters?"
   ]
  },
  {
   "cell_type": "code",
   "execution_count": null,
   "metadata": {
    "ExecuteTime": {
     "end_time": "2018-10-31T16:54:51.842248Z",
     "start_time": "2018-10-31T16:54:51.826648Z"
    },
    "scrolled": true
   },
   "outputs": [],
   "source": []
  },
  {
   "cell_type": "markdown",
   "metadata": {},
   "source": [
    "The Gamma model fits the data much better"
   ]
  },
  {
   "cell_type": "markdown",
   "metadata": {},
   "source": [
    "<div class=\"alert alert-block alert-info\"> Problem 4.2 </div>\n",
    "Superimpose plots of\n",
    "1. fitted model predictions for `x_test`\n",
    "2. $\\hat{y}(x_{\\textrm{test}},\\alpha,\\theta_0)$ for the true model\n",
    "3. The linear model fit \n",
    "4. The problem data $X,Y$\n"
   ]
  },
  {
   "cell_type": "code",
   "execution_count": null,
   "metadata": {},
   "outputs": [],
   "source": []
  },
  {
   "cell_type": "markdown",
   "metadata": {},
   "source": [
    "## Dependence on $\\alpha$"
   ]
  },
  {
   "cell_type": "markdown",
   "metadata": {},
   "source": [
    "Keeping $X$ and $Y$ Fixed"
   ]
  },
  {
   "cell_type": "markdown",
   "metadata": {},
   "source": [
    "<div class=\"alert alert-block alert-info\"> Problem 5.1 </div>\n",
    "How do the fitted parameters $\\hat{b}$ and $\\hat{w}$ depend on the parameter $\\alpha$ used for fitting?"
   ]
  },
  {
   "cell_type": "code",
   "execution_count": null,
   "metadata": {},
   "outputs": [],
   "source": []
  },
  {
   "cell_type": "markdown",
   "metadata": {},
   "source": [
    "<div class=\"alert alert-block alert-info\"> Problem 5.1 </div>\n",
    "How do the fitted predicted levels of $Y$ depend the parameter $\\alpha$ used for fitting?"
   ]
  },
  {
   "cell_type": "code",
   "execution_count": null,
   "metadata": {},
   "outputs": [],
   "source": []
  },
  {
   "cell_type": "markdown",
   "metadata": {},
   "source": [
    "<div class=\"alert alert-block alert-info\"> Problem 5.2 </div>\n",
    "Can you explain why this happens based on the expression for $E^{\\textrm{log}}_{\\textrm{Gam}}$ that\n",
    "you worked out in the written homework?"
   ]
  },
  {
   "cell_type": "code",
   "execution_count": null,
   "metadata": {},
   "outputs": [],
   "source": []
  }
 ],
 "metadata": {
  "kernelspec": {
   "display_name": "Python 3",
   "language": "python",
   "name": "python3"
  },
  "language_info": {
   "codemirror_mode": {
    "name": "ipython",
    "version": 3
   },
   "file_extension": ".py",
   "mimetype": "text/x-python",
   "name": "python",
   "nbconvert_exporter": "python",
   "pygments_lexer": "ipython3",
   "version": "3.6.4"
  },
  "toc": {
   "base_numbering": 1,
   "nav_menu": {},
   "number_sections": true,
   "sideBar": true,
   "skip_h1_title": true,
   "title_cell": "Table of Contents",
   "title_sidebar": "Contents",
   "toc_cell": false,
   "toc_position": {},
   "toc_section_display": true,
   "toc_window_display": true
  }
 },
 "nbformat": 4,
 "nbformat_minor": 2
}
